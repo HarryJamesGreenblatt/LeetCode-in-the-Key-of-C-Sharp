{
 "cells": [
  {
   "cell_type": "markdown",
   "metadata": {},
   "source": [
    "# Two Sum"
   ]
  },
  {
   "cell_type": "markdown",
   "metadata": {},
   "source": [
    "Given an array of integers `nums` and an integer `target`,  \n",
    "return **indices** of the two numbers such that they **add up to target**.\n",
    "\n",
    "You may assume that each input would have *exactly one solution*, and you may *not* use the same element twice.\n",
    "\n",
    "You can return the answer in any order."
   ]
  },
  {
   "cell_type": "markdown",
   "metadata": {},
   "source": [
    "\n",
    "**Example 1**:\n",
    "> ```\n",
    "> Input: nums = [2,7,11,15], target = 9\n",
    "> Output: [0,1]\n",
    "> ```\n",
    "\n",
    "Explanation:   \n",
    "Because `nums[0] + nums[1] == 9`, we return `[0, 1]`.\n",
    "<br>\n",
    "<br>\n",
    "\n",
    "**Example 2**:\n",
    "> ```\n",
    "> Input: nums = [3,2,4], target = 6\n",
    "> Output: [1,2]\n",
    "> ```\n",
    "<br>\n",
    "\n",
    "**Example 2**:\n",
    "> ```\n",
    "> Input: nums = [3,3], target = 6\n",
    "> Output: [0,1]\n",
    "> ```\n",
    "\n"
   ]
  },
  {
   "cell_type": "markdown",
   "metadata": {},
   "source": [
    "Constraints:\n",
    "\n",
    "- `2 <= nums.length <= 104`\n",
    "- `-109 <= nums[i] <= 109`\n",
    "- `-109 <= target <= 109`\n",
    "- Only one valid answer exists."
   ]
  },
  {
   "cell_type": "markdown",
   "metadata": {},
   "source": [
    "<br>"
   ]
  },
  {
   "cell_type": "markdown",
   "metadata": {},
   "source": [
    "### One Pass  Dictionary"
   ]
  },
  {
   "cell_type": "markdown",
   "metadata": {},
   "source": [
    "##### Psuedo"
   ]
  },
  {
   "cell_type": "markdown",
   "metadata": {},
   "source": [
    "```\n",
    "Initialize an empty Dictionary to capture Results\n",
    "Initialize a variable to store the complement, which is a component of the sum that constitutes the target value\n",
    "\n",
    "Iterating on index 0 forward through each element of the nums array:\n",
    "    \n",
    "    complement = the difference betwwen the target value and the value at the current index\n",
    "\n",
    "    If the Results Dictionary contains the Key corresonding to the complement\n",
    "        return [the current index, Dicitonary[ complmenent ] ]\n",
    "\n",
    "    Add the current index value to the Dictionary, passing nums[index] as it's key.  \n",
    "\n",
    "Otherwise,\n",
    "there is no valid sum\n",
    "```"
   ]
  },
  {
   "cell_type": "markdown",
   "metadata": {},
   "source": [
    "<br>"
   ]
  },
  {
   "cell_type": "code",
   "execution_count": null,
   "metadata": {
    "dotnet_interactive": {
     "language": "csharp"
    },
    "vscode": {
     "languageId": "dotnet-interactive.csharp"
    }
   },
   "outputs": [],
   "source": [
    "public int[] TwoSum(int[] nums, int target)\n",
    "{\n",
    "\n",
    "    // Initialize an empty Dictionary to capture Results\n",
    "    Dictionary<int,int> Results = new Dictionary<int,int>();\n",
    "\n",
    "\n",
    "    // Initialize a variable to store the complement, \n",
    "    // which is a component of the sum that constitutes the target value\n",
    "    int complement;\n",
    "\n",
    "\n",
    "    // Iterating on index 0 forward through each element of the nums array:\n",
    "    for(int i = 0; i < nums.Length; i++)\n",
    "    {\n",
    "\n",
    "        // complement = the difference betwwen the target value and the value at the current index\n",
    "        complement = target - nums[i];\n",
    "\n",
    "\n",
    "        // If the Results Dictionary contains the Key corresonding to the complement\n",
    "        //       return [ the current index, Results.Get(complement) ] \n",
    "        if ( Results.ContainsKey(complement) )\n",
    "            return new int[] { i, Results[complement] }; \n",
    "        \n",
    "\n",
    "        // Add the current index value to the Dictionary, passing nums[index] as it's key.  \n",
    "        Results[ nums[i] ] = i;\n",
    "\n",
    "    }\n",
    "\n",
    "    // Otherwise,\n",
    "    // there is no valid sum\n",
    "    return null;\n",
    "\n",
    "}"
   ]
  },
  {
   "cell_type": "code",
   "execution_count": null,
   "metadata": {
    "dotnet_interactive": {
     "language": "csharp"
    },
    "vscode": {
     "languageId": "dotnet-interactive.csharp"
    }
   },
   "outputs": [],
   "source": [
    "// test input\n",
    "public int[] nums = new int[] {3,2,4};\n",
    "public int target = 6;"
   ]
  },
  {
   "cell_type": "code",
   "execution_count": null,
   "metadata": {
    "dotnet_interactive": {
     "language": "csharp"
    },
    "vscode": {
     "languageId": "dotnet-interactive.csharp"
    }
   },
   "outputs": [
    {
     "data": {
      "text/html": [
       "<table><thead><tr><th><i>index</i></th><th>value</th></tr></thead><tbody><tr><td>0</td><td><div class=\"dni-plaintext\">2</div></td></tr><tr><td>1</td><td><div class=\"dni-plaintext\">1</div></td></tr></tbody></table>"
      ]
     },
     "metadata": {},
     "output_type": "display_data"
    }
   ],
   "source": [
    "TwoSum(nums, 6)"
   ]
  },
  {
   "cell_type": "markdown",
   "metadata": {},
   "source": [
    "<br>"
   ]
  },
  {
   "cell_type": "markdown",
   "metadata": {},
   "source": [
    "#### Analysis"
   ]
  },
  {
   "cell_type": "markdown",
   "metadata": {},
   "source": [
    "##### Time"
   ]
  },
  {
   "cell_type": "markdown",
   "metadata": {},
   "source": [
    "Despite that, while  `Iterating on index 0 forward through each element of the nums array` we must also, upon each iteration, perform a search operation to check `If the Results Dictionary contains the Key corresonding to the complement`, the cost of any such search is only $O(1)$.  \n",
    "<br>\n",
    "\n",
    "$\\textit{However},$  \n",
    "   \n",
    "we will still need to traverse the full length of the nums array once. \n",
    "$$\\implies O(n)$$"
   ]
  },
  {
   "cell_type": "markdown",
   "metadata": {},
   "source": [
    "##### Space"
   ]
  },
  {
   "cell_type": "markdown",
   "metadata": {},
   "source": [
    "We are allocating an auxialiary space for a `Dictionary` which is proportional the input array,  \n",
    "along with an additional auxiliary space for an `int[]` which is always a constant size.\n",
    "$$\\implies O(n) + O(1)$$\n",
    "$$\\implies O(n)$$"
   ]
  }
 ],
 "metadata": {
  "kernelspec": {
   "display_name": ".NET (C#)",
   "language": "C#",
   "name": ".net-csharp"
  },
  "language_info": {
   "file_extension": ".cs",
   "mimetype": "text/x-csharp",
   "name": "C#",
   "pygments_lexer": "csharp",
   "version": "9.0"
  },
  "orig_nbformat": 4
 },
 "nbformat": 4,
 "nbformat_minor": 2
}
