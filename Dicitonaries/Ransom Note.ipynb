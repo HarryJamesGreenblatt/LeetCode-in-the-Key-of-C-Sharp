{
 "cells": [
  {
   "cell_type": "markdown",
   "metadata": {},
   "source": [
    "# Ransom Note"
   ]
  },
  {
   "cell_type": "markdown",
   "metadata": {
    "dotnet_interactive": {
     "language": "csharp"
    }
   },
   "source": [
    "Given *two strings*, $\\quad ransomNote \\quad$ and $\\quad magazine, \\quad$  \n",
    "return `true` if $\\quad ransomNote \\quad$ can be constructed by using the letters from $\\quad magazine, \\quad$ and `false` otherwise.\n",
    "\n",
    "Each letter in $\\quad magazine \\quad$ can only be used once in $\\quad ransomNote. \\quad$"
   ]
  },
  {
   "cell_type": "markdown",
   "metadata": {},
   "source": [
    "**Example 1**:\n",
    "> ```\n",
    "> Input: ransomNote = \"a\", magazine = \"b\"\n",
    "> Output: false\n",
    "> ```\n",
    "    \n",
    "**Example 2**:\n",
    "> ```\n",
    "> Input: ransomNote = \"aa\", magazine = \"ab\"\n",
    "> Output: false\n",
    "> ```\n",
    "     \n",
    "**Example 3**:\n",
    "> ```\n",
    "> Input: ransomNote = \"aa\", magazine = \"aab\"\n",
    "> Output: true\n",
    "> ```"
   ]
  },
  {
   "cell_type": "markdown",
   "metadata": {
    "dotnet_interactive": {
     "language": "csharp"
    }
   },
   "source": [
    "**Constraints**:\n",
    "\n",
    "- `1 <= ransomNote.length`\n",
    "- `magazine.length <= 105`\n",
    "- $ransomNote$ and $magazine$ consist of lowercase English letters."
   ]
  },
  {
   "cell_type": "markdown",
   "metadata": {},
   "source": [
    "<br>"
   ]
  },
  {
   "cell_type": "markdown",
   "metadata": {},
   "source": [
    "### Brute Force"
   ]
  },
  {
   "cell_type": "markdown",
   "metadata": {
    "dotnet_interactive": {
     "language": "csharp"
    }
   },
   "source": [
    "##### Psuedo"
   ]
  },
  {
   "cell_type": "markdown",
   "metadata": {},
   "source": [
    "```\n",
    "For each letter in ransomNote:\n",
    "    If it is in magazine:\n",
    "        Find that letter in magazine.\n",
    "        Remove it from magazine.\n",
    "    Else:\n",
    "        Return False\n",
    "Return True\n",
    "```"
   ]
  },
  {
   "cell_type": "markdown",
   "metadata": {},
   "source": [
    "<br>"
   ]
  },
  {
   "cell_type": "markdown",
   "metadata": {},
   "source": [
    "#### Implementation"
   ]
  },
  {
   "cell_type": "code",
   "execution_count": null,
   "metadata": {
    "dotnet_interactive": {
     "language": "csharp"
    },
    "vscode": {
     "languageId": "dotnet-interactive.csharp"
    }
   },
   "outputs": [],
   "source": [
    "public bool CanConstruct(string ransomNote, string magazine){\n",
    "\n",
    "    // For each letter in ransomNote:\n",
    "    foreach(char letter in ransomNote)\n",
    "    {\n",
    "\n",
    "        // If it is in magazine:\n",
    "        if( magazine.Contains(letter) )\n",
    "        {\n",
    "            \n",
    "            // Find that letter in magazine.\n",
    "            int location = magazine.IndexOf(letter);\n",
    "            \n",
    "            // Remove it from magazine.\n",
    "            //    Since strings are immutable, clobber the magazine with a \n",
    "            //    new string by concatenating the two magazine substrings\n",
    "            //    on either side of the letter.\n",
    "            //         O(m) + O(m) = 2*O(m) = O(m)  as  m -> inf\n",
    "            magazine = \n",
    "                magazine.Substring(0, location) + magazine.Substring(location + 1); \n",
    "\n",
    "        }\n",
    "\n",
    "        else \n",
    "            return false;   \n",
    "    }\n",
    "\n",
    "    return true;\n",
    "\n",
    "}"
   ]
  },
  {
   "cell_type": "code",
   "execution_count": null,
   "metadata": {
    "dotnet_interactive": {
     "language": "csharp"
    },
    "vscode": {
     "languageId": "dotnet-interactive.csharp"
    }
   },
   "outputs": [
    {
     "data": {
      "text/html": [
       "<div class=\"dni-plaintext\">True</div>"
      ]
     },
     "metadata": {},
     "output_type": "display_data"
    }
   ],
   "source": [
    "CanConstruct(\"douche\",\"the duchess of edensberg\")"
   ]
  },
  {
   "cell_type": "markdown",
   "metadata": {
    "dotnet_interactive": {
     "language": "csharp"
    }
   },
   "source": [
    "<br>"
   ]
  },
  {
   "cell_type": "markdown",
   "metadata": {},
   "source": [
    "#### Analysis"
   ]
  },
  {
   "cell_type": "markdown",
   "metadata": {},
   "source": [
    "##### Time"
   ]
  },
  {
   "cell_type": "markdown",
   "metadata": {
    "dotnet_interactive": {
     "language": "csharp"
    }
   },
   "source": [
    "Let $\\quad n \\quad$ represent the *length* of the $\\quad ransomNote. \\quad$   \n",
    "\n",
    "Since we execute the algorithm `For each letter in ransomNote`, we must always account for the *full length of $\\,n\\,$ in every case*.\n",
    "$$\\implies O(n)$$   \n",
    "<br>\n",
    "\n",
    "Let $\\quad m \\quad$ represent the *length* of the $\\quad magazine. \\quad$  \n",
    "\n",
    "Since, while iterating through each of the $\\quad n \\quad$ characters of the $\\,\\,\\,ransomNote,\\,\\,\\,$ we are additionally checking each letter's existence in the $\\,\\,\\,magazine\\,\\,\\,$ by performing a *linear seach* using `magazine.Contains(letter)`, we must always account for the current *full length of $\\quad m \\quad$ for each of the iterations*.\n",
    "$$\\implies m \\times O(n) = \\bf{O(n \\times m)}$$"
   ]
  },
  {
   "cell_type": "markdown",
   "metadata": {},
   "source": [
    "##### Space"
   ]
  },
  {
   "cell_type": "markdown",
   "metadata": {},
   "source": [
    "Since, at every iteration, we create a new $\\,\\,\\,magazine\\,\\,\\,$ string having one having one fewer letter than during the previous iteration, we are allocating space proportional to $\\quad m, \\quad$ *the length of the $\\,\\,\\,magazine\\,\\,\\,$* \n",
    "$$\\implies O(m)$$    "
   ]
  },
  {
   "cell_type": "markdown",
   "metadata": {},
   "source": [
    "<br><br>"
   ]
  },
  {
   "cell_type": "markdown",
   "metadata": {},
   "source": [
    "### Two Dictionaries"
   ]
  },
  {
   "cell_type": "markdown",
   "metadata": {},
   "source": [
    "##### Psuedo"
   ]
  },
  {
   "cell_type": "markdown",
   "metadata": {},
   "source": [
    "###### Make a subroutine to produce a `Dictionary` that maps each letter in the input `string` to it's respective number of *occurences*. <br><br> Time: $\\qquad O(n) + O(m)$ <br> Space: $\\qquad O(26)$\n",
    "```\n",
    "define a function CountLetterOccurences(string):\n",
    "    occurences = a new Dictionary\n",
    "    for each letter in string:\n",
    "        if letter not in occurences:   Add the letter to occurences\n",
    "        else:  Increment the number of occurences corresponding to the letter by one\n",
    "    return occurences\n",
    "```"
   ]
  },
  {
   "cell_type": "markdown",
   "metadata": {},
   "source": [
    "<br>"
   ]
  },
  {
   "cell_type": "markdown",
   "metadata": {},
   "source": [
    "###### Make `Dictionaries` to `CountLetterOccurences` corresponding to both the $randomNote$ and the $magazine$.<br>Then,  going through each letter in the $ransomNote$, check to see if: \n",
    "###### $\\quad \\quad 1) $ each letter in the $ransomNote$ `Dictionary` exists in the $magazine$ `Dictionary` <br>$\\quad \\quad 2) $ there are enough occurences of each letter in the $magazine$ `Dictionary` to complete the $ransomNote$ \n",
    "\n",
    "###### Time: $\\qquad O(n) + O(m) + O(26)$ <br> Space: $\\qquad O(26) + O(26)$\n"
   ]
  },
  {
   "cell_type": "markdown",
   "metadata": {},
   "source": [
    "```\n",
    "firstly, if the ransomNote is longer than the magazine:\n",
    "    return False\n",
    "ransomNoteDictionary =  CountLetterOccurences(ransomNote)\n",
    "magazineDictionary   =  CountLetterOccurences(magazine)\n",
    "for each letter in ransomNoteDictionary:\n",
    "    if letter is not in magazineDictionary:\n",
    "        return False\n",
    "    if countInMagazineDictionary < countInRansomNoteDictionary:\n",
    "        return False\n",
    "return True\n",
    "```"
   ]
  },
  {
   "cell_type": "markdown",
   "metadata": {},
   "source": [
    "<br>"
   ]
  },
  {
   "cell_type": "markdown",
   "metadata": {},
   "source": [
    "#### Implementation"
   ]
  },
  {
   "cell_type": "code",
   "execution_count": null,
   "metadata": {
    "dotnet_interactive": {
     "language": "csharp"
    },
    "vscode": {
     "languageId": "dotnet-interactive.csharp"
    }
   },
   "outputs": [],
   "source": [
    "// define a function makeOccurencesDict(string):\n",
    "private Dictionary<char, int> CountLetterOccurences(string s) \n",
    "{\n",
    "    // occurences = a new Dictionary\n",
    "    Dictionary<char, int> occurences = new Dictionary<char, int>();\n",
    "\n",
    "    // for each letter in string:\n",
    "    foreach( char letter in s )\n",
    "        // if letter not in occurences:   Add the letter to occurences\n",
    "        if(!occurences.TryAdd(letter, 1))\n",
    "            // else:  Increment the count of occurences corresponding to the letter by one\n",
    "            occurences[letter] += 1; \n",
    "\n",
    "    return occurences;\n",
    "}"
   ]
  },
  {
   "cell_type": "code",
   "execution_count": null,
   "metadata": {
    "dotnet_interactive": {
     "language": "csharp"
    },
    "vscode": {
     "languageId": "dotnet-interactive.csharp"
    }
   },
   "outputs": [
    {
     "data": {
      "text/html": [
       "<table><thead><tr><th><i>key</i></th><th>value</th></tr></thead><tbody><tr><td><div class=\"dni-plaintext\">h</div></td><td><div class=\"dni-plaintext\">3</div></td></tr><tr><td><div class=\"dni-plaintext\">u</div></td><td><div class=\"dni-plaintext\">2</div></td></tr><tr><td><div class=\"dni-plaintext\">n</div></td><td><div class=\"dni-plaintext\">2</div></td></tr><tr><td><div class=\"dni-plaintext\">g</div></td><td><div class=\"dni-plaintext\">2</div></td></tr><tr><td><div class=\"dni-plaintext\">r</div></td><td><div class=\"dni-plaintext\">2</div></td></tr><tr><td><div class=\"dni-plaintext\">y</div></td><td><div class=\"dni-plaintext\">2</div></td></tr><tr><td><div class=\"dni-plaintext\">,</div></td><td><div class=\"dni-plaintext\">2</div></td></tr><tr><td><div class=\"dni-plaintext\"> </div></td><td><div class=\"dni-plaintext\">2</div></td></tr><tr><td><div class=\"dni-plaintext\">i</div></td><td><div class=\"dni-plaintext\">1</div></td></tr><tr><td><div class=\"dni-plaintext\">p</div></td><td><div class=\"dni-plaintext\">2</div></td></tr><tr><td><div class=\"dni-plaintext\">o</div></td><td><div class=\"dni-plaintext\">1</div></td></tr><tr><td><div class=\"dni-plaintext\">e</div></td><td><div class=\"dni-plaintext\">1</div></td></tr><tr><td><div class=\"dni-plaintext\">s</div></td><td><div class=\"dni-plaintext\">1</div></td></tr></tbody></table>"
      ]
     },
     "metadata": {},
     "output_type": "display_data"
    }
   ],
   "source": [
    "CountLetterOccurences(\"hungry, hungry, hippoes\")"
   ]
  },
  {
   "cell_type": "code",
   "execution_count": null,
   "metadata": {
    "dotnet_interactive": {
     "language": "csharp"
    },
    "vscode": {
     "languageId": "dotnet-interactive.csharp"
    }
   },
   "outputs": [],
   "source": [
    "public bool CanConstruct( string ransomNote, string magazine )\n",
    "{\n",
    "    \n",
    "    //firstly, if the ransomNote is longer than the magazine:\n",
    "    // return False\n",
    "    if ( magazine.Length < ransomNote.Length )\n",
    "        return false;\n",
    "\n",
    "    // ransomNoteDictionary = CountLetterOccurences( ransomNote )\n",
    "    // magazineDictionary   = CountLetterOccurences( magazine )\n",
    "    Dictionary<char, int> ransomNoteDictionary =  CountLetterOccurences( ransomNote ),\n",
    "                          magazineDictionary   =  CountLetterOccurences( magazine );  \n",
    "                      \n",
    "    // for each letter in ransomNoteDictionary:\n",
    "    foreach( char letter in ransomNoteDictionary.Keys )\n",
    "    {\n",
    "        // if letter is not in magazineDictionary:\n",
    "        //   return False\n",
    "        if( !magazineDictionary.TryGetValue(letter, out int val) )\n",
    "            return false;  \n",
    " \n",
    "        // if countInMagazineDictionary < countInRansomNoteDictionary:\n",
    "        //   return False\n",
    "        else if( magazineDictionary[letter] < ransomNoteDictionary[letter] )\n",
    "            return false;\n",
    "    }\n",
    "    \n",
    "    return true;\n",
    "}"
   ]
  },
  {
   "cell_type": "code",
   "execution_count": null,
   "metadata": {
    "dotnet_interactive": {
     "language": "csharp"
    },
    "vscode": {
     "languageId": "dotnet-interactive.csharp"
    }
   },
   "outputs": [
    {
     "data": {
      "text/html": [
       "<div class=\"dni-plaintext\">False</div>"
      ]
     },
     "metadata": {},
     "output_type": "display_data"
    }
   ],
   "source": [
    "CanConstruct(\"dead\",\"the duchess of edensberg\")"
   ]
  },
  {
   "cell_type": "markdown",
   "metadata": {},
   "source": [
    "<br>"
   ]
  },
  {
   "cell_type": "markdown",
   "metadata": {},
   "source": [
    "#### Analysis"
   ]
  },
  {
   "cell_type": "markdown",
   "metadata": {},
   "source": [
    "##### Time"
   ]
  },
  {
   "cell_type": "markdown",
   "metadata": {},
   "source": [
    "Let $\\quad n \\quad$ represent the *length* of the $\\quad ransomNote. \\quad$   \n",
    "\n",
    "Since, by defining a `a function CountLetterOccurences(string)` which takes the $\\quad ransomNote \\quad$ string as it's input, we must always iterate through the *full length of $\\,n\\,$* in order to produce the `Dictionary` of *letter occurences*.\n",
    "$$\\implies O(n)$$   \n",
    "<br>\n",
    "\n",
    "$\\textit{Additionally}$,\n",
    "<br>\n",
    "<br>\n",
    "\n",
    "let $\\quad m \\quad$ represent the *length* of the $\\quad magazine. \\quad$  \n",
    "\n",
    "Since, by defining a `a function CountLetterOccurences(string)` which takes the $\\quad magazine \\quad$ string as it's input, we must always iterate through the *full length of $\\,m\\,$* in order to produce the `Dictionary` of *letter occurences*.\n",
    "$$\\implies O(m)$$   \n",
    "<br>\n",
    "\n",
    "$\\textit{Furthermore}$,\n",
    "<br>\n",
    "<br>\n",
    "\n",
    "given to the constaint that `1 <= ransomNote.length`, and to the condition that `if the ransomNote is longer than the magazine` we must `return False`, the following inequality thereby holds true:\n",
    "$$1 \\le O(n) \\le O(m)$$\n",
    "$$\\implies O(m)$$   \n",
    "<br>\n",
    "\n",
    "$\\textit{Subsequently}$,\n",
    "<br>\n",
    "<br>\n",
    "\n",
    "Although, `for each letter in ransomNoteDictionary`, we then perform a series of `Dictionary` *search* operations, each in *$O(1)$ time*, we observe that the total number of iterations *never exceeds **26***, which represents the ***number of letters in the lowercase english alphabet***   \n",
    "$$\\implies O(26)$$   \n",
    "$$\\implies O(1)$$   \n",
    "<br>\n",
    "\n",
    "$\\textit{As Such}$,\n",
    "<br>\n",
    "<br>\n",
    "we have:\n",
    "\n",
    "$$\n",
    "\\begin{align*} \n",
    "O(n) + O(m) + O(26) &= O(n) + O(m) + O(1) \\\\ \n",
    "                    & = O(m) \\tag{since n <= m}\n",
    "\\end{align*}\n",
    "$$"
   ]
  },
  {
   "cell_type": "markdown",
   "metadata": {},
   "source": [
    "<br>"
   ]
  },
  {
   "cell_type": "markdown",
   "metadata": {},
   "source": [
    "##### Space"
   ]
  },
  {
   "cell_type": "markdown",
   "metadata": {},
   "source": [
    "Since, by utilizing the `CountLetterOccurences` to allocate `Dictionary` structures to store the mapping of *lowercase english letters* to their respective *number of occurences* within the $\\,\\,\\,magazine\\,\\,\\,$ and $\\,\\,\\,ransomNote\\,\\,\\,$ strings, it holds that *no more than 26 Key/Value pairs shall ever be stored in either `Dictionary`*.  \n",
    "$$\\implies O(26) + O(26)$$    \n",
    "$$\\implies O(1)$$    "
   ]
  }
 ],
 "metadata": {
  "kernelspec": {
   "display_name": ".NET (C#)",
   "language": "C#",
   "name": ".net-csharp"
  },
  "language_info": {
   "file_extension": ".cs",
   "mimetype": "text/x-csharp",
   "name": "C#",
   "pygments_lexer": "csharp",
   "version": "9.0"
  },
  "orig_nbformat": 4,
  "vscode": {
   "interpreter": {
    "hash": "693e5b9c73a7f05cc764e2a39a82e339013c9ca9f4a1690eb595e8f06f5850eb"
   }
  }
 },
 "nbformat": 4,
 "nbformat_minor": 2
}
