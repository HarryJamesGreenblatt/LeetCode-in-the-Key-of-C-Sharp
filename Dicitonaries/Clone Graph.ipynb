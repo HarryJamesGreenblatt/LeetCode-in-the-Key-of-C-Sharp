{
 "cells": [
  {
   "cell_type": "markdown",
   "metadata": {},
   "source": [
    "# Clone Graph"
   ]
  },
  {
   "cell_type": "markdown",
   "metadata": {},
   "source": [
    "Given a reference of a Node in a connected undirected graph:\n",
    "> ```c#\n",
    "> class Node {\n",
    ">     public int val;\n",
    ">     public List<Node> neighbors;\n",
    "> }\n",
    "> ```\n",
    "\n",
    "Return a **deep copy** (clone) of the graph.\n",
    "\n",
    "Each node in the graph contains a *value* (`int`) and a *list* (`List<Node>`) of its *neighbors*.\n"
   ]
  },
  {
   "cell_type": "markdown",
   "metadata": {},
   "source": [
    "**Test case format**:\n",
    "\n",
    "For simplicity, each node's value is the same as the node's index (1-indexed).   \n",
    "   \n",
    "For example, \n",
    "the first `Node` with `val == 1`, the second node with `val == 2`, and so on. The graph is represented in the test case using an *adjacency list*.\n",
    "\n",
    "An *adjacency list* is a collection of *unordered lists* used to represent a finite graph. Each list describes the *set of neighbors of a node* in the graph.\n",
    "   \n",
    "The given node will always be the first node with `val = 1`. You must return the copy of the given node as a *reference to the cloned graph*."
   ]
  },
  {
   "cell_type": "markdown",
   "metadata": {},
   "source": [
    "**Example 1**:    \n",
    "![Picture Can Go Here](https://assets.leetcode.com/uploads/2019/11/04/133_clone_graph_question.png)\n",
    "> ```\n",
    "> Input: adjList = [[2,4],[1,3],[2,4],[1,3]]\n",
    "> Output: [[2,4],[1,3],[2,4],[1,3]]\n",
    "> ```\n",
    "\n",
    "Explanation:      \n",
    "1st node (val = 1)'s neighbors are 2nd node (val = 2) and 4th node (val = 4).\n",
    "2nd node (val = 2)'s neighbors are 1st node (val = 1) and 3rd node (val = 3).\n",
    "3rd node (val = 3)'s neighbors are 2nd node (val = 2) and 4th node (val = 4).\n",
    "4th node (val = 4)'s neighbors are 1st node (val = 1) and 3rd node (val = 3).\n",
    "<br>\n",
    "<br>\n",
    "      \n",
    "      \n",
    "**Example 2**:   \n",
    "![Picture Can Go Here](https://assets.leetcode.com/uploads/2020/01/07/graph.png)\n",
    "> ```\n",
    "> Input: adjList = [[]]\n",
    "> Output: [[]]\n",
    "> ```\n",
    "\n",
    "Explanation:   \n",
    "Note that the input contains one empty list.   \n",
    "The graph consists of only one node with val = 1 and it does not have any neighbors.\n",
    "\n",
    "<br>\n",
    "\n",
    "**Example 3**:   \n",
    "> ```\n",
    "> Input: adjList = []\n",
    "> Output: []\n",
    "> ```   \n",
    "> \n",
    "Explanation:   \n",
    "This an empty graph, it does not have any nodes.   \n",
    "\n",
    "<br>"
   ]
  },
  {
   "cell_type": "markdown",
   "metadata": {},
   "source": [
    "**Constraints**:\n",
    "\n",
    "- The number of nodes in the graph is in the range `[0, 100]`.\n",
    "- `1 <= Node.val <= 100`\n",
    "- `Node.val` is unique for each node.\n",
    "- There are no repeated edges and no self-loops in the graph.\n",
    "- The Graph is connected and all nodes can be visited starting from the given node.\n"
   ]
  },
  {
   "cell_type": "markdown",
   "metadata": {},
   "source": [
    "<br>"
   ]
  },
  {
   "cell_type": "markdown",
   "metadata": {},
   "source": [
    "### Breadth First Search using a Dictionary and a Queue."
   ]
  },
  {
   "cell_type": "markdown",
   "metadata": {},
   "source": [
    "##### Psuedo"
   ]
  },
  {
   "cell_type": "markdown",
   "metadata": {},
   "source": [
    "```\n",
    "Create a internally accessible, yet externally private Node Dictionary \n",
    "to store each previously visited Node.\n",
    "\n",
    "\n",
    "Similarly, \n",
    "Create a internally accessible, yet externally private \n",
    "Node Queue to facilitate the Level Order traversal applied by BFS.\n",
    "\n",
    "\n",
    "If we get an empty Node is input,\n",
    "     send it back.\n",
    "\n",
    "\n",
    "Now that we know the input Graph is valid,\n",
    "Add it's initial Node to the Back of the Queue,\n",
    "\n",
    "\n",
    "To make sure we don't visit this Node again,\n",
    "Add it as a Key in the Node Dictionary, \n",
    "whose Value is a New Node with a New List of Neighbors.  \n",
    "\n",
    "\n",
    "Iterating While the Queue sill has any Nodes remaining:\n",
    "\n",
    "     Pop off the Front of the Queue\n",
    "\n",
    "     For each Neighboring Node in the List of Neighbors\n",
    "     belonging to this Popped Node:\n",
    "\n",
    "          If the current Neighbor doesn't already \n",
    "          exist in the Node Dictionary: \n",
    "\n",
    "               Add it as a Key in the Node Dictionary, \n",
    "               whose Value is a New Node with a New List of Neighbors.\n",
    "\n",
    "               Add the current Neighbor to the Back of the Queue.\n",
    "\n",
    "               Now retrieve the Popped Node from the Node Dictionary\n",
    "               and Add to the Current Neighbor to it's List of Neighbors.\n",
    "\n",
    "\n",
    "The Deep Clone of the Input Graph is now complete,\n",
    "as required.   \n",
    "```"
   ]
  },
  {
   "cell_type": "markdown",
   "metadata": {},
   "source": [
    "<br>"
   ]
  },
  {
   "cell_type": "markdown",
   "metadata": {},
   "source": [
    "#### Implementation"
   ]
  },
  {
   "cell_type": "code",
   "execution_count": null,
   "metadata": {
    "dotnet_interactive": {
     "language": "csharp"
    },
    "vscode": {
     "languageId": "dotnet-interactive.csharp"
    }
   },
   "outputs": [],
   "source": [
    "public class Node {\n",
    "    public int val;\n",
    "    public List<Node> neighbors;\n",
    "\n",
    "    public Node() {}\n",
    "\n",
    "    public Node(int _val,List<Node> _neighbors) {\n",
    "        val = _val;\n",
    "        neighbors = _neighbors;\n",
    "    }\n",
    "};"
   ]
  },
  {
   "cell_type": "code",
   "execution_count": null,
   "metadata": {
    "dotnet_interactive": {
     "language": "csharp"
    },
    "vscode": {
     "languageId": "dotnet-interactive.csharp"
    }
   },
   "outputs": [],
   "source": [
    "// Create a internally accessible, yet externally private \n",
    "// Node Dictionary to store each previously visited Node.\n",
    "private Dictionary<Node, Node> visited = new Dictionary<Node, Node>();\n",
    "\n",
    "\n",
    "// Similarly, \n",
    "// Create a internally accessible, yet externally private \n",
    "// Node Queue to facilitate the Level Order traversal applied by BFS.\n",
    "private Queue<Node> queue = new Queue<Node>();\n",
    "\n",
    "\n",
    "\n",
    "public Node CloneGraph( Node node ){\n",
    "    \n",
    "    // If we get an empty Node is input,\n",
    "    //      send it back.\n",
    "    if( node == null )\n",
    "        return node;\n",
    "    \n",
    "\n",
    "    // Now that we know the input Graph is valid,\n",
    "    // Add it's initial Node to the Back of the Queue  \n",
    "    queue.Enqueue(node);\n",
    "\n",
    "\n",
    "    // To make sure we don't visit this Node again,\n",
    "    // Add it as a Key in the Node Dictionary, \n",
    "    // whose Value is a New Node with a New List of Neighbors.  \n",
    "    visited[node] = new Node(node.val, new List<Node>());\n",
    "\n",
    "\n",
    "    // Iterating While the Queue sill has any Nodes remaining:\n",
    "    while (queue.Count > 0)\n",
    "    {\n",
    "\n",
    "        // Pop off the Front of the Queue\n",
    "        Node popped = queue.Dequeue();\n",
    "\n",
    "\n",
    "        // For each Neighboring Node in the List of Neighbors\n",
    "        // belonging to this Popped Node:\n",
    "        foreach(Node neighbor in popped.neighbors)\n",
    "        {\n",
    "\n",
    "            // If the current Neighbor doesn't already \n",
    "            // exist in the Node Dictionary \n",
    "            if( ! visited.ContainsKey(neighbor) ) \n",
    "            {\n",
    "\n",
    "                // Add it as a Key in the Node Dictionary, \n",
    "                // whose Value is a New Node with a New List of Neighbors.  \n",
    "                visited[neighbor] = new Node(neighbor.val, new List<Node>());\n",
    "\n",
    "\n",
    "                // Add the current Neighbor to the Back of the Queue.\n",
    "                queue.Enqueue(neighbor);\n",
    "\n",
    "            }\n",
    "\n",
    "\n",
    "            // Now retrieve the Popped Node from the Node Dictionary\n",
    "            // and Add to the Current Neighbor to it's List of Neighbors.\n",
    "            visited[popped].neighbors.Add( visited[neighbor] );\n",
    "\n",
    "        }\n",
    "\n",
    "    }\n",
    "\n",
    "\n",
    "    // The Deep Clone of the Input Graph is now complete,\n",
    "    // as required.   \n",
    "    return visited[node];\n",
    "    \n",
    "}"
   ]
  },
  {
   "cell_type": "markdown",
   "metadata": {},
   "source": [
    "<br>"
   ]
  },
  {
   "cell_type": "markdown",
   "metadata": {},
   "source": [
    "#### Analysis"
   ]
  },
  {
   "cell_type": "markdown",
   "metadata": {},
   "source": [
    "##### **Time** "
   ]
  },
  {
   "cell_type": "markdown",
   "metadata": {},
   "source": [
    "Let $\\quad n \\quad$ represent the number of *Nodes*, or *Vertices* in the $\\quad Graph. \\quad$   \n",
    "\n",
    "Since we `Iterating While the Queue sill has any Nodes remaining`,\n",
    "we must always account for the *full length of $\\,n\\,$ in every case*.\n",
    "$$\\implies O(n)$$   \n",
    "<br>\n",
    "\n",
    "Let $\\quad m \\quad$ represent the number of *Edges* in the $\\quad Graph. \\quad$   \n",
    "\n",
    "Since we are also iterating `For each Neighboring Node in the List of Neighbors belonging to this Popped Node`,\n",
    "we must additionally perform each iteration along the *full length of $\\,m\\,$ in every case*.\n",
    "$$\\implies O(n) + O(m)$$   \n",
    "<br>\n",
    "  \n",
    "$$\\implies \\Large{\\bf{O(n + m)}}$$"
   ]
  },
  {
   "cell_type": "markdown",
   "metadata": {},
   "source": [
    "---"
   ]
  },
  {
   "cell_type": "markdown",
   "metadata": {},
   "source": [
    "##### **Space** "
   ]
  },
  {
   "cell_type": "markdown",
   "metadata": {},
   "source": [
    "We are allocating auxiliary space for the Node Dictionary.\n",
    "$$\\implies O(n)$$\n",
    "<br>\n",
    "\n",
    "$Additionally,$   \n",
    "we are allocating auxiliary space for the Node Queue, which is proportional to the *width*, $w$, of the Input Graph.\n",
    "$$\\implies O(n) + O(m)$$\n",
    "$$\\implies \\bf{\\Large{O(n + w)}}$$\n"
   ]
  }
 ],
 "metadata": {
  "kernelspec": {
   "display_name": ".NET (C#)",
   "language": "C#",
   "name": ".net-csharp"
  },
  "language_info": {
   "file_extension": ".cs",
   "mimetype": "text/x-csharp",
   "name": "C#",
   "pygments_lexer": "csharp",
   "version": "9.0"
  },
  "orig_nbformat": 4
 },
 "nbformat": 4,
 "nbformat_minor": 2
}
