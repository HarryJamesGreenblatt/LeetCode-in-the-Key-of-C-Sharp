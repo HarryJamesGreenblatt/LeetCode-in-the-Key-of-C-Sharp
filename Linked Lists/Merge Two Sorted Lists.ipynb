{
 "cells": [
  {
   "cell_type": "markdown",
   "metadata": {},
   "source": [
    "# Merge Two Sorted Lists"
   ]
  },
  {
   "cell_type": "markdown",
   "metadata": {},
   "source": [
    "You are given the *heads of two sorted linked lists* `list1` and `list2`.\n",
    "         \n",
    "*Merge the two lists in a one sorted list\n",
    "The list should be made by splicing together the nodes of the first two lists.    \n",
    "         \n",
    "Return the head of the merged linked list."
   ]
  },
  {
   "cell_type": "markdown",
   "metadata": {},
   "source": [
    "**Example 1**:    \n",
    "![ufukkedup](https://assets.leetcode.com/uploads/2020/10/03/merge_ex1.jpg)\n",
    "> ```\n",
    "> Input: list1 = [1,2,4], list2 = [1,3,4]\n",
    "> Output: [1,1,2,3,4,4]\n",
    "> ```\n",
    "\n",
    "<br>\n",
    "    \n",
    "**Example 2**:   \n",
    "> ```\n",
    "> Input: list1 = [], list2 = []\n",
    "> Output: []\n",
    "> ```\n",
    "\n",
    "<br>\n",
    "\n",
    "**Example 3**:   \n",
    "> ```\n",
    "> Input: list1 = [], list2 = [0]\n",
    "> Output: [0]\n",
    "> ```\n",
    "   \n",
    "<br>"
   ]
  },
  {
   "cell_type": "markdown",
   "metadata": {},
   "source": [
    "**Constraints**:\n",
    "\n",
    "-   The number of nodes in both lists is in the range `[0, 50]`.\n",
    "-   `-100 <= Node.val <= 100`\n",
    "-   Both `list1` and `list2` are sorted in *non-decreasing order*."
   ]
  },
  {
   "cell_type": "markdown",
   "metadata": {},
   "source": [
    "<br>"
   ]
  },
  {
   "cell_type": "markdown",
   "metadata": {},
   "source": [
    "### One Pass Two Pointers"
   ]
  },
  {
   "cell_type": "markdown",
   "metadata": {},
   "source": [
    "##### Psuedo"
   ]
  },
  {
   "cell_type": "markdown",
   "metadata": {},
   "source": [
    "```\n",
    "Create up a List to store the Sorted and Merged final List, initialized with a Dummy Node.\n",
    "Along with a Pointer at the head of this new List to store the Smallest Values observed between List1 and List2.\n",
    "\n",
    "\n",
    "Iterating While there are still any values remaining at the head of List1  AND  values remaining at the head of List2:\n",
    "\n",
    "    If List 1 has a Smaller value present than does List 2:\n",
    "        Point the Next Smallest Node to List 1 \n",
    "        Move the head of List 1 forward one position\n",
    "\n",
    "    Otherwise, List 2 has a Smaller value present than does List 1:\n",
    "        Point the Next Smallest Node to List 2\n",
    "        Move the head of List 2 forward one position\n",
    "    \n",
    "    Advance the of Smallest List Pointer forward one position.\n",
    "\n",
    "\n",
    "After all that,\n",
    "Since there may be additional nodes reamining in either List at this point,\n",
    "\n",
    "If List 1 no longer has any values, but List 2 does: \n",
    "    Point the Next Smallest Node to all of List 2's reamining Nodes.\n",
    "    \n",
    "Otherwise, \n",
    "    Point the Next Smallest Node to all of List 1's remaining Nodes.\n",
    "\n",
    "\n",
    "The Sorted List, which has been iteratively storing each Node having the Smallest Node Values,\n",
    "now reflects the Merging of List 1 and List 2 in Sorted Order. \n",
    "\n",
    "```"
   ]
  },
  {
   "cell_type": "markdown",
   "metadata": {},
   "source": [
    "<br>"
   ]
  },
  {
   "cell_type": "markdown",
   "metadata": {},
   "source": [
    "#### Implementation"
   ]
  },
  {
   "cell_type": "code",
   "execution_count": null,
   "metadata": {
    "dotnet_interactive": {
     "language": "csharp"
    },
    "vscode": {
     "languageId": "dotnet-interactive.csharp"
    }
   },
   "outputs": [],
   "source": [
    "// Definition for singly-linked list.\n",
    "public class ListNode {\n",
    "    public int val;\n",
    "    public ListNode next;\n",
    "    public ListNode(int val=0, ListNode next=null) {\n",
    "        this.val = val;\n",
    "        this.next = next;\n",
    "    }\n",
    "}"
   ]
  },
  {
   "cell_type": "code",
   "execution_count": null,
   "metadata": {
    "dotnet_interactive": {
     "language": "csharp"
    },
    "vscode": {
     "languageId": "dotnet-interactive.csharp"
    }
   },
   "outputs": [],
   "source": [
    "public ListNode MergeTwoLists(ListNode list1, ListNode list2) \n",
    "{\n",
    "\n",
    "    // Create up a List to store the Sorted and Merged final List, initialized with a Dummy Node.\n",
    "    // Along with a Pointer at the head of this new List to store the Smallest Values observed between List1 and List2.\n",
    "    ListNode  Sorted = new ListNode(-1),\n",
    "            Smallest = Sorted;\n",
    "\n",
    "\n",
    "    // Iterating While there are still any values remaining at the head of List1  AND  values remaining at the head of List2:\n",
    "    while (list1 != null && list2 != null) \n",
    "    {\n",
    "\n",
    "        // If List 1 has a Smaller value present than does List 2:\n",
    "        if (list1.val <= list2.val)       //\n",
    "        {                                 //\n",
    "            Smallest.next = list1;        // Point the Next Smallest Node to List 1 \n",
    "            list1 = list1.next;           // Move the head of List 1 forward one position\n",
    "        }                                 //\n",
    "        \n",
    "\n",
    "        // Otherwise, List 2 has a Smaller value present than does List 1:\n",
    "        else \n",
    "        {                                 //\n",
    "            Smallest.next = list2;        // Point the Next Smallest Node to List 2\n",
    "            list2 = list2.next;           // Move the head of List 2 forward one position\n",
    "        }                                 //\n",
    "\n",
    "\n",
    "        // Advance the of Smallest List Pointer forward one position.\n",
    "        Smallest = Smallest.next;\n",
    "        \n",
    "    }\n",
    "\n",
    "\n",
    "    // After all that, there may still be additional nodes reamining in either List at this point,\n",
    "    // \n",
    "    // If List 1 no longer has any values, but List 2 does, \n",
    "    //      Point the Next Smallest Node to all of List 2's reamining Nodes.\n",
    "    //\n",
    "    // Otherwise, \n",
    "    //      Point the Next Smallest Node to all of List 1's remaining Nodes.\n",
    "    Smallest.next = (list1 == null) ? list2 : list1;\n",
    "\n",
    "\n",
    "    // Recall that the Sorted List was initialized with a Dummy Node which should be skipped,\n",
    "    // but beyond that, the Sorted List, which has been iteratively storing each Node having the Smallest Node Values,\n",
    "    // now reflects the Merging of List 1 and List 2 in Sorted Order. \n",
    "    return Sorted.next;\n",
    "\n",
    "}"
   ]
  },
  {
   "cell_type": "markdown",
   "metadata": {},
   "source": [
    "<br>"
   ]
  },
  {
   "cell_type": "markdown",
   "metadata": {},
   "source": [
    "#### Analysis"
   ]
  },
  {
   "cell_type": "markdown",
   "metadata": {},
   "source": [
    "##### **Time** "
   ]
  },
  {
   "cell_type": "markdown",
   "metadata": {},
   "source": [
    "Let $\\quad n \\quad$ represent the *length* of $\\quad \\text{List 1}. \\quad$   \n",
    "   \n",
    "Let $\\quad m \\quad$ represent the *length* of $\\quad \\text{List 2}. \\quad$   \n",
    "\n",
    "Since we are  \n",
    " `Iterating While there are still any values remaining at the head of List1  AND  values remaining at the head of List2`,   \n",
    "the total number of iterations will be proportional to the *sum of the lengths* resapective to $\\text{List 1}$ and $\\text{List 2}$.\n",
    "\n",
    "$$\\implies \\Large{\\bf{O(m + n)}}$$"
   ]
  },
  {
   "cell_type": "markdown",
   "metadata": {},
   "source": [
    "---"
   ]
  },
  {
   "cell_type": "markdown",
   "metadata": {},
   "source": [
    "##### **Space** "
   ]
  },
  {
   "cell_type": "markdown",
   "metadata": {},
   "source": [
    "The Two Pointers would require *8 bytes* of space each (in a 64-bit flat address space),   \n",
    "meaning that the entire algorithm requires *16 bytes independent of the length of the list*.  \n",
    "<br>\n",
    "\n",
    "$Consequently,$   \n",
    "the function describing the space used is  $f(n)=16$ .   \n",
    "\n",
    "To find the *order*, we simply need to find a function  $g(n)$,    \n",
    "such that we can find constants  $c$  and  $n_0$  where  $f(n) \\leq c*g(n)$  for all  $n \\leq n_0$ .   \n",
    "<br>\n",
    "   \n",
    "$\\textit{As Such}$,   \n",
    "The function  $g(n)=1$  and the constants  $c=16$  and  $n_0=1$  fit the bill nicely.\n",
    "$$\\implies \\Large{\\bf{O(1)}}$$"
   ]
  }
 ],
 "metadata": {
  "kernelspec": {
   "display_name": ".NET (C#)",
   "language": "C#",
   "name": ".net-csharp"
  },
  "language_info": {
   "file_extension": ".cs",
   "mimetype": "text/x-csharp",
   "name": "C#",
   "pygments_lexer": "csharp",
   "version": "9.0"
  },
  "orig_nbformat": 4
 },
 "nbformat": 4,
 "nbformat_minor": 2
}
