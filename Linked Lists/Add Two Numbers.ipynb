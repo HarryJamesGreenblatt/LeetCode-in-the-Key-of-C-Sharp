{
 "cells": [
  {
   "cell_type": "markdown",
   "metadata": {},
   "source": [
    "# Add Two Numbers"
   ]
  },
  {
   "cell_type": "markdown",
   "metadata": {},
   "source": [
    "You are given two **non-empty** linked lists representing two *non-negative integers*.   \n",
    "         \n",
    "The digits are stored in *reverse order*, and each of their nodes contains a *single digit*.    \n",
    "\n",
    "*Add the two numbers* and return the **sum** as a **linked list**.\n",
    "\n",
    "You may assume the two numbers do not contain any leading zero, except the number 0 itself."
   ]
  },
  {
   "cell_type": "markdown",
   "metadata": {},
   "source": [
    "**Example 1**:    \n",
    "![ufukkedup](https://assets.leetcode.com/uploads/2020/10/02/addtwonumber1.jpg)\n",
    "> ```\n",
    "> Input: l1 = [2,4,3], l2 = [5,6,4]\n",
    "> Output: [7,0,8]\n",
    "> ```\n",
    "\n",
    "Explanation: 342 + 465 = 807.\n",
    "<br>\n",
    "<br>\n",
    "    \n",
    "      \n",
    "**Example 2**:   \n",
    "> ```\n",
    "> Input: l1 = [0], l2 = [0]\n",
    "> Output: [0]\n",
    "> ```\n",
    "\n",
    "<br>\n",
    "\n",
    "**Example 3**:   \n",
    "> ```\n",
    "> Input: l1 = [9,9,9,9,9,9,9], l2 = [9,9,9,9]\n",
    "> Output: [8,9,9,9,0,0,0,1]\n",
    "> ```\n",
    "   \n",
    "<br>"
   ]
  },
  {
   "cell_type": "markdown",
   "metadata": {},
   "source": [
    "**Constraints**:\n",
    "\n",
    "- The number of nodes in each linked list is in the range `[1, 100]`.\n",
    "- `0 <= Node.val <= 9`\n",
    "- It is guaranteed that the list represents a number that *does not have leading zeros*."
   ]
  },
  {
   "cell_type": "markdown",
   "metadata": {},
   "source": [
    "<br>"
   ]
  },
  {
   "cell_type": "markdown",
   "metadata": {},
   "source": [
    "### One Pass Two Pointers"
   ]
  },
  {
   "cell_type": "markdown",
   "metadata": {},
   "source": [
    "##### Psuedo"
   ]
  },
  {
   "cell_type": "markdown",
   "metadata": {},
   "source": [
    "```\n",
    "Begin a 'Sum' List to store the 'Sum' of the two input lists, initialized with a \"Dummy Node\",\n",
    "and set up a Traversal Pointer at the head of that list.\n",
    "\n",
    "         \n",
    "Initialize the following integral values:\n",
    "\n",
    "    - A 'Sum' to store the result of the addition operation between List1 and List2. \n",
    "\n",
    "    - A 'Carryover' to handle the condition of integer overflow occuring during \n",
    "      the addition operation between the input lists, initialized to 0.\n",
    "\n",
    "    - A 'List 1 Value' which will default to 0 on the condition that List 2 is longer, \n",
    "      thereby requiring one or more addition operations with an implicit 'List 1 Value' of '0'  \n",
    "\n",
    "    - A 'List 2 Value' which will default to 0 on the condition that List 1 is longer, \n",
    "      thereby requiring one or more addition operations with an implicit 'List 2 Value' of '0'  \n",
    "\n",
    "      \n",
    "Iterating While the head of EITHER List 1 OR the head of List 2 have any remaining Nodes:\n",
    "\n",
    "\n",
    "    If there's a List 1 Node discovered upon this iteration:\n",
    "      Let 'List 1 Value' be that List 1 Node's value.\n",
    "    Otherwise,\n",
    "      Let 'List 1 Value' be an implicit 0, to be added as a subsequent tens place value.\n",
    "  \n",
    "  \n",
    "    Similarly,\n",
    "  \n",
    "  \n",
    "    If theres a List 2 Node discovered upon this iteration:\n",
    "        Let 'List 2 Value' be thatList 2  Node's value.\n",
    "    Otherwise,\n",
    "        Let 'List 2 Value' be an implicit 0, to be added as a subsequent tens place value.  \n",
    "  \n",
    "  \n",
    "    Let the 'Sum' at this iteration be the   'List 1 Value'  + 'List 2 Value' + 'Carryover'.\n",
    "    \n",
    "    Determine the new 'Carryover' value following this iteration's addition operation.\n",
    "\n",
    "    Reducing this iteration's 'Sum' to it's rightmost, least significant digit,\n",
    "    Create a New Node having that digit's value.\n",
    "    Set that New Node as the Traversal Pointer's next Node.\n",
    "  \n",
    "\n",
    "    If a Node is still discovered to exist in List 1:\n",
    "      Advance the head of List 1\n",
    "  \n",
    "    If a Node is still discovered to exist in List 2:\n",
    "      Advance the head of List 2\n",
    "  \n",
    "    Advance the Sum List Traversal Pointer\n",
    "\n",
    "\n",
    "After all that,\n",
    "If there's still any 'Carryover' at this point:\n",
    "  Create a new Node having that digit's value.\n",
    "  Set the  New Node as the Traversal Pointer's next Node.\n",
    "\n",
    "\n",
    "The 'Sum' List still contains a Dummy Node which should be skipped, \n",
    "but it is now followed by one or more Nodes, \n",
    "each representing the digits in the addition operation between List 1 and List 2, \n",
    "sorted in reverse order, as required.\n",
    "```"
   ]
  },
  {
   "cell_type": "markdown",
   "metadata": {},
   "source": [
    "<br>"
   ]
  },
  {
   "cell_type": "markdown",
   "metadata": {},
   "source": [
    "#### Implementation"
   ]
  },
  {
   "cell_type": "code",
   "execution_count": null,
   "metadata": {
    "dotnet_interactive": {
     "language": "csharp"
    },
    "vscode": {
     "languageId": "dotnet-interactive.csharp"
    }
   },
   "outputs": [],
   "source": [
    "public ListNode AddTwoNumbers(ListNode l1, ListNode l2) {\n",
    "    \n",
    "    // Begin a List to store the Sum of the two input lists, initialized with a \"Dummy Node\".\n",
    "    // and set up a Traversal Pointer at the head of that list.\n",
    "    ListNode  SumList    = new ListNode(),\n",
    "              SumPointer = SumList;\n",
    "    \n",
    "\n",
    "    //Initialize the following integral values:\n",
    "    int  sum     = 0,   // A 'Sum' to store the result of the addition operation between List1 and List2. \n",
    "\n",
    "         carry   = 0,   // A Carryover to handle the condition of integer overflow occuring during \n",
    "                        // the addition operation between the input lists, initialized to 0.\n",
    "\n",
    "         l1value = 0,   // A 'List 1 Value' which will default to 0\n",
    "                        // upon the condition that List 2 is longer, thereby requiring \n",
    "                        // one or more addition operations with an implicit List 1 Value of '0'\n",
    "         \n",
    "         l2value = 0;   // A 'List 2 Value' which will default to 0 \n",
    "                        // upon the condition that List 1 is longer, thereby requiring \n",
    "                        // one or more addition operations with an implicit List 2 Value of '0'\n",
    "    \n",
    "\n",
    "    // Iterating While the head of EITHER List 1 OR the head of List 2 have any remaining Nodes:\n",
    "    while(l1 != null || l2 != null)\n",
    "    {\n",
    "    \n",
    "        // If there's a List 1 Node discovered upon this iteration:\n",
    "        // Let 'List 1 Value' be that List 1 Node's value.\n",
    "        // Otherwise,\n",
    "        //      Let 'List 1 Value'  be an implicit 0, to be added as a subsequent ten's place value.\n",
    "        l1value = (l1 != null) ?  l1.val : 0;\n",
    "\n",
    "\n",
    "        // Similarly,\n",
    "        // If theres a List 2 Node discovered upon this iteration:\n",
    "        //   Let 'List 2 Value' be thatList 2  Node's value.\n",
    "        // Otherwise,\n",
    "        //     Let 'List 2 Value' be an implicit 0, to be added as a subsequent ten's place value.  \n",
    "        l2value = (l2 != null) ?  l2.val : 0;\n",
    "    \n",
    "\n",
    "        // Let the 'Sum' at this iteration be the   'List 1 Value'  + 'List 2 Value' + 'Carryover'.\n",
    "        sum   = l1value + l2value + carry;\n",
    "\n",
    "\n",
    "        // Determine the new 'Carryover' value following this iteration's addition operation.\n",
    "        carry = sum / 10;\n",
    "    \n",
    "    \n",
    "        // Reducing this iteration's 'Sum' to it's rightmost, least significant digit,\n",
    "        sum %= 10;\n",
    "    \n",
    "\n",
    "        // Create a new Node having that digit's value.\n",
    "        ListNode NewNode = new ListNode(sum);\n",
    "\n",
    "\n",
    "        // Set that New Node as the Traversal Pointer's next Node.\n",
    "        SumPointer.next = NewNode;  \n",
    "    \n",
    "\n",
    "        // If a Node is still discovered to exist in List 1:\n",
    "        //      Advance the head of List 1\n",
    "        if(l1 != null)   l1 = l1.next;\n",
    "\n",
    "\n",
    "        //If a Node is still discovered to exist in List 2:\n",
    "        //      Advance the head of List 2\n",
    "        if(l2 != null)   l2 = l2.next;\n",
    "\n",
    "\n",
    "        // Advance the Sum List Traversal Pointer\n",
    "        SumPointer = SumPointer.next;\n",
    "    \n",
    "    }\n",
    "    \n",
    "    \n",
    "    // After all that,\n",
    "    // If there's still any 'Carryover' at this point:\n",
    "    if(carry > 0)\n",
    "    {\n",
    "\n",
    "        // Create a new Node having that digit's value.\n",
    "        ListNode NewNode = new ListNode(carry);\n",
    "\n",
    "        \n",
    "        // Set the  New Node as the Traversal Pointer's next Node.\n",
    "        SumPointer.next = NewNode;  \n",
    "    }\n",
    "    \n",
    "\n",
    "    // The 'Sum' List still contains a Dummy Node which should be skipped, \n",
    "    // but it is now followed by one or more Nodes, \n",
    "    // each representing the digits in the addition operation between List 1 and List 2, \n",
    "    // sorted in reverse order,  as required.\n",
    "    return SumList.next;\n",
    "\n",
    "}\n"
   ]
  },
  {
   "cell_type": "code",
   "execution_count": null,
   "metadata": {
    "dotnet_interactive": {
     "language": "csharp"
    },
    "vscode": {
     "languageId": "dotnet-interactive.csharp"
    }
   },
   "outputs": [],
   "source": [
    "// Definition for singly-linked list.\n",
    "public class ListNode {\n",
    "    public int val;\n",
    "    public ListNode next;\n",
    "    public ListNode(int val=0, ListNode next=null) {\n",
    "        this.val = val;\n",
    "        this.next = next;\n",
    "    }\n",
    "}\n"
   ]
  },
  {
   "cell_type": "code",
   "execution_count": null,
   "metadata": {
    "dotnet_interactive": {
     "language": "csharp"
    },
    "vscode": {
     "languageId": "dotnet-interactive.csharp"
    }
   },
   "outputs": [],
   "source": [
    "public ListNode Push( ListNode head, int valueToADD )\n",
    "{\n",
    "    ListNode NewNode  =  new ListNode(valueToADD);\n",
    "    NewNode.next      =  head;\n",
    "    head              =  NewNode;\n",
    "\n",
    "    return head;\n",
    "}"
   ]
  },
  {
   "cell_type": "code",
   "execution_count": null,
   "metadata": {
    "dotnet_interactive": {
     "language": "csharp"
    },
    "vscode": {
     "languageId": "dotnet-interactive.csharp"
    }
   },
   "outputs": [
    {
     "data": {
      "text/html": [
       "<table><thead><tr><th><i>index</i></th><th>value</th></tr></thead><tbody><tr><td>0</td><td><div class=\"dni-plaintext\">3</div></td></tr><tr><td>1</td><td><div class=\"dni-plaintext\">4</div></td></tr><tr><td>2</td><td><div class=\"dni-plaintext\">2</div></td></tr></tbody></table>"
      ]
     },
     "metadata": {},
     "output_type": "display_data"
    }
   ],
   "source": [
    "\"3 4 2\".Split(' ').Select( s => Convert.ToInt32(s) )"
   ]
  },
  {
   "cell_type": "code",
   "execution_count": null,
   "metadata": {
    "dotnet_interactive": {
     "language": "csharp"
    },
    "vscode": {
     "languageId": "dotnet-interactive.csharp"
    }
   },
   "outputs": [],
   "source": [
    "public ListNode list1 = null;\n",
    "\n",
    "foreach( int number in \"3 4 2\".Split(' ').Select( s => Convert.ToInt32(s) ) )\n",
    "    list1 = Push(list1, Convert.ToInt32(number));"
   ]
  },
  {
   "cell_type": "code",
   "execution_count": null,
   "metadata": {
    "dotnet_interactive": {
     "language": "csharp"
    },
    "vscode": {
     "languageId": "dotnet-interactive.csharp"
    }
   },
   "outputs": [
    {
     "name": "stdout",
     "output_type": "stream",
     "text": [
      "2\r\n",
      "4\r\n",
      "3\r\n"
     ]
    }
   ],
   "source": [
    "ListNode pointer = list1;\n",
    "\n",
    "while(pointer != null)\n",
    "{\n",
    "    Console.WriteLine(pointer.val);\n",
    "    pointer = pointer.next;\n",
    "}\n"
   ]
  },
  {
   "cell_type": "code",
   "execution_count": null,
   "metadata": {
    "dotnet_interactive": {
     "language": "csharp"
    },
    "vscode": {
     "languageId": "dotnet-interactive.csharp"
    }
   },
   "outputs": [],
   "source": [
    "public ListNode list2 = null;\n",
    "\n",
    "foreach( int number in \"4 6 5\".Split(' ').Select( s => Convert.ToInt32(s) ) )\n",
    "    list2 = Push(list2, Convert.ToInt32(number));"
   ]
  },
  {
   "cell_type": "code",
   "execution_count": null,
   "metadata": {
    "dotnet_interactive": {
     "language": "csharp"
    },
    "vscode": {
     "languageId": "dotnet-interactive.csharp"
    }
   },
   "outputs": [
    {
     "name": "stdout",
     "output_type": "stream",
     "text": [
      "5\r\n",
      "6\r\n",
      "4\r\n"
     ]
    }
   ],
   "source": [
    "ListNode pointer = list2;\n",
    "\n",
    "while(pointer != null)\n",
    "{\n",
    "    Console.WriteLine(pointer.val);\n",
    "    pointer = pointer.next;\n",
    "}\n"
   ]
  },
  {
   "cell_type": "markdown",
   "metadata": {},
   "source": [
    "<br>"
   ]
  },
  {
   "cell_type": "markdown",
   "metadata": {},
   "source": [
    "#### Analysis"
   ]
  },
  {
   "cell_type": "markdown",
   "metadata": {},
   "source": [
    "##### **Time** "
   ]
  },
  {
   "cell_type": "markdown",
   "metadata": {},
   "source": [
    "Let $\\quad n \\quad$ represent the *length* of $\\quad \\text{List 1}. \\quad$   \n",
    "   \n",
    "Let $\\quad m \\quad$ represent the *length* of $\\quad \\text{List 2}. \\quad$   \n",
    "\n",
    "Since we are  \n",
    " `Iterating While the head of EITHER List 1 OR the head of List 2 have any remaining Nodes`,   \n",
    "the total number of iterations will be proportional to the *largest length* resapective to $\\text{List 1}$ and $\\text{List 2}$.\n",
    "\n",
    "$$\\implies \\Large{\\bf{O(max(m, n))}}$$"
   ]
  },
  {
   "cell_type": "markdown",
   "metadata": {},
   "source": [
    "---"
   ]
  },
  {
   "cell_type": "markdown",
   "metadata": {},
   "source": [
    "##### **Space** "
   ]
  },
  {
   "cell_type": "markdown",
   "metadata": {},
   "source": [
    "Following our action to   \n",
    "`Begin a 'Sum' List with to store the 'Sum' of the two input lists, initialized with a \"Dummy Node\",\n",
    "and set up a Traversal Pointer at the head of that list.`   \n",
    "We are allocateing an auxiliary space which will grow proportionally with the *largest length* resapective to $\\text{List 1}$ and $\\text{List 2}$.   \n",
    "$$\\implies \\Large{\\bf{O(max(m,n))}}$$"
   ]
  }
 ],
 "metadata": {
  "kernelspec": {
   "display_name": ".NET (C#)",
   "language": "C#",
   "name": ".net-csharp"
  },
  "language_info": {
   "file_extension": ".cs",
   "mimetype": "text/x-csharp",
   "name": "C#",
   "pygments_lexer": "csharp",
   "version": "9.0"
  },
  "orig_nbformat": 4
 },
 "nbformat": 4,
 "nbformat_minor": 2
}
