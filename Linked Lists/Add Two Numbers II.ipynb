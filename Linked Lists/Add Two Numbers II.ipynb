{
 "cells": [
  {
   "cell_type": "markdown",
   "metadata": {},
   "source": [
    "# Add Two Numbers II"
   ]
  },
  {
   "cell_type": "markdown",
   "metadata": {},
   "source": [
    "You are given *two non-empty linked lists* representing *two non-negative integers*.     \n",
    "     \n",
    "The  *most significant digit comes first*, and each of their nodes contains a single digit.  \n",
    "   \n",
    "*Add the two numbers* and return the **sum** as a **linked list**.\n",
    "   \n",
    "You may assume the two numbers do not contain any leading zero, except the number 0 itself."
   ]
  },
  {
   "cell_type": "markdown",
   "metadata": {},
   "source": [
    "**Example 1**:    \n",
    "![ufukkedup](https://assets.leetcode.com/uploads/2021/04/09/sumii-linked-list.jpg)\n",
    "> ```\n",
    "> Input: l1 = [7,2,4,3], l2 = [5,6,4]\n",
    "> Output: [7,8,0,7]\n",
    "> ```\n",
    "\n",
    "Explanation: 342 + 465 = 807.\n",
    "<br>\n",
    "<br>\n",
    "      \n",
    "      \n",
    "**Example 2**:   \n",
    "> ```\n",
    "> Input: l1 = [2,4,3], l2 = [5,6,4]\n",
    "> Output: [8,0,7]\n",
    "> ```\n",
    "\n",
    "<br>\n",
    "\n",
    "**Example 3**:   \n",
    "> ```\n",
    "> Input: l1 = [0], l2 = [0]\n",
    "> Output: [0]\n",
    "> ```\n",
    "   \n",
    "<br>"
   ]
  },
  {
   "cell_type": "markdown",
   "metadata": {},
   "source": [
    "**Constraints**:\n",
    "\n",
    "- The number of nodes in each linked list is in the range `[1, 100]`.\n",
    "- `0 <= Node.val <= 9`\n",
    "- It is guaranteed that the list represents a number that does not have leading zeros."
   ]
  },
  {
   "cell_type": "markdown",
   "metadata": {},
   "source": [
    "<br>"
   ]
  },
  {
   "cell_type": "markdown",
   "metadata": {},
   "source": [
    "### Combinatory Code Reuse"
   ]
  },
  {
   "cell_type": "markdown",
   "metadata": {},
   "source": [
    "##### Psuedo"
   ]
  },
  {
   "cell_type": "markdown",
   "metadata": {},
   "source": [
    "###### A subroutine which, given the head of a *Linked List*, returns the head of that Linked List in **Reverse Order**. <br><br> Time: $\\qquad O(n)$ <br> Space: $\\qquad O(1)$\n",
    "```\n",
    "define a function ReverseList( head_of_list ):\n",
    "\n",
    "    Set up a Pointer to strore a reference to the Current Node in the traversal, initialized to the position under the head of the List.\n",
    "\n",
    "    Set up a Pointer to store a reference to the Previous Node in the traversal, initialized to null as there is no Previous Node at the initial state of the traversal.\n",
    "\n",
    "    Set up a Pointer to store a reference to the Next Node in the traversal, taking no initial value.\n",
    "\n",
    "    Iterating While the Pointer under the Current Node is not null:\n",
    "\n",
    "        Move the 'Next Pointer' under the Current Node's Next Node\n",
    "        Unhook the Current Node's Next Node and reattach it to the Node under the 'Previous Pointer'\n",
    "        Move the 'Previous Pointer' under the Current Node\n",
    "        Unhook the Current Node and reattach it to the Node under the 'Next Pointer'\n",
    "\n",
    "    The Linked List is now is now in Reverse Order,\n",
    "    as required.\n",
    "```"
   ]
  },
  {
   "cell_type": "markdown",
   "metadata": {},
   "source": [
    "<br>"
   ]
  },
  {
   "cell_type": "markdown",
   "metadata": {},
   "source": [
    "###### A subroutine which, given the heads of *Two Linked Lists*, <br> whose Nodes represent the *digits of a Non-Zero Integer Value* sorted in  **Reverse Order**, <br> returns the head of a new Linked List whose Nodes represent the *Sum  of those Two Integer Values*, sorted in **Reverse Order**. <br><br> Time: $\\qquad O(max(m,n))$ <br> Space: $\\qquad O(max(m,n))$\n",
    "```\n",
    "define a function AddNumbers(head_of_list_1, head_of_list_2):\n",
    "\n",
    "\n",
    "  Begin a 'Sum' List to store the 'Sum' of the two input lists, initialized with a \"Dummy Node\",\n",
    "  and set up a Traversal Pointer at the head of that list.\n",
    "\n",
    "          \n",
    "  Initialize the following integral values:\n",
    "\n",
    "      - A 'Sum' to store the result of the addition operation between List1 and List2. \n",
    "\n",
    "      - A 'Carryover' to handle the condition of integer overflow occuring during \n",
    "        the addition operation between the input lists, initialized to 0.\n",
    "\n",
    "      - A 'List 1 Value' which will default to 0 on the condition that List 2 is longer, \n",
    "        thereby requiring one or more addition operations with an implicit 'List 1 Value' of '0'  \n",
    "\n",
    "      - A 'List 2 Value' which will default to 0 on the condition that List 1 is longer, \n",
    "        thereby requiring one or more addition operations with an implicit 'List 2 Value' of '0'  \n",
    "\n",
    "        \n",
    "  Iterating While the head of EITHER List 1 OR the head of List 2 have any remaining Nodes:\n",
    "\n",
    "\n",
    "      If there's a List 1 Node discovered upon this iteration:\n",
    "        Let 'List 1 Value' be that List 1 Node's value.\n",
    "      Otherwise,\n",
    "        Let 'List 1 Value' be an implicit 0, to be added as a subsequent tens place value.\n",
    "    \n",
    "    \n",
    "      Similarly,\n",
    "    \n",
    "    \n",
    "      If theres a List 2 Node discovered upon this iteration:\n",
    "          Let 'List 2 Value' be thatList 2  Node's value.\n",
    "      Otherwise,\n",
    "          Let 'List 2 Value' be an implicit 0, to be added as a subsequent tens place value.  \n",
    "    \n",
    "    \n",
    "      Let the 'Sum' at this iteration be the   'List 1 Value'  + 'List 2 Value' + 'Carryover'.\n",
    "      \n",
    "      Determine the new 'Carryover' value following this iteration's addition operation.\n",
    "\n",
    "      Reducing this iteration's 'Sum' to it's rightmost, least significant digit,\n",
    "      Create a New Node having that digit's value.\n",
    "      Set that New Node as the Traversal Pointer's next Node.\n",
    "    \n",
    "\n",
    "      If a Node is still discovered to exist in List 1:\n",
    "        Advance the head of List 1\n",
    "    \n",
    "      If a Node is still discovered to exist in List 2:\n",
    "        Advance the head of List 2\n",
    "    \n",
    "      Advance the Sum List Traversal Pointer\n",
    "\n",
    "\n",
    "  After all that,\n",
    "  If there's still any 'Carryover' at this point:\n",
    "    Create a new Node having that digit's value.\n",
    "    Set the  New Node as the Traversal Pointer's next Node.\n",
    "\n",
    "\n",
    "  The 'Sum' List still contains a Dummy Node which should be skipped, \n",
    "  but it is now followed by one or more Nodes, \n",
    "  each representing the digits in the addition operation between List 1 and List 2, \n",
    "  sorted in reverse order, as required.\n",
    "\n",
    "```"
   ]
  },
  {
   "cell_type": "markdown",
   "metadata": {},
   "source": [
    "<br>"
   ]
  },
  {
   "cell_type": "markdown",
   "metadata": {},
   "source": [
    "$\\textit{As Such}$,    \n",
    "   \n",
    "we may:"
   ]
  },
  {
   "cell_type": "markdown",
   "metadata": {},
   "source": [
    "```\n",
    "Use   ReverseList   in order to:   \n",
    "    REVERSE THE RESULT   of using   AddNumbers  in order to:   \n",
    "        Convert the   SUM   of the   integer value representations    respective to  \n",
    "        List 1 (In Reverse)    and   List 2 (In Reverse)   into a   New List.\n",
    "```"
   ]
  },
  {
   "cell_type": "markdown",
   "metadata": {},
   "source": [
    "<br>"
   ]
  },
  {
   "cell_type": "markdown",
   "metadata": {},
   "source": [
    "#### Implementation"
   ]
  },
  {
   "cell_type": "markdown",
   "metadata": {},
   "source": [
    "<br>"
   ]
  },
  {
   "cell_type": "markdown",
   "metadata": {},
   "source": [
    "<br>"
   ]
  },
  {
   "cell_type": "code",
   "execution_count": null,
   "metadata": {
    "dotnet_interactive": {
     "language": "csharp"
    },
    "vscode": {
     "languageId": "dotnet-interactive.csharp"
    }
   },
   "outputs": [],
   "source": [
    "public ListNode AddTwoNumbers(ListNode l1, ListNode l2) {\n",
    "    \n",
    "    // Use   ReverseList   in order to  REVERSE THE RESULT   of: \n",
    "    return ReverseList(\n",
    "\n",
    "        //  using   AddNumbers  in order to:\n",
    "        AddNumbers(\n",
    "\n",
    "            // Convert the   SUM   of the   integer value representations   respective to  \n",
    "            // List 1 (In Reverse)  and  List 2 (In Reverse)  into a  New List.\n",
    "            ReverseList( l1 ), \n",
    "            ReverseList( l2 )\n",
    "\n",
    "        )  \n",
    "        \n",
    "    );\n",
    "    \n",
    "}"
   ]
  },
  {
   "cell_type": "code",
   "execution_count": null,
   "metadata": {
    "dotnet_interactive": {
     "language": "csharp"
    },
    "vscode": {
     "languageId": "dotnet-interactive.csharp"
    }
   },
   "outputs": [],
   "source": [
    "// Definition for singly-linked list.\n",
    "public class ListNode {\n",
    "    public int val;\n",
    "    public ListNode next;\n",
    "    public ListNode(int val=0, ListNode next=null) {\n",
    "        this.val = val;\n",
    "        this.next = next;\n",
    "    }\n",
    "}\n"
   ]
  },
  {
   "cell_type": "code",
   "execution_count": null,
   "metadata": {
    "dotnet_interactive": {
     "language": "csharp"
    },
    "vscode": {
     "languageId": "dotnet-interactive.csharp"
    }
   },
   "outputs": [],
   "source": [
    "public ListNode ReverseList( ListNode head )\n",
    "{\n",
    "\n",
    "    //Set up a Pointer to strore a reference to the Current Node in the traversal, \n",
    "    // initialized to the position under the head of the List.\n",
    "    ListNode CurrentNode  = head;\n",
    "\n",
    "\n",
    "    // Set up a Pointer to store a reference to the Previous Node in the traversal, \n",
    "    // initialized to null as there is no Previous Node at the initial state of the traversal.\n",
    "    ListNode PreviousNode = null;\n",
    "\n",
    "\n",
    "    // Set up a Pointer to store a reference to the Next Node in the traversal, \n",
    "    // taking no initial value.\n",
    "    ListNode NextNode;\n",
    "\n",
    "\n",
    "    // Iterating While the Pointer under the Current Node is not null:\n",
    "    while(CurrentNode != null)\n",
    "    {\n",
    "\n",
    "        // Move the 'Next Pointer' under the Current Node's Next Node\n",
    "        NextNode = CurrentNode.next;\n",
    "\n",
    "        \n",
    "        //Unhook the Current Node's Next Node \n",
    "        //and reattach it to the Node under the 'Previous Pointer'\n",
    "        CurrentNode.next = PreviousNode;\n",
    "\n",
    "\n",
    "        // Move the 'Previous Pointer' under the Current Node\n",
    "        PreviousNode = CurrentNode;\n",
    "\n",
    "\n",
    "        // Unhook the Current Node \n",
    "        // and reattach it to the Node under the 'Next Pointer'\n",
    "        CurrentNode = NextNode;\n",
    "\n",
    "    }\n",
    "\n",
    "    \n",
    "    // Once the iteration is complete,\n",
    "    // Unhook the input Lists's head Pointer and reattach it to the New List's 'Previous Pointer', \n",
    "    // which now represents the \"head\" of the Reversed List.\n",
    "    head = PreviousNode;  \n",
    "\n",
    "\n",
    "    // The Linked List is now is now in Reverse Order,\n",
    "    // as required.\n",
    "    return head;\n",
    "\n",
    "}"
   ]
  },
  {
   "cell_type": "code",
   "execution_count": null,
   "metadata": {
    "dotnet_interactive": {
     "language": "csharp"
    },
    "vscode": {
     "languageId": "dotnet-interactive.csharp"
    }
   },
   "outputs": [],
   "source": [
    "public ListNode AddNumbers(ListNode l1, ListNode l2) {\n",
    "    \n",
    "    // Begin a List to store the Sum of the two input lists, initialized with a \"Dummy Node\".\n",
    "    // and set up a Traversal Pointer at the head of that list.\n",
    "    ListNode  SumList    = new ListNode(),\n",
    "              SumPointer = SumList;\n",
    "    \n",
    "\n",
    "    //Initialize the following integral values:\n",
    "    int  sum     = 0,   // A 'Sum' to store the result of the addition operation between List1 and List2. \n",
    "\n",
    "         carry   = 0,   // A Carryover to handle the condition of integer overflow occuring during \n",
    "                        // the addition operation between the input lists, initialized to 0.\n",
    "\n",
    "         l1value = 0,   // A 'List 1 Value' which will default to 0\n",
    "                        // upon the condition that List 2 is longer, thereby requiring \n",
    "                        // one or more addition operations with an implicit List 1 Value of '0'\n",
    "         \n",
    "         l2value = 0;   // A 'List 2 Value' which will default to 0 \n",
    "                        // upon the condition that List 1 is longer, thereby requiring \n",
    "                        // one or more addition operations with an implicit List 2 Value of '0'\n",
    "    \n",
    "\n",
    "    // Iterating While the head of EITHER List 1 OR the head of List 2 have any remaining Nodes:\n",
    "    while(l1 != null || l2 != null)\n",
    "    {\n",
    "    \n",
    "        // If there's a List 1 Node discovered upon this iteration:\n",
    "        // Let 'List 1 Value' be that List 1 Node's value.\n",
    "        // Otherwise,\n",
    "        //      Let 'List 1 Value'  be an implicit 0, to be added as a subsequent ten's place value.\n",
    "        l1value = (l1 != null) ?  l1.val : 0;\n",
    "\n",
    "\n",
    "        // Similarly,\n",
    "        // If theres a List 2 Node discovered upon this iteration:\n",
    "        //   Let 'List 2 Value' be thatList 2  Node's value.\n",
    "        // Otherwise,\n",
    "        //     Let 'List 2 Value' be an implicit 0, to be added as a subsequent ten's place value.  \n",
    "        l2value = (l2 != null) ?  l2.val : 0;\n",
    "    \n",
    "\n",
    "        // Let the 'Sum' at this iteration be the   'List 1 Value'  + 'List 2 Value' + 'Carryover'.\n",
    "        sum   = l1value + l2value + carry;\n",
    "\n",
    "\n",
    "        // Determine the new 'Carryover' value following this iteration's addition operation.\n",
    "        carry = sum / 10;\n",
    "    \n",
    "    \n",
    "        // Reducing this iteration's 'Sum' to it's rightmost, least significant digit,\n",
    "        sum %= 10;\n",
    "    \n",
    "\n",
    "        // Create a new Node having that digit's value.\n",
    "        ListNode NewNode = new ListNode(sum);\n",
    "\n",
    "\n",
    "        // Set that New Node as the Traversal Pointer's next Node.\n",
    "        SumPointer.next = NewNode;  \n",
    "    \n",
    "\n",
    "        // If a Node is still discovered to exist in List 1:\n",
    "        //      Advance the head of List 1\n",
    "        if(l1 != null)   l1 = l1.next;\n",
    "\n",
    "\n",
    "        //If a Node is still discovered to exist in List 2:\n",
    "        //      Advance the head of List 2\n",
    "        if(l2 != null)   l2 = l2.next;\n",
    "\n",
    "\n",
    "        // Advance the Sum List Traversal Pointer\n",
    "        SumPointer = SumPointer.next;\n",
    "    \n",
    "    }\n",
    "    \n",
    "    \n",
    "    // After all that,\n",
    "    // If there's still any 'Carryover' at this point:\n",
    "    if(carry > 0)\n",
    "    {\n",
    "\n",
    "        // Create a new Node having that digit's value.\n",
    "        ListNode NewNode = new ListNode(carry);\n",
    "\n",
    "        \n",
    "        // Set the  New Node as the Traversal Pointer's next Node.\n",
    "        SumPointer.next = NewNode;  \n",
    "    }\n",
    "    \n",
    "\n",
    "    // The 'Sum' List still contains a Dummy Node which should be skipped, \n",
    "    // but it is now followed by one or more Nodes, \n",
    "    // each representing the digits in the addition operation between List 1 and List 2, \n",
    "    // sorted in reverse order,  as required.\n",
    "    return SumList.next;\n",
    "\n",
    "}\n"
   ]
  },
  {
   "cell_type": "markdown",
   "metadata": {},
   "source": [
    "<br>"
   ]
  },
  {
   "cell_type": "markdown",
   "metadata": {},
   "source": [
    "#### Analysis"
   ]
  },
  {
   "cell_type": "markdown",
   "metadata": {},
   "source": [
    "##### **Time** "
   ]
  },
  {
   "cell_type": "markdown",
   "metadata": {},
   "source": [
    "Since we  `Use   ReverseList   in order to: REVERSE THE RESULT   of using   AddNumbers`,   \n",
    "the total number of iterations will be proportional to the *largest length* resapective to $\\text{List 1}$ and $\\text{List 2}$.\n",
    "$$\\implies \\Large{\\bf{O(max(m,n))}}$$"
   ]
  },
  {
   "cell_type": "markdown",
   "metadata": {},
   "source": [
    "---"
   ]
  },
  {
   "cell_type": "markdown",
   "metadata": {},
   "source": [
    "##### **Space** "
   ]
  },
  {
   "cell_type": "markdown",
   "metadata": {},
   "source": [
    "Because, in our action of  `using   AddNumbers`,   we  \n",
    "`Begin a 'Sum' List with to store the 'Sum' of the two input lists, initialized with a \"Dummy Node\", and set up a Traversal Pointer at the head of that list.`      \n",
    "We are allocateing an auxiliary space which will grow proportionally with the *largest length* resapective to $\\text{List 1}$ and $\\text{List 2}$.   \n",
    "$$\\implies \\Large{\\bf{O(max(m,n))}}$$"
   ]
  }
 ],
 "metadata": {
  "kernelspec": {
   "display_name": ".NET (C#)",
   "language": "C#",
   "name": ".net-csharp"
  },
  "language_info": {
   "file_extension": ".cs",
   "mimetype": "text/x-csharp",
   "name": "C#",
   "pygments_lexer": "csharp",
   "version": "9.0"
  },
  "orig_nbformat": 4
 },
 "nbformat": 4,
 "nbformat_minor": 2
}
