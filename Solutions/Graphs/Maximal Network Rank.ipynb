{
 "cells": [
  {
   "cell_type": "markdown",
   "metadata": {},
   "source": [
    "# Maximal Network Rank"
   ]
  },
  {
   "cell_type": "markdown",
   "metadata": {},
   "source": [
    "There is an infrastructure of `n` cities with some number of `roads` connecting these cities.   \n",
    "  \n",
    "Each `roads[i] = [ai, bi]` indicates that there is a *bidirectional road* between cities `ai` and `bi`.\n",
    "\n",
    "The **network rank** of **two different cities** is defined as the total number of *directly connected roads* to either city.   \n",
    "If a road is directly connected to both cities, it is only counted once.\n",
    "    \n",
    "The **maximal network rank** of the infrastructure is the **maximum network rank** of all pairs of different cities.\n",
    "\n",
    "Given the integer `n` and the array `roads`,   \n",
    "return the **maximal network rank** of the entire infrastructure."
   ]
  },
  {
   "cell_type": "markdown",
   "metadata": {},
   "source": [
    "**Example 1**:    \n",
    "![Picture Can Go Here](https://assets.leetcode.com/uploads/2020/09/21/ex1.png)\n",
    "> ```\n",
    "> Input: n = 4, roads = [[0,1],[0,3],[1,2],[1,3]]\n",
    "> Output: 4\n",
    "> ```\n",
    "\n",
    "Explanation:      \n",
    "The network rank of cities `0` and `1` is `4` as there are `4` roads that are connected to either `0` or `1`. The road between `0` and `1` is only counted once.\n",
    "<br>\n",
    "<br>\n",
    "      \n",
    "      \n",
    "**Example 2**:   \n",
    "![Picture Can Go Here](https://assets.leetcode.com/uploads/2020/09/21/ex2.png)\n",
    "> ```\n",
    "> Input: n = 5, roads = [[0,1],[0,3],[1,2],[1,3],[2,3],[2,4]]\n",
    "> Output: 5\n",
    "> ```\n",
    "   \n",
    "Explanation:     \n",
    "There are `5` roads that are connected to cities `1` or `2`.\n",
    "<br>\n",
    "\n",
    "**Example 3**:   \n",
    "> ```\n",
    "> Input: n = 8, roads = [[0,1],[1,2],[2,3],[2,4],[5,6],[5,7]]\n",
    "> Output: 5\n",
    "> ```\n",
    "   \n",
    "<br>"
   ]
  },
  {
   "cell_type": "markdown",
   "metadata": {},
   "source": [
    "**Constraints**:\n",
    "\n",
    "- `2 <= n <= 100`\n",
    "- `0 <= roads.length <= n * (n - 1) / 2`\n",
    "- `roads[i].length == 2`\n",
    "- `0 <= ai, bi <= n-1`\n",
    "- `ai != bi`\n",
    "- Each pair of cities has at most one road connecting them.\n",
    "\n"
   ]
  },
  {
   "cell_type": "markdown",
   "metadata": {},
   "source": [
    "<br>"
   ]
  },
  {
   "cell_type": "markdown",
   "metadata": {},
   "source": [
    "### Brute Force"
   ]
  },
  {
   "cell_type": "markdown",
   "metadata": {},
   "source": [
    "##### Psuedo"
   ]
  },
  {
   "cell_type": "markdown",
   "metadata": {},
   "source": [
    "```\n",
    "Create a 2 Dimensional n X n Matrix to store the Common Roads shared between Cities.\n",
    "\n",
    "\n",
    "Set up an integer Array to support iteratively tracking the nuumber of\n",
    "Roads connecting each City Pair. \n",
    "\n",
    "\n",
    "Set up an additional local variable to track the Maximum Rank, initialized at 0.\n",
    "\n",
    "\n",
    "We get can the number of Connected Roads if we,  \n",
    "For each of the \"City Pair\" Arrays represented in the Jagged Array of \"Roads\" given as input:\n",
    "\n",
    "        Store the Common Roads connecting the City Pairs together, for every Road given.\n",
    "\n",
    "        Increment the number of roads connecting each City Pair, for every Road given. \n",
    "\n",
    "Now,\n",
    "\n",
    "Let ConnectedCities[i] be the Number of Roads Connected to the First City.\n",
    "Let ConnectedCities[j] be the Number of Roads Connected to the Second City.\n",
    "Let ConnectedCities[i, j] be the Road existing between the First and the Second City.\n",
    "\n",
    "The Network Rank is thereby:  ConnectedCities[i] + ConnectedCities[j] - ConnectedCities[i, j] \n",
    "\n",
    "As Such,\n",
    "\n",
    "Iterating, one step at a time, through an OUTER LOOP, \n",
    "For each interval in the range of 0 to n - 1:\n",
    "\n",
    "    Iterating, one step at a time, through an INNER LOOP,\n",
    "    For each interval in the Range 1 to n - 1:\n",
    "\n",
    "        Calculate the Network Rank.\n",
    "        If the Current Network Rank is greater than the 'Maximum' Rank, \n",
    "            It will become the new Maximum Rank and continue going!  \n",
    "\n",
    "\n",
    "After all that,\n",
    "We have the Maximal Network Rank respective to the full collection of \"City Pair\" Arrays, \n",
    "given as input in the form of a Jagged Array,  \n",
    "as required.\n",
    "```"
   ]
  },
  {
   "cell_type": "markdown",
   "metadata": {},
   "source": [
    "<br>"
   ]
  },
  {
   "cell_type": "markdown",
   "metadata": {},
   "source": [
    "#### Implementation"
   ]
  },
  {
   "cell_type": "code",
   "execution_count": null,
   "metadata": {
    "dotnet_interactive": {
     "language": "csharp"
    },
    "vscode": {
     "languageId": "dotnet-interactive.csharp"
    }
   },
   "outputs": [],
   "source": [
    "public int MaximalNetworkRank(int n, int[][] roads) {\n",
    "\n",
    "    // Create a 2 Dimensional n X n Matrix to store the Common Roads shared between Cities\n",
    "    int[,] CommonRoads = new int[n,n];\n",
    "\n",
    "\n",
    "    // Set up an integer Array to support iteratively tracking the nuumber of\n",
    "    // Roads connecting each City Pair. \n",
    "    int[] ConnectedCities = new int[n];\n",
    "\n",
    "\n",
    "    // Set up an additional local variable to track the Maximum Rank, initialized at 0\n",
    "    int MaximumRank = 0;\n",
    "\n",
    "\n",
    "    // We get can the number of Connected Roads by iterating  \n",
    "    // For each of the \"City Pair\" Arrays represented in the Jagged Array of \"Roads\" given as input:\n",
    "    foreach(int[] road in roads){\n",
    "\n",
    "        CommonRoads[road[0], road[1]] = 1; // Store the Common Roads connecting  \n",
    "        CommonRoads[road[1], road[0]] = 1; // the City Pairs together, for every Road given \n",
    "\n",
    "    \n",
    "        ConnectedCities[road[0]]++;        //  Increment the number of roads connecting \n",
    "        ConnectedCities[road[1]]++;        //  each City Pair, for every Road given.\n",
    "\n",
    "    }\n",
    "    \n",
    "\n",
    "    // Let ConnectedCities[i] be the Number of Roads Connected to the First City.\n",
    "    // Let ConnectedCities[j] be the Number of Roads Connected to the Second City.\n",
    "    // Let ConnectedCities[i, j] be the Road existing between the First and the Second City.\n",
    "    // \n",
    "    // The Network Rank is thereby:  ConnectedCities[i] + ConnectedCities[j] - ConnectedCities[i, j] \n",
    "    //\n",
    "    // As Such,\n",
    "    //\n",
    "    // Iterating, one step at a time, through an OUTER LOOP, \n",
    "    // For each interval in the range of 0 to n - 1:\n",
    "    for(int i = 0; i < n; i++)\n",
    "    {\n",
    "\n",
    "        // Iterating, one step at a time, through an INNER LOOP,\n",
    "        // For each interval in the Range 1 to n - 1:  \n",
    "        for(int j = i+1; j < n; j++)\n",
    "        {\n",
    "\n",
    "            // Calculate the Network Rank.\n",
    "            // If the Current Network Rank is greater than the 'Maximum' Rank, \n",
    "            // It will become the new Maximum Rank and continue going!\n",
    "            MaximumRank = Math.Max(\n",
    "                MaximumRank, \n",
    "                ConnectedCities[i] + ConnectedCities[j] - CommonRoads[i,j]\n",
    "            );\n",
    "            \n",
    "        }\n",
    "\n",
    "    }\n",
    "            \n",
    "    // After all that,\n",
    "    // We have the Maximal Network Rank respective to the \n",
    "    // full collection of \"City Pair\" Arrays, given as input in the form of a Jagged Array,  \n",
    "    // as required.\n",
    "    return MaximumRank;\n",
    "\n",
    "}"
   ]
  },
  {
   "cell_type": "code",
   "execution_count": null,
   "metadata": {
    "dotnet_interactive": {
     "language": "csharp"
    },
    "vscode": {
     "languageId": "dotnet-interactive.csharp"
    }
   },
   "outputs": [],
   "source": [
    "public int[][] roads = new int[][]\n",
    "{\n",
    "    new int[]{0,1},\n",
    "    new int[]{0,3},\n",
    "    new int[]{1,2},\n",
    "    new int[]{1,3}\n",
    "};\n",
    "\n",
    "public int n = 4;"
   ]
  },
  {
   "cell_type": "code",
   "execution_count": null,
   "metadata": {
    "dotnet_interactive": {
     "language": "csharp"
    },
    "vscode": {
     "languageId": "dotnet-interactive.csharp"
    }
   },
   "outputs": [
    {
     "data": {
      "text/html": [
       "<div class=\"dni-plaintext\">4</div>"
      ]
     },
     "metadata": {},
     "output_type": "display_data"
    }
   ],
   "source": [
    "MaximalNetworkRank(n, roads)"
   ]
  },
  {
   "cell_type": "markdown",
   "metadata": {},
   "source": [
    "<br>"
   ]
  },
  {
   "cell_type": "markdown",
   "metadata": {},
   "source": [
    "#### Analysis"
   ]
  },
  {
   "cell_type": "markdown",
   "metadata": {},
   "source": [
    "##### **Time** "
   ]
  },
  {
   "cell_type": "markdown",
   "metadata": {},
   "source": [
    "Observe that we are    \n",
    "   \n",
    "`Iterating, one step at a time, through an OUTER LOOP, For each interval in the range of 0 to n - 1`,   \n",
    "   \n",
    "while, during each iteration, additionally   \n",
    "   \n",
    "`Iterating, one step at a time, through an INNER LOOP, For each interval in the Range 1 to n - 1`.\n",
    "$$\\implies O(n) * O(n)$$\n",
    "$$\\implies \\Large{\\bf{O(n^2)}}$$"
   ]
  },
  {
   "cell_type": "markdown",
   "metadata": {},
   "source": [
    "---"
   ]
  },
  {
   "cell_type": "markdown",
   "metadata": {},
   "source": [
    "##### **Space** "
   ]
  },
  {
   "cell_type": "markdown",
   "metadata": {},
   "source": [
    "We are allocating space for the `CommonRoads` and `ConnectedCities` arrays proportional to the specified size of `n`.\n",
    "$$\\implies \\Large{\\bf{O(n)}}$$"
   ]
  }
 ],
 "metadata": {
  "kernelspec": {
   "display_name": ".NET (C#)",
   "language": "C#",
   "name": ".net-csharp"
  },
  "language_info": {
   "file_extension": ".cs",
   "mimetype": "text/x-csharp",
   "name": "C#",
   "pygments_lexer": "csharp",
   "version": "9.0"
  },
  "orig_nbformat": 4
 },
 "nbformat": 4,
 "nbformat_minor": 2
}
