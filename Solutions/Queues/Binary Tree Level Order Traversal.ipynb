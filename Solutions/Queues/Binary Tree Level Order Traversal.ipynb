{
 "cells": [
  {
   "cell_type": "markdown",
   "metadata": {},
   "source": [
    "# Binary Tree Level Order Traversal"
   ]
  },
  {
   "cell_type": "markdown",
   "metadata": {},
   "source": [
    "Given the `root` of a *binary tree,*   \n",
    "return the **level order traversal** of its nodes' values.  \n",
    "(i.e., from left to right, level by level)."
   ]
  },
  {
   "cell_type": "markdown",
   "metadata": {},
   "source": [
    "**Example 1**:    \n",
    "![Picture Can Go Here](https://assets.leetcode.com/uploads/2021/02/19/tree1.jpg)\n",
    "> ```\n",
    "> Input: root = [3,9,20,null,null,15,7]\n",
    "> Output: [[3],[9,20],[15,7]]\n",
    "> ```\n",
    "\n",
    "<br>\n",
    "      \n",
    "**Example 2**:   \n",
    "> ```\n",
    "> Input: root = [1]\n",
    "> Output: [[1]]\n",
    "> ```\n",
    "\n",
    "<br>\n",
    "\n",
    "**Example 3**:   \n",
    "> ```\n",
    "> Input: root = []\n",
    "> Output: []\n",
    "> ```\n",
    "   \n",
    "<br>"
   ]
  },
  {
   "cell_type": "markdown",
   "metadata": {},
   "source": [
    "**Constraints**:\n",
    "\n",
    "- The number of nodes in the tree is in the range `[0, 2000]`.\n",
    "- `-1000 <= Node.val <= 1000`"
   ]
  },
  {
   "cell_type": "markdown",
   "metadata": {},
   "source": [
    "<br>"
   ]
  },
  {
   "cell_type": "markdown",
   "metadata": {},
   "source": [
    "### One Pass and a Queue"
   ]
  },
  {
   "cell_type": "markdown",
   "metadata": {},
   "source": [
    "##### Psuedo"
   ]
  },
  {
   "cell_type": "markdown",
   "metadata": {},
   "source": [
    "```\n",
    "Establish the initial Level of the traversal at 0.\n",
    "\n",
    "Declare the Level Order sequence of Node values, implemented as a  List  of   List Interfaces. \n",
    "\n",
    "Declare a Linear, Left-to-Right flowing Node-Based structure that we can use to traverse each Level in the appropriate direction.\n",
    "\n",
    "\n",
    "Firstly, If the input Binary Tree is empty, \n",
    "    then so is the Level List.\n",
    "\n",
    "\n",
    "Add the Root Node to the Queue\n",
    "\n",
    "\n",
    "Iterating While the Queue is not empty:\n",
    "\n",
    "\n",
    "    Begin a New List to store the Nodes at the current Level\n",
    "\n",
    "    Add the New Level List to the List of Levels\n",
    "\n",
    "\n",
    "    Iterating for every Node over the Length of the Queue:\n",
    "\n",
    "        Pop the Current Node off of the Queue\n",
    "\n",
    "        Add the Current Node to the List at the Current Level\n",
    "    \n",
    "        Additionally, If there exists any Non-Empty Left Child,\n",
    "        Add that Left Child to the List at the Current Level\n",
    "\n",
    "        Subsequently, If there exists any Non-Empty Right Child,\n",
    "        Add that Right Child to the List at the Current Level      \n",
    " \n",
    "        \n",
    "    Increment the Current Level \n",
    "\n",
    "\n",
    "After all that,\n",
    "The List of Levels now consists of One or More Lists of Nodes,\n",
    "each representing a Level Order sequence of Nodes derived from the input Binary Tree,\n",
    "as required     \n",
    "\n",
    "```"
   ]
  },
  {
   "cell_type": "markdown",
   "metadata": {},
   "source": [
    "<br>"
   ]
  },
  {
   "cell_type": "markdown",
   "metadata": {},
   "source": [
    "#### Implementation"
   ]
  },
  {
   "cell_type": "code",
   "execution_count": null,
   "metadata": {
    "dotnet_interactive": {
     "language": "csharp"
    },
    "vscode": {
     "languageId": "dotnet-interactive.csharp"
    }
   },
   "outputs": [],
   "source": [
    "// Definition for a binary tree node.\n",
    "public class TreeNode {\n",
    "    public int val;\n",
    "    public TreeNode left;\n",
    "    public TreeNode right;\n",
    "    public TreeNode(int val=0, TreeNode left=null, TreeNode right=null) {\n",
    "        this.val = val;\n",
    "        this.left = left;\n",
    "        this.right = right;\n",
    "    }\n",
    "}"
   ]
  },
  {
   "cell_type": "code",
   "execution_count": null,
   "metadata": {
    "dotnet_interactive": {
     "language": "csharp"
    },
    "vscode": {
     "languageId": "dotnet-interactive.csharp"
    }
   },
   "outputs": [],
   "source": [
    "// Establish the initial Level of the traversal at 0. \n",
    "private int level = 0;\n",
    "\n",
    "\n",
    "// Declare the Level Order sequence of Node values,\n",
    "// implemented as a List of List Interfaces.\n",
    "private IList< IList<int> > LevelList = new List< IList<int> >();\n",
    "\n",
    "\n",
    "// Declare a Linear, Left-to-Right flowing Node-Based structure that  \n",
    "// we can use to traverse each Level in the appropriate direction.\n",
    "private Queue< TreeNode > q = new Queue< TreeNode >();\n",
    "\n",
    "\n",
    "\n",
    "public IList<IList<int>> LevelOrder(TreeNode root)\n",
    "{\n",
    "\n",
    "    // Firstly, If the input Binary Tree is empty,\n",
    "    if(root == null)\n",
    "        return LevelList; // then so is the Level List.  \n",
    "\n",
    "\n",
    "    // Add the Root Node to the Queue\n",
    "    q.Enqueue(root);\n",
    "\n",
    "\n",
    "    // Iterating While the Queue is not empty:\n",
    "    while( q.Count > 0 )\n",
    "    {\n",
    "        \n",
    "        // Begin a New List to store the Nodes at the current Level\n",
    "        IList<int> NewList = new List<int>();\n",
    "\n",
    "\n",
    "        // Add the New Level List to the List of Levels  \n",
    "        LevelList.Add(NewList);\n",
    "\n",
    "\n",
    "        // Iterating for every Node over the Length of the Queue\n",
    "        var length = q.Count;\n",
    "        for (int i = 0; i < length ; i++)\n",
    "        {\n",
    "            \n",
    "            // Pop the Current Node off of the Queue\n",
    "            TreeNode CurrentNode = q.Dequeue();\n",
    "\n",
    "\n",
    "            // Add the Current Node to the List at the Current Level\n",
    "            LevelList[level].Add(CurrentNode.val);\n",
    "\n",
    "\n",
    "            // Additionally, should there exist any Non-Empty Left Child,\n",
    "            //      Add that Left Child to the List at the Current Level  \n",
    "            if( CurrentNode.left != null )\n",
    "                q.Enqueue(CurrentNode.left);\n",
    "\n",
    "\n",
    "            // Subsequently, should there exist any Non-Empty Right Child,\n",
    "            //      Add that Right Child to the List at the Current Level      \n",
    "            if( CurrentNode.right != null ) \n",
    "                q.Enqueue(CurrentNode.right);\n",
    "\n",
    "        }\n",
    "\n",
    "\n",
    "        // Increment the Current Level\n",
    "        level++;\n",
    "\n",
    "    }\n",
    "\n",
    "\n",
    "   // After all that,\n",
    "   // The List of Levels now consists of One or More Lists of Nodes,\n",
    "   // each representing a Level Order sequence of Nodes derived from the input Binary Tree,\n",
    "   // as required   \n",
    "    return LevelList;\n",
    "}"
   ]
  },
  {
   "cell_type": "markdown",
   "metadata": {},
   "source": [
    "<br>"
   ]
  },
  {
   "cell_type": "markdown",
   "metadata": {},
   "source": [
    "#### Analysis"
   ]
  },
  {
   "cell_type": "markdown",
   "metadata": {},
   "source": [
    "##### **Time** "
   ]
  },
  {
   "cell_type": "markdown",
   "metadata": {},
   "source": [
    "Since we are `Iterating While the Queue is not empty`, and `Iterating for every Node over the Length of the Queue`, every Node in the input Binary Tree must be accessed exactly once.\n",
    "$$\\implies \\Large{\\bf{O(n)}}$$"
   ]
  },
  {
   "cell_type": "markdown",
   "metadata": {},
   "source": [
    "---"
   ]
  },
  {
   "cell_type": "markdown",
   "metadata": {},
   "source": [
    "##### **Space** "
   ]
  },
  {
   "cell_type": "markdown",
   "metadata": {
    "dotnet_interactive": {
     "language": "csharp"
    }
   },
   "source": [
    "We are allocating an auxiliary space  for our `Queue` proportional to the total number of Nodes present in the input Binary Tree.\n",
    "$$\\implies \\Large{\\bf{O(n)}}$$"
   ]
  }
 ],
 "metadata": {
  "kernelspec": {
   "display_name": ".NET (C#)",
   "language": "C#",
   "name": ".net-csharp"
  },
  "language_info": {
   "file_extension": ".cs",
   "mimetype": "text/x-csharp",
   "name": "C#",
   "pygments_lexer": "csharp",
   "version": "9.0"
  },
  "orig_nbformat": 4
 },
 "nbformat": 4,
 "nbformat_minor": 2
}
