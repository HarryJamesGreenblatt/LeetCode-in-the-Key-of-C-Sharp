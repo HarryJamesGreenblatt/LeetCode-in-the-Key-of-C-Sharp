{
 "cells": [
  {
   "cell_type": "markdown",
   "metadata": {},
   "source": [
    "#  Merge Sorted Array"
   ]
  },
  {
   "cell_type": "markdown",
   "metadata": {},
   "source": [
    "You are given two integer arrays `nums1` and `nums2`, sorted in non-decreasing order, and two integers `m` and `n`, representing the **number of elements** in `nums1` and `nums2` respectively.  \n",
    "    \n",
    "Merge `nums1` and `nums2` into a single array sorted in non-decreasing order.\n",
    "    \n",
    "The final sorted array should not be returned by the function, but instead be stored inside the array `nums1`.   \n",
    "   \n",
    "To accommodate this, `nums1` has a **length** of `m + n`, where the *first `m` elements* denote the elements that should be merged, and the *last `n` elements* are set to `0` and should be ignored.   \n",
    "   \n",
    "`nums2` has a length of n."
   ]
  },
  {
   "cell_type": "markdown",
   "metadata": {},
   "source": [
    "\n",
    "**Example 1**:\n",
    "> ```\n",
    "> Input: nums1 = [1,2,3,0,0,0], m = 3, nums2 = [2,5,6], n = 3\n",
    "> Output: [1,2,2,3,5,6]\n",
    "> ```\n",
    "\n",
    "Explanation:  \n",
    "The arrays we are merging are `[1,2,3]` and `[2,5,6]`.\n",
    "The result of the merge is `[1,2,2,3,5,6]` with the underlined elements coming from `nums1`.\n",
    "<br>\n",
    "<br>\n",
    "\n",
    "**Example 2**:\n",
    "> ```\n",
    "> Input: nums1 = [1], m = 1, nums2 = [], n = 0\n",
    "> Output: [1]\n",
    "> ```\n",
    "\n",
    "Explanation:  \n",
    "The arrays we are merging are `[1]` and `[]`.\n",
    "The result of the merge is `[1]`.\n",
    "<br>\n",
    "<br>\n",
    "\n",
    "**Example 2**:\n",
    "> ```\n",
    "> Input: nums1 = [0], m = 0, nums2 = [1], n = 1\n",
    "> Output: [1]\n",
    "> ```\n",
    "\n",
    "Explanation:  \n",
    "The arrays we are merging are `[]` and `[1]`.   \n",
    "The result of the merge is `[1]`.   \n",
    "Note that because `m = 0`, there are no elements in `nums1`.    \n",
    "The `0` is only there to ensure the merge result can fit in `nums1`.\n",
    "\n"
   ]
  },
  {
   "cell_type": "markdown",
   "metadata": {},
   "source": [
    "Constraints:\n",
    "- `nums1.length == m + n`\n",
    "- `nums2.length == n`\n",
    "- `0 <= m, n <= 200`\n",
    "- `1 <= m + n <= 200`\n",
    "- `-109 <= nums1[i], nums2[j] <= 109`"
   ]
  },
  {
   "cell_type": "markdown",
   "metadata": {},
   "source": [
    "<br>"
   ]
  },
  {
   "cell_type": "markdown",
   "metadata": {},
   "source": [
    "### One Pass, Three Pointers"
   ]
  },
  {
   "cell_type": "markdown",
   "metadata": {
    "dotnet_interactive": {
     "language": "csharp"
    }
   },
   "source": [
    "##### Psuedo"
   ]
  },
  {
   "cell_type": "markdown",
   "metadata": {},
   "source": [
    "```\n",
    "Set up a Pointer, P1, at the last Non-Zero valued element in the nums1 array located at index m - 1\n",
    "Set up a Pointer, P2, at the end of the nums2 array located at index n - 1\n",
    "\n",
    "Iterating BACKWARDS from a Pointer, P_,  set at the END of the nums1 array (located at index m + n - 1), to the BEGINNING of the nums1 array: \n",
    "   \n",
    "    If P2 moves past the first index of the nums2 array:\n",
    "        Exit\n",
    "    \n",
    "    otherwise,\n",
    "\n",
    "    If P1 hasn't moved past the first index   AND    The value at P1 is larger than the value at P2\n",
    "        Clobber the value at the current index with the value at P1\n",
    "        Move P1 back one position in the nums1 array\n",
    "\n",
    "    Else\n",
    "        Clobber the value at the current index with the value at P2\n",
    "        Move P2 back one position in the nums2 array\n",
    "```\n",
    "    \n"
   ]
  },
  {
   "cell_type": "markdown",
   "metadata": {},
   "source": [
    "<br>"
   ]
  },
  {
   "cell_type": "markdown",
   "metadata": {},
   "source": [
    "#### Implementation"
   ]
  },
  {
   "cell_type": "code",
   "execution_count": null,
   "metadata": {
    "dotnet_interactive": {
     "language": "csharp"
    },
    "vscode": {
     "languageId": "dotnet-interactive.csharp"
    }
   },
   "outputs": [],
   "source": [
    "public void Merge( int[] nums1, int m, int[] nums2, int n ) {\n",
    "    \n",
    "    // Set up a Pointer, P1, at the last Non-Zero valued element in the nums1 array located at index m - 1\n",
    "    int P1 = m - 1;\n",
    "\n",
    "    // Set up a Pointer, P2, at the end of the nums2 array located at index n - 1\n",
    "    int P2 = n - 1;\n",
    "\n",
    "    // Iterating BACKWARDS from a Pointer, P_,  \n",
    "    // set at the END of the nums1 array (located at index m + n - 1), to the BEGINNING of the nums1 array:\n",
    "    for(int P_ = m + n - 1; P_ >= 0; P_--)\n",
    "    {\n",
    "\n",
    "        // If P2 moves past the first index:  Exit\n",
    "        if(P2 < 0) \n",
    "            break;\n",
    "    \n",
    "        \n",
    "        // If P1 hasn't moved past the first index   AND    The value at P1 is larger than the value at P2:\n",
    "        if( P1 >= 0 && nums1[P1] > nums2[P2] )\n",
    "\n",
    "            // Clobber the value at the current index with the value at P1\n",
    "            // Move P1 back one position in the nums1 array\n",
    "            nums1[ P_ ] = nums1[ P1-- ];\n",
    "            \n",
    "\n",
    "        else\n",
    "            //    otherwise, clobber the value at the current index with the value at P2\n",
    "            //    Move P2 back one position in the nums2 array\n",
    "            nums1[ P_ ] = nums2[ P2-- ];\n",
    "\n",
    "    }\n",
    "\n",
    "}"
   ]
  },
  {
   "cell_type": "code",
   "execution_count": null,
   "metadata": {
    "dotnet_interactive": {
     "language": "csharp"
    },
    "vscode": {
     "languageId": "dotnet-interactive.csharp"
    }
   },
   "outputs": [],
   "source": [
    "// test input\n",
    "public int [] nums1 = {1,2,3,0,0,0},\n",
    "              nums2 = {2,5,6};\n",
    "\n",
    "public int m = 3,\n",
    "           n = 3;"
   ]
  },
  {
   "cell_type": "code",
   "execution_count": null,
   "metadata": {
    "dotnet_interactive": {
     "language": "csharp"
    },
    "vscode": {
     "languageId": "dotnet-interactive.csharp"
    }
   },
   "outputs": [],
   "source": [
    "Merge(\n",
    "    nums1,\n",
    "    m,\n",
    "    nums2,\n",
    "    n\n",
    ");"
   ]
  },
  {
   "cell_type": "code",
   "execution_count": null,
   "metadata": {
    "dotnet_interactive": {
     "language": "csharp"
    },
    "vscode": {
     "languageId": "dotnet-interactive.csharp"
    }
   },
   "outputs": [
    {
     "data": {
      "text/html": [
       "<table><thead><tr><th><i>index</i></th><th>value</th></tr></thead><tbody><tr><td>0</td><td><div class=\"dni-plaintext\">1</div></td></tr><tr><td>1</td><td><div class=\"dni-plaintext\">2</div></td></tr><tr><td>2</td><td><div class=\"dni-plaintext\">2</div></td></tr><tr><td>3</td><td><div class=\"dni-plaintext\">3</div></td></tr><tr><td>4</td><td><div class=\"dni-plaintext\">5</div></td></tr><tr><td>5</td><td><div class=\"dni-plaintext\">6</div></td></tr></tbody></table>"
      ]
     },
     "metadata": {},
     "output_type": "display_data"
    }
   ],
   "source": [
    "nums1"
   ]
  },
  {
   "cell_type": "markdown",
   "metadata": {},
   "source": [
    "<br>"
   ]
  },
  {
   "cell_type": "markdown",
   "metadata": {},
   "source": [
    "#### Analysis"
   ]
  },
  {
   "cell_type": "markdown",
   "metadata": {},
   "source": [
    "##### **Time**"
   ]
  },
  {
   "cell_type": "markdown",
   "metadata": {},
   "source": [
    "Since we are `Iterating BACKWARDS from a Pointer, P_,  set at the END of the nums1 array (located at index m + n - 1), to the BEGINNING of the nums1 array`, we must always iterate `m + n` positions of the array.\n",
    "$$\\implies \\bf{\\Large{O(m+n)}}$$ "
   ]
  },
  {
   "cell_type": "markdown",
   "metadata": {},
   "source": [
    "---"
   ]
  },
  {
   "cell_type": "markdown",
   "metadata": {},
   "source": [
    "##### **Space**"
   ]
  },
  {
   "cell_type": "markdown",
   "metadata": {},
   "source": [
    "No auxiliary space was allocated in addition to the input array.\n",
    "$$\\implies \\bf{\\Large{O(1)}}$$"
   ]
  }
 ],
 "metadata": {
  "kernelspec": {
   "display_name": ".NET (C#)",
   "language": "C#",
   "name": ".net-csharp"
  },
  "language_info": {
   "file_extension": ".cs",
   "mimetype": "text/x-csharp",
   "name": "C#",
   "pygments_lexer": "csharp",
   "version": "9.0"
  },
  "orig_nbformat": 4
 },
 "nbformat": 4,
 "nbformat_minor": 2
}
