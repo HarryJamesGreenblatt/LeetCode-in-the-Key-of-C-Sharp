{
 "cells": [
  {
   "cell_type": "markdown",
   "metadata": {},
   "source": [
    "# Diagonal Traverse"
   ]
  },
  {
   "cell_type": "markdown",
   "metadata": {},
   "source": [
    "Given an `m x n` matrix `matrix`,    \n",
    "return an array of all the elements of the array in a *diagonal order*.\n",
    "\n"
   ]
  },
  {
   "cell_type": "markdown",
   "metadata": {},
   "source": [
    "**Example 1**:   \n",
    "![Picture Can Go Here](https://assets.leetcode.com/uploads/2021/04/10/diag1-grid.jpg)\n",
    "> ```\n",
    "> Input: mat = [[1,2,3],[4,5,6],[7,8,9]]\n",
    "> Output: [1,2,4,7,5,3,6,8,9]\n",
    "> ```\n",
    "\n",
    "<br>\n",
    "\n",
    "**Example 2**:   \n",
    "> ```\n",
    "> Input: mat = [[1,2],[3,4]]\n",
    "> Output: [1,2,3,4]\n",
    "> ```\n",
    "   \n",
    "<br>"
   ]
  },
  {
   "cell_type": "markdown",
   "metadata": {},
   "source": [
    "**Constraints**:\n",
    "\n",
    "- `m == mat.length`\n",
    "- `n == mat[i].length`\n",
    "- `1 <= m, n <= 104`\n",
    "- `1 <= m * n <= 104`\n",
    "- `-105 <= mat[i][j] <= 105`\n",
    "\n",
    "\n",
    "\n"
   ]
  },
  {
   "cell_type": "markdown",
   "metadata": {},
   "source": [
    "<br>"
   ]
  },
  {
   "cell_type": "markdown",
   "metadata": {},
   "source": [
    "### Simulation using Three Pointers"
   ]
  },
  {
   "cell_type": "markdown",
   "metadata": {},
   "source": [
    "##### Psuedo"
   ]
  },
  {
   "cell_type": "markdown",
   "metadata": {},
   "source": [
    "```\n",
    "In the case that we are given an empty or invalid input matrix,\n",
    "we should return an empty array\n",
    "\n",
    "\n",
    "Recall the coinstraints given by the problem description concerning variables M and N\n",
    "\n",
    "\n",
    "Observe that the required Array representation of the Diagonal Order\n",
    "will be a flattened interpretation of a Matrix containing M rows of N column values.\n",
    "As such, the Diagonal Order Array must accomodate M * N elements\n",
    "\n",
    "\n",
    "Observe the First Row and Last Row Indices of the array,\n",
    "along with the First Column and Last Column Indices of the array,\n",
    "in addition to the First and Last Diagonal Order Array indices\n",
    "\n",
    "\n",
    "Initialize pointers to track the Current Row Index \n",
    "along with the Current Column Index,\n",
    "in addition to a pointer to track the Current Diagonal Order Array Index\n",
    "\n",
    "\n",
    "Declare an integer to represent the Current Direction of travel\n",
    "\n",
    "\n",
    "Iterating While both the Current Row Index is still within bounds\n",
    "AND\n",
    "the Current Column Index is still within bounds:\n",
    "\n",
    "\n",
    "    Add the matrix Value at the Current Row and Current Column Indices \n",
    "    as the Value at the Current Diagonal Order Array Index\n",
    "\n",
    "\n",
    "    Move along in the current diagonal depending upon the current direction.\n",
    "    [CurrentRowIndex, CurrentColIndex] -> [CurrentRowIndex - 1, CurrentColIndex + 1] if going up \n",
    "    [CurrentRowIndex, CurrentColIndex] -> [CurrentRowIndex + 1, CurrentColIndex - 1] if going down.\n",
    "\n",
    "\n",
    "    Determine whether the next element is No Longer Within Bounds\n",
    "\n",
    "\n",
    "    If it was our determination that the next element is in fact No Longer Within Bounds:\n",
    "    \n",
    "        If the Current Direction is 1 and the diagonal is therefore moving \"upwards\"\n",
    "\n",
    "            If [CurrentRowIndex, CurrentColIndex + 1] is within bounds, \n",
    "            then it becomes the next head. \n",
    "            Otherwise, the element directly below\n",
    "            i.e. the element [CurrentRowIndex + 1, CurrentColIndex] becomes the next head\n",
    "\n",
    "        Conversely,\n",
    "        For a \"downwards\" travelling diagonal  \n",
    "        if [CurrentRowIndex + 1, CurrentColIndex] is within bounds, \n",
    "        then it becomes the next head. \n",
    "        Otherwise, the element directly below\n",
    "        i.e. the element [CurrentRowIndex, CurrentColIndex + 1] becomes the next head\n",
    "\n",
    "        We may now invert the Current Direction of travel for the next Diagonal pass\n",
    "\n",
    "\n",
    "    However,\n",
    "    had it been our determination that the next element is still within bounds:\n",
    "\n",
    "        Clobber the Current Row and Column's Indices with the Next Row and Column's Indices\n",
    "\n",
    "\n",
    "After all that,\n",
    "the resulting array represents\n",
    "represents the flattened Diagonal Order of the input Matrix\n",
    "as required\n",
    "```"
   ]
  },
  {
   "cell_type": "markdown",
   "metadata": {},
   "source": [
    "<br>"
   ]
  },
  {
   "cell_type": "markdown",
   "metadata": {},
   "source": [
    "#### Implementation"
   ]
  },
  {
   "cell_type": "code",
   "execution_count": 48,
   "metadata": {
    "dotnet_interactive": {
     "language": "csharp"
    },
    "vscode": {
     "languageId": "dotnet-interactive.csharp"
    }
   },
   "outputs": [],
   "source": [
    "public int[] FindDiagonalOrder(int[][] matrix) {\n",
    "\n",
    "    // In the case that we are given an empty or invalid input matrix,\n",
    "    // we should return an empty array\n",
    "    if( matrix.Length == 0 || matrix == null )\n",
    "        return new int[0];\n",
    "        \n",
    "\n",
    "    // Recall the coinstraints given by the problem description concerning variables M and N\n",
    "    int M = matrix.Length, \n",
    "        N = matrix[ 0 ].Length;\n",
    "\n",
    "\n",
    "    // Observe that the required Array representation of the Diagonal Order\n",
    "    // will be a flattened interpretation of a Matrix containing M rows of N column values.\n",
    "    // As such, the Diagonal Order Array must accomodate M * N elements \n",
    "    int[] DiagonalOrder = new int[ M * N ];\n",
    "\n",
    "\n",
    "    // Observe the First Row and Last Row Indices of the array,\n",
    "    // along with the First Column and Last Column Indices of the array,\n",
    "    // in addition to the First and Last Diagonal Order Array indices\n",
    "    int FirstRowIndex  =  0,\n",
    "        FirstColIndex  =  0,\n",
    "        FirstDiagIndex =  0,\n",
    "        LastRowIndex   =  M - 1,\n",
    "        LastColIndex   =  N - 1,\n",
    "        LastDiagIndex  = ( M * N ) - 1;\n",
    "\n",
    "\n",
    "    // Initialize pointers to track the Current Row Index \n",
    "    // along with the Current Column Index,\n",
    "    // in addition to a pointer to track the Current Diagonal Order Array Index\n",
    "    int CurrentRowIndex  =  FirstRowIndex,\n",
    "        CurrentColIndex  =  FirstColIndex,\n",
    "        CurrentDiagIndex =  FirstDiagIndex;\n",
    "\n",
    "\n",
    "    // Declare an integer to represent the Current Direction of travel\n",
    "    int CurrentDirection = 1;\n",
    "\n",
    "\n",
    "    // Iterating While both the Current Row Index is still within bounds\n",
    "    // AND\n",
    "    // the Current Column Index is still within bounds:\n",
    "    while( CurrentRowIndex <= LastRowIndex && CurrentColIndex <= LastColIndex )\n",
    "    {\n",
    "\n",
    "        // Add the matrix Value at the Current Row and Current Column Indices \n",
    "        // as the Value at the Current Diagonal Order Array Index\n",
    "        DiagonalOrder[ CurrentDiagIndex++ ] = matrix[ CurrentRowIndex ][ CurrentColIndex ];\n",
    "\n",
    "\n",
    "        // Move along in the current diagonal depending upon the current direction.\n",
    "        // [CurrentRowIndex, CurrentColIndex] -> [CurrentRowIndex - 1, CurrentColIndex + 1] if going up \n",
    "        // [CurrentRowIndex, CurrentColIndex] -> [CurrentRowIndex + 1, CurrentColIndex - 1] if going down.\n",
    "        int NextRowIndex = CurrentRowIndex + ( (CurrentDirection == 1) ? -1 : 1 );\n",
    "        int NextColIndex = CurrentColIndex + ( (CurrentDirection == 1) ?  1 : -1 );\n",
    "\n",
    "\n",
    "        // Determine whether the next element is No Longer Within Bounds\n",
    "        bool NoLongerWithinBounds = \n",
    "\n",
    "            NextRowIndex < FirstRowIndex \n",
    "            || \n",
    "            NextRowIndex > LastRowIndex \n",
    "            || \n",
    "            NextColIndex < FirstColIndex \n",
    "            || \n",
    "            NextColIndex > LastColIndex;\n",
    "\n",
    "\n",
    "        // If it was our determination that the next element is in fact No Longer Within Bounds: \n",
    "        if( NoLongerWithinBounds )\n",
    "        {\n",
    "\n",
    "            // If the Current Direction is 1 and the diagonal is therefore moving \"upwards\"\n",
    "            if( CurrentDirection == 1 )\n",
    "            {\n",
    "                \n",
    "                // If [CurrentRowIndex, CurrentColIndex + 1] is within bounds, \n",
    "                // then it becomes the next head. \n",
    "                // Otherwise, the element directly below\n",
    "                // i.e. the element [CurrentRowIndex + 1, CurrentColIndex] becomes the next head\n",
    "                CurrentRowIndex += ( (CurrentColIndex == LastColIndex) ? 1 : 0 );\n",
    "                CurrentColIndex += ( (CurrentColIndex < LastColIndex) ? 1 : 0 );\n",
    "\n",
    "            }\n",
    "\n",
    "\n",
    "            // Conversely,\n",
    "            // For a \"downwards\" travelling diagonal  \n",
    "            // if [CurrentRowIndex + 1, CurrentColIndex] is within bounds, \n",
    "            // then it becomes the next head. \n",
    "            // Otherwise, the element directly below\n",
    "            // i.e. the element [CurrentRowIndex, CurrentColIndex + 1] becomes the next head\n",
    "            else\n",
    "            {\n",
    "                CurrentColIndex += ( ( CurrentRowIndex == LastRowIndex ) ? 1 : 0 );\n",
    "                CurrentRowIndex += ( ( CurrentRowIndex < LastRowIndex ) ? 1 : 0 );\n",
    "            }\n",
    "\n",
    "\n",
    "            // We may now invert the Current Direction of travel for the next Diagonal pass\n",
    "            CurrentDirection = 1 - CurrentDirection;\n",
    "\n",
    "        }\n",
    "\n",
    "\n",
    "        // However,\n",
    "        // had it been our determination that the next element is still within bounds:\n",
    "        else\n",
    "        {\n",
    "            \n",
    "            // Clobber the Current Row and Column's Indices with the Next Row and Column's Indices\n",
    "            CurrentRowIndex = NextRowIndex;\n",
    "            CurrentColIndex = NextColIndex;\n",
    "\n",
    "        }\n",
    "\n",
    "    }\n",
    "\n",
    "\n",
    "    // After all that,\n",
    "    // the resulting array represents\n",
    "    // represents the flattened Diagonal Order of the input Matrix\n",
    "    // as required\n",
    "    return DiagonalOrder;\n",
    "\n",
    "}"
   ]
  },
  {
   "cell_type": "code",
   "execution_count": 45,
   "metadata": {
    "dotnet_interactive": {
     "language": "csharp"
    },
    "vscode": {
     "languageId": "dotnet-interactive.csharp"
    }
   },
   "outputs": [],
   "source": [
    "// test input\n",
    "public int[][] matrix =\n",
    "{\n",
    "    new int[] { 1 , 2 , 3 },\n",
    "    new int[] { 4 , 5 , 6 },\n",
    "    new int[] { 7 , 8 , 9 }\n",
    "}; "
   ]
  },
  {
   "cell_type": "code",
   "execution_count": 46,
   "metadata": {
    "dotnet_interactive": {
     "language": "csharp"
    },
    "vscode": {
     "languageId": "dotnet-interactive.csharp"
    }
   },
   "outputs": [
    {
     "data": {
      "text/html": [
       "<table><thead><tr><th><i>index</i></th><th>value</th></tr></thead><tbody><tr><td>0</td><td><div class=\"dni-plaintext\">[ 1, 2, 3 ]</div></td></tr><tr><td>1</td><td><div class=\"dni-plaintext\">[ 4, 5, 6 ]</div></td></tr><tr><td>2</td><td><div class=\"dni-plaintext\">[ 7, 8, 9 ]</div></td></tr></tbody></table>"
      ]
     },
     "metadata": {},
     "output_type": "display_data"
    }
   ],
   "source": [
    "matrix"
   ]
  },
  {
   "cell_type": "code",
   "execution_count": 49,
   "metadata": {
    "dotnet_interactive": {
     "language": "csharp"
    },
    "vscode": {
     "languageId": "dotnet-interactive.csharp"
    }
   },
   "outputs": [
    {
     "data": {
      "text/html": [
       "<table><thead><tr><th><i>index</i></th><th>value</th></tr></thead><tbody><tr><td>0</td><td><div class=\"dni-plaintext\">1</div></td></tr><tr><td>1</td><td><div class=\"dni-plaintext\">2</div></td></tr><tr><td>2</td><td><div class=\"dni-plaintext\">4</div></td></tr><tr><td>3</td><td><div class=\"dni-plaintext\">7</div></td></tr><tr><td>4</td><td><div class=\"dni-plaintext\">5</div></td></tr><tr><td>5</td><td><div class=\"dni-plaintext\">3</div></td></tr><tr><td>6</td><td><div class=\"dni-plaintext\">6</div></td></tr><tr><td>7</td><td><div class=\"dni-plaintext\">8</div></td></tr><tr><td>8</td><td><div class=\"dni-plaintext\">9</div></td></tr></tbody></table>"
      ]
     },
     "metadata": {},
     "output_type": "display_data"
    }
   ],
   "source": [
    "FindDiagonalOrder( matrix )"
   ]
  },
  {
   "cell_type": "markdown",
   "metadata": {},
   "source": [
    "<br>"
   ]
  },
  {
   "cell_type": "markdown",
   "metadata": {},
   "source": [
    "#### Analysis"
   ]
  },
  {
   "cell_type": "markdown",
   "metadata": {},
   "source": [
    "##### **Time** "
   ]
  },
  {
   "cell_type": "markdown",
   "metadata": {},
   "source": [
    "Since we are `Iterating While both the Current Row Index is still within bounds AND the Current Column Index is still within bounds,` we must visit every single Column Value along every single Row of the input `matrix`\n",
    "\n",
    "$$\\Large{\\bf{\\implies O(m \\times n)}}$$"
   ]
  },
  {
   "cell_type": "markdown",
   "metadata": {},
   "source": [
    "---"
   ]
  },
  {
   "cell_type": "markdown",
   "metadata": {},
   "source": [
    "##### **Space** "
   ]
  },
  {
   "cell_type": "markdown",
   "metadata": {},
   "source": [
    "As the problem requires the a one dimensional results array, it's allocation is not counted towards the overall space complexity of the solution.\n",
    "\n",
    "$$\\Large{\\bf{\\implies O(1)}}$$"
   ]
  }
 ],
 "metadata": {
  "kernelspec": {
   "display_name": ".NET (C#)",
   "language": "C#",
   "name": ".net-csharp"
  },
  "language_info": {
   "file_extension": ".cs",
   "mimetype": "text/x-csharp",
   "name": "C#",
   "pygments_lexer": "csharp",
   "version": "9.0"
  },
  "orig_nbformat": 4
 },
 "nbformat": 4,
 "nbformat_minor": 2
}
