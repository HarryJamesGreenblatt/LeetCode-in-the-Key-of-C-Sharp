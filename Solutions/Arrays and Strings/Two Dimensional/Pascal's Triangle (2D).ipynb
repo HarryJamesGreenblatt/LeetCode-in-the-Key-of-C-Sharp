{
 "cells": [
  {
   "cell_type": "markdown",
   "metadata": {},
   "source": [
    "# Pascal's Triangle"
   ]
  },
  {
   "cell_type": "markdown",
   "metadata": {},
   "source": [
    "Given an integer `numRows`, return the first `numRows` of **Pascal's triangle**.\n",
    "\n",
    "In Pascal's triangle, each number is the *sum of the two numbers directly above it* as shown:\n",
    "\n",
    "![nowayjose](https://upload.wikimedia.org/wikipedia/commons/0/0d/PascalTriangleAnimated2.gif)"
   ]
  },
  {
   "cell_type": "markdown",
   "metadata": {},
   "source": [
    "**Example 1**:    \n",
    "> ```\n",
    "> Input: numRows = 5\n",
    "> Output: [[1],[1,1],[1,2,1],[1,3,3,1],[1,4,6,4,1]]\n",
    "> ```\n",
    "\n",
    "<br>\n",
    "         \n",
    "**Example 2**:   \n",
    "> ```\n",
    "> Input: numRows = 1\n",
    "> Output: [[1]]\n",
    "> ```\n",
    "\n",
    "<br>"
   ]
  },
  {
   "cell_type": "markdown",
   "metadata": {},
   "source": [
    "**Constraints**:\n",
    "\n",
    "- `1 <= numRows <= 30`"
   ]
  },
  {
   "cell_type": "markdown",
   "metadata": {},
   "source": [
    "<br>"
   ]
  },
  {
   "cell_type": "markdown",
   "metadata": {},
   "source": [
    "### Brute Force"
   ]
  },
  {
   "cell_type": "markdown",
   "metadata": {},
   "source": [
    "##### Psuedo"
   ]
  },
  {
   "cell_type": "markdown",
   "metadata": {},
   "source": [
    "```\n",
    "In accordance with the problem's requirements, \n",
    "observe the final Pascals Triangle will be represented as a List of Integer Lists\n",
    "\n",
    "\n",
    "We may then allocate and initiallize the first row element of the Pascals Triangle to 1\n",
    "\n",
    "\n",
    "Iterating For every Current Row Index from 1 up through, but not including the\n",
    "specified Number of Rows:\n",
    "\n",
    "    Allocate space for a New List in the Current Row\n",
    "\n",
    "\n",
    "    Let the Previous Row be represented by the element of the Pascals Triangle\n",
    "    residing at the Current Row Index minus One.\n",
    "\n",
    "\n",
    "    Observe, by definition, that the First Value in the Row will always be One\n",
    "\n",
    "\n",
    "    Iterating For every Current Column Index from 1 up through, but not including the\n",
    "    Current Row Index:  \n",
    "\n",
    "        Add to the Current Row a new Pascals Triangle element\n",
    "        where each  Pascals Triangle element\n",
    "        (other than the first and last of each row)\n",
    "        represents the sum of the elements \n",
    "        above-and-to-the-left and above-and-to-the-right.\n",
    "\n",
    "\n",
    "    After all that,\n",
    "    The Current Row is nearly fully populated\n",
    "    But by definition, the Last Value in the Row will always be One \n",
    "\n",
    "\n",
    "    We may now add the Completed Row to the Pascals Triangle\n",
    "\n",
    "\n",
    "After all that,\n",
    "the Pascals Triangle is now a List of Integer Lists\n",
    "whose \"height\" is equivalent to the Number of Rows,\n",
    "as required\n",
    "```"
   ]
  },
  {
   "cell_type": "markdown",
   "metadata": {},
   "source": [
    "<br>"
   ]
  },
  {
   "cell_type": "markdown",
   "metadata": {},
   "source": [
    "#### Implementation"
   ]
  },
  {
   "cell_type": "code",
   "execution_count": 53,
   "metadata": {
    "dotnet_interactive": {
     "language": "csharp"
    },
    "vscode": {
     "languageId": "dotnet-interactive.csharp"
    }
   },
   "outputs": [],
   "source": [
    "public IList<IList<int>> Generate(int numRows) \n",
    "{\n",
    "\n",
    "    // In accordance with the problem's requirements, \n",
    "    // observe the final Pascals Triangle will be represented as a List of Integer Lists   \n",
    "    List<IList<int>> PascalsTriangle = new List<IList<int>>();\n",
    "\n",
    "\n",
    "    // We may then allocate and initiallize the first row element of the Pascals Triangle to 1\n",
    "    PascalsTriangle.Add( new List<int>(){ 1 } );\n",
    "\n",
    "\n",
    "    // Iterating For every Current Row Index from 1 up through, but not including the\n",
    "    // specified Number of Rows: \n",
    "    for( int CurrentRowIndex = 1; CurrentRowIndex < numRows; CurrentRowIndex++ )\n",
    "    {\n",
    "\n",
    "        // Allocate space for a New List in the Current Row\n",
    "        IList<int> CurrentRow  = new List<int>();\n",
    "\n",
    "\n",
    "        // Let the Previous Row be represented by the element of the Pascals Triangle\n",
    "        // residing at the Current Row Index minus One.\n",
    "        IList<int> PreviousRow = PascalsTriangle[ CurrentRowIndex - 1 ];\n",
    "\n",
    "\n",
    "        // Observe, by definition, that the First Value in the Row will always be One \n",
    "        CurrentRow.Add(1);\n",
    "        \n",
    "\n",
    "        // Iterating For every Current Column Index from 1 up through, but not including the\n",
    "        // Current Row Index: \n",
    "        for (int CurrentColIndex = 1; CurrentColIndex < CurrentRowIndex; CurrentColIndex++) \n",
    "        {\n",
    "\n",
    "            // Add to the Current Row a new Pascals Triangle element\n",
    "            // where each  Pascals Triangle element\n",
    "            // (other than the first and last of each row)\n",
    "            // represents the sum of the elements \n",
    "            // above-and-to-the-left and above-and-to-the-right.\n",
    "            CurrentRow.Add(\n",
    "                PreviousRow[ CurrentColIndex - 1 ] + PreviousRow[ CurrentColIndex ]\n",
    "            );\n",
    "\n",
    "        }\n",
    "\n",
    "\n",
    "        // After all that,\n",
    "        // The Current Row is nearly fully populated\n",
    "        // But by definition, the Last Value in the Row will always be One \n",
    "        CurrentRow.Add(1);\n",
    "\n",
    "\n",
    "        // We may now add the Completed Row to the Pascals Triangle\n",
    "        PascalsTriangle.Add( CurrentRow );\n",
    "\n",
    "    }\n",
    "\n",
    "\n",
    "    // After all that,\n",
    "    // the Pascals Triangle is now a List of Integer Lists\n",
    "    // whose \"height\" is equivalent to the Number of Rows,\n",
    "    // as required\n",
    "    return PascalsTriangle;\n",
    "\n",
    "}"
   ]
  },
  {
   "cell_type": "code",
   "execution_count": 55,
   "metadata": {
    "dotnet_interactive": {
     "language": "csharp"
    },
    "vscode": {
     "languageId": "dotnet-interactive.csharp"
    }
   },
   "outputs": [],
   "source": [
    "// test input\n",
    "public int numRows = 6;"
   ]
  },
  {
   "cell_type": "code",
   "execution_count": 56,
   "metadata": {
    "dotnet_interactive": {
     "language": "csharp"
    },
    "vscode": {
     "languageId": "dotnet-interactive.csharp"
    }
   },
   "outputs": [
    {
     "data": {
      "text/html": [
       "<table><thead><tr><th><i>index</i></th><th>value</th></tr></thead><tbody><tr><td>0</td><td><div class=\"dni-plaintext\">[ 1 ]</div></td></tr><tr><td>1</td><td><div class=\"dni-plaintext\">[ 1, 1 ]</div></td></tr><tr><td>2</td><td><div class=\"dni-plaintext\">[ 1, 2, 1 ]</div></td></tr><tr><td>3</td><td><div class=\"dni-plaintext\">[ 1, 3, 3, 1 ]</div></td></tr><tr><td>4</td><td><div class=\"dni-plaintext\">[ 1, 4, 6, 4, 1 ]</div></td></tr><tr><td>5</td><td><div class=\"dni-plaintext\">[ 1, 5, 10, 10, 5, 1 ]</div></td></tr></tbody></table>"
      ]
     },
     "metadata": {},
     "output_type": "display_data"
    }
   ],
   "source": [
    "Generate( numRows )"
   ]
  },
  {
   "cell_type": "markdown",
   "metadata": {},
   "source": [
    "<br>"
   ]
  },
  {
   "cell_type": "markdown",
   "metadata": {},
   "source": [
    "#### Analysis"
   ]
  },
  {
   "cell_type": "markdown",
   "metadata": {},
   "source": [
    "##### **Time** "
   ]
  },
  {
   "cell_type": "markdown",
   "metadata": {},
   "source": [
    "Since we are `Iterating For every Current Row Index from 1 up through, but not including the specified Number of Rows`, we must must always traverse the full length of `numRows`\n",
    "\n",
    "$$\\implies O(n)$$\n",
    "   \n",
    "$Subsequently$,   \n",
    "   \n",
    "Since we are, for every iteration above, additioanlly `Iterating For every Current Column Index from 1 up through, but not including the Current Row Index`, we may, at worse case, be required to traverse the full length of `numRows` at any given time\n",
    "\n",
    "$$\\Large{\\bf{\\implies O(n) * O(n) = O(n^2)}}$$\n"
   ]
  },
  {
   "cell_type": "markdown",
   "metadata": {},
   "source": [
    "---"
   ]
  },
  {
   "cell_type": "markdown",
   "metadata": {},
   "source": [
    "##### **Space** "
   ]
  },
  {
   "cell_type": "markdown",
   "metadata": {},
   "source": [
    "Since `In accordance with the problem's requirements` we `observe the final Pascals Triangle will be represented as a List of Integer Lists`, the space allocated for the List of Integer Lists does not count towards the overall space complexity"
   ]
  }
 ],
 "metadata": {
  "kernelspec": {
   "display_name": ".NET (C#)",
   "language": "C#",
   "name": ".net-csharp"
  },
  "language_info": {
   "file_extension": ".cs",
   "mimetype": "text/x-csharp",
   "name": "C#",
   "pygments_lexer": "csharp",
   "version": "9.0"
  },
  "orig_nbformat": 4
 },
 "nbformat": 4,
 "nbformat_minor": 2
}
