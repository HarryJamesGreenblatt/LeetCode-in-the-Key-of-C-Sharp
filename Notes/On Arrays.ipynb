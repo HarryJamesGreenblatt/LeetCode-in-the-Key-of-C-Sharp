{
 "cells": [
  {
   "cell_type": "markdown",
   "metadata": {
    "dotnet_interactive": {
     "language": "csharp"
    }
   },
   "source": [
    "# Notes On: $Arrays$"
   ]
  },
  {
   "cell_type": "markdown",
   "metadata": {},
   "source": [
    "## What Is an Array?"
   ]
  },
  {
   "cell_type": "markdown",
   "metadata": {},
   "source": [
    "> An `Array` is a *collection of items*.   \n",
    ">    \n",
    "> The items could be integers, strings, DVDs, games, books—anything really.   \n",
    "> The items are stored in **neighboring** (**contiguous**) memory locations.   \n",
    "> \n",
    "> Because they're stored together, checking through the entire collection of items is straightforward."
   ]
  },
  {
   "cell_type": "markdown",
   "metadata": {},
   "source": [
    "<br>"
   ]
  },
  {
   "cell_type": "markdown",
   "metadata": {},
   "source": [
    "## Creating an Array"
   ]
  },
  {
   "cell_type": "markdown",
   "metadata": {},
   "source": [
    "Say we define the the following *DVD Class*:"
   ]
  },
  {
   "cell_type": "code",
   "execution_count": 30,
   "metadata": {
    "dotnet_interactive": {
     "language": "csharp"
    },
    "vscode": {
     "languageId": "dotnet-interactive.csharp"
    }
   },
   "outputs": [],
   "source": [
    "public class DVD\n",
    "{\n",
    "    public string Name;\n",
    "    public int    ReleaseYear;\n",
    "    public string Director;\n",
    "\n",
    "    public DVD(string name, int releaseYear, string director)\n",
    "    {\n",
    "        this.Name        = name;\n",
    "        this.ReleaseYear = releaseYear;\n",
    "        this.Director    = director;\n",
    "    }\n",
    "\n",
    "    override public string  ToString()\n",
    "    {\n",
    "        return $\"{this.Name}, directed by {this.Director}, released {this.ReleaseYear}\";\n",
    "    }\n",
    "}"
   ]
  },
  {
   "cell_type": "markdown",
   "metadata": {},
   "source": [
    "<br>"
   ]
  },
  {
   "cell_type": "markdown",
   "metadata": {},
   "source": [
    "We can then create an `Array` to represent a **Collection of 15 DVDs**"
   ]
  },
  {
   "cell_type": "code",
   "execution_count": 31,
   "metadata": {
    "dotnet_interactive": {
     "language": "csharp"
    },
    "vscode": {
     "languageId": "dotnet-interactive.csharp"
    }
   },
   "outputs": [],
   "source": [
    "DVD[] dvdCollection = new DVD[15];"
   ]
  },
  {
   "cell_type": "markdown",
   "metadata": {},
   "source": [
    "<br>"
   ]
  },
  {
   "cell_type": "markdown",
   "metadata": {},
   "source": [
    "## Accessing Elements in Arrays"
   ]
  },
  {
   "cell_type": "markdown",
   "metadata": {},
   "source": [
    "> The two most primitive `Array` operations are *writing* elements into them, and *reading* elements from them.   \n",
    "> \n",
    "> All other `Array` operations are built on top of these two primitive operations."
   ]
  },
  {
   "cell_type": "markdown",
   "metadata": {},
   "source": [
    "<br>"
   ]
  },
  {
   "cell_type": "markdown",
   "metadata": {},
   "source": [
    "### Writing Items into an Array"
   ]
  },
  {
   "cell_type": "markdown",
   "metadata": {},
   "source": [
    "Let's say we defined the following *DVD Objects*:"
   ]
  },
  {
   "cell_type": "code",
   "execution_count": 35,
   "metadata": {
    "dotnet_interactive": {
     "language": "csharp"
    },
    "vscode": {
     "languageId": "dotnet-interactive.csharp"
    }
   },
   "outputs": [],
   "source": [
    "public DVD AvangersDVD    = new DVD(\"The Avengers\", 2012, \"Joss Whedon\");\n",
    "public DVD IncrediblesDVD = new DVD(\"The Incredibles\", 2004, \"Brad Bird\");\n",
    "public DVD FindingDoryDVD = new DVD(\"Finding Dory\", 2016, \"Andrew Stanton\");\n",
    "public DVD LionKingDVD    = new DVD(\"The Lion King\", 2019, \"Jon Favreau\");"
   ]
  },
  {
   "cell_type": "markdown",
   "metadata": {},
   "source": [
    "We may then store our new DVDs in the first 4 slots (index 0 - 3) of our \"DVD Collection\" `Array`"
   ]
  },
  {
   "cell_type": "code",
   "execution_count": 36,
   "metadata": {
    "dotnet_interactive": {
     "language": "csharp"
    },
    "vscode": {
     "languageId": "dotnet-interactive.csharp"
    }
   },
   "outputs": [],
   "source": [
    "dvdCollection[0] = AvangersDVD;\n",
    "dvdCollection[1] = IncrediblesDVD;\n",
    "dvdCollection[2] = FindingDoryDVD;\n",
    "dvdCollection[3] = LionKingDVD;"
   ]
  },
  {
   "cell_type": "code",
   "execution_count": 37,
   "metadata": {
    "dotnet_interactive": {
     "language": "csharp"
    },
    "vscode": {
     "languageId": "dotnet-interactive.csharp"
    }
   },
   "outputs": [
    {
     "data": {
      "text/html": [
       "<table><thead><tr><th><i>index</i></th><th>Name</th><th>value</th><th>ReleaseYear</th><th>Director</th></tr></thead><tbody><tr><td>0</td><td>The Avengers</td><td></td><td><div class=\"dni-plaintext\">2012</div></td><td>Joss Whedon</td></tr><tr><td>1</td><td>The Incredibles</td><td></td><td><div class=\"dni-plaintext\">2004</div></td><td>Brad Bird</td></tr><tr><td>2</td><td>Finding Dory</td><td></td><td><div class=\"dni-plaintext\">2016</div></td><td>Andrew Stanton</td></tr><tr><td>3</td><td>The Lion King</td><td></td><td><div class=\"dni-plaintext\">2019</div></td><td>Jon Favreau</td></tr><tr><td>4</td><td></td><td><div class=\"dni-plaintext\">&lt;null&gt;</div></td><td></td><td></td></tr><tr><td>5</td><td></td><td><div class=\"dni-plaintext\">&lt;null&gt;</div></td><td></td><td></td></tr><tr><td>6</td><td></td><td><div class=\"dni-plaintext\">&lt;null&gt;</div></td><td></td><td></td></tr><tr><td>7</td><td></td><td><div class=\"dni-plaintext\">&lt;null&gt;</div></td><td></td><td></td></tr><tr><td>8</td><td></td><td><div class=\"dni-plaintext\">&lt;null&gt;</div></td><td></td><td></td></tr><tr><td>9</td><td></td><td><div class=\"dni-plaintext\">&lt;null&gt;</div></td><td></td><td></td></tr><tr><td>10</td><td></td><td><div class=\"dni-plaintext\">&lt;null&gt;</div></td><td></td><td></td></tr><tr><td>11</td><td></td><td><div class=\"dni-plaintext\">&lt;null&gt;</div></td><td></td><td></td></tr><tr><td>12</td><td></td><td><div class=\"dni-plaintext\">&lt;null&gt;</div></td><td></td><td></td></tr><tr><td>13</td><td></td><td><div class=\"dni-plaintext\">&lt;null&gt;</div></td><td></td><td></td></tr><tr><td>14</td><td></td><td><div class=\"dni-plaintext\">&lt;null&gt;</div></td><td></td><td></td></tr></tbody></table>"
      ]
     },
     "metadata": {},
     "output_type": "display_data"
    }
   ],
   "source": [
    "dvdCollection"
   ]
  },
  {
   "cell_type": "markdown",
   "metadata": {},
   "source": [
    "### Writing Items into an Array"
   ]
  },
  {
   "cell_type": "markdown",
   "metadata": {},
   "source": [
    "## Array Insertions"
   ]
  },
  {
   "cell_type": "markdown",
   "metadata": {},
   "source": [
    "**Inserting** a new element into an Array can take many forms:\n",
    "\n",
    "- Inserting a new element at the *end* of the Array.\n",
    "- Inserting a new element at the *beginning* of the Array.\n",
    "- Inserting a new element at *any given index* inside the Array."
   ]
  },
  {
   "cell_type": "markdown",
   "metadata": {},
   "source": [
    "### Inserting at the End of an Array"
   ]
  }
 ],
 "metadata": {
  "kernelspec": {
   "display_name": ".NET (C#)",
   "language": "C#",
   "name": ".net-csharp"
  },
  "language_info": {
   "file_extension": ".cs",
   "mimetype": "text/x-csharp",
   "name": "C#",
   "pygments_lexer": "csharp",
   "version": "9.0"
  },
  "orig_nbformat": 4
 },
 "nbformat": 4,
 "nbformat_minor": 2
}
