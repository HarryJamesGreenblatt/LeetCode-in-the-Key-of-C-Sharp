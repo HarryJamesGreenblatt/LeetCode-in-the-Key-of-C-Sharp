{
 "cells": [
  {
   "cell_type": "markdown",
   "metadata": {
    "dotnet_interactive": {
     "language": "csharp"
    }
   },
   "source": [
    "# Notes On: $Arrays$"
   ]
  },
  {
   "cell_type": "markdown",
   "metadata": {},
   "source": [
    "## What Is an Array?"
   ]
  },
  {
   "cell_type": "markdown",
   "metadata": {},
   "source": [
    "> An `Array` is a *collection of items*.   \n",
    ">    \n",
    "> The items could be integers, strings, DVDs, games, books—anything really.   \n",
    "> The items are stored in **neighboring** (**contiguous**) memory locations.   \n",
    "> \n",
    "> Because they're stored together, checking through the entire collection of items is straightforward."
   ]
  },
  {
   "cell_type": "markdown",
   "metadata": {},
   "source": [
    "### Creating an Array"
   ]
  },
  {
   "cell_type": "markdown",
   "metadata": {},
   "source": [
    "Say we define the the following *DVD Class*:"
   ]
  },
  {
   "cell_type": "code",
   "execution_count": 41,
   "metadata": {
    "dotnet_interactive": {
     "language": "csharp"
    },
    "vscode": {
     "languageId": "dotnet-interactive.csharp"
    }
   },
   "outputs": [],
   "source": [
    "public class DVD\n",
    "{\n",
    "    public string Name;\n",
    "    public int    ReleaseYear;\n",
    "    public string Director;\n",
    "\n",
    "    public DVD(string name, int releaseYear, string director)\n",
    "    {\n",
    "        this.Name        = name;\n",
    "        this.ReleaseYear = releaseYear;\n",
    "        this.Director    = director;\n",
    "    }\n",
    "\n",
    "    override public string  ToString()\n",
    "    {\n",
    "        return $\"{this.Name}, directed by {this.Director}, released {this.ReleaseYear}\";\n",
    "    }\n",
    "}"
   ]
  },
  {
   "cell_type": "markdown",
   "metadata": {},
   "source": [
    "<br>"
   ]
  },
  {
   "cell_type": "markdown",
   "metadata": {},
   "source": [
    "We can then create an `Array` to represent a **Collection of 15 DVDs**"
   ]
  },
  {
   "cell_type": "code",
   "execution_count": 42,
   "metadata": {
    "dotnet_interactive": {
     "language": "csharp"
    },
    "vscode": {
     "languageId": "dotnet-interactive.csharp"
    }
   },
   "outputs": [],
   "source": [
    "DVD[] dvdCollection = new DVD[15];"
   ]
  },
  {
   "cell_type": "markdown",
   "metadata": {},
   "source": [
    "<br>"
   ]
  },
  {
   "cell_type": "markdown",
   "metadata": {},
   "source": [
    "## Accessing Elements in Arrays"
   ]
  },
  {
   "cell_type": "markdown",
   "metadata": {},
   "source": [
    "> The two most primitive `Array` operations are *writing* elements into them, and *reading* elements from them.   \n",
    "> \n",
    "> All other `Array` operations are built on top of these two primitive operations."
   ]
  },
  {
   "cell_type": "markdown",
   "metadata": {},
   "source": [
    "### Writing Items into an Array"
   ]
  },
  {
   "cell_type": "markdown",
   "metadata": {},
   "source": [
    "Let's say we defined the following *DVD Objects*:"
   ]
  },
  {
   "cell_type": "code",
   "execution_count": 43,
   "metadata": {
    "dotnet_interactive": {
     "language": "csharp"
    },
    "vscode": {
     "languageId": "dotnet-interactive.csharp"
    }
   },
   "outputs": [],
   "source": [
    "public DVD AvangersDVD    = new DVD(\"The Avengers\", 2012, \"Joss Whedon\");\n",
    "public DVD IncrediblesDVD = new DVD(\"The Incredibles\", 2004, \"Brad Bird\");\n",
    "public DVD FindingDoryDVD = new DVD(\"Finding Dory\", 2016, \"Andrew Stanton\");\n",
    "public DVD LionKingDVD    = new DVD(\"The Lion King\", 2019, \"Jon Favreau\");"
   ]
  },
  {
   "cell_type": "markdown",
   "metadata": {},
   "source": [
    "<br>"
   ]
  },
  {
   "cell_type": "markdown",
   "metadata": {},
   "source": [
    "We may then store our new DVDs in the first 4 slots (index 0 - 3) of our \"DVD Collection\" `Array`"
   ]
  },
  {
   "cell_type": "code",
   "execution_count": 44,
   "metadata": {
    "dotnet_interactive": {
     "language": "csharp"
    },
    "vscode": {
     "languageId": "dotnet-interactive.csharp"
    }
   },
   "outputs": [],
   "source": [
    "dvdCollection[0] = AvangersDVD;\n",
    "dvdCollection[1] = IncrediblesDVD;\n",
    "dvdCollection[2] = FindingDoryDVD;\n",
    "dvdCollection[3] = LionKingDVD;"
   ]
  },
  {
   "cell_type": "markdown",
   "metadata": {},
   "source": [
    "<br>"
   ]
  },
  {
   "cell_type": "markdown",
   "metadata": {},
   "source": [
    "### Reading Items from an Array with a Loop"
   ]
  },
  {
   "cell_type": "code",
   "execution_count": 64,
   "metadata": {
    "dotnet_interactive": {
     "language": "csharp"
    },
    "vscode": {
     "languageId": "dotnet-interactive.csharp"
    }
   },
   "outputs": [
    {
     "name": "stdout",
     "output_type": "stream",
     "text": [
      "The Avengers, directed by Joss Whedon, released 2012\r\n",
      "The Incredibles, directed by Brad Bird, released 2004\r\n",
      "Finding Dory, directed by Andrew Stanton, released 2016\r\n",
      "The Lion King, directed by Jon Favreau, released 2019\r\n"
     ]
    }
   ],
   "source": [
    "// Print descriptions for each DVD in the DVD Collectiion, ignoring any empty slots.\n",
    "\n",
    "foreach(DVD dvd in dvdCollection.Where(slot => slot != null))\n",
    "{\n",
    "    Console.WriteLine(dvd);\n",
    "}"
   ]
  },
  {
   "cell_type": "markdown",
   "metadata": {},
   "source": [
    "<br>"
   ]
  },
  {
   "cell_type": "markdown",
   "metadata": {},
   "source": [
    "## Capacity VS Length"
   ]
  },
  {
   "cell_type": "markdown",
   "metadata": {},
   "source": [
    "## Array Insertions"
   ]
  },
  {
   "cell_type": "markdown",
   "metadata": {},
   "source": [
    "**Inserting** a new element into an Array can take many forms:\n",
    "\n",
    "- Inserting a new element at the *end* of the Array.\n",
    "- Inserting a new element at the *beginning* of the Array.\n",
    "- Inserting a new element at *any given index* inside the Array."
   ]
  },
  {
   "cell_type": "markdown",
   "metadata": {},
   "source": [
    "### Inserting at the End of an Array"
   ]
  }
 ],
 "metadata": {
  "kernelspec": {
   "display_name": ".NET (C#)",
   "language": "C#",
   "name": ".net-csharp"
  },
  "language_info": {
   "file_extension": ".cs",
   "mimetype": "text/x-csharp",
   "name": "C#",
   "pygments_lexer": "csharp",
   "version": "9.0"
  },
  "orig_nbformat": 4
 },
 "nbformat": 4,
 "nbformat_minor": 2
}
