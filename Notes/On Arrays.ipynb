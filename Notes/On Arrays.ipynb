{
 "cells": [
  {
   "cell_type": "markdown",
   "metadata": {
    "dotnet_interactive": {
     "language": "csharp"
    }
   },
   "source": [
    "# Notes On: $Arrays$"
   ]
  },
  {
   "cell_type": "markdown",
   "metadata": {},
   "source": [
    "## What Is an Array? <a name = description></a>"
   ]
  },
  {
   "cell_type": "markdown",
   "metadata": {},
   "source": [
    "> An `Array` is a *collection of items*.   \n",
    ">    \n",
    "> The items could be integers, strings, DVDs, games, books—anything really.   \n",
    "> The items are stored in *neighboring (contiguous) memory locations*.   \n",
    "> \n",
    "> Because they're stored together, checking through the entire collection of items is straightforward."
   ]
  },
  {
   "cell_type": "markdown",
   "metadata": {},
   "source": [
    "### Creating an Array <a name = create></a>"
   ]
  },
  {
   "cell_type": "markdown",
   "metadata": {},
   "source": [
    "Say we define the the following *DVD Class*:"
   ]
  },
  {
   "cell_type": "code",
   "execution_count": 82,
   "metadata": {
    "dotnet_interactive": {
     "language": "csharp"
    },
    "vscode": {
     "languageId": "dotnet-interactive.csharp"
    }
   },
   "outputs": [],
   "source": [
    "public class DVD\n",
    "{\n",
    "    public string Name;\n",
    "    public int    ReleaseYear;\n",
    "    public string Director;\n",
    "\n",
    "    public DVD(string name, int releaseYear, string director)\n",
    "    {\n",
    "        this.Name        = name;\n",
    "        this.ReleaseYear = releaseYear;\n",
    "        this.Director    = director;\n",
    "    }\n",
    "\n",
    "    override public string  ToString()\n",
    "    {\n",
    "        return $\"{this.Name}, directed by {this.Director}, released {this.ReleaseYear}\";\n",
    "    }\n",
    "}"
   ]
  },
  {
   "cell_type": "markdown",
   "metadata": {},
   "source": [
    "<br>"
   ]
  },
  {
   "cell_type": "markdown",
   "metadata": {},
   "source": [
    "We can then create an `Array` to represent a **Collection of 15 DVDs**."
   ]
  },
  {
   "cell_type": "code",
   "execution_count": 83,
   "metadata": {
    "dotnet_interactive": {
     "language": "csharp"
    },
    "vscode": {
     "languageId": "dotnet-interactive.csharp"
    }
   },
   "outputs": [],
   "source": [
    "DVD[] dvdCollection = new DVD[15];"
   ]
  },
  {
   "cell_type": "markdown",
   "metadata": {},
   "source": [
    "<br>"
   ]
  },
  {
   "cell_type": "markdown",
   "metadata": {},
   "source": [
    "## Accessing Elements in Arrays"
   ]
  },
  {
   "cell_type": "markdown",
   "metadata": {},
   "source": [
    "> The two most primitive `Array` operations are *writing* elements into them, and *reading* elements from them.   \n",
    "> \n",
    "> All other `Array` operations are built on top of these two primitive operations."
   ]
  },
  {
   "cell_type": "markdown",
   "metadata": {},
   "source": [
    "### Writing Items into an Array"
   ]
  },
  {
   "cell_type": "markdown",
   "metadata": {},
   "source": [
    "Let's say we defined the following *DVD Objects*:"
   ]
  },
  {
   "cell_type": "code",
   "execution_count": 84,
   "metadata": {
    "dotnet_interactive": {
     "language": "csharp"
    },
    "vscode": {
     "languageId": "dotnet-interactive.csharp"
    }
   },
   "outputs": [],
   "source": [
    "public DVD AvangersDVD    = new DVD(\"The Avengers\", 2012, \"Joss Whedon\");\n",
    "public DVD IncrediblesDVD = new DVD(\"The Incredibles\", 2004, \"Brad Bird\");\n",
    "public DVD FindingDoryDVD = new DVD(\"Finding Dory\", 2016, \"Andrew Stanton\");\n",
    "public DVD LionKingDVD    = new DVD(\"The Lion King\", 2019, \"Jon Favreau\");"
   ]
  },
  {
   "cell_type": "markdown",
   "metadata": {},
   "source": [
    "<br>"
   ]
  },
  {
   "cell_type": "markdown",
   "metadata": {},
   "source": [
    "We may then store our new DVDs in the first 4 slots (index 0 - 3) of our \"DVD Collection\" `Array`."
   ]
  },
  {
   "cell_type": "code",
   "execution_count": 85,
   "metadata": {
    "dotnet_interactive": {
     "language": "csharp"
    },
    "vscode": {
     "languageId": "dotnet-interactive.csharp"
    }
   },
   "outputs": [],
   "source": [
    "dvdCollection[0] = AvangersDVD;\n",
    "dvdCollection[1] = IncrediblesDVD;\n",
    "dvdCollection[2] = FindingDoryDVD;\n",
    "dvdCollection[3] = LionKingDVD;"
   ]
  },
  {
   "cell_type": "markdown",
   "metadata": {},
   "source": [
    "<br>"
   ]
  },
  {
   "cell_type": "markdown",
   "metadata": {},
   "source": [
    "### Reading Items from an Array with a Loop"
   ]
  },
  {
   "cell_type": "code",
   "execution_count": 86,
   "metadata": {
    "dotnet_interactive": {
     "language": "csharp"
    },
    "vscode": {
     "languageId": "dotnet-interactive.csharp"
    }
   },
   "outputs": [
    {
     "name": "stdout",
     "output_type": "stream",
     "text": [
      "The Avengers, directed by Joss Whedon, released 2012\r\n",
      "The Incredibles, directed by Brad Bird, released 2004\r\n",
      "Finding Dory, directed by Andrew Stanton, released 2016\r\n",
      "The Lion King, directed by Jon Favreau, released 2019\r\n"
     ]
    }
   ],
   "source": [
    "// Print descriptions for each DVD in the DVD Collectiion, ignoring any empty slots.\n",
    "\n",
    "foreach(DVD dvd in dvdCollection.Where(slot => slot != null))\n",
    "{\n",
    "    Console.WriteLine(dvd);\n",
    "}"
   ]
  },
  {
   "cell_type": "markdown",
   "metadata": {},
   "source": [
    "<br>"
   ]
  },
  {
   "cell_type": "markdown",
   "metadata": {},
   "source": [
    "## Capacity VS Length"
   ]
  },
  {
   "cell_type": "markdown",
   "metadata": {},
   "source": [
    "> If somebody asks you **how long** the \"DVD Collection\" `Array` is, what would your answer be?\n",
    "> \n",
    "> There are two different answers you might have given.\n",
    "> \n",
    "> 1. The *number of DVDs the box could hold*, if it was full, or\n",
    "> 2. The *number of DVDs currently in the box*.\n",
    "> \n",
    "> We call the first one the ***capacity*** of the `Array`, and the second one the ***length*** of the `Array`."
   ]
  },
  {
   "cell_type": "markdown",
   "metadata": {},
   "source": [
    "### Array Capacity"
   ]
  },
  {
   "cell_type": "markdown",
   "metadata": {},
   "source": [
    "Recall, we defined our DVD Collection `Array` with *15 slots*:"
   ]
  },
  {
   "cell_type": "code",
   "execution_count": 87,
   "metadata": {
    "dotnet_interactive": {
     "language": "csharp"
    },
    "vscode": {
     "languageId": "dotnet-interactive.csharp"
    }
   },
   "outputs": [
    {
     "data": {
      "text/html": [
       "<table><thead><tr><th><i>index</i></th><th>Name</th><th>value</th><th>ReleaseYear</th><th>Director</th></tr></thead><tbody><tr><td>0</td><td>The Avengers</td><td></td><td><div class=\"dni-plaintext\">2012</div></td><td>Joss Whedon</td></tr><tr><td>1</td><td>The Incredibles</td><td></td><td><div class=\"dni-plaintext\">2004</div></td><td>Brad Bird</td></tr><tr><td>2</td><td>Finding Dory</td><td></td><td><div class=\"dni-plaintext\">2016</div></td><td>Andrew Stanton</td></tr><tr><td>3</td><td>The Lion King</td><td></td><td><div class=\"dni-plaintext\">2019</div></td><td>Jon Favreau</td></tr><tr><td>4</td><td></td><td><div class=\"dni-plaintext\">&lt;null&gt;</div></td><td></td><td></td></tr><tr><td>5</td><td></td><td><div class=\"dni-plaintext\">&lt;null&gt;</div></td><td></td><td></td></tr><tr><td>6</td><td></td><td><div class=\"dni-plaintext\">&lt;null&gt;</div></td><td></td><td></td></tr><tr><td>7</td><td></td><td><div class=\"dni-plaintext\">&lt;null&gt;</div></td><td></td><td></td></tr><tr><td>8</td><td></td><td><div class=\"dni-plaintext\">&lt;null&gt;</div></td><td></td><td></td></tr><tr><td>9</td><td></td><td><div class=\"dni-plaintext\">&lt;null&gt;</div></td><td></td><td></td></tr><tr><td>10</td><td></td><td><div class=\"dni-plaintext\">&lt;null&gt;</div></td><td></td><td></td></tr><tr><td>11</td><td></td><td><div class=\"dni-plaintext\">&lt;null&gt;</div></td><td></td><td></td></tr><tr><td>12</td><td></td><td><div class=\"dni-plaintext\">&lt;null&gt;</div></td><td></td><td></td></tr><tr><td>13</td><td></td><td><div class=\"dni-plaintext\">&lt;null&gt;</div></td><td></td><td></td></tr><tr><td>14</td><td></td><td><div class=\"dni-plaintext\">&lt;null&gt;</div></td><td></td><td></td></tr></tbody></table>"
      ]
     },
     "metadata": {},
     "output_type": "display_data"
    }
   ],
   "source": [
    "dvdCollection"
   ]
  },
  {
   "cell_type": "markdown",
   "metadata": {},
   "source": [
    "<br>"
   ]
  },
  {
   "cell_type": "markdown",
   "metadata": {},
   "source": [
    "**Capacaity** is expressed by the `.Length` property of any given `Array`."
   ]
  },
  {
   "cell_type": "code",
   "execution_count": 88,
   "metadata": {
    "dotnet_interactive": {
     "language": "csharp"
    },
    "vscode": {
     "languageId": "dotnet-interactive.csharp"
    }
   },
   "outputs": [
    {
     "data": {
      "text/html": [
       "<div class=\"dni-plaintext\">15</div>"
      ]
     },
     "metadata": {},
     "output_type": "display_data"
    }
   ],
   "source": [
    "dvdCollection.Length"
   ]
  },
  {
   "cell_type": "markdown",
   "metadata": {},
   "source": [
    "<br>"
   ]
  },
  {
   "cell_type": "markdown",
   "metadata": {},
   "source": [
    "Consequently,   \n",
    "\n",
    "any attempt to assign a new DVD to a slot exceeding the **capacity** of the DVD Collection  will observe the following *error*: "
   ]
  },
  {
   "cell_type": "code",
   "execution_count": 89,
   "metadata": {
    "dotnet_interactive": {
     "language": "csharp"
    },
    "vscode": {
     "languageId": "dotnet-interactive.csharp"
    }
   },
   "outputs": [
    {
     "ename": "Error",
     "evalue": "System.IndexOutOfRangeException: Index was outside the bounds of the array.\r\n   at Submission#90.<<Initialize>>d__0.MoveNext()\r\n--- End of stack trace from previous location ---\r\n   at Microsoft.CodeAnalysis.Scripting.ScriptExecutionState.RunSubmissionsAsync[TResult](ImmutableArray`1 precedingExecutors, Func`2 currentExecutor, StrongBox`1 exceptionHolderOpt, Func`2 catchExceptionOpt, CancellationToken cancellationToken)",
     "output_type": "error",
     "traceback": [
      "System.IndexOutOfRangeException: Index was outside the bounds of the array.\r\n",
      "   at Submission#90.<<Initialize>>d__0.MoveNext()\r\n",
      "--- End of stack trace from previous location ---\r\n",
      "   at Microsoft.CodeAnalysis.Scripting.ScriptExecutionState.RunSubmissionsAsync[TResult](ImmutableArray`1 precedingExecutors, Func`2 currentExecutor, StrongBox`1 exceptionHolderOpt, Func`2 catchExceptionOpt, CancellationToken cancellationToken)"
     ]
    }
   ],
   "source": [
    "dvdCollection[16] = new DVD(\"Star Wars\", 1977, \"George Lucas\");"
   ]
  },
  {
   "cell_type": "markdown",
   "metadata": {},
   "source": [
    "<br>"
   ]
  },
  {
   "cell_type": "markdown",
   "metadata": {},
   "source": [
    "### Array Length"
   ]
  },
  {
   "cell_type": "markdown",
   "metadata": {},
   "source": [
    "The **Length** of the \"DVD Collection\" `Array`, refers to how many DVDs are actually in the collection,   \n",
    "rather than to how many *slots* are in the collection.   \n",
    "   \n",
    "It cannot be derived from a built-in property.   \n",
    "It must instead be derived *manually*.   \n",
    "   \n",
    "Two possible methods to accomplish this are:\n",
    "1. Keeping track of a custom **length** variable.\n",
    "2. Filtering out the unoccuppied (`null`) slots in the \"DVD Collection\"."
   ]
  },
  {
   "cell_type": "markdown",
   "metadata": {},
   "source": [
    "<br>"
   ]
  },
  {
   "cell_type": "markdown",
   "metadata": {},
   "source": [
    "#### Keeping track of a custom **length** variable."
   ]
  },
  {
   "cell_type": "markdown",
   "metadata": {},
   "source": [
    "Since we neglected to do this for our current \"DVD Collection\",   \n",
    "\n",
    "Let's say we ran out to the store and got a new \"DVD Collection\", the same **capacity** and all, only this time with *number labels* to help keep track of the **length**: "
   ]
  },
  {
   "cell_type": "code",
   "execution_count": 90,
   "metadata": {
    "dotnet_interactive": {
     "language": "csharp"
    },
    "vscode": {
     "languageId": "dotnet-interactive.csharp"
    }
   },
   "outputs": [],
   "source": [
    "public DVD[] Numbered_DVDCollection = new DVD[ dvdCollection.Length ];\n",
    "public int   length                 = 0;"
   ]
  },
  {
   "cell_type": "markdown",
   "metadata": {},
   "source": [
    "<br>"
   ]
  },
  {
   "cell_type": "markdown",
   "metadata": {},
   "source": [
    "Now let's transfer the DVDs in our Old Collection to our new \"Numbered DVD Collection\":"
   ]
  },
  {
   "cell_type": "code",
   "execution_count": 91,
   "metadata": {
    "dotnet_interactive": {
     "language": "csharp"
    },
    "vscode": {
     "languageId": "dotnet-interactive.csharp"
    }
   },
   "outputs": [],
   "source": [
    "for(int slot = 0; slot < dvdCollection.Length; slot++)\n",
    "{\n",
    "    if (dvdCollection[slot] != null)\n",
    "    {\n",
    "        Numbered_DVDCollection[slot] = dvdCollection[slot];\n",
    "        length++;\n",
    "    }\n",
    "}"
   ]
  },
  {
   "cell_type": "markdown",
   "metadata": {},
   "source": [
    "<br>"
   ]
  },
  {
   "cell_type": "markdown",
   "metadata": {},
   "source": [
    "We can now see from our custom `length` variable that we have *4 DVDs* in our \"Numbered DVD Collection\" `Array`."
   ]
  },
  {
   "cell_type": "code",
   "execution_count": 92,
   "metadata": {
    "dotnet_interactive": {
     "language": "csharp"
    },
    "vscode": {
     "languageId": "dotnet-interactive.csharp"
    }
   },
   "outputs": [
    {
     "data": {
      "text/html": [
       "<div class=\"dni-plaintext\">4</div>"
      ]
     },
     "metadata": {},
     "output_type": "display_data"
    }
   ],
   "source": [
    "length"
   ]
  },
  {
   "cell_type": "markdown",
   "metadata": {},
   "source": [
    "<br>"
   ]
  },
  {
   "cell_type": "markdown",
   "metadata": {},
   "source": [
    "#### Filtering out the unoccuppied (`null`) slots in the \"DVD Collection\"."
   ]
  },
  {
   "cell_type": "code",
   "execution_count": 94,
   "metadata": {
    "dotnet_interactive": {
     "language": "csharp"
    },
    "vscode": {
     "languageId": "dotnet-interactive.csharp"
    }
   },
   "outputs": [
    {
     "data": {
      "text/html": [
       "<div class=\"dni-plaintext\">4</div>"
      ]
     },
     "metadata": {},
     "output_type": "display_data"
    }
   ],
   "source": [
    "// Using LINQ, we can skip the need to keep track of a custom variable,\n",
    "// enabling the use of a succinct one-liner which deconflicts the alternate meaning of the .Length property,\n",
    "// but at the added cost of leveraging O(n) Space Complexity,\n",
    "// since the following series of operations produces copies of of the source Array at each stage:\n",
    " \n",
    "Numbered_DVDCollection.Where( slot => slot != null ).ToArray().Length"
   ]
  },
  {
   "cell_type": "markdown",
   "metadata": {},
   "source": [
    "<br>"
   ]
  },
  {
   "cell_type": "markdown",
   "metadata": {},
   "source": [
    "## Array Insertions"
   ]
  },
  {
   "cell_type": "markdown",
   "metadata": {},
   "source": [
    "**Inserting** a new element into an Array can take many forms:\n",
    "\n",
    "- Inserting a new element at the *end* of the Array.\n",
    "- Inserting a new element at the *beginning* of the Array.\n",
    "- Inserting a new element at *any given index* inside the Array."
   ]
  },
  {
   "cell_type": "markdown",
   "metadata": {},
   "source": [
    "### Inserting at the End of an Array"
   ]
  }
 ],
 "metadata": {
  "kernelspec": {
   "display_name": ".NET (C#)",
   "language": "C#",
   "name": ".net-csharp"
  },
  "language_info": {
   "file_extension": ".cs",
   "mimetype": "text/x-csharp",
   "name": "C#",
   "pygments_lexer": "csharp",
   "version": "9.0"
  },
  "orig_nbformat": 4
 },
 "nbformat": 4,
 "nbformat_minor": 2
}
