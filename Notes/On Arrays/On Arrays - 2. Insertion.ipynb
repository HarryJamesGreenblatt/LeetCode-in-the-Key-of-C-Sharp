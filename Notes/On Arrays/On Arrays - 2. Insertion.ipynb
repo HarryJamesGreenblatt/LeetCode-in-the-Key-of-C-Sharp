{
 "cells": [
  {
   "cell_type": "markdown",
   "metadata": {
    "dotnet_interactive": {
     "language": "csharp"
    }
   },
   "source": [
    "# Notes On: $Arrays$   \n",
    "# *Insertion*"
   ]
  },
  {
   "cell_type": "markdown",
   "metadata": {},
   "source": [
    "<br>"
   ]
  },
  {
   "cell_type": "markdown",
   "metadata": {},
   "source": [
    "Suppose we define the following `Class` to represent an `Array` of *7 consecutive integers sorted in non-decreasing order*, along with properties which keep track of it's **capacity** and it's **length**, and a method to iteratively *Print it's Integer Values*, all in one convenient place: "
   ]
  },
  {
   "cell_type": "code",
   "execution_count": 35,
   "metadata": {
    "dotnet_interactive": {
     "language": "csharp"
    },
    "vscode": {
     "languageId": "dotnet-interactive.csharp"
    }
   },
   "outputs": [],
   "source": [
    "public class SortedConsecutiveIntegerArray\n",
    "{\n",
    "\n",
    "    public int[] IntegerArray = new int[8];\n",
    "    public int   capacity     = 0;\n",
    "    public int   length       = 0;\n",
    " \n",
    "\n",
    "    public SortedConsecutiveIntegerArray()\n",
    "    {\n",
    "        for(int i = 1; i < 8; i++ )\n",
    "        {\n",
    "            IntegerArray[i - 1] = i;\n",
    "            length++;\n",
    "        }\n",
    "\n",
    "        capacity = IntegerArray.Length;\n",
    "    }\n",
    "\n",
    "    \n",
    "    public void PrintIntegers()\n",
    "    {\n",
    "        foreach(int ConsecutiveInteger in IntegerArray )\n",
    "        {\n",
    "            if(ConsecutiveInteger > 0)\n",
    "                Console.WriteLine(ConsecutiveInteger);\n",
    "            \n",
    "            else    \n",
    "                Console.WriteLine(\"Empty Slot\");\n",
    "        }\n",
    "    }\n",
    "\n",
    "}"
   ]
  },
  {
   "cell_type": "markdown",
   "metadata": {},
   "source": [
    "<br>"
   ]
  },
  {
   "cell_type": "markdown",
   "metadata": {},
   "source": [
    "Once instantiated, a `SortedConsecutiveIntegerArray` Object will contain an **8 element** `Array` consisting of *7 consecutive integers* sorted in *non-decreasing order*, accompanied by an *Empty Slot* providing the space neccesary to *Insert A New Element*."
   ]
  },
  {
   "cell_type": "code",
   "execution_count": 36,
   "metadata": {
    "dotnet_interactive": {
     "language": "csharp"
    },
    "vscode": {
     "languageId": "dotnet-interactive.csharp"
    }
   },
   "outputs": [
    {
     "data": {
      "text/html": [
       "<table><thead><tr><th>IntegerArray</th><th>capacity</th><th>length</th></tr></thead><tbody><tr><td><div class=\"dni-plaintext\">[ 1, 2, 3, 4, 5, 6, 7, 0 ]</div></td><td><div class=\"dni-plaintext\">8</div></td><td><div class=\"dni-plaintext\">7</div></td></tr></tbody></table>"
      ]
     },
     "metadata": {},
     "output_type": "display_data"
    }
   ],
   "source": [
    "new SortedConsecutiveIntegerArray()"
   ]
  },
  {
   "cell_type": "markdown",
   "metadata": {},
   "source": [
    "<br>"
   ]
  },
  {
   "cell_type": "markdown",
   "metadata": {},
   "source": [
    "## Array Insertions"
   ]
  },
  {
   "cell_type": "markdown",
   "metadata": {},
   "source": [
    "> **Inserting** a new element into an `Array` can take many forms:\n",
    "> \n",
    "> - Inserting a new element at the *end* of the `Array`.\n",
    "> - Inserting a new element at the *beginning* of the `Array`.\n",
    "> - Inserting a new element at *any given index* inside the `Array`."
   ]
  },
  {
   "cell_type": "markdown",
   "metadata": {},
   "source": [
    "### Inserting at the End of an Array"
   ]
  },
  {
   "cell_type": "code",
   "execution_count": 37,
   "metadata": {
    "dotnet_interactive": {
     "language": "csharp"
    },
    "vscode": {
     "languageId": "dotnet-interactive.csharp"
    }
   },
   "outputs": [],
   "source": [
    "SortedConsecutiveIntegerArray InsertAtEndExample = new SortedConsecutiveIntegerArray(); "
   ]
  },
  {
   "cell_type": "code",
   "execution_count": 38,
   "metadata": {
    "dotnet_interactive": {
     "language": "csharp"
    },
    "vscode": {
     "languageId": "dotnet-interactive.csharp"
    }
   },
   "outputs": [
    {
     "name": "stdout",
     "output_type": "stream",
     "text": [
      "1\r\n",
      "2\r\n",
      "3\r\n",
      "4\r\n",
      "5\r\n",
      "6\r\n",
      "7\r\n",
      "Empty Slot\r\n"
     ]
    }
   ],
   "source": [
    "InsertAtEndExample.PrintIntegers();"
   ]
  },
  {
   "cell_type": "code",
   "execution_count": 39,
   "metadata": {
    "dotnet_interactive": {
     "language": "csharp"
    },
    "vscode": {
     "languageId": "dotnet-interactive.csharp"
    }
   },
   "outputs": [],
   "source": [
    "public int[] ConsecutiveIntegers = InsertAtEndExample.IntegerArray;\n",
    "\n",
    "public int length   = InsertAtEndExample.length;   \n",
    "public int capacity = InsertAtEndExample.capacity;   "
   ]
  },
  {
   "cell_type": "markdown",
   "metadata": {},
   "source": [
    "<br>"
   ]
  },
  {
   "cell_type": "markdown",
   "metadata": {},
   "source": [
    "All we need to do for *inserting an element at the end* is to assign the new element to one index *after* the current *last element*, whose *index value* that is already stored in our custom `length` variable.  \n",
    "\n",
    "Note that, following processing, we can then automatically *increment* the value stored in the `length` variable by using the `length++` *postfix syntax*:"
   ]
  },
  {
   "cell_type": "code",
   "execution_count": 40,
   "metadata": {
    "dotnet_interactive": {
     "language": "csharp"
    },
    "vscode": {
     "languageId": "dotnet-interactive.csharp"
    }
   },
   "outputs": [],
   "source": [
    "ConsecutiveIntegers[ length++ ] = 8;"
   ]
  },
  {
   "cell_type": "markdown",
   "metadata": {},
   "source": [
    "![ufukkedup](https://leetcode.com/explore/learn/card/fun-with-arrays/525/inserting-items-into-an-array/Figures/Array_Explore/Array_Insertion_1.png)"
   ]
  },
  {
   "cell_type": "code",
   "execution_count": 41,
   "metadata": {
    "dotnet_interactive": {
     "language": "csharp"
    },
    "vscode": {
     "languageId": "dotnet-interactive.csharp"
    }
   },
   "outputs": [
    {
     "data": {
      "text/html": [
       "<table><thead><tr><th><i>index</i></th><th>value</th></tr></thead><tbody><tr><td>0</td><td><div class=\"dni-plaintext\">1</div></td></tr><tr><td>1</td><td><div class=\"dni-plaintext\">2</div></td></tr><tr><td>2</td><td><div class=\"dni-plaintext\">3</div></td></tr><tr><td>3</td><td><div class=\"dni-plaintext\">4</div></td></tr><tr><td>4</td><td><div class=\"dni-plaintext\">5</div></td></tr><tr><td>5</td><td><div class=\"dni-plaintext\">6</div></td></tr><tr><td>6</td><td><div class=\"dni-plaintext\">7</div></td></tr><tr><td>7</td><td><div class=\"dni-plaintext\">8</div></td></tr></tbody></table>"
      ]
     },
     "metadata": {},
     "output_type": "display_data"
    }
   ],
   "source": [
    "ConsecutiveIntegers"
   ]
  },
  {
   "cell_type": "code",
   "execution_count": 42,
   "metadata": {
    "dotnet_interactive": {
     "language": "csharp"
    },
    "vscode": {
     "languageId": "dotnet-interactive.csharp"
    }
   },
   "outputs": [
    {
     "data": {
      "text/html": [
       "<div class=\"dni-plaintext\">8</div>"
      ]
     },
     "metadata": {},
     "output_type": "display_data"
    }
   ],
   "source": [
    "length"
   ]
  },
  {
   "cell_type": "markdown",
   "metadata": {},
   "source": [
    "<br>"
   ]
  },
  {
   "cell_type": "markdown",
   "metadata": {},
   "source": [
    "### Inserting at the Start of an Array"
   ]
  },
  {
   "cell_type": "code",
   "execution_count": 43,
   "metadata": {
    "dotnet_interactive": {
     "language": "csharp"
    },
    "vscode": {
     "languageId": "dotnet-interactive.csharp"
    }
   },
   "outputs": [],
   "source": [
    "SortedConsecutiveIntegerArray InsertAtStartExample = new SortedConsecutiveIntegerArray(); "
   ]
  },
  {
   "cell_type": "code",
   "execution_count": 44,
   "metadata": {
    "dotnet_interactive": {
     "language": "csharp"
    },
    "vscode": {
     "languageId": "dotnet-interactive.csharp"
    }
   },
   "outputs": [
    {
     "name": "stdout",
     "output_type": "stream",
     "text": [
      "1\r\n",
      "2\r\n",
      "3\r\n",
      "4\r\n",
      "5\r\n",
      "6\r\n",
      "7\r\n",
      "Empty Slot\r\n"
     ]
    }
   ],
   "source": [
    "InsertAtStartExample.PrintIntegers();"
   ]
  },
  {
   "cell_type": "code",
   "execution_count": 45,
   "metadata": {
    "dotnet_interactive": {
     "language": "csharp"
    },
    "vscode": {
     "languageId": "dotnet-interactive.csharp"
    }
   },
   "outputs": [],
   "source": [
    "public int[] ConsecutiveIntegers = InsertAtStartExample.IntegerArray;\n",
    "\n",
    "public int length   = InsertAtStartExample.length;   \n",
    "public int capacity = InsertAtStartExample.capacity;   "
   ]
  },
  {
   "cell_type": "markdown",
   "metadata": {},
   "source": [
    "<br>"
   ]
  },
  {
   "cell_type": "markdown",
   "metadata": {},
   "source": [
    "To insert an element at the **start** of an `Array`, we'll need to *shift* all other elements in the `Array` to the *right* by one index to create space for the new element.  \n",
    "\n",
    "The need to shift everything implies that the time taken for insertion at the beginning of an `Array` will be proportional to the length of the `Array`. \n",
    "\n",
    "In terms of time complexity analysis, this is a **linear** time complexity: \n",
    "\n",
    "$$O(n)$$    \n",
    "$$\\text{where n is the length of the Array}$$"
   ]
  },
  {
   "cell_type": "code",
   "execution_count": 46,
   "metadata": {
    "dotnet_interactive": {
     "language": "csharp"
    },
    "vscode": {
     "languageId": "dotnet-interactive.csharp"
    }
   },
   "outputs": [],
   "source": [
    "// initialize a 'pointer' to keep track of the 2nd to last index,\n",
    "// note that the last index is represesnted by (capapacity - 1) because of zero indexing,\n",
    "// meaning that the 2nd to last index is represented by (capacity - 1) - 1\n",
    "\n",
    "int SecondToLastIndex = (capacity - 1) - 1;"
   ]
  },
  {
   "cell_type": "code",
   "execution_count": 47,
   "metadata": {
    "dotnet_interactive": {
     "language": "csharp"
    },
    "vscode": {
     "languageId": "dotnet-interactive.csharp"
    }
   },
   "outputs": [],
   "source": [
    "// Walking back from the Second To Last Index to the Zeroth Index,\n",
    "// Copy each value over one 'cell' to the right.\n",
    "\n",
    "for(int i = SecondToLastIndex; i >= 0; i--)\n",
    "{\n",
    "    ConsecutiveIntegers[ i + 1 ] = ConsecutiveIntegers[ i ];\n",
    "}"
   ]
  },
  {
   "cell_type": "code",
   "execution_count": 48,
   "metadata": {
    "dotnet_interactive": {
     "language": "csharp"
    },
    "vscode": {
     "languageId": "dotnet-interactive.csharp"
    }
   },
   "outputs": [],
   "source": [
    "// Clobber the value at the Start of the Array with the desired value to Insert\n",
    "\n",
    "ConsecutiveIntegers[0] = 8;"
   ]
  },
  {
   "cell_type": "code",
   "execution_count": 49,
   "metadata": {
    "dotnet_interactive": {
     "language": "csharp"
    },
    "vscode": {
     "languageId": "dotnet-interactive.csharp"
    }
   },
   "outputs": [],
   "source": [
    "// Increment the custom length variable to account for the newly inserted element\n",
    "\n",
    "length++;"
   ]
  },
  {
   "cell_type": "markdown",
   "metadata": {},
   "source": [
    "![ufukkedup](https://leetcode.com/explore/learn/card/fun-with-arrays/525/inserting-items-into-an-array/Figures/Array_Explore/Array_Insertion_2.png)"
   ]
  },
  {
   "cell_type": "code",
   "execution_count": 50,
   "metadata": {
    "dotnet_interactive": {
     "language": "csharp"
    },
    "vscode": {
     "languageId": "dotnet-interactive.csharp"
    }
   },
   "outputs": [
    {
     "data": {
      "text/html": [
       "<table><thead><tr><th><i>index</i></th><th>value</th></tr></thead><tbody><tr><td>0</td><td><div class=\"dni-plaintext\">8</div></td></tr><tr><td>1</td><td><div class=\"dni-plaintext\">1</div></td></tr><tr><td>2</td><td><div class=\"dni-plaintext\">2</div></td></tr><tr><td>3</td><td><div class=\"dni-plaintext\">3</div></td></tr><tr><td>4</td><td><div class=\"dni-plaintext\">4</div></td></tr><tr><td>5</td><td><div class=\"dni-plaintext\">5</div></td></tr><tr><td>6</td><td><div class=\"dni-plaintext\">6</div></td></tr><tr><td>7</td><td><div class=\"dni-plaintext\">7</div></td></tr></tbody></table>"
      ]
     },
     "metadata": {},
     "output_type": "display_data"
    }
   ],
   "source": [
    "ConsecutiveIntegers"
   ]
  },
  {
   "cell_type": "code",
   "execution_count": 51,
   "metadata": {
    "dotnet_interactive": {
     "language": "csharp"
    },
    "vscode": {
     "languageId": "dotnet-interactive.csharp"
    }
   },
   "outputs": [
    {
     "data": {
      "text/html": [
       "<div class=\"dni-plaintext\">8</div>"
      ]
     },
     "metadata": {},
     "output_type": "display_data"
    }
   ],
   "source": [
    "length"
   ]
  }
 ],
 "metadata": {
  "kernelspec": {
   "display_name": ".NET (C#)",
   "language": "C#",
   "name": ".net-csharp"
  },
  "language_info": {
   "file_extension": ".cs",
   "mimetype": "text/x-csharp",
   "name": "C#",
   "pygments_lexer": "csharp",
   "version": "9.0"
  },
  "orig_nbformat": 4,
  "vscode": {
   "interpreter": {
    "hash": "8e284ee3255a07ad8bf76694974743c4c81cb57e7c969474d752d949b11d721e"
   }
  }
 },
 "nbformat": 4,
 "nbformat_minor": 2
}
