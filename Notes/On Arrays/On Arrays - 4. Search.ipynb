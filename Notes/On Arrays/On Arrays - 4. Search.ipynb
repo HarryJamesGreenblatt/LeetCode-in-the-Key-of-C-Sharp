{
 "cells": [
  {
   "cell_type": "markdown",
   "metadata": {},
   "source": [
    "# Notes On: $Arrays$   \n",
    "# *Search*"
   ]
  },
  {
   "cell_type": "markdown",
   "metadata": {},
   "source": [
    "<br>"
   ]
  },
  {
   "cell_type": "markdown",
   "metadata": {},
   "source": [
    "Suppose we define the following `Class` to represent an `Array` of *8 consecutive integers sorted in non-decreasing order*, along with properties which keep track of it's **capacity** and it's **length**, and a method to iteratively *Print it's Integer Values*, all in one convenient place: "
   ]
  },
  {
   "cell_type": "code",
   "execution_count": 63,
   "metadata": {
    "dotnet_interactive": {
     "language": "csharp"
    },
    "vscode": {
     "languageId": "dotnet-interactive.csharp"
    }
   },
   "outputs": [],
   "source": [
    "public class SortedConsecutiveIntegerArray\n",
    "{\n",
    "\n",
    "    public int[] IntegerArray = new int[8];\n",
    "    public int   capacity     = 0;\n",
    "    public int   length       = 0;\n",
    " \n",
    "\n",
    "    public SortedConsecutiveIntegerArray()\n",
    "    {\n",
    "        for(int i = 1; i <= IntegerArray.Length; i++ )\n",
    "        {\n",
    "            IntegerArray[i - 1] = i;\n",
    "            length++;\n",
    "        }\n",
    "\n",
    "        capacity = IntegerArray.Length;\n",
    "    }\n",
    "\n",
    "    \n",
    "    public void PrintIntegers()\n",
    "    {\n",
    "        foreach(int ConsecutiveInteger in IntegerArray )\n",
    "        {\n",
    "            if(ConsecutiveInteger > 0)\n",
    "                Console.WriteLine(ConsecutiveInteger);\n",
    "            \n",
    "            else    \n",
    "                Console.WriteLine(\"Empty Slot\");\n",
    "        }\n",
    "    }\n",
    "\n",
    "}"
   ]
  },
  {
   "cell_type": "markdown",
   "metadata": {},
   "source": [
    "<br>"
   ]
  },
  {
   "cell_type": "markdown",
   "metadata": {},
   "source": [
    "Once instantiated, a `SortedConsecutiveIntegerArray` Object will contain an **8 element** `Array` consisting of *8 consecutive integers* sorted in *non-decreasing order*."
   ]
  },
  {
   "cell_type": "code",
   "execution_count": 64,
   "metadata": {
    "dotnet_interactive": {
     "language": "csharp"
    },
    "vscode": {
     "languageId": "dotnet-interactive.csharp"
    }
   },
   "outputs": [
    {
     "data": {
      "text/html": [
       "<table><thead><tr><th>IntegerArray</th><th>capacity</th><th>length</th></tr></thead><tbody><tr><td><div class=\"dni-plaintext\">[ 1, 2, 3, 4, 5, 6, 7, 8 ]</div></td><td><div class=\"dni-plaintext\">8</div></td><td><div class=\"dni-plaintext\">8</div></td></tr></tbody></table>"
      ]
     },
     "metadata": {},
     "output_type": "display_data"
    }
   ],
   "source": [
    "new SortedConsecutiveIntegerArray()"
   ]
  },
  {
   "cell_type": "markdown",
   "metadata": {},
   "source": [
    "<br>"
   ]
  },
  {
   "cell_type": "markdown",
   "metadata": {},
   "source": [
    "## Search in an Array"
   ]
  },
  {
   "cell_type": "markdown",
   "metadata": {},
   "source": [
    "> **Searching** means to find an occurrence of a particular element in the `Array` and return its *position*.    \n",
    "> \n",
    "> We might need to search an `Array` to find out whether or not an element is present in the `Array`.   \n",
    ">    \n",
    "> We might also want to search an `Array` that is arranged in a specific fashion in order to determine at which index to insert a new element.\n",
    ">\n",
    "> There's 2 Primary Methods for Search in an Array:\n",
    "> 1. Linear Search\n",
    "> 2. Binary Search"
   ]
  },
  {
   "cell_type": "markdown",
   "metadata": {},
   "source": [
    "### Linear Search"
   ]
  },
  {
   "cell_type": "code",
   "execution_count": 65,
   "metadata": {
    "dotnet_interactive": {
     "language": "csharp"
    },
    "vscode": {
     "languageId": "dotnet-interactive.csharp"
    }
   },
   "outputs": [],
   "source": [
    "SortedConsecutiveIntegerArray LinearSearchExample = new SortedConsecutiveIntegerArray(); "
   ]
  },
  {
   "cell_type": "code",
   "execution_count": 66,
   "metadata": {
    "dotnet_interactive": {
     "language": "csharp"
    },
    "vscode": {
     "languageId": "dotnet-interactive.csharp"
    }
   },
   "outputs": [],
   "source": [
    "public int[] ConsecutiveIntegers = LinearSearchExample.IntegerArray;"
   ]
  },
  {
   "cell_type": "code",
   "execution_count": 68,
   "metadata": {
    "dotnet_interactive": {
     "language": "csharp"
    },
    "vscode": {
     "languageId": "dotnet-interactive.csharp"
    }
   },
   "outputs": [],
   "source": [
    "public int length   = LinearSearchExample.length;   \n",
    "public int capacity = LinearSearchExample.capacity;   "
   ]
  },
  {
   "cell_type": "code",
   "execution_count": 67,
   "metadata": {
    "dotnet_interactive": {
     "language": "csharp"
    },
    "vscode": {
     "languageId": "dotnet-interactive.csharp"
    }
   },
   "outputs": [
    {
     "data": {
      "text/html": [
       "<table><thead><tr><th><i>index</i></th><th>value</th></tr></thead><tbody><tr><td>0</td><td><div class=\"dni-plaintext\">1</div></td></tr><tr><td>1</td><td><div class=\"dni-plaintext\">2</div></td></tr><tr><td>2</td><td><div class=\"dni-plaintext\">3</div></td></tr><tr><td>3</td><td><div class=\"dni-plaintext\">4</div></td></tr><tr><td>4</td><td><div class=\"dni-plaintext\">5</div></td></tr><tr><td>5</td><td><div class=\"dni-plaintext\">6</div></td></tr><tr><td>6</td><td><div class=\"dni-plaintext\">7</div></td></tr><tr><td>7</td><td><div class=\"dni-plaintext\">8</div></td></tr></tbody></table>"
      ]
     },
     "metadata": {},
     "output_type": "display_data"
    }
   ],
   "source": [
    "ConsecutiveIntegers"
   ]
  },
  {
   "cell_type": "code",
   "execution_count": 69,
   "metadata": {
    "dotnet_interactive": {
     "language": "csharp"
    },
    "vscode": {
     "languageId": "dotnet-interactive.csharp"
    }
   },
   "outputs": [
    {
     "data": {
      "text/html": [
       "<div class=\"dni-plaintext\">8</div>"
      ]
     },
     "metadata": {},
     "output_type": "display_data"
    }
   ],
   "source": [
    "length"
   ]
  },
  {
   "cell_type": "markdown",
   "metadata": {},
   "source": [
    "<br>"
   ]
  },
  {
   "cell_type": "markdown",
   "metadata": {},
   "source": [
    "If the index is not known, which is the case most of the time, then we can check every element in the `Array`.   \n",
    "     \n",
    "We continue checking elements until we find the element we're looking for, or we reach the end of the `Array`. This technique for finding an element by checking through all elements one by one is known as the **linear search** algorithm. \n",
    "    \n",
    "In the worst case, a linear search ends up checking the entire `Array`.   \n",
    "Therefore, the time complexity for a linear search is $O(n)$."
   ]
  },
  {
   "cell_type": "code",
   "execution_count": 70,
   "metadata": {
    "dotnet_interactive": {
     "language": "csharp"
    },
    "vscode": {
     "languageId": "dotnet-interactive.csharp"
    }
   },
   "outputs": [],
   "source": [
    "public static bool LinearSearch( int[] ArrayToSearch, int ArrayLength, int ValueToFind )\n",
    "{\n",
    "\n",
    "    // Check for the edge cases where the  Array To Search  is  Invalid  OR  Empty\n",
    "    // Upon any such condition, we indicate a  false  result.  \n",
    "    if( ArrayToSearch == null || ArrayLength == 0 )\n",
    "        return false;\n",
    "\n",
    "\n",
    "    // Iterating through every  Non-Zero/Non-Empty  element in the Array TO Search:\n",
    "    for( int CurrentIndex = 0; CurrentIndex < ArrayLength; CurrentIndex++)\n",
    "    {\n",
    "\n",
    "        // Should it be discovered that the Value stored at the Current Index\n",
    "        // is equal to the specified Value To Find, we indicate a  true  result.\n",
    "        if( ArrayToSearch[ CurrentIndex ] == ValueToFind )\n",
    "            return true;\n",
    "\n",
    "    }\n",
    "\n",
    "\n",
    "    // After all that,\n",
    "    // We can now reasonable assume that the Value To Find was NOT found,\n",
    "    // enabling us to indicate a  false  result\n",
    "    return false; \n",
    "\n",
    "}"
   ]
  },
  {
   "cell_type": "markdown",
   "metadata": {},
   "source": [
    "<br>"
   ]
  },
  {
   "cell_type": "markdown",
   "metadata": {},
   "source": [
    "Let's say we wanted to check if the value `7` can be found in our `Array` of `ConsecutiveIntegers`"
   ]
  },
  {
   "cell_type": "code",
   "execution_count": 71,
   "metadata": {
    "dotnet_interactive": {
     "language": "csharp"
    },
    "vscode": {
     "languageId": "dotnet-interactive.csharp"
    }
   },
   "outputs": [
    {
     "data": {
      "text/html": [
       "<div class=\"dni-plaintext\">True</div>"
      ]
     },
     "metadata": {},
     "output_type": "display_data"
    }
   ],
   "source": [
    "LinearSearch( ConsecutiveIntegers, length, 7 )"
   ]
  },
  {
   "cell_type": "markdown",
   "metadata": {},
   "source": [
    "![ufukkedup](https://leetcode.com/explore/learn/card/fun-with-arrays/527/searching-for-items-in-an-array/Figures/Array_Explore/Array_Search_1.png)"
   ]
  },
  {
   "cell_type": "markdown",
   "metadata": {},
   "source": [
    "<br>"
   ]
  }
 ],
 "metadata": {
  "kernelspec": {
   "display_name": ".NET (C#)",
   "language": "C#",
   "name": ".net-csharp"
  },
  "language_info": {
   "file_extension": ".cs",
   "mimetype": "text/x-csharp",
   "name": "C#",
   "pygments_lexer": "csharp",
   "version": "9.0"
  },
  "orig_nbformat": 4
 },
 "nbformat": 4,
 "nbformat_minor": 2
}
