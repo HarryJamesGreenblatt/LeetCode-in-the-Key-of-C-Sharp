{
 "cells": [
  {
   "cell_type": "markdown",
   "metadata": {},
   "source": [
    "# Notes On: $Arrays$   \n",
    "# *Deletion*"
   ]
  },
  {
   "cell_type": "markdown",
   "metadata": {},
   "source": [
    "<br>"
   ]
  },
  {
   "cell_type": "markdown",
   "metadata": {},
   "source": [
    "Suppose we define the following `Class` to represent an `Array` of *8 consecutive integers sorted in non-decreasing order*, along with properties which keep track of it's **capacity** and it's **length**, and a method to iteratively *Print it's Integer Values*, all in one convenient place: "
   ]
  },
  {
   "cell_type": "code",
   "execution_count": 21,
   "metadata": {
    "dotnet_interactive": {
     "language": "csharp"
    },
    "vscode": {
     "languageId": "dotnet-interactive.csharp"
    }
   },
   "outputs": [],
   "source": [
    "public class SortedConsecutiveIntegerArray\n",
    "{\n",
    "\n",
    "    public int[] IntegerArray = new int[8];\n",
    "    public int   capacity     = 0;\n",
    "    public int   length       = 0;\n",
    " \n",
    "\n",
    "    public SortedConsecutiveIntegerArray()\n",
    "    {\n",
    "        for(int i = 1; i <= IntegerArray.Length; i++ )\n",
    "        {\n",
    "            IntegerArray[i - 1] = i;\n",
    "            length++;\n",
    "        }\n",
    "\n",
    "        capacity = IntegerArray.Length;\n",
    "    }\n",
    "\n",
    "    \n",
    "    public void PrintIntegers()\n",
    "    {\n",
    "        foreach(int ConsecutiveInteger in IntegerArray )\n",
    "        {\n",
    "            if(ConsecutiveInteger > 0)\n",
    "                Console.WriteLine(ConsecutiveInteger);\n",
    "            \n",
    "            else    \n",
    "                Console.WriteLine(\"Empty Slot\");\n",
    "        }\n",
    "    }\n",
    "\n",
    "}"
   ]
  },
  {
   "cell_type": "markdown",
   "metadata": {},
   "source": [
    "<br>"
   ]
  },
  {
   "cell_type": "markdown",
   "metadata": {},
   "source": [
    "Once instantiated, a `SortedConsecutiveIntegerArray` Object will contain an **8 element** `Array` consisting of *8 consecutive integers* sorted in *non-decreasing order*."
   ]
  },
  {
   "cell_type": "code",
   "execution_count": 22,
   "metadata": {
    "dotnet_interactive": {
     "language": "csharp"
    },
    "vscode": {
     "languageId": "dotnet-interactive.csharp"
    }
   },
   "outputs": [
    {
     "data": {
      "text/html": [
       "<table><thead><tr><th>IntegerArray</th><th>capacity</th><th>length</th></tr></thead><tbody><tr><td><div class=\"dni-plaintext\">[ 1, 2, 3, 4, 5, 6, 7, 8 ]</div></td><td><div class=\"dni-plaintext\">8</div></td><td><div class=\"dni-plaintext\">8</div></td></tr></tbody></table>"
      ]
     },
     "metadata": {},
     "output_type": "display_data"
    }
   ],
   "source": [
    "new SortedConsecutiveIntegerArray()"
   ]
  },
  {
   "cell_type": "markdown",
   "metadata": {},
   "source": [
    "<br>"
   ]
  },
  {
   "cell_type": "markdown",
   "metadata": {},
   "source": [
    "## Array Deletions"
   ]
  },
  {
   "cell_type": "markdown",
   "metadata": {},
   "source": [
    "> **Deleting** in an `Array` works in a very similar manner to insertion, and has the same three different cases:\n",
    "> \n",
    "> - Deleting a new element at the *end* of the `Array`.\n",
    "> - Deleting a new element at the *beginning* of the `Array`.\n",
    "> - Deleting a new element at *any given index* inside the `Array`."
   ]
  },
  {
   "cell_type": "markdown",
   "metadata": {},
   "source": [
    "### Deleting From the End of an Array"
   ]
  },
  {
   "cell_type": "code",
   "execution_count": 23,
   "metadata": {
    "dotnet_interactive": {
     "language": "csharp"
    },
    "vscode": {
     "languageId": "dotnet-interactive.csharp"
    }
   },
   "outputs": [],
   "source": [
    "SortedConsecutiveIntegerArray DeleteAtEndExample = new SortedConsecutiveIntegerArray(); "
   ]
  },
  {
   "cell_type": "code",
   "execution_count": 24,
   "metadata": {
    "dotnet_interactive": {
     "language": "csharp"
    },
    "vscode": {
     "languageId": "dotnet-interactive.csharp"
    }
   },
   "outputs": [
    {
     "name": "stdout",
     "output_type": "stream",
     "text": [
      "1\r\n",
      "2\r\n",
      "3\r\n",
      "4\r\n",
      "5\r\n",
      "6\r\n",
      "7\r\n",
      "8\r\n"
     ]
    }
   ],
   "source": [
    "DeleteAtEndExample.PrintIntegers();"
   ]
  },
  {
   "cell_type": "code",
   "execution_count": 25,
   "metadata": {
    "dotnet_interactive": {
     "language": "csharp"
    },
    "vscode": {
     "languageId": "dotnet-interactive.csharp"
    }
   },
   "outputs": [],
   "source": [
    "public int[] ConsecutiveIntegers = DeleteAtEndExample.IntegerArray;\n",
    "\n",
    "public int length   = DeleteAtEndExample.length;   \n",
    "public int capacity = DeleteAtEndExample.capacity;   "
   ]
  },
  {
   "cell_type": "code",
   "execution_count": 26,
   "metadata": {
    "dotnet_interactive": {
     "language": "csharp"
    },
    "vscode": {
     "languageId": "dotnet-interactive.csharp"
    }
   },
   "outputs": [
    {
     "data": {
      "text/html": [
       "<div class=\"dni-plaintext\">8</div>"
      ]
     },
     "metadata": {},
     "output_type": "display_data"
    }
   ],
   "source": [
    "length"
   ]
  },
  {
   "cell_type": "markdown",
   "metadata": {},
   "source": [
    "<br>"
   ]
  },
  {
   "cell_type": "markdown",
   "metadata": {},
   "source": [
    "Deleting from the **end** of an `Array` is the least time consuming of the three cases.   \n",
    "    \n",
    "Recall that insertion at the end of an `Array` was also the least time-consuming case for insertion.  \n",
    "\n",
    "To perform the deletion, we clobber the last element, whose index is is equivalent to `(length) - 1`, with a `0`.    \n",
    "\n",
    "Note that we must also decrement the `length` accordingly."
   ]
  },
  {
   "cell_type": "code",
   "execution_count": 27,
   "metadata": {
    "dotnet_interactive": {
     "language": "csharp"
    },
    "vscode": {
     "languageId": "dotnet-interactive.csharp"
    }
   },
   "outputs": [],
   "source": [
    "ConsecutiveIntegers[ (length--) - 1 ] = 0;"
   ]
  },
  {
   "cell_type": "markdown",
   "metadata": {},
   "source": [
    "![ufukkedup](https://leetcode.com/explore/learn/card/fun-with-arrays/526/deleting-items-from-an-array/Figures/Array_Explore/Array_Deletion_1.png)"
   ]
  },
  {
   "cell_type": "code",
   "execution_count": 29,
   "metadata": {
    "dotnet_interactive": {
     "language": "csharp"
    },
    "vscode": {
     "languageId": "dotnet-interactive.csharp"
    }
   },
   "outputs": [
    {
     "name": "stdout",
     "output_type": "stream",
     "text": [
      "1\r\n",
      "2\r\n",
      "3\r\n",
      "4\r\n",
      "5\r\n",
      "6\r\n",
      "7\r\n",
      "Empty Slot\r\n"
     ]
    }
   ],
   "source": [
    "DeleteAtEndExample.PrintIntegers();"
   ]
  },
  {
   "cell_type": "code",
   "execution_count": 30,
   "metadata": {
    "dotnet_interactive": {
     "language": "csharp"
    },
    "vscode": {
     "languageId": "dotnet-interactive.csharp"
    }
   },
   "outputs": [
    {
     "data": {
      "text/html": [
       "<div class=\"dni-plaintext\">7</div>"
      ]
     },
     "metadata": {},
     "output_type": "display_data"
    }
   ],
   "source": [
    "length"
   ]
  },
  {
   "cell_type": "markdown",
   "metadata": {},
   "source": [
    "<br>"
   ]
  }
 ],
 "metadata": {
  "kernelspec": {
   "display_name": ".NET (C#)",
   "language": "C#",
   "name": ".net-csharp"
  },
  "language_info": {
   "file_extension": ".cs",
   "mimetype": "text/x-csharp",
   "name": "C#",
   "pygments_lexer": "csharp",
   "version": "9.0"
  },
  "orig_nbformat": 4
 },
 "nbformat": 4,
 "nbformat_minor": 2
}
