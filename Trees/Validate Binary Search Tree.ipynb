{
 "cells": [
  {
   "cell_type": "markdown",
   "metadata": {},
   "source": [
    "# Validate Binary Search Tree"
   ]
  },
  {
   "cell_type": "markdown",
   "metadata": {},
   "source": [
    "Given the `root` of a binary tree, determine if it is a *valid binary search tree (BST)*.\n",
    "\n",
    "A *valid BST* is defined as follows:\n",
    "\n",
    "- The **left subtree** of a node contains only nodes with keys *less than* the node's key.\n",
    "- The **right subtree** of a node contains only nodes with keys *greater than* the node's key.\n",
    "- Both the **left** and **right** **subtrees** must also be *binary search trees*."
   ]
  },
  {
   "cell_type": "markdown",
   "metadata": {},
   "source": [
    "**Example 1**:    \n",
    "![Picture Can Go Here](https://assets.leetcode.com/uploads/2020/12/01/tree1.jpg)\n",
    "> ```\n",
    "> Input: root = [2,1,3]\n",
    "> Output: true\n",
    "> ```\n",
    "<br>\n",
    "      \n",
    "**Example 2**:   \n",
    "![Picture Can Go Here](https://assets.leetcode.com/uploads/2020/12/01/tree2.jpg)  \n",
    "> ```\n",
    "> Input: root = [5,1,4,null,null,3,6]\n",
    "> Output: false\n",
    "> ```\n",
    "\n",
    "\n",
    "Explanation:      \n",
    "The *root node's* value is `5` but its *right child's* value is `4`.\n",
    "<br>"
   ]
  },
  {
   "cell_type": "markdown",
   "metadata": {},
   "source": [
    "**Constraints**:\n",
    "\n",
    "- The number of nodes in the tree is in the range `[1, 104]`.\n",
    "- `-231 <= Node.val <= 231 - 1`"
   ]
  },
  {
   "cell_type": "markdown",
   "metadata": {},
   "source": [
    "<br>"
   ]
  },
  {
   "cell_type": "markdown",
   "metadata": {},
   "source": [
    "### Recursive Inorder Traversal"
   ]
  },
  {
   "cell_type": "markdown",
   "metadata": {},
   "source": [
    "##### Psuedo"
   ]
  },
  {
   "cell_type": "markdown",
   "metadata": {},
   "source": [
    "###### Define a subrouting which performs an Inorder Traversal of the input Binarary Tree,<br> checking to see if each Value encountered is appropriately smaller than the next one. <br><br> Time: $\\qquad O(n)$ <br> Space: $\\qquad O(n)$\n",
    "\n",
    "```\n",
    "define a function InorderTraversal( node_passed_in ):\n",
    "\n",
    "    If the Node passed in is empty:\n",
    "        base case satisfied.\n",
    "\n",
    "    If, however, there aren't any left children:\n",
    "        This isn't a valid BST\n",
    "\n",
    "    Additionally,   \n",
    "    If the Last Node value was valid,   \n",
    "    AND   \n",
    "    We find that each Value in Inorder is NOT smaller the Next one:   \n",
    "        This isn't a valid BST\n",
    "   \n",
    "    Update the global Last Node Value\n",
    "\n",
    "    Continue the recursion in the Right Child.\n",
    "\n",
    "\n",
    "\n",
    "Create a nullable, global integer variable to recursively track each of the Last Observed Node values.\n",
    "\n",
    "Perform the Inorder Traversal starting at the Root Node.\n",
    "```"
   ]
  },
  {
   "cell_type": "markdown",
   "metadata": {},
   "source": [
    "<br>"
   ]
  },
  {
   "cell_type": "markdown",
   "metadata": {},
   "source": [
    "#### Implementation"
   ]
  },
  {
   "cell_type": "code",
   "execution_count": null,
   "metadata": {
    "dotnet_interactive": {
     "language": "csharp"
    },
    "vscode": {
     "languageId": "dotnet-interactive.csharp"
    }
   },
   "outputs": [],
   "source": [
    "// Definition for a binary tree node.\n",
    "public class TreeNode {\n",
    "    public int val;\n",
    "    public TreeNode left;\n",
    "    public TreeNode right;\n",
    "    public TreeNode(int val=0, TreeNode left=null, TreeNode right=null) {\n",
    "        this.val = val;\n",
    "        this.left = left;\n",
    "        this.right = right;\n",
    "    }\n",
    "}"
   ]
  },
  {
   "cell_type": "code",
   "execution_count": null,
   "metadata": {
    "dotnet_interactive": {
     "language": "csharp"
    },
    "vscode": {
     "languageId": "dotnet-interactive.csharp"
    }
   },
   "outputs": [],
   "source": [
    "// Create a nullable, global integer variable \n",
    "// to recursively track each of the Last Observed Node values.\n",
    "private int? Last = null;\n",
    "\n",
    "\n",
    "// Define a subrouting which performs an Inorder Traversal of the input Binarary Tree,\n",
    "// checking to see if each Value encountered is appropriately smaller than the next one.\n",
    "private bool InorderTraversal(TreeNode node_passed_in)\n",
    "{\n",
    "\n",
    "    // If the Node passed in is empty:\n",
    "    //     base case satisfied.\n",
    "    if( node_passed_in == null )\n",
    "        return true;\n",
    "    \n",
    "\n",
    "    // If, however, there aren't any left children:\n",
    "    //      This isn't a valid BST\n",
    "    if( ! InorderTraversal(node_passed_in.left) )\n",
    "        return false;\n",
    "\n",
    "\n",
    "    // Additionally,\n",
    "    // If the Last Node value was valid,\n",
    "    // AND\n",
    "    // We find that each Value in Inorder is NOT smaller the Next one:\n",
    "    //      This isn't a valid BST\n",
    "    if( Last.HasValue && node_passed_in.val <= Last )\n",
    "        return false;\n",
    "\n",
    "\n",
    "    // Update the global Last Node Value\n",
    "    Last = node_passed_in.val;\n",
    "\n",
    "\n",
    "    // Continue the recursion in the Right Child.\n",
    "    return InorderTraversal( node_passed_in.right );\n",
    "        \n",
    "}\n",
    "\n",
    "\n",
    "public bool IsValidBST(TreeNode root)\n",
    "{\n",
    "\n",
    "    // Perform the Inorder Traversal\n",
    "    // starting at the Root Node.\n",
    "    return InorderTraversal(root);\n",
    "\n",
    "}"
   ]
  },
  {
   "cell_type": "markdown",
   "metadata": {},
   "source": [
    "<br>"
   ]
  },
  {
   "cell_type": "markdown",
   "metadata": {},
   "source": [
    "#### Analysis"
   ]
  },
  {
   "cell_type": "markdown",
   "metadata": {},
   "source": [
    "##### **Time** "
   ]
  },
  {
   "cell_type": "markdown",
   "metadata": {},
   "source": [
    "Since we `Define a subroutine which performs an Inorder Traversal of the input Binarary Tree, checking to see if each Value encountered is appropriately smaller than the next one`, we will, at worst case, need to traverse an entrirely linear structure, such as:\n",
    "```    \n",
    "      a\n",
    "     /\n",
    "    b\n",
    "   /\n",
    "  c\n",
    " /\n",
    "d\n",
    "```\n",
    "$$\\implies \\Large{\\bf{O(n)}}$$"
   ]
  },
  {
   "cell_type": "markdown",
   "metadata": {},
   "source": [
    "---"
   ]
  },
  {
   "cell_type": "markdown",
   "metadata": {},
   "source": [
    "##### **Space** "
   ]
  },
  {
   "cell_type": "markdown",
   "metadata": {},
   "source": [
    "The case of a entirely linear tree would also leverage a similarly proportional cost of space allocation, based on the depth of the recursion stack.\n",
    "$$\\implies \\Large{\\bf{O(n)}}$$"
   ]
  }
 ],
 "metadata": {
  "kernelspec": {
   "display_name": ".NET (C#)",
   "language": "C#",
   "name": ".net-csharp"
  },
  "language_info": {
   "file_extension": ".cs",
   "mimetype": "text/x-csharp",
   "name": "C#",
   "pygments_lexer": "csharp",
   "version": "9.0"
  },
  "orig_nbformat": 4
 },
 "nbformat": 4,
 "nbformat_minor": 2
}
