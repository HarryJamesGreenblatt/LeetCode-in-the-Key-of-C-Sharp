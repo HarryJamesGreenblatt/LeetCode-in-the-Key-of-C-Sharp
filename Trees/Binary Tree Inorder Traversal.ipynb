{
 "cells": [
  {
   "cell_type": "markdown",
   "metadata": {},
   "source": [
    "# Binary Tree Inorder Traversal"
   ]
  },
  {
   "cell_type": "markdown",
   "metadata": {},
   "source": [
    "Given the `root` of a binary tree, return the *inorder traversal* of its nodes' values."
   ]
  },
  {
   "cell_type": "markdown",
   "metadata": {},
   "source": [
    "**Example 1**:    \n",
    "![Picture Can Go Here](https://assets.leetcode.com/uploads/2020/09/15/inorder_1.jpg)\n",
    "> ```\n",
    "> Input: root = [1,null,2,3]\n",
    "> Output: [1,3,2]\n",
    "> ```\n",
    "\n",
    "<br>\n",
    "      \n",
    "**Example 2**:   \n",
    "> ```\n",
    "> Input: root = []\n",
    "> Output: []\n",
    "> ```\n",
    "\n",
    "<br>\n",
    "\n",
    "**Example 3**:   \n",
    "> ```\n",
    "> Input: root = [1]\n",
    "> Output: [1]\n",
    "> ```\n",
    "   \n",
    "<br>"
   ]
  },
  {
   "cell_type": "markdown",
   "metadata": {},
   "source": [
    "**Constraints**:\n",
    "\n",
    "- The number of nodes in the tree is in the range `[0, 100]`.\n",
    "- `-100 <= Node.val <= 100`"
   ]
  },
  {
   "cell_type": "markdown",
   "metadata": {},
   "source": [
    "<br>"
   ]
  },
  {
   "cell_type": "markdown",
   "metadata": {},
   "source": [
    "### Recursion"
   ]
  },
  {
   "cell_type": "markdown",
   "metadata": {},
   "source": [
    "##### Psuedo"
   ]
  },
  {
   "cell_type": "markdown",
   "metadata": {},
   "source": [
    "###### A subroutine which performs an Inorder Traversal of the input Binarary Tree,<br> adding each Value encountered to the List. <br><br> Time: $\\qquad O(n)$ <br> Space: $\\qquad O(n)$\n",
    "\n",
    "```\n",
    "define a function RecurInorder( node_passed_in ):\n",
    "\n",
    "    Define a base case which provides termination criteria for the recursion If the Node passed in is null.\n",
    "\n",
    "    Recur in the Left Child.\n",
    "    Add the current Node Value to the List.\n",
    "    Recur in the Right Child.\n",
    "```\n",
    "<br>\n",
    "\n",
    "---\n",
    "<br>\n",
    "\n",
    "``` \n",
    "Start a globally accessible, but private List to track the Inorder sequence of Node values. \n",
    "\n",
    "Perform the Inorder Traversal starting at the Root Node.\n",
    "\n",
    "The List now sequentially consists of the input Tree's Node Values expressed as an Inorder Traversal,\n",
    "as required.\n",
    "``` "
   ]
  },
  {
   "cell_type": "markdown",
   "metadata": {},
   "source": [
    "<br>"
   ]
  },
  {
   "cell_type": "markdown",
   "metadata": {},
   "source": [
    "#### Implementation"
   ]
  },
  {
   "cell_type": "code",
   "execution_count": null,
   "metadata": {
    "dotnet_interactive": {
     "language": "csharp"
    },
    "vscode": {
     "languageId": "dotnet-interactive.csharp"
    }
   },
   "outputs": [],
   "source": [
    "// Definition for a binary tree node.\n",
    "public class TreeNode \n",
    "{\n",
    "     public int val;\n",
    "     public TreeNode left;\n",
    "     public TreeNode right;\n",
    "     public TreeNode(int val=0, TreeNode left=null, TreeNode right=null) {\n",
    "         this.val = val;\n",
    "         this.left = left;\n",
    "         this.right = right;\n",
    "    }\n",
    "}"
   ]
  },
  {
   "cell_type": "code",
   "execution_count": null,
   "metadata": {
    "dotnet_interactive": {
     "language": "csharp"
    },
    "vscode": {
     "languageId": "dotnet-interactive.csharp"
    }
   },
   "outputs": [],
   "source": [
    "// Start a globally accessible, but private List \n",
    "// to track the Inorder sequence of Node values. \n",
    "private IList<int> inorder = new List<int>();\n",
    "\n",
    "\n",
    "// A subroutine which performs an Inorder Traversal of the input Binarary Tree,\n",
    "// adding each Value encountered to the List.\n",
    "public void RecurInorder(TreeNode node_passed_in)\n",
    "{\n",
    "\n",
    "    // Define a base case which provides termination criteria \n",
    "    // for the recursion If the Node passed in is null.\n",
    "    if(node_passed_in != null)\n",
    "    {\n",
    "\n",
    "        // Recur in the Left Child.\n",
    "        RecurInorder(node_passed_in.left);\n",
    "\n",
    "\n",
    "        // Add the current Node Value to the List.\n",
    "        inorder.Add(node_passed_in.val);\n",
    "\n",
    "\n",
    "        // Recur in the Right Child.\n",
    "        RecurInorder(node_passed_in.right);\n",
    "\n",
    "    }\n",
    "\n",
    "}\n",
    "\n",
    "\n",
    "public IList<int> InorderTraversal(TreeNode root)\n",
    "{\n",
    "\n",
    "    // Perform the Inorder Traversal starting at the Root Node.\n",
    "    RecurInorder(root);\n",
    "\n",
    "\n",
    "    // The List now sequentially consists of the input Tree's Node Values,\n",
    "    // expressed as an Inorder Traversal,\n",
    "    // as required.\n",
    "    return inorder;\n",
    "\n",
    "}"
   ]
  },
  {
   "cell_type": "markdown",
   "metadata": {},
   "source": [
    "<br>"
   ]
  },
  {
   "cell_type": "markdown",
   "metadata": {},
   "source": [
    "#### Analysis"
   ]
  },
  {
   "cell_type": "markdown",
   "metadata": {},
   "source": [
    "##### **Time** "
   ]
  },
  {
   "cell_type": "markdown",
   "metadata": {},
   "source": [
    "Since we define `A subroutine which performs an Inorder Traversal of the input Binarary Tree adding each Value encountered to the List`, we will, at worst case, need to traverse an entrirely linear structure, such as:\n",
    "```    \n",
    "      a\n",
    "     /\n",
    "    b\n",
    "   /\n",
    "  c\n",
    " /\n",
    "d\n",
    "```\n",
    "$$\\implies \\Large{\\bf{O(n)}}$$"
   ]
  },
  {
   "cell_type": "markdown",
   "metadata": {},
   "source": [
    "---"
   ]
  },
  {
   "cell_type": "markdown",
   "metadata": {},
   "source": [
    "##### **Space** "
   ]
  },
  {
   "cell_type": "markdown",
   "metadata": {},
   "source": [
    "The case of a entirely linear tree would also leverage a similarly proportional cost of space allocation, based on the depth of the recursion stack.\n",
    "$$\\implies \\Large{\\bf{O(n)}}$$"
   ]
  }
 ],
 "metadata": {
  "kernelspec": {
   "display_name": ".NET (C#)",
   "language": "C#",
   "name": ".net-csharp"
  },
  "language_info": {
   "file_extension": ".cs",
   "mimetype": "text/x-csharp",
   "name": "C#",
   "pygments_lexer": "csharp",
   "version": "9.0"
  },
  "orig_nbformat": 4
 },
 "nbformat": 4,
 "nbformat_minor": 2
}
