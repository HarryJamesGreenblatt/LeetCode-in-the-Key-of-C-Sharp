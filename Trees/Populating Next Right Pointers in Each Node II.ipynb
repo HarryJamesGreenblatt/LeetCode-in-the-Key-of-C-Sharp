{
 "cells": [
  {
   "cell_type": "markdown",
   "metadata": {},
   "source": [
    "# Populating Next Right Pointers in Each Node II"
   ]
  },
  {
   "cell_type": "markdown",
   "metadata": {},
   "source": [
    "Given a binary tree\n",
    "```c\n",
    "struct Node {\n",
    "  int val;\n",
    "  Node *left;\n",
    "  Node *right;\n",
    "  Node *next;\n",
    "}\n",
    "```\n",
    "Populate each next pointer to point to its next right node. If there is no next right node, the next pointer should be set to `NULL`.\n",
    "\n",
    "Initially, all next pointers are set to `NULL`."
   ]
  },
  {
   "cell_type": "markdown",
   "metadata": {},
   "source": [
    "**Example 1**:    \n",
    "![Picture Can Go Here](https://assets.leetcode.com/uploads/2019/02/15/117_sample.png)\n",
    "> ```\n",
    "> Input: root = [1,2,3,4,5,null,7]\n",
    "> Output: [1,#,2,3,#,4,5,7,#]\n",
    "> ```\n",
    "\n",
    "Explanation:      \n",
    "Given the above binary tree (Figure A), your function should populate each next pointer to point to its next right node, just like in Figure B. The serialized output is in level order as connected by the next pointers, with '#' signifying the end of each level.\n",
    "<br>\n",
    "<br>\n",
    "       \n",
    "      \n",
    "**Example 2**:   \n",
    "> ```\n",
    "> Input: root = []\n",
    "> Output: []\n",
    "> ```\n",
    "\n",
    "<br>"
   ]
  },
  {
   "cell_type": "markdown",
   "metadata": {},
   "source": [
    "**Constraints**:\n",
    "\n",
    "- The number of nodes in the tree is in the range `[0, 6000]`.\n",
    "- `-100 <= Node.val <= 100`\n",
    "- You may only use constant extra space.\n",
    "- You may assume implicit stack space does not count as extra space for this problem."
   ]
  },
  {
   "cell_type": "markdown",
   "metadata": {},
   "source": [
    "<br>"
   ]
  },
  {
   "cell_type": "markdown",
   "metadata": {},
   "source": [
    "### One Pass Three Pointers"
   ]
  },
  {
   "cell_type": "markdown",
   "metadata": {},
   "source": [
    "##### Psuedo"
   ]
  },
  {
   "cell_type": "markdown",
   "metadata": {},
   "source": [
    "```\n",
    "Set up a globally accessible, but Private Pointer to the Leftmost Node at each Level of the Tree,\n",
    "along with a another one corresponding to that Leftmost Node's Next Child.\n",
    "```   \n",
    "\n",
    "<br>\n",
    "   \n",
    "---   \n",
    "<br>   \n",
    "\n",
    "###### A subroutine which simulates the Left-to-Right processing pattern normally provided by a Queue structure, <br> facilitating Level Order traversal operations without the added cost of linear space. <br><br> Time: $\\qquad O(n)$ <br> Space: $\\qquad O(1)$\n",
    "   \n",
    "```   \n",
    "Define a function ProcessChild( child_of_current_node ):\n",
    "\n",
    "    If the Current Node has a valid Child:\n",
    "        and If the Leftmode Node has a valid Child as well:\n",
    "            Point the Node Next to the Leftmost Node's Child \n",
    "            to the Child of the Current Node\n",
    "\n",
    "    otherwise, the Leftmost Node has NO valid Child:\n",
    "        so Point the Leftmost Node's Child \n",
    "        to the Current Node's Child instead.  \n",
    "\n",
    "    Now Point the Leftmost Node's Child\n",
    "    to the Child of the Current Node.  \n",
    "```\n",
    "<br>  \n",
    " \n",
    "---    \n",
    "<br>   \n",
    "\n",
    "```  \n",
    "If the input tree is empty,\n",
    "  then so is the result.\n",
    "\n",
    "Point the Leftmost Node to the Root of the Input Tree.\n",
    "\n",
    "Set up a Pointer to the Current Node in the traversal,\n",
    "initialized to Point at the Leftmost Node. \n",
    "\n",
    "\n",
    "Iterating while there remains a valid Leftmost Node \n",
    "at the current level of the Input Tree:\n",
    "\n",
    "    Reset the Pointer to the Leftmost Node's Next Child.\n",
    "\n",
    "    Point the Current Node to the Leftmost Node.\n",
    "\n",
    "    Reset the Leftmost Pointer so it may be assigned\n",
    "    to the next Level in the traversal\n",
    "\n",
    "    Iterating While the Current Node is still valid:\n",
    "\n",
    "          Process the Current Node's Left Child.\n",
    "\n",
    "          Process the Current Node's Right Child.\n",
    "\n",
    "          Advance the Current Node Pointer forward one position.\n",
    "\n",
    "\n",
    "After all that,\n",
    "The root now points to a modification of the Input Tree\n",
    "which Populates each next pointer to point to its \n",
    "next right node, or if there is no next right node, \n",
    "sets the next pointer to `NULL`,\n",
    "as, required.  \n",
    "\n",
    "```"
   ]
  },
  {
   "cell_type": "markdown",
   "metadata": {},
   "source": [
    "<br>"
   ]
  },
  {
   "cell_type": "markdown",
   "metadata": {},
   "source": [
    "#### Implementation"
   ]
  },
  {
   "cell_type": "code",
   "execution_count": null,
   "metadata": {
    "dotnet_interactive": {
     "language": "csharp"
    },
    "vscode": {
     "languageId": "dotnet-interactive.csharp"
    }
   },
   "outputs": [],
   "source": [
    "// Definition for a Node.\n",
    "public class Node {\n",
    "    public int val;\n",
    "    public Node left;\n",
    "    public Node right;\n",
    "    public Node next;\n",
    "\n",
    "    public Node() {}\n",
    "\n",
    "    public Node(int _val) {\n",
    "        val = _val;\n",
    "    }\n",
    "\n",
    "    public Node(int _val, Node _left, Node _right, Node _next) {\n",
    "        val = _val;\n",
    "        left = _left;\n",
    "        right = _right;\n",
    "        next = _next;\n",
    "    }\n",
    "}"
   ]
  },
  {
   "cell_type": "code",
   "execution_count": null,
   "metadata": {
    "dotnet_interactive": {
     "language": "csharp"
    },
    "vscode": {
     "languageId": "dotnet-interactive.csharp"
    }
   },
   "outputs": [],
   "source": [
    "\n",
    "// Set up a globally accessible, but Private Pointer \n",
    "// to the Leftmost Node at each Level of the Tree,\n",
    "// along with a another one corresponding to that Leftmost Node's Next Child.\n",
    "private Node leftmost_node, child_of_leftmost_node;\n",
    "\n",
    "\n",
    "// A subroutine which simulates the Left-to-Right processing pattern\n",
    "// normally provided by a Queue structure, facilitating Level Order\n",
    "// traversal operations without the added cost of linear space.  \n",
    "public void ProcessChild(Node child_of_current_node)\n",
    "{\n",
    "\n",
    "    // If the Current Node has a valid Child:\n",
    "    if( child_of_current_node != null )\n",
    "    {\n",
    "\n",
    "        // and If the Leftmode Node has a valid Child as well:\n",
    "        //      Point the Node Next to the Leftmost Node's Child \n",
    "        //      to the Child of the Current Node \n",
    "        if(child_of_leftmost_node != null)\n",
    "            child_of_leftmost_node.next = child_of_current_node;\n",
    "\n",
    "\n",
    "        // otherwise, the Leftmost Node has NO valid Child,\n",
    "        //      so Point the Leftmost Node's Child \n",
    "        //      to the Current Node's Child instead. \n",
    "        else\n",
    "            leftmost_node = child_of_current_node;\n",
    "\n",
    "\n",
    "        // Now Point the Leftmost Node's Child\n",
    "        // to the Child of the Current Node.\n",
    "        child_of_leftmost_node = child_of_current_node;\n",
    "    }\n",
    "\n",
    "}\n",
    "\n",
    "\n",
    "public Node Connect( Node root )\n",
    "{\n",
    "\n",
    "    // If the input tree is empty,\n",
    "    //   then so is the result.\n",
    "    if(root == null)\n",
    "        return root;\n",
    "\n",
    "    \n",
    "    // Point the Leftmost Node to the Root of the Input Tree.\n",
    "    leftmost_node = root;\n",
    "\n",
    "\n",
    "    // Set up a Pointer to the Current Node in the traversal,\n",
    "    // initialized to Point at the Leftmost Node. \n",
    "    Node current_node = leftmost_node;\n",
    "\n",
    "\n",
    "    // Iterating while there remains a valid Leftmost Node \n",
    "    // at the current level of the Input Tree.\n",
    "    while(leftmost_node != null)\n",
    "    {\n",
    "\n",
    "        // Reset the Pointer to the Leftmost Node's Next Child. \n",
    "        child_of_leftmost_node = null;\n",
    "\n",
    "\n",
    "        // Point the Current Node to the Leftmost Node.\n",
    "        current_node  = leftmost_node;\n",
    "\n",
    "\n",
    "        // Reset the Leftmost Pointer so it may be assigned\n",
    "        // to the next Level in the traversal\n",
    "        leftmost_node = null;\n",
    "\n",
    "\n",
    "        // Iterating While the Current Node is still valid: \n",
    "        while(current_node != null)\n",
    "        {\n",
    "\n",
    "            // Process the Current Node's Left Child.\n",
    "            ProcessChild(current_node.left);\n",
    "\n",
    "\n",
    "            // Process the Current Node's Right Child.\n",
    "            ProcessChild(current_node.right);\n",
    "\n",
    "\n",
    "            // Advance the Current Node Pointer forward one position.\n",
    "            current_node = current_node.next;\n",
    "        }\n",
    "\n",
    "    }\n",
    "\n",
    "\n",
    "    // After all that,\n",
    "    // The root now points to a modification of the Input Tree\n",
    "    // which Populates each next pointer to point to its \n",
    "    // next right node, or if there is no next right node, \n",
    "    // sets the next pointer to `NULL`,\n",
    "    // as, required.  \n",
    "    return root;\n",
    "\n",
    "}"
   ]
  },
  {
   "cell_type": "markdown",
   "metadata": {},
   "source": [
    "<br>"
   ]
  },
  {
   "cell_type": "markdown",
   "metadata": {},
   "source": [
    "#### Analysis"
   ]
  },
  {
   "cell_type": "markdown",
   "metadata": {},
   "source": [
    "##### **Time** "
   ]
  },
  {
   "cell_type": "markdown",
   "metadata": {},
   "source": [
    "Since we are `Iterating while there remains a valid Leftmost Node at the current level of the Input Tree`, and `Iterating While the Current Node is still valid`, every Node in the input Binary Tree must be accessed exactly once.\n",
    "$$\\implies \\Large{\\bf{O(n)}}$$"
   ]
  },
  {
   "cell_type": "markdown",
   "metadata": {},
   "source": [
    "---"
   ]
  },
  {
   "cell_type": "markdown",
   "metadata": {},
   "source": [
    "##### **Space** "
   ]
  },
  {
   "cell_type": "markdown",
   "metadata": {},
   "source": [
    "We are not allocating any auxiliary space in addition to the Binary Tree provided as input.\n",
    "\n",
    "$$\\implies \\Large{\\bf{O(1)}}$$"
   ]
  }
 ],
 "metadata": {
  "kernelspec": {
   "display_name": ".NET (C#)",
   "language": "C#",
   "name": ".net-csharp"
  },
  "language_info": {
   "file_extension": ".cs",
   "mimetype": "text/x-csharp",
   "name": "C#",
   "pygments_lexer": "csharp",
   "version": "9.0"
  },
  "orig_nbformat": 4
 },
 "nbformat": 4,
 "nbformat_minor": 2
}
