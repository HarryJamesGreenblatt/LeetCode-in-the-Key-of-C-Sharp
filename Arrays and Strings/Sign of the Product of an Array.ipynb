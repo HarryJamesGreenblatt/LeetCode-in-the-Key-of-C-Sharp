{
 "cells": [
  {
   "cell_type": "markdown",
   "metadata": {},
   "source": [
    "# Sign of the Product of an Array"
   ]
  },
  {
   "cell_type": "markdown",
   "metadata": {},
   "source": [
    "There is a function `signFunc(x)` that returns:\n",
    "\n",
    "- `1` if `x` is *positive*.\n",
    "- `-1` if `x` is *negative*.\n",
    "- `0` if `x` is equal to `0`.  \n",
    "\n",
    "You are given an integer array `nums`.   \n",
    "Let `product` be the product of all values in the array `nums`.\n",
    "\n",
    "Return `signFunc(product)`.\n",
    "<br>"
   ]
  },
  {
   "cell_type": "markdown",
   "metadata": {},
   "source": [
    "**Example 1**:    \n",
    "> ```\n",
    "> Input: nums = [-1,-2,-3,-4,3,2,1]\n",
    "> Output: 1\n",
    "> ```\n",
    "\n",
    "Explanation:      \n",
    "The reason why it happened like that.\n",
    "<br>\n",
    "<br>\n",
    "      \n",
    "      \n",
    "**Example 2**:   \n",
    "> ```\n",
    "> Input: nums = [1,5,0,2,-3]\n",
    "> Output: 0\n",
    "> ```\n",
    "\n",
    "Explanation:      \n",
    "The reason why it happened like that.\n",
    "<br>\n",
    "<br>\n",
    "\n",
    "**Example 3**:   \n",
    "> ```\n",
    "> Input: nums = [-1,1,-1,1,-1]\n",
    "> Output: -1\n",
    "> ```\n",
    "   \n",
    "Explanation:      \n",
    "The reason why it happened like that.\n",
    "<br>"
   ]
  },
  {
   "cell_type": "markdown",
   "metadata": {},
   "source": [
    "**Constraints**:\n",
    "\n",
    "- `1 <= nums.length <= 1000`\n",
    "- `-100 <= nums[i] <= 100`"
   ]
  },
  {
   "cell_type": "markdown",
   "metadata": {},
   "source": [
    "<br>"
   ]
  },
  {
   "cell_type": "markdown",
   "metadata": {},
   "source": [
    "### One Pass Line"
   ]
  },
  {
   "cell_type": "markdown",
   "metadata": {},
   "source": [
    "##### Psuedo"
   ]
  },
  {
   "cell_type": "markdown",
   "metadata": {},
   "source": [
    "```\n",
    "Get Correct Array Sign as the result of\n",
    "performing a Custom Aggregation taking the Product of all values present in the input array, then dividing it by it's own absolute value, in accordance with the folowing scheme: \n",
    "```\n",
    "$$\\prod_{i=0}^{n-1}\\frac{(\\,\\,nums[i]*nums[i+1]\\,\\,)}{\\left|\\,\\,nums[i]*nums[i+1]\\,\\,\\right|}$$\n",
    "```\n",
    "thereby assuring the correct sign is given as a result,\n",
    "as required."
   ]
  },
  {
   "cell_type": "markdown",
   "metadata": {},
   "source": [
    "<br>"
   ]
  },
  {
   "cell_type": "markdown",
   "metadata": {},
   "source": [
    "#### Implementation"
   ]
  },
  {
   "cell_type": "code",
   "execution_count": null,
   "metadata": {
    "dotnet_interactive": {
     "language": "csharp"
    },
    "vscode": {
     "languageId": "dotnet-interactive.csharp"
    }
   },
   "outputs": [],
   "source": [
    "// test input\n",
    "int[] nums = {-1,-2,-3,0,1,2,3}; "
   ]
  },
  {
   "cell_type": "code",
   "execution_count": null,
   "metadata": {
    "dotnet_interactive": {
     "language": "csharp"
    },
    "vscode": {
     "languageId": "dotnet-interactive.csharp"
    }
   },
   "outputs": [],
   "source": [
    "public int ArraySign( int[] nums )\n",
    "{\n",
    "\n",
    "\n",
    "    // Retrieve the Custom Aggregation \n",
    "    // taking the Prodoct of all values present in the input array,\n",
    "    // and then dividing it by it's own absolute value,\n",
    "    // thereby assuring the correct sign is given as a result.\n",
    "    // However, If the nums array contains a value of 0,\n",
    "    //      then the result is 0 \n",
    "    int correct_sign =  nums.Aggregate( \n",
    "\n",
    "        (a,b) => \n",
    "\n",
    "            (a * b) != 0\n",
    "            ?\n",
    "            (a * b) / Math.Abs(a * b)\n",
    "            :\n",
    "            0 \n",
    "\n",
    "    );\n",
    "    \n",
    "    \n",
    "    // In the case of having only one element in the nums array, \n",
    "    // the step above will be ineffective in reducing the result to 1 or -1.\n",
    "    // To guard for this case,\n",
    "    // we once again divide the Correct Sign by its own Absolute Value. \n",
    "    return \n",
    "        \n",
    "            (correct_sign != 0) \n",
    "            ? \n",
    "            correct_sign / Math.Abs(correct_sign) \n",
    "            : \n",
    "            0;\n",
    "\n",
    "}"
   ]
  },
  {
   "cell_type": "markdown",
   "metadata": {},
   "source": [
    "<br>"
   ]
  },
  {
   "cell_type": "markdown",
   "metadata": {},
   "source": [
    "#### Analysis"
   ]
  },
  {
   "cell_type": "markdown",
   "metadata": {},
   "source": [
    "##### **Time** "
   ]
  },
  {
   "cell_type": "markdown",
   "metadata": {},
   "source": [
    "Since we are `taking the Product of all values present in the input array`, we  must always iterate over the full length on the input array.\n",
    "\n",
    "$$\\implies \\Large{\\bf{O(n)}}$$"
   ]
  },
  {
   "cell_type": "markdown",
   "metadata": {},
   "source": [
    "---"
   ]
  },
  {
   "cell_type": "markdown",
   "metadata": {},
   "source": [
    "##### **Space** "
   ]
  },
  {
   "cell_type": "markdown",
   "metadata": {},
   "source": [
    "The `Aggregate()` method returns a single integer value.\n",
    "\n",
    "$$\\implies \\Large{\\bf{O(1)}}$$"
   ]
  }
 ],
 "metadata": {
  "kernelspec": {
   "display_name": ".NET (C#)",
   "language": "C#",
   "name": ".net-csharp"
  },
  "language_info": {
   "file_extension": ".cs",
   "mimetype": "text/x-csharp",
   "name": "C#",
   "pygments_lexer": "csharp",
   "version": "9.0"
  },
  "orig_nbformat": 4
 },
 "nbformat": 4,
 "nbformat_minor": 2
}
