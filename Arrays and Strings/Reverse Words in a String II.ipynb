{
 "cells": [
  {
   "cell_type": "markdown",
   "metadata": {},
   "source": [
    "# Reverse Words in a String II"
   ]
  },
  {
   "cell_type": "markdown",
   "metadata": {},
   "source": [
    "Given a character array `s`, reverse the order of the **words**.\n",
    "\n",
    "A **word** is defined as a sequence of non-space characters. The **words** in `s` will be separated by a single space.\n",
    "\n",
    "Your code must solve the problem *in-place*, i.e. without allocating extra space."
   ]
  },
  {
   "cell_type": "markdown",
   "metadata": {},
   "source": [
    "**Example 1**:\n",
    "> ```\n",
    "> Input: s = ['t','h','e',' ','s','k','y',' ','i','s',' ','b','l','u','e']\n",
    "> Output: ['b','l','u','e',' ','i','s',' ','s','k','y',' ','t','h','e']\n",
    "> ```\n",
    "\n",
    "<br>\n",
    "\n",
    "**Example 2**:\n",
    "> ```\n",
    "> Input: s = ['a']\n",
    "> Output: ['a']\n",
    "> ```"
   ]
  },
  {
   "cell_type": "markdown",
   "metadata": {},
   "source": [
    "**Constraints**:\n",
    "\n",
    "- `1 <= s.length <= 105`\n",
    "- `s[i]` is an English letter (uppercase or lowercase), digit, or space ' '.\n",
    "- There is at least one word in `s`.\n",
    "- `s` does not contain leading or trailing spaces.\n",
    "- All the words in `s` are guaranteed to be separated by a single space."
   ]
  },
  {
   "cell_type": "markdown",
   "metadata": {},
   "source": [
    "<br>"
   ]
  },
  {
   "cell_type": "markdown",
   "metadata": {},
   "source": [
    "### Two Pass, Two Pointers"
   ]
  },
  {
   "cell_type": "markdown",
   "metadata": {},
   "source": [
    "##### Psuedo"
   ]
  },
  {
   "cell_type": "markdown",
   "metadata": {},
   "source": [
    "```\n",
    "Create a subroutine which will, provided a char array as input, along with the desired range, reverse a finite number of elements within that array:\n",
    "\n",
    "    While the given starting point of the traversal is still less than the ending point:\n",
    "\n",
    "        Copy the character at the starting point to a temporary variable.\n",
    "\n",
    "        Clobber the value at the starting point with the value at the ending point\n",
    "        and Move the starting point forward one position.\n",
    "\n",
    "        Clobber the value at the ending point with the temporary variable\n",
    "        and Move the ending point back one position.  \n",
    "\n",
    "\n",
    "First off, Reverse the entire array. \n",
    "\n",
    "\n",
    "Set up Two Pointers, a Starting point and an Ending point, at the beginning of the reversed array.\n",
    "\n",
    "Iterating the Ending point from the beginning of the arrary to the end of the array:\n",
    "\n",
    "    If the Ending point has reached the end of the array  or   the character at the Ending point is currently a space:\n",
    "\n",
    "        Reverse the Substring of characters in the character array leading up to the point where the space was encountered.\n",
    "        Move the starting point forward to the next character after the space. \n",
    "```\n"
   ]
  },
  {
   "cell_type": "markdown",
   "metadata": {},
   "source": [
    "<br>"
   ]
  },
  {
   "cell_type": "markdown",
   "metadata": {},
   "source": [
    "#### Implementation"
   ]
  },
  {
   "cell_type": "code",
   "execution_count": null,
   "metadata": {
    "dotnet_interactive": {
     "language": "csharp"
    },
    "vscode": {
     "languageId": "dotnet-interactive.csharp"
    }
   },
   "outputs": [],
   "source": [
    "// Create a subroutine which will, provided a char array as input, along with the desired range, \n",
    "// reverse a finite number of elements within that array:\n",
    "public void ReverseSubstring(char[] s, int start, int end)\n",
    "{\n",
    "\n",
    "    // While the given starting point of the traversal is still less than the ending point:\n",
    "    while(start < end)\n",
    "    {\n",
    "\n",
    "        // Copy the character at the starting point to a temporary variable.\n",
    "        char temp   = s[start];\n",
    "\n",
    "\n",
    "        // Clobber the value at the starting point with the value at the ending point\n",
    "        // and Move the starting point forward one position.\n",
    "        s[start++] = s[end];\n",
    "\n",
    "\n",
    "        //Clobber the value at the ending point with the temporary variable\n",
    "        //and Move the ending point back one position.  \n",
    "        s[end--]   = temp;\n",
    "        \n",
    "    }\n",
    "}"
   ]
  },
  {
   "cell_type": "code",
   "execution_count": null,
   "metadata": {
    "dotnet_interactive": {
     "language": "csharp"
    },
    "vscode": {
     "languageId": "dotnet-interactive.csharp"
    }
   },
   "outputs": [],
   "source": [
    "public void ReverseWords(char[] s)\n",
    "{\n",
    "\n",
    "    // First off, Reverse the entire array. \n",
    "    ReverseSubstring(s, 0, s.Length - 1);\n",
    "\n",
    "\n",
    "    // Set up Two Pointers, a Starting point and an Ending point, \n",
    "    // both at the beginning of the reversed array.\n",
    "    int start = 0,\n",
    "        end   = 0;\n",
    "        \n",
    "        \n",
    "    // Iterating the Ending point from the beginning of the arrary to the end of the array:\n",
    "    for( ; end <= s.Length; end++ )\n",
    "\n",
    "        // If the Ending point has reached the end of the array  \n",
    "        // or   \n",
    "        // If the character at the Ending point is currently a space:\n",
    "        if( end == s.Length || s[end] == ' ' )\n",
    "        {\n",
    "\n",
    "            // Reverse the Substring of characters in the character array \n",
    "            // leading up to the point where the space or end of array was encountered.\n",
    "            ReverseSubstring(s, start, end - 1);\n",
    "\n",
    "\n",
    "            // Move the starting point forward to the next character after the space,\n",
    "            // or walk it out of bounds if at the end of the array. \n",
    "            start = end + 1;\n",
    "\n",
    "        } \n",
    "\n",
    "}"
   ]
  },
  {
   "cell_type": "code",
   "execution_count": null,
   "metadata": {
    "dotnet_interactive": {
     "language": "csharp"
    },
    "vscode": {
     "languageId": "dotnet-interactive.csharp"
    }
   },
   "outputs": [],
   "source": [
    "// test input\n",
    "char[] s = new char[]{'t','h','e',' ','s','k','y',' ','i','s',' ','b','l','u','e'};"
   ]
  },
  {
   "cell_type": "code",
   "execution_count": null,
   "metadata": {
    "dotnet_interactive": {
     "language": "csharp"
    },
    "vscode": {
     "languageId": "dotnet-interactive.csharp"
    }
   },
   "outputs": [
    {
     "data": {
      "text/html": [
       "<table><thead><tr><th><i>index</i></th><th>value</th></tr></thead><tbody><tr><td>0</td><td><div class=\"dni-plaintext\">b</div></td></tr><tr><td>1</td><td><div class=\"dni-plaintext\">l</div></td></tr><tr><td>2</td><td><div class=\"dni-plaintext\">u</div></td></tr><tr><td>3</td><td><div class=\"dni-plaintext\">e</div></td></tr><tr><td>4</td><td><div class=\"dni-plaintext\"> </div></td></tr><tr><td>5</td><td><div class=\"dni-plaintext\">i</div></td></tr><tr><td>6</td><td><div class=\"dni-plaintext\">s</div></td></tr><tr><td>7</td><td><div class=\"dni-plaintext\"> </div></td></tr><tr><td>8</td><td><div class=\"dni-plaintext\">s</div></td></tr><tr><td>9</td><td><div class=\"dni-plaintext\">k</div></td></tr><tr><td>10</td><td><div class=\"dni-plaintext\">y</div></td></tr><tr><td>11</td><td><div class=\"dni-plaintext\"> </div></td></tr><tr><td>12</td><td><div class=\"dni-plaintext\">t</div></td></tr><tr><td>13</td><td><div class=\"dni-plaintext\">h</div></td></tr><tr><td>14</td><td><div class=\"dni-plaintext\">e</div></td></tr></tbody></table>"
      ]
     },
     "metadata": {},
     "output_type": "display_data"
    }
   ],
   "source": [
    "ReverseWords(s);\n",
    "s"
   ]
  },
  {
   "cell_type": "markdown",
   "metadata": {},
   "source": [
    "<br>"
   ]
  },
  {
   "cell_type": "markdown",
   "metadata": {},
   "source": [
    "#### Analysis"
   ]
  },
  {
   "cell_type": "markdown",
   "metadata": {},
   "source": [
    "##### **Time**"
   ]
  },
  {
   "cell_type": "markdown",
   "metadata": {},
   "source": [
    "Since `First off,`  we  `Reverse the entire array`, we must specify the full length of the input array to be the range for the `ReverseSubstring` subroutine. \n",
    "$$\\implies O(n)$$\n",
    "<br>\n",
    "\n",
    "$Furthermore,$   \n",
    "Given that, following the reversal of the entire array, we are then `Iterating the Ending point from the beginning of the arrary to the end of the array`, and upon each of those traversals, reversing each 'word' as delimited by whitespace characters.\n",
    "$$\\implies O(n) + O(n) = 2*O(n)$$\n",
    "$$\\implies \\bf{\\Large{O(n)}}$$\n"
   ]
  },
  {
   "cell_type": "markdown",
   "metadata": {},
   "source": [
    "---"
   ]
  },
  {
   "cell_type": "markdown",
   "metadata": {},
   "source": [
    "##### **Space**"
   ]
  },
  {
   "cell_type": "markdown",
   "metadata": {},
   "source": [
    "We are NOT allocating any auxiliary sapce other than the input array.\n",
    "$$\\implies \\bf{\\Large{O(1)}}$$"
   ]
  }
 ],
 "metadata": {
  "kernelspec": {
   "display_name": ".NET (C#)",
   "language": "C#",
   "name": ".net-csharp"
  },
  "language_info": {
   "file_extension": ".cs",
   "mimetype": "text/x-csharp",
   "name": "C#",
   "pygments_lexer": "csharp",
   "version": "9.0"
  },
  "orig_nbformat": 4
 },
 "nbformat": 4,
 "nbformat_minor": 2
}
