{
 "cells": [
  {
   "cell_type": "markdown",
   "metadata": {},
   "source": [
    "# Find N Unique Integers Sum up to Zero"
   ]
  },
  {
   "cell_type": "markdown",
   "metadata": {},
   "source": [
    "Given an integer $n$, return **any** array containing $n$ unique integers such that they add up to `0`."
   ]
  },
  {
   "cell_type": "markdown",
   "metadata": {},
   "source": [
    "**Example 1**:    \n",
    "> ```\n",
    "> Input: n = 5\n",
    "> Output: [-7,-1,1,3,4]\n",
    "> ```\n",
    "\n",
    "Explanation:      \n",
    "These arrays also are accepted `[-5,-1,1,2,3]` , `[-3,-1,2,-2,4]`.\n",
    "<br>\n",
    "<br>\n",
    "      \n",
    "      \n",
    "**Example 2**:   \n",
    "> ```\n",
    "> Input: n = 3\n",
    "> Output: [-1,0,1]\n",
    "> ```\n",
    "\n",
    "<br>\n",
    "\n",
    "**Example 3**:   \n",
    "> ```\n",
    "> Input: n = 1\n",
    "> Output: [0]\n",
    "> ```\n",
    "   \n",
    "<br>"
   ]
  },
  {
   "cell_type": "markdown",
   "metadata": {},
   "source": [
    "**Constraints**:\n",
    "\n",
    "- `1 <= n <= 1000`\n",
    "\n"
   ]
  },
  {
   "cell_type": "markdown",
   "metadata": {},
   "source": [
    "<br>"
   ]
  },
  {
   "cell_type": "markdown",
   "metadata": {},
   "source": [
    "### One Pass One Line"
   ]
  },
  {
   "cell_type": "markdown",
   "metadata": {},
   "source": [
    "##### Psuedo"
   ]
  },
  {
   "cell_type": "markdown",
   "metadata": {},
   "source": [
    "```\n",
    "In an array representing a Range of n numbers, \n",
    "the Last Element is located at Index (n - 1).\n",
    "\n",
    "Negating the value of this Last Element, (i.e. -1*(n-1)),\n",
    "If we, for each element in an integer array Range of 0 to n,\n",
    "add Twice the value of the Current element to the value of the Last Element,\n",
    "the Aggregate Sum resulting from creating an Array of these values will equal 0,\n",
    "as required. \n",
    "```"
   ]
  },
  {
   "cell_type": "markdown",
   "metadata": {},
   "source": [
    "<br>"
   ]
  },
  {
   "cell_type": "markdown",
   "metadata": {},
   "source": [
    "#### Implementation"
   ]
  },
  {
   "cell_type": "code",
   "execution_count": null,
   "metadata": {
    "dotnet_interactive": {
     "language": "csharp"
    },
    "vscode": {
     "languageId": "dotnet-interactive.csharp"
    }
   },
   "outputs": [],
   "source": [
    "public int n = 11;"
   ]
  },
  {
   "cell_type": "code",
   "execution_count": null,
   "metadata": {
    "dotnet_interactive": {
     "language": "csharp"
    },
    "vscode": {
     "languageId": "dotnet-interactive.csharp"
    }
   },
   "outputs": [],
   "source": [
    "public int[] SumZero(int n) {\n",
    "\n",
    "    // In an array representing a Range of n numbers, \n",
    "    // the Last Element is located at Index (n - 1).\n",
    "    // \n",
    "    // Negating the value of this Last Element, (i.e. -1*(n-1)),\n",
    "    // If we, for each element in an integer array Range of 0 to n,\n",
    "    // add Twice the value of the Current element to the value of the Last Element,\n",
    "    // the Aggregate Sum resulting from creating an Array of these values will equal 0,\n",
    "    // as required. \n",
    "    return Enumerable.Range(0,n).Select(current => -1*(n-1) + 2*current ).ToArray();\n",
    "\n",
    "}"
   ]
  },
  {
   "cell_type": "code",
   "execution_count": null,
   "metadata": {
    "dotnet_interactive": {
     "language": "csharp"
    },
    "vscode": {
     "languageId": "dotnet-interactive.csharp"
    }
   },
   "outputs": [
    {
     "data": {
      "text/html": [
       "<table><thead><tr><th><i>index</i></th><th>value</th></tr></thead><tbody><tr><td>0</td><td><div class=\"dni-plaintext\">-10</div></td></tr><tr><td>1</td><td><div class=\"dni-plaintext\">-8</div></td></tr><tr><td>2</td><td><div class=\"dni-plaintext\">-6</div></td></tr><tr><td>3</td><td><div class=\"dni-plaintext\">-4</div></td></tr><tr><td>4</td><td><div class=\"dni-plaintext\">-2</div></td></tr><tr><td>5</td><td><div class=\"dni-plaintext\">0</div></td></tr><tr><td>6</td><td><div class=\"dni-plaintext\">2</div></td></tr><tr><td>7</td><td><div class=\"dni-plaintext\">4</div></td></tr><tr><td>8</td><td><div class=\"dni-plaintext\">6</div></td></tr><tr><td>9</td><td><div class=\"dni-plaintext\">8</div></td></tr><tr><td>10</td><td><div class=\"dni-plaintext\">10</div></td></tr></tbody></table>"
      ]
     },
     "metadata": {},
     "output_type": "display_data"
    }
   ],
   "source": [
    "SumZero( n )"
   ]
  },
  {
   "cell_type": "code",
   "execution_count": null,
   "metadata": {
    "dotnet_interactive": {
     "language": "csharp"
    },
    "vscode": {
     "languageId": "dotnet-interactive.csharp"
    }
   },
   "outputs": [
    {
     "data": {
      "text/html": [
       "<div class=\"dni-plaintext\">0</div>"
      ]
     },
     "metadata": {},
     "output_type": "display_data"
    }
   ],
   "source": [
    "SumZero( n ).Sum()"
   ]
  },
  {
   "cell_type": "markdown",
   "metadata": {},
   "source": [
    "<br>"
   ]
  },
  {
   "cell_type": "markdown",
   "metadata": {},
   "source": [
    "#### Analysis"
   ]
  },
  {
   "cell_type": "markdown",
   "metadata": {},
   "source": [
    "##### **Time** "
   ]
  },
  {
   "cell_type": "markdown",
   "metadata": {},
   "source": [
    "Since we use `an array representing a Range of n numbers`, we will always iterate over the full length of `n`.\n",
    "$$\\implies \\Large{\\bf{O(n)}}$$"
   ]
  },
  {
   "cell_type": "markdown",
   "metadata": {},
   "source": [
    "---"
   ]
  },
  {
   "cell_type": "markdown",
   "metadata": {},
   "source": [
    "##### **Space** "
   ]
  },
  {
   "cell_type": "markdown",
   "metadata": {},
   "source": [
    "We are allocating auxiliary space for the Cross-Cancellation array proportional to the full `Range of n numbers`.\n",
    "$$\\implies \\Large{\\bf{O(n)}}$$"
   ]
  }
 ],
 "metadata": {
  "kernelspec": {
   "display_name": ".NET (C#)",
   "language": "C#",
   "name": ".net-csharp"
  },
  "language_info": {
   "file_extension": ".cs",
   "mimetype": "text/x-csharp",
   "name": "C#",
   "pygments_lexer": "csharp",
   "version": "9.0"
  },
  "orig_nbformat": 4
 },
 "nbformat": 4,
 "nbformat_minor": 2
}
