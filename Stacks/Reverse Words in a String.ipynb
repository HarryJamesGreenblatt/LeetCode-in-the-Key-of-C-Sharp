{
 "cells": [
  {
   "cell_type": "markdown",
   "metadata": {},
   "source": [
    "# Reverse Words in a String"
   ]
  },
  {
   "cell_type": "markdown",
   "metadata": {},
   "source": [
    "Given an input string `s`, *reverse the order of the **words***.\n",
    "\n",
    "A **word** is defined as a sequence of non-space characters. The **words** in `s` will be separated by at least one space.\n",
    "\n",
    "Return *a string of the words in reverse order concatenated by a single space*."
   ]
  },
  {
   "cell_type": "markdown",
   "metadata": {},
   "source": [
    "**Note**:   \n",
    "that `s` may contain leading or trailing spaces or multiple spaces between two words.  \n",
    "    \n",
    "The returned string should only have a *single space separating the words.* Do not include any extra spaces."
   ]
  },
  {
   "cell_type": "markdown",
   "metadata": {
    "dotnet_interactive": {
     "language": "csharp"
    }
   },
   "source": [
    "**Example 1**:\n",
    "> ```\n",
    "> Input: s = \"the sky is blue\"\n",
    "> Output: \"blue is sky the\"\n",
    "> ```\n",
    "\n",
    "<br>\n",
    "\n",
    "**Example 2**:\n",
    "> ```\n",
    "> Input: s = \"  hello world  \"\n",
    "> Output: \"world hello\"\n",
    "> ```\n",
    "\n",
    "Explanation:   \n",
    "Your reversed string should not contain leading or trailing spaces.\n",
    "<br>\n",
    "<br>\n",
    "\n",
    "**Example 3**:\n",
    "> ```\n",
    "> Input: s = \"a good   example\"\n",
    "> Output: \"example good a\"\n",
    "> ```\n",
    "\n",
    "Explanation:   \n",
    "You need to reduce multiple spaces between two words to a single space in the reversed string.\n"
   ]
  },
  {
   "cell_type": "markdown",
   "metadata": {},
   "source": [
    "**Constraints**:\n",
    "- `1 <= s.length <= 104`\n",
    "- `s` contains English letters (upper-case and lower-case), digits, and spaces ' '.\n",
    "- There is at least one word in `s`."
   ]
  },
  {
   "cell_type": "markdown",
   "metadata": {},
   "source": [
    "<br>"
   ]
  },
  {
   "cell_type": "markdown",
   "metadata": {},
   "source": [
    "### Two Pass  `StringBuilder` Stack"
   ]
  },
  {
   "cell_type": "markdown",
   "metadata": {},
   "source": [
    "##### Psuedo"
   ]
  },
  {
   "cell_type": "markdown",
   "metadata": {},
   "source": [
    "```\n",
    "Create a dynamically sized, mutable StringBuilder object which can store any given 'word' that we'd like to add into the result.\n",
    "\n",
    "Create another dynamically sized, mutable StringBuilder object which can \"build up\" the reversed words. \n",
    "\n",
    "Create a word Stack to represent the non-decreasing sequence StringBuilder objects as the reversed words of the input string.\n",
    "\n",
    "For each character in the input string:\n",
    "\n",
    "    If the given character is not a whitespace:\n",
    "        Append the character to the 'word' and continue to the next iteration.\n",
    "\n",
    "    Else, \n",
    "        all characters up until a whitespace have been added, so it's now a complete word.\n",
    "        Push the completed word on to the word Stack.\n",
    "        Replace the current StringBuilder 'word' with a new, empty StringBuilder. \n",
    "\n",
    "If there's any non-whitespace remaining in our word, \n",
    "    add it onto the word Stack .\n",
    "\n",
    "While the word Stack is not empty:\n",
    "\n",
    "    Pop the top word off of the word Stack and Append it to the 'reversed words' StringBuilder.\n",
    "    \n",
    "    If the word Stack is still not empty after doing this:\n",
    "        Replace the 'reversed words' StringBuilder with a new one that has a ' ' appended at the end.  \n",
    "\n",
    "    Otherwise, just leave the 'reversed words' as is.\n",
    "\n",
    "The reversed words StringBuilder now contains each reversed word separated by a single whitespace, as required. \n",
    "```"
   ]
  },
  {
   "cell_type": "markdown",
   "metadata": {},
   "source": [
    "<br>"
   ]
  },
  {
   "cell_type": "markdown",
   "metadata": {},
   "source": [
    "#### Implementation"
   ]
  },
  {
   "cell_type": "code",
   "execution_count": null,
   "metadata": {
    "dotnet_interactive": {
     "language": "csharp"
    },
    "vscode": {
     "languageId": "dotnet-interactive.csharp"
    }
   },
   "outputs": [],
   "source": [
    "public string ReverseWords(string s) {\n",
    "    \n",
    "    // Create a dynamically sized, mutable StringBuilder object which can store any given 'word'\n",
    "    // that we'd like to add into the result.\n",
    "    //\n",
    "    // Create another dynamically sized, mutable StringBuilder object which can \"build up\" the reversed words. \n",
    "    StringBuilder word          = new StringBuilder(s.Length),\n",
    "                  reversedWords = new StringBuilder(s.Length);\n",
    "    \n",
    "    \n",
    "    // Create a word Stack which can represent a non-decreasing sequence StringBuilder objects \n",
    "    // corresponding to the words of the input string, but sorted in reversed order.\n",
    "    Stack<StringBuilder> wordStack = new Stack<StringBuilder>();\n",
    "\n",
    "    \n",
    "    // For each character in the input string:\n",
    "    foreach( char character in s )\n",
    "    {\n",
    "\n",
    "        // If the given character is not a whitespace:\n",
    "        if( character != ' ' )\n",
    "\n",
    "            // Append the character to the 'word' and continue to the next iteration.\n",
    "            word.Append( character );\n",
    "    \n",
    "\n",
    "        // Else, \n",
    "        //      all characters up until a whitespace have been added, so it's now a complete word.\n",
    "        else if ( word.Length != 0 )\n",
    "        {\n",
    "\n",
    "            // push the completed word on to the word Stack.\n",
    "            wordStack.Push( word );\n",
    "\n",
    "            \n",
    "            // Replace the current StringBuilder 'word' with a new, empty StringBuilder\n",
    "            word = new StringBuilder();\n",
    "\n",
    "        }\n",
    "        \n",
    "    }\n",
    "\n",
    "\n",
    "    // If there's any non-whitespace remaining in our word, \n",
    "    // add it onto the word Stack.\n",
    "    if(word.Length != 0)\n",
    "        wordStack.Push( word );\n",
    "\n",
    "\n",
    "    // While the word Stack is not empty:\n",
    "    while( wordStack.TryPeek(out StringBuilder top) )\n",
    "    {\n",
    "\n",
    "        // Pop the top word off of the word Stack and Append it to the 'reversed words' StringBuilder.\n",
    "        reversedWords.Append( wordStack.Pop() );\n",
    "        \n",
    "\n",
    "        // If the word Stack is still not empty after doing this:\n",
    "        //      Replace the 'reversed words' StringBuilder with a new one that has a ' ' appended at the end.  \n",
    "        //      \n",
    "        //      Otherwise, just leave the 'reversed words' as is.\n",
    "        reversedWords = \n",
    "\n",
    "            (wordStack.TryPeek(out StringBuilder result)) \n",
    "            ? \n",
    "            reversedWords.Append(' ') \n",
    "            : \n",
    "            reversedWords;\n",
    "    \n",
    "    }\n",
    "\n",
    "    \n",
    "    // The reversed words StringBuilder now contains each reversed word separated by a single whitespace, \n",
    "    // as required. \n",
    "    return reversedWords.ToString();\n",
    "\n",
    "}"
   ]
  },
  {
   "cell_type": "code",
   "execution_count": null,
   "metadata": {
    "dotnet_interactive": {
     "language": "csharp"
    },
    "vscode": {
     "languageId": "dotnet-interactive.csharp"
    }
   },
   "outputs": [],
   "source": [
    "//test input\n",
    "public string s = \"   the sky is blue   \";"
   ]
  },
  {
   "cell_type": "code",
   "execution_count": null,
   "metadata": {
    "dotnet_interactive": {
     "language": "csharp"
    },
    "vscode": {
     "languageId": "dotnet-interactive.csharp"
    }
   },
   "outputs": [
    {
     "data": {
      "text/plain": [
       "blue is sky the"
      ]
     },
     "metadata": {},
     "output_type": "display_data"
    }
   ],
   "source": [
    "ReverseWords(s)"
   ]
  },
  {
   "cell_type": "markdown",
   "metadata": {},
   "source": [
    "<br>"
   ]
  },
  {
   "cell_type": "markdown",
   "metadata": {},
   "source": [
    "#### Analysis"
   ]
  },
  {
   "cell_type": "markdown",
   "metadata": {},
   "source": [
    "##### **Time**"
   ]
  },
  {
   "cell_type": "markdown",
   "metadata": {},
   "source": [
    "Since we perform string building operations `For each character in the input string`, we must always traverse the full length of the input string.\n",
    "$$\\implies O(n)$$\n",
    "<br>\n",
    "\n",
    "$Subsequently,$\n",
    "   \n",
    "as we then iteratively Pop off each word from the Stack, `While the word Stack is not empty`, until our reversed words string is built, we must always traverse the full length of the Stack, which is also proportional to the length of the input string. \n",
    "$$\\implies O(n) + O(n) = 2 * O(n)$$\n",
    "$$\\implies \\bf{\\Large{O(n)}}$$"
   ]
  },
  {
   "cell_type": "markdown",
   "metadata": {},
   "source": [
    "---"
   ]
  },
  {
   "cell_type": "markdown",
   "metadata": {},
   "source": [
    "##### **Space**"
   ]
  },
  {
   "cell_type": "markdown",
   "metadata": {},
   "source": [
    "We are allocating auxiliary space to account for each of the StringBuilder words and the combined reversed words result, each assigned a max capacity proportianal to the size of the input string.\n",
    "$$\\implies O(n) + O(n) = 2*O(n)$$\n",
    "<br>\n",
    "\n",
    "$Additionally,$   \n",
    "we are allocating auxiliary space to account for the words Stack which is also proportional to the size of the input string.\n",
    "$$\\implies 2*O(n) + O(n) = 3*O(n)$$\n",
    "$$\\implies \\bf{\\Large{O(n)}}$$\n"
   ]
  }
 ],
 "metadata": {
  "kernelspec": {
   "display_name": ".NET (C#)",
   "language": "C#",
   "name": ".net-csharp"
  },
  "language_info": {
   "file_extension": ".cs",
   "mimetype": "text/x-csharp",
   "name": "C#",
   "pygments_lexer": "csharp",
   "version": "9.0"
  },
  "orig_nbformat": 4
 },
 "nbformat": 4,
 "nbformat_minor": 2
}
