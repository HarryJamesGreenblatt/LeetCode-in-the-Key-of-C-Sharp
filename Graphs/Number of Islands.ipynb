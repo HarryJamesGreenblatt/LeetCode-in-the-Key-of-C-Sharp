{
 "cells": [
  {
   "cell_type": "markdown",
   "metadata": {},
   "source": [
    "# Number of Islands"
   ]
  },
  {
   "cell_type": "markdown",
   "metadata": {},
   "source": [
    "Given an $m \\times n$ 2D binary grid `grid` which represents a map of '`1`'s (land) and '`0`'s (water), return the number of **island**s.   \n",
    "    \n",
    "An **island** is surrounded by water and is formed by connecting adjacent lands horizontally or vertically. You may assume all four edges of the grid are all surrounded by water."
   ]
  },
  {
   "cell_type": "markdown",
   "metadata": {},
   "source": [
    "**Example 1**:    \n",
    "> ```\n",
    "> Input: grid = [\n",
    ">   [\"1\",\"1\",\"1\",\"1\",\"0\"],\n",
    ">   [\"1\",\"1\",\"0\",\"1\",\"0\"],\n",
    ">   [\"1\",\"1\",\"0\",\"0\",\"0\"],\n",
    ">   [\"0\",\"0\",\"0\",\"0\",\"0\"]\n",
    "> ]\n",
    "> Output: 1\n",
    "> ```\n",
    "\n",
    "<br>\n",
    "         \n",
    "**Example 2**:   \n",
    "> ```\n",
    "> Input: grid = [\n",
    ">   [\"1\",\"1\",\"0\",\"0\",\"0\"],\n",
    ">   [\"1\",\"1\",\"0\",\"0\",\"0\"],\n",
    ">   [\"0\",\"0\",\"1\",\"0\",\"0\"],\n",
    ">   [\"0\",\"0\",\"0\",\"1\",\"1\"]\n",
    "> ]\n",
    "> Output: 3\n",
    "> ```\n",
    "\n",
    "<br>"
   ]
  },
  {
   "cell_type": "markdown",
   "metadata": {},
   "source": [
    "**Constraints**:\n",
    "\n",
    "- `m == grid.length`\n",
    "- `n == grid[i].length`\n",
    "- `1 <= m, n <= 300`\n",
    "- `grid[i][j] is '0' or '1'.`\n",
    "\n"
   ]
  },
  {
   "cell_type": "markdown",
   "metadata": {},
   "source": [
    "<br>"
   ]
  },
  {
   "cell_type": "markdown",
   "metadata": {},
   "source": [
    "### Depth First Search Traversal"
   ]
  },
  {
   "cell_type": "markdown",
   "metadata": {},
   "source": [
    "##### Psuedo"
   ]
  },
  {
   "cell_type": "markdown",
   "metadata": {},
   "source": []
  },
  {
   "cell_type": "markdown",
   "metadata": {},
   "source": [
    "<br>"
   ]
  },
  {
   "cell_type": "markdown",
   "metadata": {},
   "source": [
    "#### Implementation"
   ]
  },
  {
   "cell_type": "code",
   "execution_count": null,
   "metadata": {
    "dotnet_interactive": {
     "language": "csharp"
    },
    "vscode": {
     "languageId": "dotnet-interactive.csharp"
    }
   },
   "outputs": [],
   "source": [
    "private int IslandCount;\n",
    "\n",
    "\n",
    "public int NumIslands( char[][] grid )\n",
    "{\n",
    "\n",
    "\n",
    "    if( grid == null || grid.Length == 0 )\n",
    "        return 0;\n",
    "\n",
    "    \n",
    "    for( int row = 0; row < grid.Length; row++ )\n",
    "    {\n",
    "\n",
    "\n",
    "        for( int col = 0; col < grid[row].Length; col++ )\n",
    "        {\n",
    "\n",
    "\n",
    "            if(grid[row][col] == '1')\n",
    "            {\n",
    "\n",
    "\n",
    "                IslandCount += DepthFirstSearch(\n",
    "                    grid,\n",
    "                    row,\n",
    "                    col\n",
    "                );\n",
    "\n",
    "            }\n",
    "\n",
    "        }\n",
    "\n",
    "    }\n",
    "\n",
    "\n",
    "    return IslandCount;\n",
    "\n",
    "}\n",
    "\n",
    "\n",
    "\n",
    "public bool ThisIsNotAnIsland( char[][] grid, int row, int col )\n",
    "{\n",
    "\n",
    "\n",
    "    return (\n",
    "        row < 0 \n",
    "        || \n",
    "        row > grid.Length - 1\n",
    "        || \n",
    "        col < 0 \n",
    "        || \n",
    "        col > grid[row].Length - 1 \n",
    "        || \n",
    "        grid[row][col] == '0'\n",
    "    );\n",
    "\n",
    "}\n",
    "\n",
    "\n",
    "public int DepthFirstSearch( char[][] grid, int row , int col )\n",
    "{\n",
    "\n",
    "\n",
    "    if( ThisIsNotAnIsland( grid, row, col ) )\n",
    "        return 0;\n",
    "\n",
    "    \n",
    "\n",
    "    grid[row][col] = '0';\n",
    "\n",
    "\n",
    "    \n",
    "    DepthFirstSearch( grid, row + 1, col );\n",
    "\n",
    "    \n",
    "\n",
    "    DepthFirstSearch( grid, row - 1, col );\n",
    "\n",
    "\n",
    "\n",
    "    DepthFirstSearch( grid, row, col + 1 );\n",
    "\n",
    "\n",
    "\n",
    "    DepthFirstSearch( grid, row, col - 1 );\n",
    "\n",
    "    \n",
    "\n",
    "    return 1;\n",
    "\n",
    "}"
   ]
  },
  {
   "cell_type": "code",
   "execution_count": null,
   "metadata": {
    "dotnet_interactive": {
     "language": "csharp"
    },
    "vscode": {
     "languageId": "dotnet-interactive.csharp"
    }
   },
   "outputs": [],
   "source": [
    "public char [][] grid = new char [][] {\n",
    "    new char [] {'1'},\n",
    "    new char [] {'1'}\n",
    "};"
   ]
  },
  {
   "cell_type": "code",
   "execution_count": null,
   "metadata": {
    "dotnet_interactive": {
     "language": "csharp"
    },
    "vscode": {
     "languageId": "dotnet-interactive.csharp"
    }
   },
   "outputs": [
    {
     "data": {
      "text/html": [
       "<div class=\"dni-plaintext\">1</div>"
      ]
     },
     "metadata": {},
     "output_type": "display_data"
    }
   ],
   "source": [
    "NumIslands( grid )"
   ]
  },
  {
   "cell_type": "markdown",
   "metadata": {},
   "source": [
    "<br>"
   ]
  },
  {
   "cell_type": "markdown",
   "metadata": {},
   "source": [
    "#### Analysis"
   ]
  },
  {
   "cell_type": "markdown",
   "metadata": {},
   "source": [
    "##### **Time** "
   ]
  },
  {
   "cell_type": "markdown",
   "metadata": {},
   "source": []
  },
  {
   "cell_type": "markdown",
   "metadata": {},
   "source": [
    "---"
   ]
  },
  {
   "cell_type": "markdown",
   "metadata": {},
   "source": [
    "##### **Space** "
   ]
  },
  {
   "cell_type": "markdown",
   "metadata": {},
   "source": []
  }
 ],
 "metadata": {
  "kernelspec": {
   "display_name": ".NET (C#)",
   "language": "C#",
   "name": ".net-csharp"
  },
  "language_info": {
   "file_extension": ".cs",
   "mimetype": "text/x-csharp",
   "name": "C#",
   "pygments_lexer": "csharp",
   "version": "9.0"
  },
  "orig_nbformat": 4
 },
 "nbformat": 4,
 "nbformat_minor": 2
}
