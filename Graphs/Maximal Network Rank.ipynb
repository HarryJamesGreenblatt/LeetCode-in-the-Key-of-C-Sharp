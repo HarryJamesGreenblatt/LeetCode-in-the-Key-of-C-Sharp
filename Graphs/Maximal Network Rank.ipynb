{
 "cells": [
  {
   "cell_type": "markdown",
   "metadata": {},
   "source": [
    "# Maximal Network Rank"
   ]
  },
  {
   "cell_type": "markdown",
   "metadata": {},
   "source": [
    "There is an infrastructure of `n` cities with some number of `roads` connecting these cities.   \n",
    "  \n",
    "Each `roads[i] = [ai, bi]` indicates that there is a *bidirectional road* between cities `ai` and `bi`.\n",
    "\n",
    "The **network rank** of **two different cities** is defined as the total number of *directly connected roads* to either city.   \n",
    "If a road is directly connected to both cities, it is only counted once.\n",
    "    \n",
    "The **maximal network rank** of the infrastructure is the **maximum network rank** of all pairs of different cities.\n",
    "\n",
    "Given the integer `n` and the array `roads`,   \n",
    "return the **maximal network rank** of the entire infrastructure."
   ]
  },
  {
   "cell_type": "markdown",
   "metadata": {},
   "source": [
    "**Example 1**:    \n",
    "![Picture Can Go Here](https://assets.leetcode.com/uploads/2020/09/21/ex1.png)\n",
    "> ```\n",
    "> Input: n = 4, roads = [[0,1],[0,3],[1,2],[1,3]]\n",
    "> Output: 4\n",
    "> ```\n",
    "\n",
    "Explanation:      \n",
    "The network rank of cities `0` and `1` is `4` as there are `4` roads that are connected to either `0` or `1`. The road between `0` and `1` is only counted once.\n",
    "<br>\n",
    "<br>\n",
    "      \n",
    "      \n",
    "**Example 2**:   \n",
    "![Picture Can Go Here](https://assets.leetcode.com/uploads/2020/09/21/ex2.png)\n",
    "> ```\n",
    "> Input: n = 5, roads = [[0,1],[0,3],[1,2],[1,3],[2,3],[2,4]]\n",
    "> Output: 5\n",
    "> ```\n",
    "   \n",
    "Explanation:     \n",
    "There are `5` roads that are connected to cities `1` or `2`.\n",
    "<br>\n",
    "\n",
    "**Example 3**:   \n",
    "> ```\n",
    "> Input: n = 8, roads = [[0,1],[1,2],[2,3],[2,4],[5,6],[5,7]]\n",
    "> Output: 5\n",
    "> ```\n",
    "   \n",
    "<br>"
   ]
  },
  {
   "cell_type": "markdown",
   "metadata": {},
   "source": [
    "**Constraints**:\n",
    "\n",
    "- `2 <= n <= 100`\n",
    "- `0 <= roads.length <= n * (n - 1) / 2`\n",
    "- `roads[i].length == 2`\n",
    "- `0 <= ai, bi <= n-1`\n",
    "- `ai != bi`\n",
    "- Each pair of cities has at most one road connecting them.\n",
    "\n"
   ]
  },
  {
   "cell_type": "markdown",
   "metadata": {},
   "source": [
    "<br>"
   ]
  },
  {
   "cell_type": "markdown",
   "metadata": {},
   "source": [
    "### Approach Method Name"
   ]
  },
  {
   "cell_type": "markdown",
   "metadata": {},
   "source": [
    "##### Psuedo"
   ]
  },
  {
   "cell_type": "markdown",
   "metadata": {},
   "source": []
  },
  {
   "cell_type": "markdown",
   "metadata": {},
   "source": [
    "<br>"
   ]
  },
  {
   "cell_type": "markdown",
   "metadata": {},
   "source": [
    "#### Implementation"
   ]
  },
  {
   "cell_type": "code",
   "execution_count": null,
   "metadata": {
    "dotnet_interactive": {
     "language": "csharp"
    },
    "vscode": {
     "languageId": "dotnet-interactive.csharp"
    }
   },
   "outputs": [],
   "source": [
    "public int MaximalNetworkRank(int n, int[][] roads) {\n",
    "    int[,] nodeConnectivityMatrix = new int[n,n];\n",
    "    int maxPath = 0;\n",
    "    int[] countEdges = new int[n];\n",
    "    foreach(int[] road in roads){\n",
    "        nodeConnectivityMatrix[road[0], road[1]] = 1;\n",
    "        nodeConnectivityMatrix[road[1], road[0]] = 1;\n",
    "        countEdges[road[0]]++;\n",
    "        countEdges[road[1]]++;\n",
    "    }\n",
    "    \n",
    "    //Traverse through countEdges array and check connectivity of each node with another node\n",
    "    for(int i = 0; i < n; i++){\n",
    "        for(int j = i+1; j < n; j++){\n",
    "            maxPath = Math.Max(maxPath, countEdges[i] + countEdges[j] - nodeConnectivityMatrix[i,j]);\n",
    "        }\n",
    "    }\n",
    "    return maxPath;\n",
    "}"
   ]
  },
  {
   "cell_type": "code",
   "execution_count": null,
   "metadata": {
    "dotnet_interactive": {
     "language": "csharp"
    },
    "vscode": {
     "languageId": "dotnet-interactive.csharp"
    }
   },
   "outputs": [],
   "source": [
    "public int[][] roads = new int[][]\n",
    "{\n",
    "    new int[]{0,1},\n",
    "    new int[]{0,3},\n",
    "    new int[]{1,2},\n",
    "    new int[]{1,3}\n",
    "};\n",
    "\n",
    "public int n = 4;"
   ]
  },
  {
   "cell_type": "code",
   "execution_count": null,
   "metadata": {
    "dotnet_interactive": {
     "language": "csharp"
    },
    "vscode": {
     "languageId": "dotnet-interactive.csharp"
    }
   },
   "outputs": [
    {
     "data": {
      "text/html": [
       "<div class=\"dni-plaintext\">4</div>"
      ]
     },
     "metadata": {},
     "output_type": "display_data"
    }
   ],
   "source": [
    "MaximalNetworkRank(n, roads)"
   ]
  },
  {
   "cell_type": "markdown",
   "metadata": {},
   "source": [
    "<br>"
   ]
  },
  {
   "cell_type": "markdown",
   "metadata": {},
   "source": [
    "#### Analysis"
   ]
  },
  {
   "cell_type": "markdown",
   "metadata": {},
   "source": [
    "##### **Time** "
   ]
  },
  {
   "cell_type": "markdown",
   "metadata": {},
   "source": []
  },
  {
   "cell_type": "markdown",
   "metadata": {},
   "source": [
    "---"
   ]
  },
  {
   "cell_type": "markdown",
   "metadata": {},
   "source": [
    "##### **Space** "
   ]
  },
  {
   "cell_type": "markdown",
   "metadata": {},
   "source": []
  }
 ],
 "metadata": {
  "kernelspec": {
   "display_name": ".NET (C#)",
   "language": "C#",
   "name": ".net-csharp"
  },
  "language_info": {
   "file_extension": ".cs",
   "mimetype": "text/x-csharp",
   "name": "C#",
   "pygments_lexer": "csharp",
   "version": "9.0"
  },
  "orig_nbformat": 4
 },
 "nbformat": 4,
 "nbformat_minor": 2
}
