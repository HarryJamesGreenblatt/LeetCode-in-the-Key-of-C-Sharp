{
 "cells": [
  {
   "cell_type": "markdown",
   "metadata": {},
   "source": [
    "# Max Consecutive Ones"
   ]
  },
  {
   "cell_type": "markdown",
   "metadata": {},
   "source": [
    "Given a binary array `nums`, return the *maximum number of consecutive* *`1`'s* in the array.\n",
    "\n"
   ]
  },
  {
   "cell_type": "markdown",
   "metadata": {},
   "source": [
    "**Example 1**:\n",
    "> ```\n",
    "> Input: nums = [1,1,0,1,1,1]\n",
    "> Output: 3\n",
    "> ```\n",
    "Explanation: The first two digits or the last three digits are *consecutive `1`s*.  \n",
    "The *maximum number of consecutive `1`s* is `3`.\n",
    "<br>\n",
    "<br>\n",
    "\n",
    "**Example 2**:\n",
    "> ```\n",
    "> Input: nums = [1,0,1,1,0,1]\n",
    "> Output: 2\n",
    "> ```"
   ]
  },
  {
   "cell_type": "markdown",
   "metadata": {},
   "source": [
    "**Constraints**:\n",
    "\n",
    "- `1 <= nums.length <= 105`\n",
    "- `nums[i]` is either `0` or `1`."
   ]
  },
  {
   "cell_type": "markdown",
   "metadata": {},
   "source": [
    "<br>"
   ]
  },
  {
   "cell_type": "code",
   "execution_count": null,
   "metadata": {
    "dotnet_interactive": {
     "language": "csharp"
    },
    "vscode": {
     "languageId": "dotnet-interactive.csharp"
    }
   },
   "outputs": [],
   "source": [
    "// Test Input\n",
    "public int[] nums = {1,1,1,0,0,0,1,1,0,1,1,1,1,0,0,0,0,1,1,1,0,0,1,1};"
   ]
  },
  {
   "cell_type": "markdown",
   "metadata": {},
   "source": [
    "<br>"
   ]
  },
  {
   "cell_type": "markdown",
   "metadata": {},
   "source": [
    "### One Pass"
   ]
  },
  {
   "cell_type": "markdown",
   "metadata": {},
   "source": [
    "##### Psuedo"
   ]
  },
  {
   "cell_type": "markdown",
   "metadata": {},
   "source": [
    "```\n",
    "initialize a Counter to 0\n",
    "initialize a variable to store the Max at 0\n",
    "\n",
    "for each binary digit in nums:\n",
    "\n",
    "    if the binary digit is '1':\n",
    "        increment the Counter by one\n",
    "    \n",
    "    else  \n",
    "        maxOnes = max(Counter, Max)\n",
    "        reset the counter\n",
    "\n",
    "return max(Counter, Max)\n",
    "```"
   ]
  },
  {
   "cell_type": "markdown",
   "metadata": {},
   "source": [
    "<br>"
   ]
  },
  {
   "cell_type": "markdown",
   "metadata": {},
   "source": [
    "#### Implementation"
   ]
  },
  {
   "cell_type": "code",
   "execution_count": null,
   "metadata": {
    "dotnet_interactive": {
     "language": "csharp"
    },
    "vscode": {
     "languageId": "dotnet-interactive.csharp"
    }
   },
   "outputs": [],
   "source": [
    "public int FindMaxConsecutiveOnes(int[] nums) {\n",
    "\n",
    "    // initialize a Counter to 0\n",
    "    // initialize a variable to store the Max at 0\n",
    "    int count   = 0,\n",
    "        maxOnes = 0;\n",
    "\n",
    "    // for each binary digit in nums:\n",
    "    foreach(int num in nums)\n",
    "    {\n",
    "        // if the binary digit is '1':\n",
    "        //      increment the Counter by one\n",
    "        if(num == 1) \n",
    "            count += 1;\n",
    "\n",
    "        // else  \n",
    "        //      maxOnes = max(Counter, Max)\n",
    "        //      reset the counter\n",
    "        else\n",
    "        {\n",
    "            maxOnes = Math.Max(count, maxOnes);\n",
    "            count = 0;\n",
    "        }  \n",
    "    }\n",
    "    \n",
    "    // return max(Counter, Max)\n",
    "    return Math.Max(count , maxOnes);\n",
    "    \n",
    "}"
   ]
  },
  {
   "cell_type": "code",
   "execution_count": null,
   "metadata": {
    "dotnet_interactive": {
     "language": "csharp"
    },
    "vscode": {
     "languageId": "dotnet-interactive.csharp"
    }
   },
   "outputs": [
    {
     "data": {
      "text/html": [
       "<div class=\"dni-plaintext\">4</div>"
      ]
     },
     "metadata": {},
     "output_type": "display_data"
    }
   ],
   "source": [
    "FindMaxConsecutiveOnes(nums)"
   ]
  },
  {
   "cell_type": "markdown",
   "metadata": {},
   "source": [
    "<br>"
   ]
  },
  {
   "cell_type": "markdown",
   "metadata": {},
   "source": [
    "#### Analysis"
   ]
  },
  {
   "cell_type": "markdown",
   "metadata": {},
   "source": [
    "##### Time"
   ]
  },
  {
   "cell_type": "markdown",
   "metadata": {},
   "source": [
    "Let $\\quad n \\quad$ represent the *length* of `nums`.  \n",
    "\n",
    "Since, `for each binary digit in nums`, we perform a conditional check to determine wether a given bit is a `0 `or a `1`, we must always iterate through the full length of the `nums` array.\n",
    "$$\\implies \\bf{\\Large{O(n)}}$$"
   ]
  },
  {
   "cell_type": "markdown",
   "metadata": {},
   "source": [
    "##### Space"
   ]
  },
  {
   "cell_type": "markdown",
   "metadata": {},
   "source": [
    "There are NO auxiliary data structures which are allocated in memory to support this solution.\n",
    "$$\\implies \\bf{\\Large{O(1)}}$$ "
   ]
  },
  {
   "cell_type": "markdown",
   "metadata": {},
   "source": [
    "<br>"
   ]
  },
  {
   "cell_type": "markdown",
   "metadata": {},
   "source": [
    "### One Line"
   ]
  },
  {
   "cell_type": "markdown",
   "metadata": {},
   "source": [
    "##### Psuedo"
   ]
  },
  {
   "cell_type": "markdown",
   "metadata": {},
   "source": [
    "```\n",
    "Join the nums array into a string, \n",
    "\n",
    "then Split the string into an array by using '0' as a delimeter,\n",
    "\n",
    "then, taking the max value of this new array, \n",
    "\n",
    "(which produces the longest series of consecutive ones as a string),\n",
    "\n",
    "return that result's Lentgth property.\n",
    "```"
   ]
  },
  {
   "cell_type": "markdown",
   "metadata": {},
   "source": [
    "<br>"
   ]
  },
  {
   "cell_type": "markdown",
   "metadata": {},
   "source": [
    "#### Implementation"
   ]
  },
  {
   "cell_type": "code",
   "execution_count": null,
   "metadata": {
    "dotnet_interactive": {
     "language": "csharp"
    },
    "vscode": {
     "languageId": "dotnet-interactive.csharp"
    }
   },
   "outputs": [],
   "source": [
    "public int FindMaxConsecutiveOnes(int[] nums) {\n",
    "\n",
    "// Join the nums array into a string, \n",
    "// then Split the string into an array by using '0' as a delimeter,\n",
    "// then, taking the max value of this new array, \n",
    "// (which produces the longest series of consecutive ones as a string),\n",
    "// return that result's Lentgth property.\n",
    "\n",
    "    return  string.Join(\"\", nums).Split('0').Max().Length;\n",
    "\n",
    "}"
   ]
  },
  {
   "cell_type": "code",
   "execution_count": null,
   "metadata": {
    "dotnet_interactive": {
     "language": "csharp"
    },
    "vscode": {
     "languageId": "dotnet-interactive.csharp"
    }
   },
   "outputs": [
    {
     "data": {
      "text/html": [
       "<div class=\"dni-plaintext\">4</div>"
      ]
     },
     "metadata": {},
     "output_type": "display_data"
    }
   ],
   "source": [
    "FindMaxConsecutiveOnes(nums)"
   ]
  },
  {
   "cell_type": "markdown",
   "metadata": {},
   "source": [
    "<br>"
   ]
  },
  {
   "cell_type": "markdown",
   "metadata": {},
   "source": [
    "#### Analysis"
   ]
  },
  {
   "cell_type": "markdown",
   "metadata": {},
   "source": [
    "##### **Time**"
   ]
  },
  {
   "cell_type": "markdown",
   "metadata": {},
   "source": [
    "Let $\\quad n \\quad$ represent the *length* of `nums`.  \n",
    "\n",
    "Since we are converting `nums` to a string using `string.Join(\"\", nums)`, we must iterate through the full length of the `nums` array.\n",
    "$$\\implies \\bf{\\Large{O(n)}}$$\n",
    "<br>\n",
    "\n",
    "$Subsequently,$\n",
    "   \n",
    "as we `then Split the string into an array by using '0' as a delimeter`, we perform an additional one-off *linear operation* upon the `nums` array.\n",
    "$$\\implies O(n) + O(n) = 2*O(n)$$\n",
    "$$\\implies \\bf{\\Large{O(n)}}$$\n",
    "\n"
   ]
  },
  {
   "cell_type": "markdown",
   "metadata": {},
   "source": [
    "---"
   ]
  },
  {
   "cell_type": "markdown",
   "metadata": {},
   "source": [
    "##### **Space**"
   ]
  },
  {
   "cell_type": "markdown",
   "metadata": {},
   "source": [
    "There are auxiliary data structures allocated in memory to support this solution which are the same size as the input array .\n",
    "$$\\implies \\bf{\\Large{O(n)}}$$ "
   ]
  }
 ],
 "metadata": {
  "kernelspec": {
   "display_name": ".NET (C#)",
   "language": "C#",
   "name": ".net-csharp"
  },
  "language_info": {
   "file_extension": ".cs",
   "mimetype": "text/x-csharp",
   "name": "C#",
   "pygments_lexer": "csharp",
   "version": "9.0"
  },
  "orig_nbformat": 4,
  "vscode": {
   "interpreter": {
    "hash": "693e5b9c73a7f05cc764e2a39a82e339013c9ca9f4a1690eb595e8f06f5850eb"
   }
  }
 },
 "nbformat": 4,
 "nbformat_minor": 2
}
