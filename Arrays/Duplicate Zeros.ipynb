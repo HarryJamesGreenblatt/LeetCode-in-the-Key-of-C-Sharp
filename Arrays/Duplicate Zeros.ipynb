{
 "cells": [
  {
   "cell_type": "markdown",
   "metadata": {},
   "source": [
    "# Duplicate Zeros"
   ]
  },
  {
   "cell_type": "markdown",
   "metadata": {},
   "source": [
    "Given a fixed-length integer array `arr`, *duplicate each occurrence of zero*, shifting the remaining elements to the *right*.\n",
    "\n",
    "Note that elements beyond the length of the original array are not written.  \n",
    "Do the above modifications to the input array **in place** and **do not return anything**."
   ]
  },
  {
   "cell_type": "markdown",
   "metadata": {},
   "source": [
    "**Example 1**:\n",
    "> ```\n",
    "> Input: arr = [1,0,2,3,0,4,5,0]\n",
    "> Output: [1,0,0,2,3,0,0,4]\n",
    "> ```\n",
    "Explanation:   \n",
    "After calling your function, the input array is modified to: `[1,0,0,2,3,0,0,4]`\n",
    "<br>\n",
    "<br>\n",
    "\n",
    "**Example 2**:\n",
    "> ```\n",
    "> Input: arr = [1,2,3]\n",
    "> Output: [1,2,3]\n",
    "> ```\n",
    "Explanation:   \n",
    "After calling your function, the input array is modified to: `[1,2,3]`\n",
    "<br>\n",
    "<br>"
   ]
  },
  {
   "cell_type": "markdown",
   "metadata": {},
   "source": [
    "<br>"
   ]
  },
  {
   "cell_type": "code",
   "execution_count": null,
   "metadata": {
    "dotnet_interactive": {
     "language": "csharp"
    },
    "vscode": {
     "languageId": "dotnet-interactive.csharp"
    }
   },
   "outputs": [],
   "source": [
    "// test input\n",
    "public int[] arr = {1,0,2,3,0,4,5,0};"
   ]
  },
  {
   "cell_type": "markdown",
   "metadata": {},
   "source": [
    "<br>"
   ]
  },
  {
   "cell_type": "markdown",
   "metadata": {},
   "source": [
    "### Three Lines"
   ]
  },
  {
   "cell_type": "markdown",
   "metadata": {},
   "source": [
    "##### Psuedo"
   ]
  },
  {
   "cell_type": "markdown",
   "metadata": {},
   "source": [
    "```\n",
    "Start an index variable for incrementation.\n",
    "\n",
    "Join the array into string,  \n",
    "then Replace the joined string with another one containing duplicated zeros, \n",
    "then substitute again with a another one trimmed to the same length as arr.\n",
    "\n",
    "For each 'digit' character in the converted string:\n",
    "    Clobber the value at the current index with the current 'digit',\n",
    "    taking care to first convert the character to an integer\n",
    "```"
   ]
  },
  {
   "cell_type": "markdown",
   "metadata": {},
   "source": [
    "<br>"
   ]
  },
  {
   "cell_type": "markdown",
   "metadata": {},
   "source": [
    "#### Implementation"
   ]
  },
  {
   "cell_type": "code",
   "execution_count": null,
   "metadata": {
    "dotnet_interactive": {
     "language": "csharp"
    },
    "vscode": {
     "languageId": "dotnet-interactive.csharp"
    }
   },
   "outputs": [],
   "source": [
    "public void DuplicateZeros( int[] arr ) {\n",
    "\n",
    "    // Start an index variable for incrementation.\n",
    "    int i = 0;\n",
    "\n",
    "    // Join the array into string,  \n",
    "    // then Replace the joined string with another one containing duplicated zeros, \n",
    "    // then substitute again with a another one trimmed to the same length as arr.\n",
    "    string convert_arr_to_string_with_duplicated_zeros =\n",
    "        string.Join(\"\",arr).Replace(\"0\",\"00\").Substring(0,arr.Length);\n",
    "\n",
    "        \n",
    "    // For each 'digit' character in the converted string:\n",
    "    foreach (  char digit in \n",
    "        convert_arr_to_string_with_duplicated_zeros\n",
    "    )\n",
    "        // Clobber the value at the current index with the current 'digit',\n",
    "        // taking care to first convert the character to an integer       \n",
    "        arr[i++] = digit - '0';\n",
    "    \n",
    "}"
   ]
  },
  {
   "cell_type": "code",
   "execution_count": null,
   "metadata": {
    "dotnet_interactive": {
     "language": "csharp"
    },
    "vscode": {
     "languageId": "dotnet-interactive.csharp"
    }
   },
   "outputs": [
    {
     "data": {
      "text/html": [
       "<span><a href=\"https://docs.microsoft.com/dotnet/api/system.int32?view=net-5.0\">System.Int32</a></span>"
      ]
     },
     "metadata": {},
     "output_type": "display_data"
    }
   ],
   "source": [
    "('2' - '0').GetType()"
   ]
  },
  {
   "cell_type": "code",
   "execution_count": null,
   "metadata": {
    "dotnet_interactive": {
     "language": "csharp"
    },
    "vscode": {
     "languageId": "dotnet-interactive.csharp"
    }
   },
   "outputs": [],
   "source": [
    "DuplicateZeros(arr)"
   ]
  },
  {
   "cell_type": "code",
   "execution_count": null,
   "metadata": {
    "dotnet_interactive": {
     "language": "csharp"
    },
    "vscode": {
     "languageId": "dotnet-interactive.csharp"
    }
   },
   "outputs": [
    {
     "data": {
      "text/html": [
       "<table><thead><tr><th><i>index</i></th><th>value</th></tr></thead><tbody><tr><td>0</td><td><div class=\"dni-plaintext\">1</div></td></tr><tr><td>1</td><td><div class=\"dni-plaintext\">0</div></td></tr><tr><td>2</td><td><div class=\"dni-plaintext\">0</div></td></tr><tr><td>3</td><td><div class=\"dni-plaintext\">2</div></td></tr><tr><td>4</td><td><div class=\"dni-plaintext\">3</div></td></tr><tr><td>5</td><td><div class=\"dni-plaintext\">0</div></td></tr><tr><td>6</td><td><div class=\"dni-plaintext\">0</div></td></tr><tr><td>7</td><td><div class=\"dni-plaintext\">4</div></td></tr></tbody></table>"
      ]
     },
     "metadata": {},
     "output_type": "display_data"
    }
   ],
   "source": [
    "arr"
   ]
  },
  {
   "cell_type": "markdown",
   "metadata": {},
   "source": [
    "<br>"
   ]
  },
  {
   "cell_type": "markdown",
   "metadata": {},
   "source": [
    "#### Analysis"
   ]
  },
  {
   "cell_type": "markdown",
   "metadata": {},
   "source": [
    "##### **Time**"
   ]
  },
  {
   "cell_type": "markdown",
   "metadata": {},
   "source": [
    "Because we `Join the array into string, then Replace the joined string with another one containing duplicated zeros, then substitute again with a another one trimmed to the same length as arr`, we must iterate through the full length of the array 3 times.\n",
    "$$\\implies O(n) + O(n) + O(n) = 3*O(n)$$\n",
    "<br>\n",
    "   \n",
    "$Subsequently,$   \n",
    "   \n",
    "Since we then modify the input array in-place one element at a time `For each 'digit' character in the converted string`, we must again iterate through the full length on the input array.\n",
    "$$\\implies 3*O(n) + O(n) = 4*O(n)$$\n",
    "$$\\implies \\bf{\\Large{O(n)}}$$\n"
   ]
  },
  {
   "cell_type": "markdown",
   "metadata": {},
   "source": [
    "---"
   ]
  },
  {
   "cell_type": "markdown",
   "metadata": {},
   "source": [
    "##### **Space**"
   ]
  },
  {
   "cell_type": "markdown",
   "metadata": {},
   "source": [
    "We allocate auxiliary space to support the string operations proportional to the length of the input array, additional space to support extending the string to include duplicated zeros proportianal to up to twice the length of the array, and additional space to support triming the resultant string from the right to have the same length as the input array.\n",
    "$$\\implies O(n) + O(n) + O(n) = 3*O(n)$$\n",
    "$$\\implies \\bf{\\Large{O(n)}}$$\n",
    "\n"
   ]
  }
 ],
 "metadata": {
  "kernelspec": {
   "display_name": ".NET (C#)",
   "language": "C#",
   "name": ".net-csharp"
  },
  "language_info": {
   "file_extension": ".cs",
   "mimetype": "text/x-csharp",
   "name": "C#",
   "pygments_lexer": "csharp",
   "version": "9.0"
  },
  "orig_nbformat": 4
 },
 "nbformat": 4,
 "nbformat_minor": 2
}
