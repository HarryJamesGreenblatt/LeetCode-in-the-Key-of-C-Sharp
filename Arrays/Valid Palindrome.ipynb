{
 "cells": [
  {
   "cell_type": "markdown",
   "metadata": {},
   "source": [
    "# Valid Palindrome"
   ]
  },
  {
   "cell_type": "markdown",
   "metadata": {},
   "source": [
    "A phrase is a **palindrome** if, after *converting all uppercase letters into lowercase letters* and *removing all non-alphanumeric characters*, it **reads the same forward and backward**.    \n",
    "\n",
    "Alphanumeric characters include letters and numbers.  \n",
    "  \n",
    "Given a *string* `s`, return `true` if it is a palindrome, or `false` otherwise."
   ]
  },
  {
   "cell_type": "markdown",
   "metadata": {},
   "source": [
    "**Example 1**:\n",
    "> ```\n",
    "> Input: s = \"A man, a plan, a canal: Panama\"\n",
    "> Output: true\n",
    "> ```\n",
    "\n",
    "Explanation:   \n",
    "\"amanaplanacanalpanama\" is a palindrome.\n",
    "<br>\n",
    "<br>\n",
    "\n",
    "**Example 2**:\n",
    "> ```\n",
    "> Input: s = \"race a car\"\n",
    "> Output: false\n",
    "> ```\n",
    "\n",
    "Explanation:   \n",
    "\"raceacar\" is not a palindrome.\n",
    "<br>\n",
    "<br>\n",
    "\n",
    "**Example 3**:\n",
    "> ```\n",
    "> Input: s = \" \"\n",
    "> Output: true\n",
    "> ```\n",
    "\n",
    "Explanation:  \n",
    "`s` is an empty string `\"\"` after removing non-alphanumeric characters.   \n",
    "Since an empty string reads the same forward and backward, it is a palindrome. `[16,1,0,9,100]`.\n",
    "After sorting, it becomes `[0,1,9,16,100]`."
   ]
  },
  {
   "cell_type": "markdown",
   "metadata": {},
   "source": [
    "**Constraints**:\n",
    "\n",
    "- `1 <= s.length <= 2 * 105`\n",
    "- `s` consists only of printable ASCII characters."
   ]
  },
  {
   "cell_type": "markdown",
   "metadata": {},
   "source": [
    "<br>"
   ]
  },
  {
   "cell_type": "markdown",
   "metadata": {},
   "source": [
    "### One Pass, Two Pointers"
   ]
  },
  {
   "cell_type": "markdown",
   "metadata": {},
   "source": [
    "##### Psuedo"
   ]
  },
  {
   "cell_type": "markdown",
   "metadata": {},
   "source": []
  },
  {
   "cell_type": "markdown",
   "metadata": {},
   "source": [
    "<br>"
   ]
  },
  {
   "cell_type": "markdown",
   "metadata": {},
   "source": [
    "#### Implementation"
   ]
  },
  {
   "cell_type": "code",
   "execution_count": null,
   "metadata": {
    "dotnet_interactive": {
     "language": "csharp"
    },
    "vscode": {
     "languageId": "dotnet-interactive.csharp"
    }
   },
   "outputs": [],
   "source": []
  },
  {
   "cell_type": "markdown",
   "metadata": {},
   "source": [
    "<br>"
   ]
  },
  {
   "cell_type": "markdown",
   "metadata": {},
   "source": [
    "#### Analysis"
   ]
  },
  {
   "cell_type": "markdown",
   "metadata": {},
   "source": [
    "##### Time"
   ]
  },
  {
   "cell_type": "markdown",
   "metadata": {},
   "source": []
  },
  {
   "cell_type": "markdown",
   "metadata": {},
   "source": [
    "##### Space"
   ]
  },
  {
   "cell_type": "markdown",
   "metadata": {},
   "source": []
  }
 ],
 "metadata": {
  "kernelspec": {
   "display_name": ".NET (C#)",
   "language": "C#",
   "name": ".net-csharp"
  },
  "language_info": {
   "file_extension": ".cs",
   "mimetype": "text/x-csharp",
   "name": "C#",
   "pygments_lexer": "csharp",
   "version": "9.0"
  },
  "orig_nbformat": 4
 },
 "nbformat": 4,
 "nbformat_minor": 2
}
