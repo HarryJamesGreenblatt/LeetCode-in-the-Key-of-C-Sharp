{
 "cells": [
  {
   "cell_type": "markdown",
   "metadata": {},
   "source": [
    "# Valid Palindrome"
   ]
  },
  {
   "cell_type": "markdown",
   "metadata": {},
   "source": [
    "A phrase is a **palindrome** if, after *converting all uppercase letters into lowercase letters* and *removing all non-alphanumeric characters*, it **reads the same forward and backward**.    \n",
    "\n",
    "Alphanumeric characters include letters and numbers.  \n",
    "  \n",
    "Given a *string* `s`, return `true` if it is a palindrome, or `false` otherwise."
   ]
  },
  {
   "cell_type": "markdown",
   "metadata": {},
   "source": [
    "**Example 1**:\n",
    "> ```\n",
    "> Input: s = \"A man, a plan, a canal: Panama\"\n",
    "> Output: true\n",
    "> ```\n",
    "\n",
    "Explanation:   \n",
    "\"amanaplanacanalpanama\" is a palindrome.\n",
    "<br>\n",
    "<br>\n",
    "\n",
    "**Example 2**:\n",
    "> ```\n",
    "> Input: s = \"race a car\"\n",
    "> Output: false\n",
    "> ```\n",
    "\n",
    "Explanation:   \n",
    "\"raceacar\" is not a palindrome.\n",
    "<br>\n",
    "<br>\n",
    "\n",
    "**Example 3**:\n",
    "> ```\n",
    "> Input: s = \" \"\n",
    "> Output: true\n",
    "> ```\n",
    "\n",
    "Explanation:  \n",
    "`s` is an empty string `\"\"` after removing non-alphanumeric characters.   \n",
    "Since an empty string reads the same forward and backward, it is a palindrome. `[16,1,0,9,100]`.\n",
    "After sorting, it becomes `[0,1,9,16,100]`."
   ]
  },
  {
   "cell_type": "markdown",
   "metadata": {},
   "source": [
    "**Constraints**:\n",
    "\n",
    "- `1 <= s.length <= 2 * 105`\n",
    "- `s` consists only of printable ASCII characters."
   ]
  },
  {
   "cell_type": "markdown",
   "metadata": {},
   "source": [
    "<br>"
   ]
  },
  {
   "cell_type": "markdown",
   "metadata": {},
   "source": [
    "### One Pass, Two Pointers"
   ]
  },
  {
   "cell_type": "markdown",
   "metadata": {},
   "source": [
    "##### Psuedo"
   ]
  },
  {
   "cell_type": "markdown",
   "metadata": {},
   "source": [
    "```\n",
    "Set up a LeftPointer at the BEGINNING of the string,\n",
    "along with a RightPointer at the END of the string,\n",
    "both to inwardly ITERATE through every character up until their meeting point:\n",
    "\n",
    "    Move the LeftPointer forward for as long the character under the LeftPointer is not a Letter or Digit.\n",
    "\n",
    "    Move the RightPointer back for as long the character under the RightPointer is not a Letter or Digit.\n",
    "\n",
    "    If, at any point, the Letter or Digit under the LeftPointer, \n",
    "    once converted to Lowercase, \n",
    "    does not equal the Letter or Digit under the RightPointer,\n",
    "        then the string is NOT a palindrome\n",
    "\n",
    "At this point,\n",
    "we can assume the string is infact a Palindrome   \n",
    "```"
   ]
  },
  {
   "cell_type": "markdown",
   "metadata": {},
   "source": [
    "<br>"
   ]
  },
  {
   "cell_type": "markdown",
   "metadata": {},
   "source": [
    "#### Implementation"
   ]
  },
  {
   "cell_type": "code",
   "execution_count": null,
   "metadata": {
    "dotnet_interactive": {
     "language": "csharp"
    },
    "vscode": {
     "languageId": "dotnet-interactive.csharp"
    }
   },
   "outputs": [],
   "source": [
    "public bool IsPalindrome( string s )\n",
    "{\n",
    "\n",
    "    // Set up a LeftPointer at the BEGINNING of the string,\n",
    "    // along with a RightPointer at the END of the string,\n",
    "    // both to inwardly ITERATE through every character up until their meeting point:\n",
    "    for( \n",
    "        int LeftPointer = 0, RightPointer = s.Length - 1; \n",
    "        LeftPointer < RightPointer; \n",
    "        LeftPointer++, RightPointer--\n",
    "    )\n",
    "    {\n",
    "\n",
    "        // Move the LeftPointer forward \n",
    "        // for as long the character under the LeftPointer is not a Letter or Digit.\n",
    "        while( LeftPointer < RightPointer && !char.IsLetterOrDigit(s[LeftPointer]) )\n",
    "            LeftPointer++;\n",
    "\n",
    "\n",
    "        // Move the RightPointer back \n",
    "        // for as long the character under the RightPointer is not a Letter or Digit.\n",
    "        while( LeftPointer < RightPointer && !char.IsLetterOrDigit(s[RightPointer]) )\n",
    "            RightPointer--;\n",
    "\n",
    "        \n",
    "        // If, at any point, the Letter or Digit under the LeftPointer, \n",
    "        // once converted to Lowercase, \n",
    "        // does not equal the Letter or Digit under the RightPointer,\n",
    "        if( char.ToLower(s[LeftPointer]) != char.ToLower(s[RightPointer]) )  \n",
    "        \n",
    "            // then the string is NOT a palindrome\n",
    "            return false;\n",
    "            \n",
    "    }\n",
    "\n",
    "    // At this point,\n",
    "    // we can assume the string is in fact a Palindrome   \n",
    "    return true;\n",
    "\n",
    "}"
   ]
  },
  {
   "cell_type": "markdown",
   "metadata": {},
   "source": [
    "<br>"
   ]
  },
  {
   "cell_type": "markdown",
   "metadata": {},
   "source": [
    "#### Analysis"
   ]
  },
  {
   "cell_type": "markdown",
   "metadata": {},
   "source": [
    "##### Time"
   ]
  },
  {
   "cell_type": "markdown",
   "metadata": {},
   "source": [
    "As we `Set up a LeftPointer at the BEGINNING of the string, along with a RightPointer at the END of the string,both to inwardly ITERATE through every character up until their meeting point`, we  must always iterate through the full length of the input string.\n",
    "$$\\implies O(n)$$"
   ]
  },
  {
   "cell_type": "markdown",
   "metadata": {},
   "source": [
    "##### Space"
   ]
  },
  {
   "cell_type": "markdown",
   "metadata": {},
   "source": [
    "No auxiliary space is used in addition to the input string\n",
    "$$\\implies O(1)$$"
   ]
  }
 ],
 "metadata": {
  "kernelspec": {
   "display_name": ".NET (C#)",
   "language": "C#",
   "name": ".net-csharp"
  },
  "language_info": {
   "file_extension": ".cs",
   "mimetype": "text/x-csharp",
   "name": "C#",
   "pygments_lexer": "csharp",
   "version": "9.0"
  },
  "orig_nbformat": 4
 },
 "nbformat": 4,
 "nbformat_minor": 2
}
