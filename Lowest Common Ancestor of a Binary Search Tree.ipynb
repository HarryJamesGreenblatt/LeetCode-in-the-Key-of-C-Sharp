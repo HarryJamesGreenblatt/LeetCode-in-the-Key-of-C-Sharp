{
 "cells": [
  {
   "cell_type": "markdown",
   "metadata": {},
   "source": [
    "# Lowest Common Ancestor of a Binary Search Tree"
   ]
  },
  {
   "cell_type": "markdown",
   "metadata": {},
   "source": [
    "Given a *binary search tree (BST)*,   \n",
    "find the ***lowest common ancestor (LCA) node*** of two given nodes in the BST.\n",
    "   \n",
    "According to the definition of LCA on Wikipedia:   \n",
    "“The lowest common ancestor is defined between two nodes `p` and `q` as the *lowest node* in Tree  Tthat has both `p` and `q` as *descendants* (where we allow a node to be a descendant of itself).”"
   ]
  },
  {
   "cell_type": "markdown",
   "metadata": {},
   "source": [
    "**Example 1**:    \n",
    "![Picture Can Go Here](https://assets.leetcode.com/uploads/2018/12/14/binarysearchtree_improved.png)\n",
    "> ```\n",
    "> Input: \n",
    "> Output:\n",
    "> ```\n",
    "\n",
    "Explanation:      \n",
    "The LCA of nodes 2 and 8 is 6.\n",
    "<br>\n",
    "<br>\n",
    "      \n",
    "      \n",
    "**Example 2**:   \n",
    "![Picture Can Go Here](https://assets.leetcode.com/uploads/2018/12/14/binarysearchtree_improved.png)\n",
    "> ```\n",
    "> Input: root = [6,2,8,0,4,7,9,null,null,3,5], p = 2, q = 8\n",
    "> Output: 6\n",
    "> ```\n",
    "\n",
    "Explanation:      \n",
    "The LCA of nodes 2 and 4 is 2,   \n",
    "since a node can be a descendant of itself according to the LCA definition.\n",
    "<br>\n",
    "<br>\n",
    "\n",
    "**Example 3**:   \n",
    "> ```\n",
    "> Input: root = [2,1], p = 2, q = 1\n",
    "> Output: 2\n",
    "> ```\n",
    "   \n",
    "<br>"
   ]
  },
  {
   "cell_type": "markdown",
   "metadata": {},
   "source": [
    "**Constraints**:\n",
    "\n",
    "- The number of nodes in the tree is in the range `[2, 105]`.\n",
    "- `-109 <= Node.val <= 109`\n",
    "- All `Node.val` are unique.\n",
    "- `p != q`\n",
    "- `p` and `q` will exist in the BST.\n",
    "\n"
   ]
  },
  {
   "cell_type": "markdown",
   "metadata": {},
   "source": [
    "<br>"
   ]
  },
  {
   "cell_type": "markdown",
   "metadata": {},
   "source": [
    "### Approach Method Name"
   ]
  },
  {
   "cell_type": "markdown",
   "metadata": {},
   "source": [
    "##### Psuedo"
   ]
  },
  {
   "cell_type": "markdown",
   "metadata": {},
   "source": [
    "```\n",
    "Set up a Pointer to the Root of the Input BST.\n",
    "\n",
    "\n",
    "Iterating While this Current Node still Points to a Valid Node:\n",
    "\n",
    "    If both  Node P's  AND   Node q's  Values are GREATER than the Current Node's:\n",
    "            Point the Current Node to it's Right Child.\n",
    "\n",
    "    Conversely, \n",
    "    If both  Node P's  AND   Node q's  Values are LESS than the Current Node's:\n",
    "             Point the Current Node to it's Left Child.\n",
    " \n",
    "    Otherwise,\n",
    "            it stands to reason that the Current Node itself is the LCA.\n",
    "\n",
    "\n",
    "After all that, \n",
    "not having returned at this point indicates that\n",
    "the Input Tree must have beeen empty to begin with.\n",
    "```"
   ]
  },
  {
   "cell_type": "markdown",
   "metadata": {},
   "source": [
    "<br>"
   ]
  },
  {
   "cell_type": "markdown",
   "metadata": {},
   "source": [
    "#### Implementation"
   ]
  },
  {
   "cell_type": "code",
   "execution_count": null,
   "metadata": {
    "dotnet_interactive": {
     "language": "csharp"
    },
    "vscode": {
     "languageId": "dotnet-interactive.csharp"
    }
   },
   "outputs": [],
   "source": [
    "// Definition for a binary tree node.\n",
    "\n",
    "public class TreeNode {\n",
    "    public int val;\n",
    "    public TreeNode left;\n",
    "    public TreeNode right;\n",
    "    public TreeNode(int x) { val = x; }\n",
    "}"
   ]
  },
  {
   "cell_type": "code",
   "execution_count": null,
   "metadata": {
    "dotnet_interactive": {
     "language": "csharp"
    },
    "vscode": {
     "languageId": "dotnet-interactive.csharp"
    }
   },
   "outputs": [],
   "source": [
    "public TreeNode LowestCommonAncestor(TreeNode root, TreeNode p, TreeNode q) \n",
    "{\n",
    "    \n",
    "    // Set up a Pointer to the Root of the Input BST.\n",
    "    TreeNode CurrentNode = root;\n",
    "\n",
    "\n",
    "    // Iterating While this Current Node still Points to a Valid Node:  \n",
    "    while( CurrentNode != null )\n",
    "    {\n",
    "\n",
    "        // If both  Node P's  AND   Node q's  Values are GREATER than the Current Node's \n",
    "        if( p.val > CurrentNode.val && q.val > CurrentNode.val )\n",
    "            CurrentNode = CurrentNode.right; // Point the Current Node to it's Right Child.\n",
    "        \n",
    "        \n",
    "        // Conversely, \n",
    "        // If both  Node P's  AND   Node q's  Values are LESS than the Current Node's \n",
    "        else if( p.val < CurrentNode.val && q.val < CurrentNode.val )\n",
    "            CurrentNode = CurrentNode.left;  // Point the Current Node to it's Left Child.\n",
    "\n",
    "\n",
    "        // Otherwise,\n",
    "        // it stands to reason that the Current Node itself is the LCA.\n",
    "        else\n",
    "            return CurrentNode;\n",
    "    }\n",
    "\n",
    "\n",
    "    // After all that, \n",
    "    // not having returned at this point indicates that\n",
    "    // the Input Tree must have beeen empty to begin with.\n",
    "    return null;\n",
    "\n",
    "}\n",
    "\n"
   ]
  },
  {
   "cell_type": "markdown",
   "metadata": {},
   "source": [
    "<br>"
   ]
  },
  {
   "cell_type": "markdown",
   "metadata": {},
   "source": [
    "#### Analysis"
   ]
  },
  {
   "cell_type": "markdown",
   "metadata": {},
   "source": [
    "##### **Time** "
   ]
  },
  {
   "cell_type": "markdown",
   "metadata": {},
   "source": [
    "Since we are `Iterating While this Current Node still Points to a Valid Node:`, we will, at worst case, need to traverse an entrirely linear structure, such as:\n",
    "```    \n",
    "      a\n",
    "     /\n",
    "    b\n",
    "   /\n",
    "  c\n",
    " / \\\n",
    "d   e\n",
    "```\n",
    "$$\\implies \\Large{\\bf{O(n)}}$$"
   ]
  },
  {
   "cell_type": "markdown",
   "metadata": {},
   "source": [
    "---"
   ]
  },
  {
   "cell_type": "markdown",
   "metadata": {},
   "source": [
    "##### **Space** "
   ]
  },
  {
   "cell_type": "markdown",
   "metadata": {},
   "source": [
    "We are not allocating any auxiliary space in addditon to the Input BST.\n",
    "$$\\implies \\Large{\\bf{O(1)}}$$"
   ]
  }
 ],
 "metadata": {
  "kernelspec": {
   "display_name": ".NET (C#)",
   "language": "C#",
   "name": ".net-csharp"
  },
  "language_info": {
   "file_extension": ".cs",
   "mimetype": "text/x-csharp",
   "name": "C#",
   "pygments_lexer": "csharp",
   "version": "9.0"
  },
  "orig_nbformat": 4
 },
 "nbformat": 4,
 "nbformat_minor": 2
}
