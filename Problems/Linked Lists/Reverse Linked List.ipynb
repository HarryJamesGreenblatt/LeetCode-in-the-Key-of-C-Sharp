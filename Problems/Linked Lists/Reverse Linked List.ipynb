{
 "cells": [
  {
   "cell_type": "markdown",
   "metadata": {},
   "source": [
    "# Reverse Linked List"
   ]
  },
  {
   "cell_type": "markdown",
   "metadata": {},
   "source": [
    "Given the `head` of a singly linked list, *reverse the list*, and return the reversed list."
   ]
  },
  {
   "cell_type": "markdown",
   "metadata": {},
   "source": [
    "**Example 1**:    \n",
    "![ufukkedup](https://assets.leetcode.com/uploads/2021/02/19/rev1ex1.jpg)\n",
    "> ```\n",
    "> Input: head = [1,2,3,4,5]\n",
    "> Output: [5,4,3,2,1]\n",
    "> ```\n",
    "<br>\n",
    "\n",
    "**Example 2**:   \n",
    "![ufukkedup](https://assets.leetcode.com/uploads/2021/02/19/rev1ex2.jpg)\n",
    "> ```\n",
    "> Input: head = [1,2]\n",
    "> Output: [2,1]\n",
    "> ```\n",
    "<br>\n",
    "\n",
    "\n",
    "**Example 3**:   \n",
    "> ```\n",
    "> Input: head = []\n",
    "> Output: []\n",
    "> ```\n",
    "   "
   ]
  },
  {
   "cell_type": "markdown",
   "metadata": {},
   "source": [
    "**Constraints**:\n",
    "\n",
    "- The number of nodes in the list is the range `[0, 5000]`.\n",
    "- `-5000 <= Node.val <= 5000`"
   ]
  },
  {
   "cell_type": "markdown",
   "metadata": {},
   "source": [
    "<br>"
   ]
  },
  {
   "cell_type": "markdown",
   "metadata": {},
   "source": [
    "### One Pass Three Pointers"
   ]
  },
  {
   "cell_type": "markdown",
   "metadata": {},
   "source": [
    "##### Psuedo"
   ]
  },
  {
   "cell_type": "markdown",
   "metadata": {},
   "source": [
    "```\n",
    "Set up a Pointer to strore a reference to the Current Node in the traversal, initialized to the position under the head of the List.\n",
    "\n",
    "Set up a Pointer to store a reference to the Previous Node in the traversal, initialized to null as there is no Previous Node at the initial state of the traversal.\n",
    "\n",
    "Set up a Pointer to store a reference to the Next Node in the traversal, taking no initial value.\n",
    "\n",
    "Iterating While the Pointer under the Current Node is not null:\n",
    "\n",
    "    Move the 'Next Pointer' under the Current Node's Next Node\n",
    "    Unhook the Current Node's Next Node and reattach it to the Node under the 'Previous Pointer'\n",
    "    Move the 'Previous Pointer' under the Current Node\n",
    "    Unhook the Current Node and reattach it to the Node under the 'Next Pointer'\n",
    "\n",
    "The Linked List is now is now in Reverse Order,\n",
    "as required.\n",
    "```"
   ]
  },
  {
   "cell_type": "markdown",
   "metadata": {},
   "source": [
    "<br>"
   ]
  },
  {
   "cell_type": "markdown",
   "metadata": {},
   "source": [
    "#### Implementation"
   ]
  },
  {
   "cell_type": "code",
   "execution_count": null,
   "metadata": {
    "dotnet_interactive": {
     "language": "csharp"
    },
    "vscode": {
     "languageId": "dotnet-interactive.csharp"
    }
   },
   "outputs": [],
   "source": [
    "public ListNode ReverseList( ListNode head )\n",
    "{\n",
    "\n",
    "    //Set up a Pointer to strore a reference to the Current Node in the traversal, \n",
    "    // initialized to the position under the head of the List.\n",
    "    ListNode CurrentNode  = head;\n",
    "\n",
    "\n",
    "    // Set up a Pointer to store a reference to the Previous Node in the traversal, \n",
    "    // initialized to null as there is no Previous Node at the initial state of the traversal.\n",
    "    ListNode PreviousNode = null;\n",
    "\n",
    "\n",
    "    // Set up a Pointer to store a reference to the Next Node in the traversal, \n",
    "    // taking no initial value.\n",
    "    ListNode NextNode;\n",
    "\n",
    "\n",
    "    // Iterating While the Pointer under the Current Node is not null:\n",
    "    while(CurrentNode != null)\n",
    "    {\n",
    "\n",
    "        // Move the 'Next Pointer' under the Current Node's Next Node\n",
    "        NextNode = CurrentNode.next;\n",
    "\n",
    "        \n",
    "        //Unhook the Current Node's Next Node \n",
    "        //and reattach it to the Node under the 'Previous Pointer'\n",
    "        CurrentNode.next = PreviousNode;\n",
    "\n",
    "\n",
    "        // Move the 'Previous Pointer' under the Current Node\n",
    "        PreviousNode = CurrentNode;\n",
    "\n",
    "\n",
    "        // Unhook the Current Node \n",
    "        // and reattach it to the Node under the 'Next Pointer'\n",
    "        CurrentNode = NextNode;\n",
    "\n",
    "    }\n",
    "\n",
    "    \n",
    "    // Once the iteration is complete,\n",
    "    // Unhook the input Lists's head Pointer and reattach it to the New List's 'Previous Pointer', \n",
    "    // which now represents the \"head\" of the Reversed List.\n",
    "    head = PreviousNode;  \n",
    "\n",
    "\n",
    "    // The Linked List is now is now in Reverse Order,\n",
    "    // as required.\n",
    "    return head;\n",
    "\n",
    "}"
   ]
  },
  {
   "cell_type": "code",
   "execution_count": null,
   "metadata": {
    "dotnet_interactive": {
     "language": "csharp"
    },
    "vscode": {
     "languageId": "dotnet-interactive.csharp"
    }
   },
   "outputs": [],
   "source": [
    "// Definition for singly-linked list.\n",
    "public class ListNode {\n",
    "    public int val;\n",
    "    public ListNode next;\n",
    "    public ListNode(int val=0, ListNode next=null) {\n",
    "        this.val = val;\n",
    "        this.next = next;\n",
    "    }\n",
    "}\n"
   ]
  },
  {
   "cell_type": "markdown",
   "metadata": {},
   "source": [
    "<br>"
   ]
  },
  {
   "cell_type": "markdown",
   "metadata": {},
   "source": [
    "#### Analysis"
   ]
  },
  {
   "cell_type": "markdown",
   "metadata": {},
   "source": [
    "##### **Time**  "
   ]
  },
  {
   "cell_type": "markdown",
   "metadata": {},
   "source": [
    "As we are `Iterating While the Pointer under the Current Node is not null`, although we may perform the reversal operation in a single pass, we must always traverse the full length of the input List in every case.\n",
    "$$\\implies \\Large{\\bf{O(n)}}$$"
   ]
  },
  {
   "cell_type": "markdown",
   "metadata": {},
   "source": [
    "---"
   ]
  },
  {
   "cell_type": "markdown",
   "metadata": {},
   "source": [
    "##### **Space** "
   ]
  },
  {
   "cell_type": "markdown",
   "metadata": {},
   "source": [
    "The three Pointers would require *8 bytes* of space each (in a 64-bit flat address space),   \n",
    "meaning that the entire algorithm requires *24 bytes independent of the length of the list*.  \n",
    "<br>\n",
    "\n",
    "$Consequently,$   \n",
    "the function describing the space used is  $f(n)=24$ .   \n",
    "\n",
    "To find the *order*, we simply need to find a function  $g(n)$,    \n",
    "such that we can find constants  $c$  and  $n_0$  where  $f(n) \\leq c*g(n)$  for all  $n \\leq n_0$ .   \n",
    "<br>\n",
    "   \n",
    "$\\textit{As Such}$,   \n",
    "The function  $g(n)=1$  and the constants  $c=24$  and  $n_0=1$  fit the bill nicely.\n",
    "$$\\implies \\Large{\\bf{O(1)}}$$"
   ]
  },
  {
   "cell_type": "markdown",
   "metadata": {},
   "source": [
    "<br>"
   ]
  }
 ],
 "metadata": {
  "kernelspec": {
   "display_name": ".NET (C#)",
   "language": "C#",
   "name": ".net-csharp"
  },
  "language_info": {
   "file_extension": ".cs",
   "mimetype": "text/x-csharp",
   "name": "C#",
   "pygments_lexer": "csharp",
   "version": "9.0"
  },
  "orig_nbformat": 4
 },
 "nbformat": 4,
 "nbformat_minor": 2
}
