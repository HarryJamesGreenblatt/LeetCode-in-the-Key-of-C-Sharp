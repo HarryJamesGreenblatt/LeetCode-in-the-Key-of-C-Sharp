{
 "cells": [
  {
   "cell_type": "markdown",
   "metadata": {},
   "source": [
    "# Copy List with Random Pointer "
   ]
  },
  {
   "cell_type": "markdown",
   "metadata": {},
   "source": [
    "A $\\textit{linked list}$ of length $n$ is given such that each node contains an additional **random pointer**,   \n",
    "which could point to any node in the list, or null.\n",
    "\n",
    "Construct a *deep copy* of the list. The *deep copy* should consist of exactly $n$ brand new nodes, where each new node has its value set to the value of its corresponding original node.  \n",
    "    \n",
    "Both the $next$ and $\\textit{random pointer}$ of the new nodes should point to new nodes in the copied list such that the pointers in the original list and copied list represent the same list state. **None of the pointers in the new list should point to nodes in the original list**.\n",
    "\n",
    "For example, if there are two nodes `X` and `Y` in the original list, where `X.random --> Y`, then for the corresponding two nodes `x` and `y` in the copied list, `x.random --> y`.\n",
    "\n",
    "Return the *head of the copied linked list*.\n",
    "\n",
    "The linked list is represented in the input/output as a list of n nodes. Each node is represented as a pair of `[val, random_index]` where:\n",
    "\n",
    "- `val`: an integer representing `Node.val`\n",
    "- `random_index`: the index of the node (range from `0` to `n-1`) that the random pointer points to, or `null` if it does not point to any node.\n",
    "   \n",
    "Your code will only be given the head of the original linked list."
   ]
  },
  {
   "cell_type": "markdown",
   "metadata": {
    "dotnet_interactive": {
     "language": "csharp"
    }
   },
   "source": [
    "**Example 1**:    \n",
    "![ufukkedup](https://assets.leetcode.com/uploads/2019/12/18/e1.png)\n",
    "> ```\n",
    "> Input: head = [[7,null],[13,0],[11,4],[10,2],[1,0]]\n",
    "> Output: [[7,null],[13,0],[11,4],[10,2],[1,0]]\n",
    "> ```\n",
    "\n",
    "<br>\n",
    "    \n",
    "**Example 2**:    \n",
    "![ufukkedup](https://assets.leetcode.com/uploads/2019/12/18/e2.png)\n",
    "> ```\n",
    "> Input: head = [[1,1],[2,1]]\n",
    "> Output: [[1,1],[2,1]]\n",
    "> ```\n",
    "\n",
    "<br>\n",
    "\n",
    "**Example 2**:    \n",
    "![ufukkedup](https://assets.leetcode.com/uploads/2019/12/18/e3.png)\n",
    "> ```\n",
    "> Input: head = [[3,null],[3,0],[3,null]]\n",
    "> Output: [[3,null],[3,0],[3,null]]\n",
    "> ```\n",
    "   \n",
    "<br>"
   ]
  },
  {
   "cell_type": "markdown",
   "metadata": {},
   "source": [
    "**Constraints**:\n",
    "\n",
    "- `0 <= n <= 1000`\n",
    "- `-104 <= Node.val <= 104`\n",
    "- `Node.random` is `null` or is pointing to some node in the linked list."
   ]
  },
  {
   "cell_type": "markdown",
   "metadata": {},
   "source": [
    "<br>"
   ]
  },
  {
   "cell_type": "markdown",
   "metadata": {},
   "source": [
    "### Three Pass Four Pointers"
   ]
  },
  {
   "cell_type": "markdown",
   "metadata": {},
   "source": [
    "##### Psuedo"
   ]
  },
  {
   "cell_type": "markdown",
   "metadata": {},
   "source": [
    "```\n",
    "If the input list is empty:\n",
    "    The final result is also an empty list.\n",
    "\n",
    "\n",
    "Set up a Pointer to the head of the input list.\n",
    "\n",
    "\n",
    "Iterating While the Pointer still has remaining Nodes:\n",
    "\n",
    "    Create a New Node which Clones the Node currently under the Pointer.\n",
    "\n",
    "    Point the Clone's next Node to the same Node next to the Node currently under the Pointer.\n",
    "\n",
    "    Disconnect the Node currently under the Pointer from it's next Node\n",
    "    and make the Clone the Node currently under the Pointer's next Node instead.\n",
    "\n",
    "    Advance the Pointer to the Clone's next Node.\n",
    "\n",
    "    ( Having now inserted the Cloned node just next to the original node,\n",
    "      If A->B->C is the original linked list,\n",
    "      The List after weaving cloned nodes would be A->A'->B->B'->C->C' )\n",
    "\n",
    "\n",
    "Following that,\n",
    "we reset the Pointer to the head of the input list.\n",
    "\n",
    "\n",
    "Iterating While the Pointer still has remaining Nodes:\n",
    "\n",
    "    If there's a valid Node at the 'random' address of the Node currently under the Pointer:\n",
    "      Point the 'random' address belonging to the that Node's neighbor,  \n",
    "      which is currently under the Pointer, to the neighbor of that Node's own 'random' element.\n",
    "    Otherwise,\n",
    "      the 'random' address belonging to the that Node's neighbor is empty.\n",
    "\n",
    "    Advance the Pointer ahead of it's next neighbor.\n",
    "\n",
    "\n",
    "After that,\n",
    "We must now \"unweave\" the List to separate the Original List from the Cloned list.\n",
    "i.e. A->A'->B->B'->C->C' would be broken to A->B->C and A'->B'->C'\n",
    "\n",
    "\n",
    "Set up a Pointer to the head of the Original List.    ( A->B->C )\n",
    "Set up a Pointer to the head of the Cloned List.      ( A'->B'->C' )\n",
    "Start the final \"Deep Clone\" List at the head of the Cloned List.\n",
    "\n",
    "\n",
    "Iterating While there's still a valid Node under the Pointer to the Original list:\n",
    "  \n",
    "    Make that Node's neighbor the next Cloned Node.\n",
    "\n",
    "    If there's a valid neighbor to the Node currently under the Pointer to the Cloned List:\n",
    "        Make that neighbor the next Cloned Node.\n",
    "    Otherwise,\n",
    "        the neighbor to the Node currently under the Pointer to the Cloned List is empty.\n",
    "\n",
    "    Advanvce the Pointer traversing the Original List to it's next Node.\n",
    "\n",
    "    Advanvce the Pointer traversing the Clones List to it's next Node. \n",
    "\n",
    "\n",
    "After all that,\n",
    "The \"Deep Clone\" now holds the head of the Cloned Linked List,\n",
    "as required.\n",
    "```"
   ]
  },
  {
   "cell_type": "markdown",
   "metadata": {},
   "source": [
    "<br>"
   ]
  },
  {
   "cell_type": "markdown",
   "metadata": {},
   "source": [
    "#### Implementation"
   ]
  },
  {
   "cell_type": "code",
   "execution_count": null,
   "metadata": {
    "dotnet_interactive": {
     "language": "csharp"
    },
    "vscode": {
     "languageId": "dotnet-interactive.csharp"
    }
   },
   "outputs": [],
   "source": [
    "// Definition for a Node.\n",
    "public class Node {\n",
    "    public int val;\n",
    "    public Node next;\n",
    "    public Node random;\n",
    "    \n",
    "    public Node(int _val) {\n",
    "        val = _val;\n",
    "        next = null;\n",
    "        random = null;\n",
    "    }\n",
    "}"
   ]
  },
  {
   "cell_type": "code",
   "execution_count": null,
   "metadata": {
    "dotnet_interactive": {
     "language": "csharp"
    },
    "vscode": {
     "languageId": "dotnet-interactive.csharp"
    }
   },
   "outputs": [],
   "source": [
    "\n",
    "public Node copyRandomList(Node head_of_input_list) {\n",
    "\n",
    "    // IF the input list is empty:\n",
    "    if (head_of_input_list == null) \n",
    "    {\n",
    "        return null;    // The final result is also an empty list.\n",
    "    }\n",
    "\n",
    "\n",
    "    // Set up a Pointer to the head of the input list.\n",
    "    Node PTR = head_of_input_list;\n",
    "\n",
    "\n",
    "    // Iterating While the Pointer still has remaining Nodes:\n",
    "    while (PTR != null) \n",
    "    {\n",
    "\n",
    "        // Create a New Node which Clones the Node currently under the Pointer.\n",
    "        Node Clone = new Node(PTR.val);\n",
    "\n",
    "\n",
    "        // Point the Clone's next Node  \n",
    "        // to the same Node next to the Node currently under the Pointer.\n",
    "        Clone.next = PTR.next;\n",
    "\n",
    "\n",
    "        // Disconnect the Node currently under the Pointer from it's next Node\n",
    "        // and make the Clone the Node currently under the Pointer's next Node instead.\n",
    "        PTR.next = Clone;\n",
    "\n",
    "\n",
    "        // Advance the Pointer to the Clone's next Node\n",
    "        PTR = Clone.next;\n",
    "        \n",
    "\n",
    "        // ( Having now inserted the Cloned node just next to the original node,\n",
    "        //   If A->B->C is the original linked list,\n",
    "        //   The List after weaving cloned nodes would be A->A'->B->B'->C->C' )\n",
    "\n",
    "    }\n",
    "\n",
    "\n",
    "    // Following that,\n",
    "    // we reset the Pointer to the head of the input list\n",
    "    PTR = head_of_input_list;\n",
    "\n",
    "\n",
    "    // Iterating While the Pointer still has remaining Nodes:\n",
    "    while (PTR != null) \n",
    "    {\n",
    "\n",
    "        // If there's a valid Node at the 'random' address of the Node currently under the Pointer:\n",
    "        //   Point the 'random' address belonging to the that Node's neighbor,  \n",
    "        //   which is currently under the Pointer, to the neighbor of that Node's own 'random' element.\n",
    "        // Otherwise,\n",
    "        //   the 'random' address belonging to the that Node's neighbor is empty.\n",
    "        PTR.next.random = (PTR.random != null) ? PTR.random.next : null;\n",
    "\n",
    "\n",
    "        // Advance the Pointer ahead of it's next neighbor.\n",
    "        PTR = PTR.next.next;\n",
    "\n",
    "    }\n",
    "\n",
    "    // After that,\n",
    "    // We must now \"unweave\" the List to separate the Original List from the Cloned list.\n",
    "    // i.e. A->A'->B->B'->C->C' would be broken to A->B->C and A'->B'->C'\n",
    "\n",
    "\n",
    "    // Set up a Pointer to the head of the Original List. \n",
    "    Node PTR_Original_list = head_of_input_list; // A->B->C\n",
    "\n",
    "\n",
    "    // Set up a Pointer to the head of the Cloned List.\n",
    "    Node PTR_Cloned_list = head_of_input_list.next; // A'->B'->C'\n",
    "\n",
    "\n",
    "    // Start the final \"Deep Clone\" List at the head of the Cloned List. \n",
    "    Node DeepClone = head_of_input_list.next;\n",
    "\n",
    "\n",
    "    // Iterating While there's still a valid Node under the Pointer to the Original list: \n",
    "    while (PTR_Original_list != null) \n",
    "    {\n",
    "\n",
    "        // Make that Node's neighbor the next Cloned Node. \n",
    "        PTR_Original_list.next = PTR_Original_list.next.next;\n",
    "\n",
    "\n",
    "        // If there's a valid neighbor to the Node currently under the Pointer to the Cloned List:\n",
    "        //      Make that neighbor the next Cloned Node.\n",
    "        // Otherwise,\n",
    "        //      the neighbor to the Node currently under the Pointer to the Cloned List is empty.\n",
    "        PTR_Cloned_list.next = (PTR_Cloned_list.next != null) ? PTR_Cloned_list.next.next : null;\n",
    "\n",
    "\n",
    "        // Advanvce the Pointer traversing the Original List to it's next Node. \n",
    "        PTR_Original_list = PTR_Original_list.next;\n",
    "        \n",
    "    \n",
    "        // Advanvce the Pointer traversing the Clones List to it's next Node. \n",
    "        PTR_Cloned_list = PTR_Cloned_list.next;\n",
    "        \n",
    "    }\n",
    "\n",
    "    // After all that,\n",
    "    // The \"Deep Clone\" now holds the head of the Cloned Linked List,\n",
    "    // as required.\n",
    "    return DeepClone;\n",
    "    \n",
    "}"
   ]
  },
  {
   "cell_type": "markdown",
   "metadata": {},
   "source": [
    "<br>"
   ]
  },
  {
   "cell_type": "markdown",
   "metadata": {},
   "source": [
    "#### Analysis"
   ]
  },
  {
   "cell_type": "markdown",
   "metadata": {},
   "source": [
    "##### **Time** "
   ]
  },
  {
   "cell_type": "markdown",
   "metadata": {},
   "source": [
    "Since we are twice `Iterating While the Pointer still has remaining Nodes`, and then `Iterating While there's still a valid Node under the Pointer to the Original list`, we must make three passes spanning the full length of the input list.   \n",
    "\n",
    "$$\\implies O(n) + O(n) + O(n) = 3*O(n)$$\n",
    "$$\\implies \\Large{\\bf{O(n)}}$$"
   ]
  },
  {
   "cell_type": "markdown",
   "metadata": {},
   "source": [
    "---"
   ]
  },
  {
   "cell_type": "markdown",
   "metadata": {},
   "source": [
    "##### **Space** "
   ]
  },
  {
   "cell_type": "markdown",
   "metadata": {},
   "source": [
    "The Four Pointers would require *8 bytes* of space each (in a 64-bit flat address space),   \n",
    "meaning that the entire algorithm requires *32 bytes independent of the length of the list*.  \n",
    "<br>\n",
    "\n",
    "$Consequently,$   \n",
    "the function describing the space used is  $f(n)=32$ .   \n",
    "\n",
    "To find the *order*, we simply need to find a function  $g(n)$,    \n",
    "such that we can find constants  $c$  and  $n_0$  where  $f(n) \\leq c*g(n)$  for all  $n \\leq n_0$ .   \n",
    "<br>\n",
    "   \n",
    "$\\textit{As Such}$,   \n",
    "The function  $g(n)=1$  and the constants  $c=32$  and  $n_0=1$  fit the bill nicely.\n",
    "$$\\implies \\Large{\\bf{O(1)}}$$"
   ]
  }
 ],
 "metadata": {
  "kernelspec": {
   "display_name": ".NET (C#)",
   "language": "C#",
   "name": ".net-csharp"
  },
  "language_info": {
   "file_extension": ".cs",
   "mimetype": "text/x-csharp",
   "name": "C#",
   "pygments_lexer": "csharp",
   "version": "9.0"
  },
  "orig_nbformat": 4
 },
 "nbformat": 4,
 "nbformat_minor": 2
}
