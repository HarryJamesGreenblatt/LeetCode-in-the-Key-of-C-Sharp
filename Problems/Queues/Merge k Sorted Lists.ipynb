{
 "cells": [
  {
   "cell_type": "markdown",
   "metadata": {},
   "source": [
    "# Merge k Sorted Lists"
   ]
  },
  {
   "cell_type": "markdown",
   "metadata": {},
   "source": [
    "You are given an array of `k` linked-lists, each linked-list is sorted in ascending order.   \n",
    "*Merge* all the linked-lists into *one sorted linked-list* and return it."
   ]
  },
  {
   "cell_type": "markdown",
   "metadata": {},
   "source": [
    "**Example 1**:\n",
    "> ```\n",
    "> Input: lists = [[1,4,5],[1,3,4],[2,6]]\n",
    "> Output: [1,1,2,3,4,4,5,6]\n",
    "> ```\n",
    "   \n",
    "Explanation:   \n",
    "The linked-lists are:\n",
    "``` \n",
    "[\n",
    "  1->4->5,\n",
    "  1->3->4,\n",
    "  2->6\n",
    "]\n",
    "```\n",
    "merging them into one sorted list:   \n",
    "`1->1->2->3->4->4->5->6`\n",
    "\n",
    "<br>\n",
    "\n",
    "**Example 2**:\n",
    "> ```\n",
    "> Input: lists = []\n",
    "> Output: []\n",
    "> ```\n",
    "\n",
    "<br>\n",
    "     \n",
    "**Example 3**:\n",
    "> ```\n",
    "> Input: lists = [[]]\n",
    "> Output: []\n",
    "> ```\n",
    "\n",
    "<br>"
   ]
  },
  {
   "cell_type": "markdown",
   "metadata": {},
   "source": [
    "**Constraints**:\n",
    "\n",
    "- `k == lists.length`\n",
    "- `0 <= k <= 104`\n",
    "- `0 <= lists[i].length <= 500`\n",
    "- `-104 <= lists[i][j] <= 104`\n",
    "- `lists[i]` is sorted in ascending order.\n",
    "- The sum of `lists[i].length` will *not* exceed `104`."
   ]
  },
  {
   "cell_type": "markdown",
   "metadata": {},
   "source": [
    "<br>"
   ]
  },
  {
   "cell_type": "markdown",
   "metadata": {},
   "source": [
    "### Two Passes, Four Pointers and a  Priority Queue"
   ]
  },
  {
   "cell_type": "markdown",
   "metadata": {},
   "source": [
    "##### Psuedo"
   ]
  },
  {
   "cell_type": "markdown",
   "metadata": {},
   "source": [
    "```\n",
    "Create a Priority Queue to assist with the required sorting operations.\n",
    "Set up a Pointer which will traverse each `CurrentListPointer` in the List of Lists.\n",
    "\n",
    "\n",
    "For each of the Heads belonging to each List in the List of Lists:\n",
    "\n",
    "    If the Head of the List at this iteration is null:\n",
    "        Skip to the next iteration\n",
    "\n",
    "    Point the 'CurrentListPointer' to the Head of the List at this iteration\n",
    "\n",
    "    While that 'CurrentListPointer' still has remaining Nodes to check:\n",
    "        Add the 'CurrentListPointer' Node to the Priority Queue with an assigned Priority equivalent to that Node's Value.\n",
    "        Advance the 'CurrentListPointer' forward one position.\n",
    "\n",
    "\n",
    "At this point,\n",
    "If the Priority Queue is still empty, then we've received an empty list of lists, \n",
    "so we should report as such.\n",
    "\n",
    "\n",
    "Otherwise, \n",
    "the Priority Queue now holds the Linked List Values \"Prioritized\" in ascending order.\n",
    "\n",
    "\n",
    "Create a Priority List to store the \"Prioritized\" Node values, initialized to the Minimum List Value. \n",
    "Set up a 'PriorityPointer' which will traverse the Priority List, initialized to it's head.\n",
    "Designate a Temporary Node to store each Currently Dequeued Value within the Priority Queue.\n",
    "\n",
    "\n",
    "While the Priority Queue still has values remaining:\n",
    "\n",
    "    Dequeue the Node from the Priority Queue having the next minimum value.\n",
    "    Point the 'PriorityPointer', along with it's next Node, to that same Currently Dequeued Node.\n",
    "\n",
    "\n",
    "After all that,\n",
    "to prevent any unwanted \"cycles\", we may set the 'PriorityPointer's next Node to null.\n",
    "\n",
    "\n",
    "The Priority List now contains the Merged and Sorted List Data,\n",
    "as required.\n",
    "```"
   ]
  },
  {
   "cell_type": "markdown",
   "metadata": {},
   "source": [
    "<br>"
   ]
  },
  {
   "cell_type": "markdown",
   "metadata": {},
   "source": [
    "#### Implementation"
   ]
  },
  {
   "cell_type": "code",
   "execution_count": null,
   "metadata": {
    "dotnet_interactive": {
     "language": "csharp"
    },
    "vscode": {
     "languageId": "dotnet-interactive.csharp"
    }
   },
   "outputs": [],
   "source": [
    "public ListNode MergeKLists(ListNode[] lists) \n",
    "{\n",
    "    \n",
    "    // Create a Priority Queue to assist with the required sorting operations.\n",
    "    PriorityQueue<ListNode, int> PQ = new PriorityQueue<ListNode, int>();\n",
    "\n",
    "    \n",
    "    // Set up a Pointer which will traverse each `CurrentListPointer` in the Array of Lists.\n",
    "    ListNode CurrentListPointer = null;\n",
    "\n",
    "    \n",
    "    // For each of the Heads belonging to each List in the Array of Lists:\n",
    "    foreach(ListNode head_of_list in lists)\n",
    "    {\n",
    "\n",
    "        // If the Head of the List at this iteration is null:\n",
    "        //      Skip to the next iteration\n",
    "        if( head_of_list == null )  continue;\n",
    "\n",
    "\n",
    "        // Point the 'CurrentListPointer' to the Head of the List at this iteration\n",
    "        CurrentListPointer = head_of_list;\n",
    "\n",
    "\n",
    "        //  While that 'CurrentListPointer' still has remaining Nodes to check:\n",
    "        while( CurrentListPointer != null )\n",
    "        {\n",
    "\n",
    "            // Add the 'CurrentListPointer' Node to the Priority Queue \n",
    "            // with an assigned Priority equivalent to that Node's Value.\n",
    "            PQ.Enqueue(CurrentListPointer, CurrentListPointer.val);\n",
    "\n",
    "\n",
    "            // Advance the 'CurrentListPointer' forward one position.\n",
    "            CurrentListPointer = CurrentListPointer.next;\n",
    "\n",
    "        }\n",
    "\n",
    "    }\n",
    "\n",
    "    \n",
    "    // At this point,\n",
    "    // If the Priority Queue is still empty, then we've received an empty Array of lists, \n",
    "    // so we should report as such.\n",
    "    if( PQ.Count == 0 )  \n",
    "        return null;\n",
    "\n",
    "\n",
    "    //Otherwise, \n",
    "    // the Priority Queue now holds the Linked List Values \"Prioritized\" in ascending order.\n",
    "\n",
    "\n",
    "    // Create a Priority List to store the \"Prioritized\" Node values, initialized to the Minimum List Value, \n",
    "    // set up a 'PriorityPointer' which will traverse the Priority List, initialized to it's head.\n",
    "    // and designate a Temporary Node to store each Currently Dequeued Value within the Priority Queue.\n",
    "    ListNode PriorityList    =  PQ.Dequeue(),\n",
    "             PriorityPointer =  PriorityList,\n",
    "             CurrentPriority =  null;\n",
    "\n",
    "\n",
    "    // While the Priority Queue still has values remaining:    \n",
    "    while(PQ.Count != 0)\n",
    "    {\n",
    "\n",
    "        // Dequeue the Node from the Priority Queue having the next minimum value.\n",
    "        CurrentPriority      = PQ.Dequeue();\n",
    "\n",
    "\n",
    "        // Point the 'PriorityPointer', along with it's next Node, to that same Currently Dequeued Node.\n",
    "        PriorityPointer.next = CurrentPriority;\n",
    "        PriorityPointer      = CurrentPriority;\n",
    "\n",
    "    }\n",
    "\n",
    "\n",
    "    // After all that,\n",
    "    // to prevent any unwanted \"cycles\", we may set the 'PriorityPointer's next Node to null\n",
    "    PriorityPointer.next = null;\n",
    "\n",
    "\n",
    "    // The Priority List now contains the Merged and Sorted List Data,\n",
    "    // as required.\n",
    "    return PriorityList;\n",
    "\n",
    "    \n",
    "}"
   ]
  },
  {
   "cell_type": "code",
   "execution_count": null,
   "metadata": {
    "dotnet_interactive": {
     "language": "csharp"
    },
    "vscode": {
     "languageId": "dotnet-interactive.csharp"
    }
   },
   "outputs": [],
   "source": [
    "// Definition for singly-linked list.\n",
    "public class ListNode {\n",
    "    public int val;\n",
    "    public ListNode next;\n",
    "    public ListNode(int val=0, ListNode next=null) {\n",
    "        this.val = val;\n",
    "        this.next = next;\n",
    "    }\n",
    "}"
   ]
  },
  {
   "cell_type": "markdown",
   "metadata": {},
   "source": [
    "<br>"
   ]
  },
  {
   "cell_type": "markdown",
   "metadata": {},
   "source": [
    "#### Analysis"
   ]
  },
  {
   "cell_type": "markdown",
   "metadata": {},
   "source": [
    "##### **Time** "
   ]
  },
  {
   "cell_type": "markdown",
   "metadata": {},
   "source": [
    "Let $\\quad n \\quad$ represent the *Total Number of **Nodes*** in the  $\\quad \\text{Array of Lists}. \\quad$   \n",
    "   \n",
    "Let $\\quad k \\quad$ represent the *Total Number of **Lists*** in the  $\\quad \\text{Array of Lists}. \\quad$     \n",
    "\n",
    "Since, `For each of the Heads belonging to each List in the List of Lists` we are  \n",
    " `Iterating While that 'CurrentListPointer' still has remaining Nodes to check:`,   \n",
    "we must always traverse each Node in each List.\n",
    "$$\\implies O(n)$$\n",
    "    \n",
    "  \n",
    "$Subsequently$,\n",
    "   \n",
    "Since, `While the Priority Queue still has values remaining` we `Dequeue the Node from the Priority Queue having the next minimum value`,  \n",
    "The comparison cost will be reduced to $O(\\log k)$ for every pop and insertion to priority queue,   \n",
    "and finding the node with the smallest value just costs $O(1)$ time.  \n",
    "<br>\n",
    "<br>\n",
    "\n",
    "$\\textit{As Such}$,   \n",
    "we have:  $O(n) * (\\log k)$\n",
    "\n",
    "\n",
    "$$\\implies \\Large{\\bf{O(n*log(k))}}$$"
   ]
  },
  {
   "cell_type": "markdown",
   "metadata": {},
   "source": [
    "---"
   ]
  },
  {
   "cell_type": "markdown",
   "metadata": {},
   "source": [
    "##### **Space** "
   ]
  },
  {
   "cell_type": "markdown",
   "metadata": {},
   "source": [
    "We are allocating auxialiary space proportional to the length of all the lists merged together.\n",
    "$$\\implies O(n)$$\n",
    "    \n",
    "  \n",
    "$Subsequently$,\n",
    "   \n",
    "We also allocate space proportional to the Priority Queue itself, which performs the sorting operations   \n",
    "upon each of the `k` lists.\n",
    "<br>   \n",
    "<br>   \n",
    "   \n",
    "$\\textit{As Such}$,   \n",
    "we have:  $O(n) + O(k)$\n",
    "\n",
    "\n",
    "$$\\implies \\Large{\\bf{O(n + k)}}$$"
   ]
  }
 ],
 "metadata": {
  "kernelspec": {
   "display_name": ".NET (C#)",
   "language": "C#",
   "name": ".net-csharp"
  },
  "language_info": {
   "file_extension": ".cs",
   "mimetype": "text/x-csharp",
   "name": "C#",
   "pygments_lexer": "csharp",
   "version": "9.0"
  },
  "orig_nbformat": 4
 },
 "nbformat": 4,
 "nbformat_minor": 2
}
