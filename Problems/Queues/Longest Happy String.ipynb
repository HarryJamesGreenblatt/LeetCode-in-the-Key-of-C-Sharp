{
 "cells": [
  {
   "cell_type": "markdown",
   "metadata": {},
   "source": [
    "# Longest Happy String"
   ]
  },
  {
   "cell_type": "markdown",
   "metadata": {},
   "source": [
    "A string s is called *happy* if it satisfies the following conditions:\n",
    "\n",
    "- `s` only contains the letters `a`, `b`, and `c`.\n",
    "- `s` does not contain any of `aaa`, `bbb`, or `ccc` as a substring.\n",
    "- `s` contains at most `a` occurrences of the letter `a`.\n",
    "- `s` contains at most `b` occurrences of the letter `b`.\n",
    "- `s` contains at most `c` occurrences of the letter `c`.\n",
    "\n",
    "Given three integers `a`, `b`, and `c`,   \n",
    "return the l*ongest possible happy string*.   \n",
    "If there are *multiple longest happy strings*, return *any* of them.   \n",
    "If there is *no such string*, return the *empty string* `\"\"`.   \n",
    "   \n",
    "A substring is a contiguous sequence of characters within a string."
   ]
  },
  {
   "cell_type": "markdown",
   "metadata": {},
   "source": [
    "**Example 1**:    \n",
    "> ```\n",
    "> Input: a = 1, b = 1, c = 7\n",
    "> Output: \"ccaccbcc\"\n",
    "> ```\n",
    "\n",
    "Explanation:      \n",
    "`ccbccacc` would also be a correct answer.\n",
    "<br>\n",
    "<br>\n",
    "      \n",
    "      \n",
    "**Example 2**:  \n",
    "> ```\n",
    "> Input: a = 7, b = 1, c = 0\n",
    "> Output: \"aabaa\"\n",
    "> ```\n",
    "\n",
    "\n",
    "Explanation:      \n",
    "It is the only correct answer in this case.\n",
    "<br>"
   ]
  },
  {
   "cell_type": "markdown",
   "metadata": {},
   "source": [
    "**Constraints**:\n",
    "\n",
    "- `0 <= a, b, c <= 100`\n",
    "- `a + b + c > 0`"
   ]
  },
  {
   "cell_type": "markdown",
   "metadata": {},
   "source": [
    "<br>"
   ]
  },
  {
   "cell_type": "markdown",
   "metadata": {},
   "source": [
    "### One Pass Using A Priority Queue"
   ]
  },
  {
   "cell_type": "markdown",
   "metadata": {},
   "source": [
    "##### Psuedo"
   ]
  },
  {
   "cell_type": "markdown",
   "metadata": {},
   "source": [
    "```\n",
    "Define a nested MaxBetweeenPair Class Implmenenting a Custom Comparer Interface    \n",
    "to facilate a Prioritized ordering based on the Maximum observed between a pair of values.\n",
    "```\n",
    "---\n",
    "```\n",
    "Create an internally accessible, but externally private Priority Queue \n",
    "to iteratively process each Currently Maximally Occuring Character reamining within.   \n",
    "   \n",
    "\n",
    "Create an internally accessible, but externally private Dynamically Resizeable Object\n",
    "to iteratively Build Up the Longest \"Happy\" String \n",
    "```\n",
    "---\n",
    "```    \n",
    "First, Enqueue each of the possible characters into the Piriority Queue \n",
    "while giving their respective number of occurences as Priority Values.\n",
    "    \n",
    "\n",
    "Iterating While the Priority Queue still holds any remaining MaximumBetwwen Pairs:\n",
    "\n",
    "\n",
    "    If there still remains enoguh values within the Priority Queue to support\n",
    "    Popping the \"Front\" MaxBetweenPair Value off the Queue:\n",
    "\n",
    "        then Dequeue and 'unpack' that \"Front\" MaxBetweenPair Value\n",
    "\n",
    "        \n",
    "    If the Longest Happy String is Empty \n",
    "    OR \n",
    "    the Last character in the Longest Happy String is NOT the 'unpacked' Character:\n",
    "\n",
    "        Store the Minimum Value observed betwwen the 'unpacked' occurence value\n",
    "        and the Maximum allowable occurences per character, which is 2.\n",
    "\n",
    "        Append the 'unpacked' character to the Longest Happy String,\n",
    "        Reapeted a number times that is proportional to the Least Number of\n",
    "        Occurences similarly observed above.\n",
    "\n",
    "        Decrement the number of remaining Occurences \n",
    "        by that same Least Number of Occurences\n",
    "\n",
    "        If there exists any remaining occurences at this point,\n",
    "        Add to the Priority Queue the  MaxBetweenPair  corresponding to\n",
    "        the  Character in question and the Number of Occurences remaining. \n",
    "\n",
    "\n",
    "    Otherwise,\n",
    "\n",
    "        If the Priority Queue still holds any remaining MaximumBetwwen Pairs:\n",
    "\n",
    "            If there still remains enoguh values within the Priority Queue to support\n",
    "            Popping the Next \"Front\" MaxBetweenPair Value off the Queue,\n",
    "                    then Dequeue and 'unpack' that Next \"Front\" MaxBetweenPair Value\n",
    "\n",
    "            Store the Minimum Value observed between the Next 'unpacked' occurence value\n",
    "            and the Minimum possible occurence value to qualify as valid, which is 1.\n",
    "\n",
    "            Append the Next 'unpacked' character to the Longest Happy String,\n",
    "            Reapeted a number times that is proportional to the Next Least Number of\n",
    "            Occurences similarly observed above.\n",
    "\n",
    "            Decrement the number of remaining Occurences \n",
    "            by that same Next Least Number of Occurences.\n",
    "\n",
    "            If there exists any remaining occurences at this point,\n",
    "                Add to the Priority Queue the  Next  MaxBetweenPair  corresponding to\n",
    "                the  Next Character in question and the Next Number of Occurences remaining. \n",
    "\n",
    "\n",
    "            Add to the Priority Queue the Maximum Valued  MaxBetweenPair  corresponding to\n",
    "            the Maximum Valed Character it's respective Number of Occurences remaining.\n",
    "\n",
    "\n",
    "After all that,\n",
    "The Longest Happy String is successfully Built,\n",
    "as required.\n",
    "```"
   ]
  },
  {
   "cell_type": "markdown",
   "metadata": {},
   "source": [
    "<br>"
   ]
  },
  {
   "cell_type": "markdown",
   "metadata": {},
   "source": [
    "#### Implementation"
   ]
  },
  {
   "cell_type": "code",
   "execution_count": null,
   "metadata": {
    "dotnet_interactive": {
     "language": "csharp"
    },
    "vscode": {
     "languageId": "dotnet-interactive.csharp"
    }
   },
   "outputs": [],
   "source": [
    "public class Solution\n",
    "{\n",
    "\n",
    "    // Define a nested MaxBetweeenPair Class Implmenenting a Custom Comparer Interface \n",
    "    // to facilate a Prioritized ordering based on the Maximum observed between a pair of values.\n",
    "    public class MaxBetweeenPair : IComparer<int>\n",
    "    {\n",
    "        public int Compare(int a, int b)\n",
    "        {\n",
    "            return b - a;\n",
    "        }\n",
    "    }\n",
    "\n",
    "\n",
    "    // Create an internally accessible, but externally private Priority Queue \n",
    "    // to iteratively process each Currently Maximally Occuring Character reamining within.    \n",
    "    private PriorityQueue<char, int> pq = new PriorityQueue<char, int>( new MaxBetweeenPair() );\n",
    "    \n",
    "\n",
    "    // Create an internally accessible, but externally private Dynamically Resizeable Object\n",
    "    // to iteratively Build Up the Longest \"Happy\" String \n",
    "    private StringBuilder longest_happy_string = new StringBuilder();\n",
    "\n",
    "\n",
    "    public string LongestDiverseString(int a, int b, int c)\n",
    "    {\n",
    "\n",
    "        // First, Enqueue each of the possible characters into the Piriority Queue \n",
    "        // while giving their respective number of occurences as Priority Values.\n",
    "        pq.Enqueue('a', a);\n",
    "        pq.Enqueue('b', b);\n",
    "        pq.Enqueue('c', c);\n",
    "\n",
    "\n",
    "        // Iterating While the Priority Queue still holds any remaining MaximumBetwwen Pairs:\n",
    "        while (pq.Count > 0)\n",
    "        {\n",
    "\n",
    "            // If there still remains enoguh values within the Priority Queue to support\n",
    "            // Popping the \"Front\" MaxBetweenPair Value off the Queue,\n",
    "            //        then Dequeue and 'unpack' that \"Front\" MaxBetweenPair Value \n",
    "            pq.TryDequeue(out char character, out int occurences);\n",
    "\n",
    "\n",
    "            // If the Longest Happy String is Empty \n",
    "            // OR \n",
    "            // the Last character in the Longest Happy String is NOT the 'unpacked' Character\n",
    "            if ( \n",
    "                longest_happy_string.Length == 0 \n",
    "                || \n",
    "                longest_happy_string[ longest_happy_string.Length - 1 ] != character \n",
    "            ){\n",
    "\n",
    "                // Store the Minimum Value observed betwwen the 'unpacked' occurence value\n",
    "                // and the Maximum allowable occurences per character, which is 2.\n",
    "                int least_occurences = Math.Min( occurences, 2 );\n",
    "\n",
    "                \n",
    "                // Append the 'unpacked' character to the Longest Happy String,\n",
    "                // Reapeted a number times that is proportional to the Least Number of\n",
    "                // Occurences similarly observed above.\n",
    "                longest_happy_string.Append( new String( character, least_occurences ) );\n",
    "\n",
    "\n",
    "                // Decrement the number of remaining Occurences \n",
    "                // by that same Least Number of Occurences\n",
    "                occurences -= least_occurences;\n",
    "\n",
    "\n",
    "                // If there exists any remaining occurences at this point,\n",
    "                //      Add to the Priority Queue the  MaxBetweenPair  corresponding to\n",
    "                //      the  Character in question and the Number of Occurences remaining.  \n",
    "                if ( occurences > 0 )\n",
    "                {\n",
    "                    pq.Enqueue(character, occurences);\n",
    "                }\n",
    "\n",
    "            }\n",
    "\n",
    "\n",
    "            // Otherwise, \n",
    "            else\n",
    "            {\n",
    "\n",
    "                // If the Priority Queue still holds any remaining MaximumBetwwen Pairs:\n",
    "                if (pq.Count > 0)\n",
    "                {\n",
    "\n",
    "                    // If there still remains enoguh values within the Priority Queue to support\n",
    "                    // Popping the Next \"Front\" MaxBetweenPair Value off the Queue,\n",
    "                    //        then Dequeue and 'unpack' that Next \"Front\" MaxBetweenPair Value \n",
    "                    pq.TryDequeue(out char next_character, out int next_occurences);\n",
    "\n",
    "\n",
    "                    // Store the Minimum Value observed between the Next 'unpacked' occurence value\n",
    "                    // and the Minimum possible occurence value to qualify as valid, which is 1.\n",
    "                    int next_least_occurences = Math.Min(1, next_occurences);\n",
    "\n",
    "\n",
    "                    // Append the Next 'unpacked' character to the Longest Happy String,\n",
    "                    // Reapeted a number times that is proportional to the Next Least Number of\n",
    "                    // Occurences similarly observed above.\n",
    "                    longest_happy_string.Append( new String(next_character, next_least_occurences) );\n",
    "\n",
    "\n",
    "                    // Decrement the number of remaining Occurences \n",
    "                    // by that same Next Least Number of Occurences\n",
    "                    next_occurences -= next_least_occurences;\n",
    "\n",
    "\n",
    "                    // If there exists any remaining occurences at this point,\n",
    "                    //      Add to the Priority Queue the  Next  MaxBetweenPair  corresponding to\n",
    "                    //      the  Next Character in question and the Next Number of Occurences remaining.  \n",
    "                    if (next_occurences > 0)\n",
    "                    {\n",
    "                        pq.Enqueue(next_character, next_occurences);\n",
    "                    }\n",
    "\n",
    "\n",
    "                    // Add to the Priority Queue the Maximum Valued  MaxBetweenPair  corresponding to\n",
    "                    // the Maximum Valed Character it's respective Number of Occurences remaining.  \n",
    "                    pq.Enqueue( character, occurences );\n",
    "\n",
    "                }\n",
    "\n",
    "            }\n",
    "            \n",
    "        }\n",
    "\n",
    "\n",
    "        // After all that,\n",
    "        // The Longest Happy String is successfully Built,\n",
    "        // as required.\n",
    "        return longest_happy_string.ToString();\n",
    "\n",
    "    }\n",
    "    \n",
    "}"
   ]
  },
  {
   "cell_type": "markdown",
   "metadata": {},
   "source": [
    "<br>"
   ]
  },
  {
   "cell_type": "markdown",
   "metadata": {},
   "source": [
    "#### Analysis"
   ]
  },
  {
   "cell_type": "markdown",
   "metadata": {},
   "source": [
    "##### **Time** "
   ]
  },
  {
   "cell_type": "markdown",
   "metadata": {},
   "source": [
    "Since we are `Iterating While the Priority Queue still holds any remaining characters`, at worse case each `MaximumBetweenPair` in the Priority Queue will require processing exactly once.\n",
    "$$\\implies \\Large{\\bf{O(n)}}$$"
   ]
  },
  {
   "cell_type": "markdown",
   "metadata": {},
   "source": [
    "---"
   ]
  },
  {
   "cell_type": "markdown",
   "metadata": {},
   "source": [
    "##### **Space** "
   ]
  },
  {
   "cell_type": "markdown",
   "metadata": {},
   "source": [
    "Although we are allocating an auxiliary space  for our `MaximumBetweenPair` Priority Queue,    \n",
    "any such Priority Queue will be limited to a size of $3$,   \n",
    "proportional to the total number of possible characters which may be given in the problem.\n",
    "$$\\implies O(3)$$   \n",
    "$$\\implies \\Large{\\bf{O(1)}}$$"
   ]
  }
 ],
 "metadata": {
  "kernelspec": {
   "display_name": ".NET (C#)",
   "language": "C#",
   "name": ".net-csharp"
  },
  "language_info": {
   "file_extension": ".cs",
   "mimetype": "text/x-csharp",
   "name": "C#",
   "pygments_lexer": "csharp",
   "version": "9.0"
  },
  "orig_nbformat": 4
 },
 "nbformat": 4,
 "nbformat_minor": 2
}
