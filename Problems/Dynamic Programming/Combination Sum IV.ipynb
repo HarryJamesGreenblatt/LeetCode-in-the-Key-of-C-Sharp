{
 "cells": [
  {
   "cell_type": "markdown",
   "metadata": {},
   "source": [
    "# Combination Sum IV"
   ]
  },
  {
   "cell_type": "markdown",
   "metadata": {},
   "source": [
    "Given an array of distinct integers, `nums`, and a target integer, `target`, return the number of possible *combinations* that *add up to target*.\n",
    "\n",
    "The test cases are generated so that the answer can fit in a **32-bit integer**."
   ]
  },
  {
   "cell_type": "markdown",
   "metadata": {},
   "source": [
    "**Example 1**:    \n",
    "> ```\n",
    "> Input: nums = [1,2,3], target = 4\n",
    "> Output: 7\n",
    "> ```\n",
    "\n",
    "Explanation:  \n",
    "The possible combination ways are:\n",
    "```    \n",
    "(1, 1, 1, 1)\n",
    "(1, 1, 2)\n",
    "(1, 2, 1)\n",
    "(1, 3)\n",
    "(2, 1, 1)\n",
    "(2, 2)\n",
    "(3, 1)\n",
    "```\n",
    "Note that different sequences are counted as different combinations.\n",
    "<br>\n",
    "<br>\n",
    "      \n",
    "      \n",
    "**Example 2**:   \n",
    "> ```\n",
    "> Input: nums = [9], target = 3\n",
    "> Output: 0\n",
    "> ```\n",
    "\n",
    "<br>"
   ]
  },
  {
   "cell_type": "markdown",
   "metadata": {},
   "source": [
    "**Constraints**:\n",
    "\n",
    "- `1 <= nums.length <= 200`\n",
    "- `1 <= nums[i] <= 1000`\n",
    "- All the elements of nums are unique.\n",
    "- `1 <= target <= 1000`\n",
    "\n"
   ]
  },
  {
   "cell_type": "markdown",
   "metadata": {},
   "source": [
    "<br>"
   ]
  },
  {
   "cell_type": "markdown",
   "metadata": {},
   "source": [
    "### Top-Down Dynamic Programming"
   ]
  },
  {
   "cell_type": "markdown",
   "metadata": {},
   "source": [
    "##### Psuedo"
   ]
  },
  {
   "cell_type": "markdown",
   "metadata": {},
   "source": [
    "```\n",
    "Memoizing a result means to store the result of a function call,   \n",
    "usually in a dictionary or an array,   \n",
    "so that when the same function call is made again,   \n",
    "we can simply return the memoized result instead of recalculating the result.  \n",
    "```\n",
    "---\n",
    "```\n",
    "Give the number of Combinations \n",
    "amongst the integer 'nums' array values given as input \n",
    "that Sum up to a additionally specified 'target' value:\n",
    "```\n",
    "---\n",
    "```\n",
    "Through the progblem description gives the term 'Combination', \n",
    "what this problem calls for is actually more of a 'permutation', \n",
    "to be more precise, where the order of elements does matter.\n",
    "\n",
    "Since the order is important, \n",
    "we build the solution recursively, and thereby in a backward manner.\n",
    "\n",
    "Mathematically speaking, \n",
    "the function operates within the following Constraints: \n",
    "\n",
    "     CombinationsSummingToTarget( target ) = \n",
    "     ⋃ CombinationsSummingToTarget( target−nums[i] ) if target ≥ nums[i]\n",
    "\n",
    "          where the function CombinationsSummingToTarget( target ) \n",
    "          gives the combinations that sum up to the target value.\n",
    "\n",
    "\n",
    "If there's no target value remaining,\n",
    "then there is only One Combination: the target itself.\n",
    "\n",
    "\n",
    "If the Memoized Dictionary contains a Key \n",
    "corresponding to the Remaining Target Value,\n",
    "     return the Combination Sum corresponding to that Key \n",
    "\n",
    "\n",
    "Initialize a variable to store Combination Sum at 0.\n",
    "\n",
    "\n",
    "For each integer value in the input 'nums' array:\n",
    "\n",
    "If the Function Constraints still hold true:\n",
    "     increment the Combination Sum \n",
    "     by the value returned by the next Sub-Problem in the Recursion.\n",
    "\n",
    "\n",
    "After all that,\n",
    "we have our Combination Sum and we store in our Memoized Dictionary. \n",
    "\n",
    "\n",
    "The Combination Sum itself holds\n",
    "the number of possible combinations that add up to target,\n",
    "as required.\n",
    "```"
   ]
  },
  {
   "cell_type": "markdown",
   "metadata": {},
   "source": [
    "<br>"
   ]
  },
  {
   "cell_type": "markdown",
   "metadata": {},
   "source": [
    "#### Implementation"
   ]
  },
  {
   "cell_type": "code",
   "execution_count": null,
   "metadata": {
    "dotnet_interactive": {
     "language": "csharp"
    },
    "vscode": {
     "languageId": "dotnet-interactive.csharp"
    }
   },
   "outputs": [],
   "source": [
    "// Memoizing a result means to store the result of a function call, \n",
    "// usually in a dictionary or an array, \n",
    "// so that when the same function call is made again, \n",
    "// we can simply return the memoized result instead of recalculating the result.\n",
    "private Dictionary<int, int> memoized_dictionary = new Dictionary<int, int>();\n",
    "\n",
    "\n",
    "public int CombinationSum4( int[] nums, int target )\n",
    "{\n",
    "    // Give the number of Combinations \n",
    "    // amongst the integer 'nums' array values given as input \n",
    "    // that Sum up to an additionally specified 'target' value.\n",
    "    return CombinationsSummingToTarget( nums, target );\n",
    "}\n",
    "\n",
    "\n",
    "// Through the progblem description gives the term 'Combination', \n",
    "// what this problem calls for is actually more of a 'permutation', \n",
    "// to be more precise, where the order of elements does matter.\n",
    "//\n",
    "// Since the order is important, \n",
    "// we build the solution recursively, and thereby in a backward manner.\n",
    "//\n",
    "// Mathematically speaking, \n",
    "// the function operates within the following Constraints: \n",
    "//\n",
    "//      CombinationsSummingToTarget( target ) = \n",
    "//          ⋃ CombinationsSummingToTarget( target−nums[i] ) if target ≥ nums[i]\n",
    "//\n",
    "//               where the function CombinationsSummingToTarget( target ) \n",
    "//               gives the combinations that sum up to the target value.\n",
    "private int CombinationsSummingToTarget( int[] nums, int target_remaining )\n",
    "{\n",
    "    \n",
    "    // If there's no target value remaining,\n",
    "    //     then there is only One Combination: the target itself. \n",
    "    if( target_remaining == 0 )\n",
    "        return 1;\n",
    "\n",
    "\n",
    "    // If the Memoized Dictionary contains a Key \n",
    "    // corresponding to the Remaining Target Value,\n",
    "    //      return the Combination Sum corresponding to that Key       \n",
    "    if( memoized_dictionary.ContainsKey( target_remaining ) )\n",
    "        return memoized_dictionary[ target_remaining ];\n",
    "    \n",
    "\n",
    "    // Initialize a variable to store Combination Sum at 0\n",
    "    int sum = 0;\n",
    "\n",
    "\n",
    "    // For each integer value in the input 'nums' array:\n",
    "    foreach( int num in nums )\n",
    "    {\n",
    "\n",
    "        // If the Function Constraints still hold true:\n",
    "        //      increment the Combination Sum \n",
    "        //      by the value returned by the next Sub-Problem in the Recursion \n",
    "        if( (target_remaining - num) >= 0 )  \n",
    "            sum += CombinationsSummingToTarget( nums, target_remaining - num );\n",
    "\n",
    "    }\n",
    "\n",
    "\n",
    "    // After all that,\n",
    "    // we have our Combination Sum and we store in our Memoized Dictionary.\n",
    "    memoized_dictionary[ target_remaining ] = sum;\n",
    "\n",
    "\n",
    "    // The Combination Sum itself holds\n",
    "    // the number of possible combinations that add up to target,\n",
    "    // as required.\n",
    "    return sum;\n",
    "\n",
    "}"
   ]
  },
  {
   "cell_type": "markdown",
   "metadata": {},
   "source": [
    "<br>"
   ]
  },
  {
   "cell_type": "markdown",
   "metadata": {},
   "source": [
    "#### Analysis"
   ]
  },
  {
   "cell_type": "markdown",
   "metadata": {},
   "source": [
    "##### **Time** "
   ]
  },
  {
   "cell_type": "markdown",
   "metadata": {},
   "source": [
    "Let $\\quad t \\quad$ represent the $target$ value. \n",
    "\n",
    "Thanks to the `memoized_dictionary`, each recursive invocation of `CombinationsSummingToTarget(target_remaining)`, it would be evaluated only once, for each unique input value. In the worst case, we could have  $\\quad t \\quad$ different input values.\n",
    "$$\\implies O(t)$$   \n",
    "<br>\n",
    "   \n",
    "Let $\\quad n \\quad$ represent be the number of elements in the $\\quad nums. \\quad$ array.\n",
    "\n",
    "For each recursive invocation of `CombinationsSummingToTarget(target_remaining)`, in the worst case requires the full length of $n$ for the iterative operations.\n",
    "$$\\implies O(t) * O(n)$$   \n",
    "<br>\n",
    "  \n",
    "$$\\implies \\Large{\\bf{O(t * n)}}$$"
   ]
  },
  {
   "cell_type": "markdown",
   "metadata": {},
   "source": [
    "---"
   ]
  },
  {
   "cell_type": "markdown",
   "metadata": {},
   "source": [
    "##### **Space** "
   ]
  },
  {
   "cell_type": "markdown",
   "metadata": {},
   "source": [
    "We are allocating auxiliary space for the `memoized_dictionary`.\n",
    "$$\\implies O(n)$$\n",
    "<br>\n",
    "\n",
    "$Additionally,$   \n",
    "we are allocating auxiliary space for the  function call stack. \n",
    "In the worst case, the recursive function can pile up to $\\quad t \\quad$ times. \n",
    "$$\\implies O(n) + O(t)$$\n",
    "$$\\implies \\bf{\\Large{O(n + t)}}$$\n"
   ]
  }
 ],
 "metadata": {
  "kernelspec": {
   "display_name": ".NET (C#)",
   "language": "C#",
   "name": ".net-csharp"
  },
  "language_info": {
   "file_extension": ".cs",
   "mimetype": "text/x-csharp",
   "name": "C#",
   "pygments_lexer": "csharp",
   "version": "9.0"
  },
  "orig_nbformat": 4
 },
 "nbformat": 4,
 "nbformat_minor": 2
}
