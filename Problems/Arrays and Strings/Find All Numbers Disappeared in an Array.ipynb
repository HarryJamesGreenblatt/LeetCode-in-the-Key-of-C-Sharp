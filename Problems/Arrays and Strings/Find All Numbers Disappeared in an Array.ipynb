{
 "cells": [
  {
   "cell_type": "markdown",
   "metadata": {},
   "source": [
    "# Find All Numbers Disappeared in an Array"
   ]
  },
  {
   "cell_type": "markdown",
   "metadata": {},
   "source": [
    "Given an array `nums` of n integers where `nums[i]` is in the range `[1, n]`, return an array of all the integers in the range `[1, n]` that do *not appear in `nums`*."
   ]
  },
  {
   "cell_type": "markdown",
   "metadata": {},
   "source": [
    "**Example 1**:    \n",
    "> ```\n",
    "> Input: nums = [4,3,2,7,8,2,3,1]\n",
    "> Output: [5,6]\n",
    "> ```\n",
    "\n",
    "<br>\n",
    "\n",
    "**Example 2**:   \n",
    "> ```\n",
    "> Input: nums = [1,1]\n",
    "> Output: [2]\n",
    "> ```\n",
    "\n",
    "<br>"
   ]
  },
  {
   "cell_type": "markdown",
   "metadata": {},
   "source": [
    "**Constraints**:\n",
    "\n",
    "- `n == nums.length`\n",
    "- `1 <= n <= 105`\n",
    "- `1 <= nums[i] <= n`\n",
    "\n",
    "\n"
   ]
  },
  {
   "cell_type": "markdown",
   "metadata": {},
   "source": [
    "<br>"
   ]
  },
  {
   "cell_type": "markdown",
   "metadata": {},
   "source": [
    "### Two Passes using Modification-In-Place"
   ]
  },
  {
   "cell_type": "markdown",
   "metadata": {},
   "source": [
    "##### Psuedo"
   ]
  },
  {
   "cell_type": "markdown",
   "metadata": {},
   "source": [
    "```\n",
    "As the required deliverable is an Integer List, but our input is an Array, \n",
    "we may allocate the Disappeared Numbers List and still acvhieve O(1) space.\n",
    "\n",
    "\n",
    "Note the First and Last Indices of the array,\n",
    "\n",
    "\n",
    "We will begin the array traversal at the First Index\n",
    "\n",
    "\n",
    "Iterating While the Current Index has not yet incremented beyond the Last Index:\n",
    "\n",
    "        'Map' the Value at the Current Index as it's own independent Index,\n",
    "        taking care to adjust for Zero-Indexing in the nums array,\n",
    "        and ensuring to simultaneously increment the Current Index. \n",
    "\n",
    "        If the Value at the corresponding   MapValueAsIndex  is positive,\n",
    "             negate the Value at the MapValueAsIndex \n",
    "             in order to distinguish it from any non-visited elements\n",
    "             encountered in a subsequent pass.\n",
    "\n",
    "\n",
    "After all that,\n",
    "we have modified the nums array such that\n",
    "only the indices corresponding to the desired Dissapeared Numbers \n",
    "should still have positive values remaining.\n",
    "We may now perform an additional pass to expose the Dissapeared Numbers,\n",
    "but as we now must also adjust from Zero Indexing to  1...n Indexing,\n",
    "we redefine our First, Last, and Current Indices accordingly\n",
    "\n",
    "\n",
    "Iterating While the Current Index has not yet incremented beyond the Last Index:\n",
    "\n",
    "        If the Value at the Current Index - 1, \n",
    "        which accounts for Zero Indexing,\n",
    "        is discovered to still be positive,\n",
    "             Add it to the List of Disappeared Numbers\n",
    "\n",
    "        Increment the Current Index \n",
    "\n",
    "\n",
    "After all that,\n",
    "the List of Disappeared Numbers \n",
    "contains all of numbers in the sequence 1..n \n",
    "found to be missing from the nums array,\n",
    "as required\n",
    "```"
   ]
  },
  {
   "cell_type": "markdown",
   "metadata": {},
   "source": [
    "<br>"
   ]
  },
  {
   "cell_type": "markdown",
   "metadata": {},
   "source": [
    "#### Implementation"
   ]
  },
  {
   "cell_type": "code",
   "execution_count": 1,
   "metadata": {
    "dotnet_interactive": {
     "language": "csharp"
    },
    "vscode": {
     "languageId": "dotnet-interactive.csharp"
    }
   },
   "outputs": [],
   "source": [
    "public List<int> FindDisappearedNumbers(int[] nums) \n",
    "{\n",
    "\n",
    "    // As The required deliverable is an Integer List, but our input is an Array, \n",
    "    // we may allocate the Disappeared Numbers List and still acvhieve O(1) space.\n",
    "    List<int> DisappearedNumbers = new List<int>();\n",
    "    \n",
    "\n",
    "    // Note the First and Last Indices of the array,\n",
    "    int FirstIndex   = 0;\n",
    "    int LastIndex    = nums.Length - 1;\n",
    "    \n",
    "\n",
    "    //We will begin the array traversal at the First Index \n",
    "    int CurrentIndex = FirstIndex;\n",
    "        \n",
    "\n",
    "    // Iterating While the Current Index has not yet incremented beyond the Last Index:\n",
    "    while( CurrentIndex <= LastIndex )\n",
    "    {\n",
    "\n",
    "        // 'Map' the Value at the Current Index as it's own independent Index,\n",
    "        // taking care to adjust for Zero-Indexing in the nums array,\n",
    "        // and ensuring to simultaneously increment the Current Index. \n",
    "        int MapValueAsIndex = Math.Abs( nums[ CurrentIndex++ ] ) - 1;\n",
    "\n",
    "\n",
    "        // If the Value at the corresponding   MapValueAsIndex  is positive,\n",
    "        //      negate the Value at the MapValueAsIndex \n",
    "        //      in order to distinguish it from any non-visited elements\n",
    "        //      encountered in a subsequent pass.\n",
    "        if( nums[ MapValueAsIndex ] > 0 )\n",
    "            nums[ MapValueAsIndex ] *= -1; \n",
    "\n",
    "    }\n",
    "\n",
    "    \n",
    "    // After all that,\n",
    "    // we have modified the nums array such that\n",
    "    // only the indices corresponding to the desired Dissapeared Numbers \n",
    "    // should still have positive values remaining.\n",
    "    // We may now perform an additional pass to expose the Dissapeared Numbers,\n",
    "    // but as we now must also adjust from Zero Indexing to  1...n Indexing,\n",
    "    // we redefine our First, Last, and Current Indices accordingly\n",
    "    FirstIndex   = 1;\n",
    "    LastIndex    = LastIndex + 1;\n",
    "    CurrentIndex = FirstIndex;\n",
    "    \n",
    "\n",
    "    // Iterating While the Current Index has not yet incremented beyond the Last Index:\n",
    "    while ( CurrentIndex <= LastIndex ) \n",
    "    {\n",
    "        \n",
    "        // If the Value at the Current Index - 1, \n",
    "        // which accounts for Zero Indexing,\n",
    "        // is discovered to still be positive,\n",
    "        //      Add it to the List of Disappeared Numbers \n",
    "        if (nums[ CurrentIndex - 1 ] > 0) {\n",
    "            DisappearedNumbers.Add( CurrentIndex );\n",
    "        }\n",
    "\n",
    "        // Increment the Current Index\n",
    "        CurrentIndex++;\n",
    "\n",
    "    }\n",
    "\n",
    "\n",
    "    // After all that,\n",
    "    // the List of Disappeared Numbers \n",
    "    // contains all of numbers in the sequence 1..n \n",
    "    // found to be missing from the nums array,\n",
    "    // as required\n",
    "    return DisappearedNumbers;\n",
    "}"
   ]
  },
  {
   "cell_type": "code",
   "execution_count": 2,
   "metadata": {
    "dotnet_interactive": {
     "language": "csharp"
    },
    "vscode": {
     "languageId": "dotnet-interactive.csharp"
    }
   },
   "outputs": [],
   "source": [
    "//test input\n",
    "public int[] nums = {1,1,1,1,5};"
   ]
  },
  {
   "cell_type": "code",
   "execution_count": 3,
   "metadata": {
    "dotnet_interactive": {
     "language": "csharp"
    },
    "vscode": {
     "languageId": "dotnet-interactive.csharp"
    }
   },
   "outputs": [
    {
     "data": {
      "text/html": [
       "<table><thead><tr><th><i>index</i></th><th>value</th></tr></thead><tbody><tr><td>0</td><td><div class=\"dni-plaintext\">2</div></td></tr><tr><td>1</td><td><div class=\"dni-plaintext\">3</div></td></tr><tr><td>2</td><td><div class=\"dni-plaintext\">4</div></td></tr></tbody></table>"
      ]
     },
     "metadata": {},
     "output_type": "display_data"
    }
   ],
   "source": [
    "FindDisappearedNumbers( nums )"
   ]
  },
  {
   "cell_type": "markdown",
   "metadata": {},
   "source": [
    "<br>"
   ]
  },
  {
   "cell_type": "markdown",
   "metadata": {},
   "source": [
    "#### Analysis"
   ]
  },
  {
   "cell_type": "markdown",
   "metadata": {},
   "source": [
    "##### **Time** "
   ]
  },
  {
   "cell_type": "markdown",
   "metadata": {},
   "source": [
    "Since we are `Iterating While the Current Index has not yet incremented beyond the Last Index`, we clearly traverse the full length of the `nums` array\n",
    "\n",
    "$$ \\implies O(n) $$   \n",
    "   \n",
    "$Subsequently,$   \n",
    "   \n",
    "As we are then, once again,  `Iterating While the Current Index has not yet incremented beyond the Last Index`, we must take another full-length pass along the `nums` array \n",
    "  \n",
    "$$ \\implies O(n) + O(n) = 2 \\times O(n) $$\n",
    "$$ \\Large{\\bf{\\implies O(n)}} $$"
   ]
  },
  {
   "cell_type": "markdown",
   "metadata": {},
   "source": [
    "---"
   ]
  },
  {
   "cell_type": "markdown",
   "metadata": {},
   "source": [
    "##### **Space** "
   ]
  },
  {
   "cell_type": "markdown",
   "metadata": {},
   "source": [
    "As the required deliverable is `List<int>`, but our input is an `Array`, we may allocate the `DisappearedNumbers` List and still achieve O(1) space.\n",
    "\n",
    "$$ \\Large{\\bf{ \\implies O(1) } } $$"
   ]
  }
 ],
 "metadata": {
  "kernelspec": {
   "display_name": ".NET (C#)",
   "language": "C#",
   "name": ".net-csharp"
  },
  "language_info": {
   "file_extension": ".cs",
   "mimetype": "text/x-csharp",
   "name": "C#",
   "pygments_lexer": "csharp",
   "version": "9.0"
  },
  "orig_nbformat": 4
 },
 "nbformat": 4,
 "nbformat_minor": 2
}
