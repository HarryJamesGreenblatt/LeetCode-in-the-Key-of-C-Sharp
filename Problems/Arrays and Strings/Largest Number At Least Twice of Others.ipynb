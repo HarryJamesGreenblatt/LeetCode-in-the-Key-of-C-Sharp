{
 "cells": [
  {
   "cell_type": "markdown",
   "metadata": {},
   "source": [
    "# Largest Number At Least Twice of Others"
   ]
  },
  {
   "cell_type": "markdown",
   "metadata": {},
   "source": [
    "You are given an integer array `nums` where the largest integer is unique.\n",
    "\n",
    "Determine whether the largest element in the array is *at least twice as much as every other number in the array*.    \n",
    "    \n",
    "If it is, return the **index of the largest element**, or return `-1` otherwise."
   ]
  },
  {
   "cell_type": "markdown",
   "metadata": {},
   "source": [
    "**Example 1**:    \n",
    "> ```\n",
    "> Input: nums = [3,6,1,0]\n",
    "> Output: 1\n",
    "> ```\n",
    "\n",
    "Explanation:      \n",
    "`6` is the largest integer.   \n",
    "For every other number in the array x,    \n",
    "`6` is at least twice as big as x.   \n",
    "    \n",
    "The index of value `6` is `1`, so we return `1`.\n",
    "\n",
    "<br>\n",
    "      \n",
    "**Example 2**:   \n",
    "> ```\n",
    "> Input: nums = [1,2,3,4]\n",
    "> Output: -1\n",
    "> ```\n",
    "\n",
    "Explanation: \n",
    "`4` is less than twice the value of `3`, so we return `-1`.     \n",
    "   \n",
    "<br>"
   ]
  },
  {
   "cell_type": "markdown",
   "metadata": {},
   "source": [
    "**Constraints**:\n",
    "\n",
    "- `2 <= nums.length <= 50`\n",
    "- `0 <= nums[i] <= 100`\n",
    "- `The largest element in nums is unique.`"
   ]
  },
  {
   "cell_type": "markdown",
   "metadata": {},
   "source": [
    "<br>"
   ]
  },
  {
   "cell_type": "markdown",
   "metadata": {},
   "source": [
    "### Two Passes, One Pointer"
   ]
  },
  {
   "cell_type": "markdown",
   "metadata": {},
   "source": [
    "##### Psuedo"
   ]
  },
  {
   "cell_type": "markdown",
   "metadata": {},
   "source": [
    "```\n",
    "For clarity, we observe the First and Last Indices of the nums array\n",
    "\n",
    "\n",
    "Furhter, let's also start a 'Dominant Index' off at the First Index\n",
    "\n",
    "\n",
    "We then derive the aggregate Maximum of each element in the nums array\n",
    "\n",
    "\n",
    "Now, let there be a boolean which will show if a given vlaue is At Least Half \n",
    "of the aggregate Maximum, initialized as false\n",
    "\n",
    "\n",
    "Iterating For every element in the nums array,\n",
    "from its's First Index up through it's Last Index:\n",
    "\n",
    "    If the Value at the Current Index is the Maximum\n",
    "        store the Index corresponding to that Maximum valued element as the Dominant Index\n",
    "        skip to the next iteration \n",
    "\n",
    "    Observe that the Maximum Valued Element is At Least Twice As Much\n",
    "    if the Value at the Current Index is LESS THAN OR EQUAL to it \n",
    "    after being multiplying by 2  \n",
    "\n",
    "    As such, \n",
    "    If the Maximum Valued Element is NOT \n",
    "    At Least Twice As Much as the Value at the Current Index,   \n",
    "         we may reasonable assume this index violates the conditions in the problem statement \n",
    "\n",
    "\n",
    "After all that,\n",
    "We have the Index corresponding to the Maximum Valued Element stored as the  Dominant Index,\n",
    "as required\n",
    "```"
   ]
  },
  {
   "cell_type": "markdown",
   "metadata": {},
   "source": [
    "<br>"
   ]
  },
  {
   "cell_type": "markdown",
   "metadata": {},
   "source": [
    "#### Implementation"
   ]
  },
  {
   "cell_type": "code",
   "execution_count": 21,
   "metadata": {
    "dotnet_interactive": {
     "language": "csharp"
    },
    "vscode": {
     "languageId": "dotnet-interactive.csharp"
    }
   },
   "outputs": [],
   "source": [
    "public int DominantIndex(int[] nums) {\n",
    "\n",
    "    // For clarity, we observe the First and Last Indices of the nums array\n",
    "    int FirstIndex  =  0;\n",
    "    int LastIndex   =  nums.Length - 1;\n",
    "    \n",
    "    \n",
    "    // Furhter, let's also start a 'Dominant Index' off at the First Index \n",
    "    int DominantIndex = FirstIndex;\n",
    "    \n",
    "    \n",
    "    // We then derive the aggregate Maximum of each element in the nums array\n",
    "    int Max  = nums.Max();\n",
    "    \n",
    "    \n",
    "    // Now, let there be a boolean which will show if a given vlaue is At Least Half \n",
    "    // of the aggregate Maximum, initialized as false\n",
    "    bool AtLeastTwiceAsMuch  = false;\n",
    "\n",
    "\n",
    "    // Iterating For every element in the nums array,\n",
    "    // from its's First Index up through it's Last Index: \n",
    "    for( int CurrentIndex = FirstIndex; CurrentIndex <= LastIndex; CurrentIndex++ )\n",
    "    {\n",
    "    \n",
    "        // If the Value at the Current Index is the Maximum\n",
    "        if( nums[ CurrentIndex ] == Max ){\n",
    "            \n",
    "            // store the Index corresponding to that Maximum valued element as the Dominant Index\n",
    "            DominantIndex = CurrentIndex;\n",
    "\n",
    "\n",
    "            // skip to the next iteration \n",
    "            continue;\n",
    "\n",
    "        }\n",
    "\n",
    "\n",
    "        // Observe that the Maximum Valued Element is At Least Twice As Much\n",
    "        // if the Value at the Current Index is LESS THAN OR EQUAL to it \n",
    "        // after being multiplying by 2  \n",
    "        AtLeastTwiceAsMuch = (nums[ CurrentIndex ] * 2) <= Max ;\n",
    "\n",
    "\n",
    "        // As such, \n",
    "        // If the Maximum Valued Element is NOT \n",
    "        // At Least Twice As Much as the Value at the Current Index,   \n",
    "        //      we may reasonable assume this index violates the conditions in the problem statement \n",
    "        if( !AtLeastTwiceAsMuch )\n",
    "            return -1;\n",
    "            \n",
    "    }\n",
    "\n",
    "\n",
    "    // After all that,\n",
    "    // We have the Index corresponding to the Maximum Valued Element stored as the  Dominant Index,\n",
    "    // as required\n",
    "    return DominantIndex;\n",
    "    \n",
    "}"
   ]
  },
  {
   "cell_type": "code",
   "execution_count": 22,
   "metadata": {
    "dotnet_interactive": {
     "language": "csharp"
    },
    "vscode": {
     "languageId": "dotnet-interactive.csharp"
    }
   },
   "outputs": [],
   "source": [
    "int[] nums1 = {3,6,1,0},\n",
    "      nums2 = {1,2,3,4};"
   ]
  },
  {
   "cell_type": "code",
   "execution_count": 23,
   "metadata": {
    "dotnet_interactive": {
     "language": "csharp"
    },
    "vscode": {
     "languageId": "dotnet-interactive.csharp"
    }
   },
   "outputs": [
    {
     "data": {
      "text/html": [
       "<div class=\"dni-plaintext\">1</div>"
      ]
     },
     "metadata": {},
     "output_type": "display_data"
    }
   ],
   "source": [
    "DominantIndex( nums1 )"
   ]
  },
  {
   "cell_type": "code",
   "execution_count": 24,
   "metadata": {
    "dotnet_interactive": {
     "language": "csharp"
    },
    "vscode": {
     "languageId": "dotnet-interactive.csharp"
    }
   },
   "outputs": [
    {
     "data": {
      "text/html": [
       "<div class=\"dni-plaintext\">-1</div>"
      ]
     },
     "metadata": {},
     "output_type": "display_data"
    }
   ],
   "source": [
    "DominantIndex( nums2 )"
   ]
  },
  {
   "cell_type": "markdown",
   "metadata": {},
   "source": [
    "<br>"
   ]
  },
  {
   "cell_type": "markdown",
   "metadata": {},
   "source": [
    "#### Analysis"
   ]
  },
  {
   "cell_type": "markdown",
   "metadata": {},
   "source": [
    "##### **Time** "
   ]
  },
  {
   "cell_type": "markdown",
   "metadata": {},
   "source": [
    "Since we `derive the aggregate Maximum of each element in the nums array`, we always iterate through the full length of the `nums` array.\n",
    "\n",
    "$$\\implies O(n)$$  \n",
    "    \n",
    "$Subsequently,$  \n",
    "    \n",
    "as we are also `Iterating For every element in the nums array, from its's First Index up through it's Last Index`, we are making a second full pass along the length of the `nums` array.   \n",
    "   \n",
    "$$\\implies O(n) + O(n) = 2 \\times O(n)$$\n",
    "$$\\Large{\\bf{\\implies O(n)}}$$"
   ]
  },
  {
   "cell_type": "markdown",
   "metadata": {},
   "source": [
    "---"
   ]
  },
  {
   "cell_type": "markdown",
   "metadata": {},
   "source": [
    "##### **Space** "
   ]
  },
  {
   "cell_type": "markdown",
   "metadata": {},
   "source": [
    "We do *NOT* allocate any auxiliary space in addition to the input array\n",
    "\n",
    "$$\\Large{\\bf{\\implies O(n)}}$$"
   ]
  }
 ],
 "metadata": {
  "kernelspec": {
   "display_name": ".NET (C#)",
   "language": "C#",
   "name": ".net-csharp"
  },
  "language_info": {
   "file_extension": ".cs",
   "mimetype": "text/x-csharp",
   "name": "C#",
   "pygments_lexer": "csharp",
   "version": "9.0"
  },
  "orig_nbformat": 4
 },
 "nbformat": 4,
 "nbformat_minor": 2
}
