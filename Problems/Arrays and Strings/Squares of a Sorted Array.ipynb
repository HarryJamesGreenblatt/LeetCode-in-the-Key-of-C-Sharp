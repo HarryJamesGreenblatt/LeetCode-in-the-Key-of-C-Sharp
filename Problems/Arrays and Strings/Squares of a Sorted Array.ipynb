{
 "cells": [
  {
   "cell_type": "markdown",
   "metadata": {},
   "source": [
    "# Squares of a Sorted Array"
   ]
  },
  {
   "cell_type": "markdown",
   "metadata": {},
   "source": [
    "Given an integer array `nums` sorted in *non-decreasing order*, return an array of the **squares** of each number sorted in *non-decreasing order*."
   ]
  },
  {
   "cell_type": "markdown",
   "metadata": {},
   "source": [
    "**Example 1**:\n",
    "> ```\n",
    "> Input: nums = [-4,-1,0,3,10]\n",
    "> Output: [0,1,9,16,100]\n",
    "> ```\n",
    "Explanation: After squaring, the array becomes `[16,1,0,9,100]`.\n",
    "After sorting, it becomes `[0,1,9,16,100]`.\n",
    "<br>\n",
    "<br>\n",
    "\n",
    "**Example 2**:\n",
    "> ```\n",
    "> Input: nums = [-7,-3,2,3,11]\n",
    "> Output: [4,9,9,49,121]\n",
    "> ```"
   ]
  },
  {
   "cell_type": "markdown",
   "metadata": {},
   "source": [
    "**Constraints**:\n",
    "\n",
    "- `1 <= nums.length <= 104`\n",
    "- `-104 <= nums[i] <= 104`\n",
    "- nums is sorted in non-decreasing order."
   ]
  },
  {
   "cell_type": "markdown",
   "metadata": {},
   "source": [
    "<br>"
   ]
  },
  {
   "cell_type": "markdown",
   "metadata": {},
   "source": [
    "### One Pass, Two Pointers"
   ]
  },
  {
   "cell_type": "markdown",
   "metadata": {},
   "source": [
    "##### Psuedo"
   ]
  },
  {
   "cell_type": "markdown",
   "metadata": {},
   "source": [
    "```\n",
    "Make a new array the same size as the input array where we can store the sorted, squared outputs.\n",
    "\n",
    "Set up pointers at opposite ends of the nums array\n",
    "(a Left pointer starting at index 0 and a Right pointer starting at N-1).\n",
    "\n",
    "Iterating  backwards  from index  N-1  to  index 0:\n",
    "\n",
    "    squareThis = 0\n",
    "\n",
    "    If the Left pointer's absolute value < Right pointer's absolute value:\n",
    "        squareThis = nums[right]\n",
    "        Move the Right pointer back one position \n",
    "\n",
    "    Else:\n",
    "        squareThis = nums[left]\n",
    "        Move the Left pointer forward one position\n",
    "\n",
    "    sortedSquaredArray[index] = squareThis * squareThis\n",
    "\n",
    "return nums \n",
    "```"
   ]
  },
  {
   "cell_type": "markdown",
   "metadata": {},
   "source": [
    "<br>"
   ]
  },
  {
   "cell_type": "markdown",
   "metadata": {},
   "source": [
    "#### Implementation"
   ]
  },
  {
   "cell_type": "code",
   "execution_count": 3,
   "metadata": {
    "dotnet_interactive": {
     "language": "csharp"
    },
    "vscode": {
     "languageId": "dotnet-interactive.csharp"
    }
   },
   "outputs": [],
   "source": [
    "public int[] SortedSquares(int[] nums) {\n",
    "            \n",
    "    // Make a new array the same size as the input array where \n",
    "    // we can store the sorted, squared outputs.\n",
    "    int[] sortedSquaredArray = new int[nums.Length];\n",
    "\n",
    "\n",
    "    // Set up pointers at opposite ends of the nums array\n",
    "    // (a Left pointer starting at index 0 and a Right pointer starting at N-1).\n",
    "    int leftPointer  = 0,\n",
    "        rightPointer = nums.Length - 1;\n",
    "\n",
    "\n",
    "    // Iterating  backwards  from index  N-1  to  index 0:\n",
    "    for(int index = rightPointer; index >= 0; index-- )\n",
    "    {\n",
    "        \n",
    "        int squareThis = 0;\n",
    "        \n",
    "        // If the Left pointer's absolute value < Right pointer's absolute value:\n",
    "        //      squareThis = nums[right]\n",
    "        //      Move the Right pointer back one position \n",
    "        if(Math.Abs(nums[leftPointer]) < Math.Abs(nums[rightPointer]))\n",
    "        {\n",
    "            squareThis = nums[rightPointer];\n",
    "            rightPointer--;\n",
    "        }\n",
    "        \n",
    "        // Else:\n",
    "        //      squareThis = nums[left]\n",
    "        //      Move the Left pointer forward one position\n",
    "        else\n",
    "        {\n",
    "            squareThis = nums[leftPointer];\n",
    "            leftPointer++;\n",
    "        }\n",
    "\n",
    "        sortedSquaredArray[index] = squareThis * squareThis;\n",
    "    }\n",
    "\n",
    "    \n",
    "    return sortedSquaredArray;\n",
    "\n",
    "}"
   ]
  },
  {
   "cell_type": "code",
   "execution_count": 6,
   "metadata": {
    "dotnet_interactive": {
     "language": "csharp"
    },
    "vscode": {
     "languageId": "dotnet-interactive.csharp"
    }
   },
   "outputs": [],
   "source": [
    "// test input\n",
    "\n",
    "public int[] nums = {-4,-1,0,3,10};"
   ]
  },
  {
   "cell_type": "code",
   "execution_count": 7,
   "metadata": {
    "dotnet_interactive": {
     "language": "csharp"
    },
    "vscode": {
     "languageId": "dotnet-interactive.csharp"
    }
   },
   "outputs": [
    {
     "data": {
      "text/html": [
       "<table><thead><tr><th><i>index</i></th><th>value</th></tr></thead><tbody><tr><td>0</td><td><div class=\"dni-plaintext\">0</div></td></tr><tr><td>1</td><td><div class=\"dni-plaintext\">1</div></td></tr><tr><td>2</td><td><div class=\"dni-plaintext\">9</div></td></tr><tr><td>3</td><td><div class=\"dni-plaintext\">16</div></td></tr><tr><td>4</td><td><div class=\"dni-plaintext\">100</div></td></tr></tbody></table>"
      ]
     },
     "metadata": {},
     "output_type": "display_data"
    }
   ],
   "source": [
    "SortedSquares(nums)"
   ]
  },
  {
   "cell_type": "markdown",
   "metadata": {},
   "source": [
    "<br>"
   ]
  },
  {
   "cell_type": "markdown",
   "metadata": {},
   "source": [
    "#### Analysis"
   ]
  },
  {
   "cell_type": "markdown",
   "metadata": {},
   "source": [
    "##### **Time**"
   ]
  },
  {
   "cell_type": "markdown",
   "metadata": {},
   "source": [
    "Let $\\quad n \\quad$ represent the *length* of the `nums` array.\n",
    "\n",
    "By `Iterating  backwards  from index  N-1  to  index  0`, we must always iterate through the full length of the `nums` array.\n",
    "$$\\implies \\bf{\\Large{O(n)}}$$\n",
    "<br>"
   ]
  },
  {
   "cell_type": "markdown",
   "metadata": {},
   "source": [
    "---"
   ]
  },
  {
   "cell_type": "markdown",
   "metadata": {},
   "source": [
    "##### **Space**"
   ]
  },
  {
   "cell_type": "markdown",
   "metadata": {},
   "source": [
    "In order to `Make a new array the same size as the input array where we can store the sorted, squared outputs`, we must allocate an auxiliary space proportional to the size of the `nums` array.\n",
    "$$\\implies \\bf{\\Large{O(n)}}$$"
   ]
  }
 ],
 "metadata": {
  "kernelspec": {
   "display_name": ".NET (C#)",
   "language": "C#",
   "name": ".net-csharp"
  },
  "language_info": {
   "file_extension": ".cs",
   "mimetype": "text/x-csharp",
   "name": "C#",
   "pygments_lexer": "csharp",
   "version": "9.0"
  },
  "orig_nbformat": 4
 },
 "nbformat": 4,
 "nbformat_minor": 2
}
