{
 "cells": [
  {
   "cell_type": "markdown",
   "metadata": {},
   "source": [
    "# Move Zeroes"
   ]
  },
  {
   "cell_type": "markdown",
   "metadata": {},
   "source": [
    "Given an integer array `nums`, *move all `0`'s to the end* of it while *maintaining the relative order of the non-zero elements*.\n",
    "   \n",
    "Note that you must do this **in-place** without making a copy of the array."
   ]
  },
  {
   "cell_type": "markdown",
   "metadata": {},
   "source": [
    "**Example 1**:    \n",
    "> ```\n",
    "> Input: nums = [0,1,0,3,12]\n",
    "> Output: [1,3,12,0,0]\n",
    "> ```\n",
    "\n",
    "<br>\n",
    "       \n",
    "**Example 2**:   \n",
    "> ```\n",
    "> Input: nums = [0]\n",
    "> Output: [0]\n",
    "> ```\n",
    "\n",
    "<br>"
   ]
  },
  {
   "cell_type": "markdown",
   "metadata": {},
   "source": [
    "**Constraints**:\n",
    "\n",
    "- `1 <= nums.length <= 104`\n",
    "- `-231 <= nums[i] <= 231 - 1`\n",
    "\n"
   ]
  },
  {
   "cell_type": "markdown",
   "metadata": {},
   "source": [
    "<br>"
   ]
  },
  {
   "cell_type": "markdown",
   "metadata": {},
   "source": [
    "### One Pass, Two Pointers"
   ]
  },
  {
   "cell_type": "markdown",
   "metadata": {},
   "source": [
    "##### Psuedo"
   ]
  },
  {
   "cell_type": "markdown",
   "metadata": {},
   "source": [
    "###### Provide a Subroutine to `Swap` the *Addresses* of it's parameters, switching their values without overwriting them in place. <br><br> Time: $\\qquad O(1)$ <br> Space: $\\qquad O(1)$\n",
    "\n",
    "```\n",
    "define a function  Swap( ref T a,  ref T b):\n",
    "\n",
    "    Set up a Generic Type to assume a Copy Of A's Address\n",
    "\n",
    "    Clobber A's Address with B's Adresss\n",
    "\n",
    "    Clobber B's Address with the Copy Of A's Address\n",
    "```"
   ]
  },
  {
   "cell_type": "markdown",
   "metadata": {},
   "source": [
    "<br>"
   ]
  },
  {
   "cell_type": "markdown",
   "metadata": {},
   "source": [
    "###### Iteratate through the input array, calling `Swap` to literally *switch* elements discovered to be Zero-Valued. <br><br> Time: $\\qquad O(n)$ <br> Space: $\\qquad O(1)$\n",
    "\n",
    "```\n",
    "We'll have one pointer store the Most Recent Non-Zero Index,\n",
    "initialized to Zero to facilitate being used as a Swap-out\n",
    "for any Zero-Valued Indices discovered\n",
    "\n",
    "\n",
    "Observe the Indices belonging to the First and Last Elements of the nums array.\n",
    "\n",
    "\n",
    "Iterating through each element of the nums array,\n",
    "from the First Index up through the Last Index:\n",
    "\n",
    "    If the Value at the Current Index is Non-Zero,\n",
    "            Swap the Adresss at the Current Index with\n",
    "            the Adresss at the Most Recent Non-Zero Index,\n",
    "            taking care to ensure that both the Current Index and \n",
    "            the Most Recent Non-Zero Index increment simultaneously. \n",
    "```"
   ]
  },
  {
   "cell_type": "markdown",
   "metadata": {},
   "source": [
    "<br>"
   ]
  },
  {
   "cell_type": "markdown",
   "metadata": {},
   "source": [
    "#### Implementation"
   ]
  },
  {
   "cell_type": "code",
   "execution_count": 1,
   "metadata": {
    "dotnet_interactive": {
     "language": "csharp"
    },
    "vscode": {
     "languageId": "dotnet-interactive.csharp"
    }
   },
   "outputs": [],
   "source": [
    "// Provide a Subroutine which Swaps the Addresses of it's parameters,\n",
    "// switching their values without overwriting them in place.  \n",
    "public static void Swap<T>(ref T a, ref T b)\n",
    "{\n",
    "\n",
    "    // Set up a Generic Type to assume a Copy Of A's Address\n",
    "    T CopyOfA = a;\n",
    "\n",
    "\n",
    "    // Clobber A's Address with B's Adresss\n",
    "    a = b;\n",
    "\n",
    "\n",
    "    // Clobber B's Address with the Copy Of A's Address\n",
    "    b = CopyOfA;\n",
    "    \n",
    "}"
   ]
  },
  {
   "cell_type": "code",
   "execution_count": 2,
   "metadata": {
    "dotnet_interactive": {
     "language": "csharp"
    },
    "vscode": {
     "languageId": "dotnet-interactive.csharp"
    }
   },
   "outputs": [],
   "source": [
    "// test input\n",
    "int a = 'a',\n",
    "    b = 'b';"
   ]
  },
  {
   "cell_type": "code",
   "execution_count": 3,
   "metadata": {
    "dotnet_interactive": {
     "language": "csharp"
    },
    "vscode": {
     "languageId": "dotnet-interactive.csharp"
    }
   },
   "outputs": [
    {
     "data": {
      "text/plain": [
       "Before the SWAP:  a=97,  b=98"
      ]
     },
     "metadata": {},
     "output_type": "display_data"
    }
   ],
   "source": [
    "$\"Before the SWAP:  a={a},  b={b}\"\n"
   ]
  },
  {
   "cell_type": "code",
   "execution_count": 4,
   "metadata": {
    "dotnet_interactive": {
     "language": "csharp"
    },
    "vscode": {
     "languageId": "dotnet-interactive.csharp"
    }
   },
   "outputs": [],
   "source": [
    "Swap(ref a, ref b);"
   ]
  },
  {
   "cell_type": "code",
   "execution_count": 5,
   "metadata": {
    "dotnet_interactive": {
     "language": "csharp"
    },
    "vscode": {
     "languageId": "dotnet-interactive.csharp"
    }
   },
   "outputs": [
    {
     "data": {
      "text/plain": [
       "After the SWAP:  a=98,  b=97"
      ]
     },
     "metadata": {},
     "output_type": "display_data"
    }
   ],
   "source": [
    "$\"After the SWAP:  a={a},  b={b}\""
   ]
  },
  {
   "cell_type": "markdown",
   "metadata": {},
   "source": [
    "<br>"
   ]
  },
  {
   "cell_type": "code",
   "execution_count": 6,
   "metadata": {
    "dotnet_interactive": {
     "language": "csharp"
    },
    "vscode": {
     "languageId": "dotnet-interactive.csharp"
    }
   },
   "outputs": [],
   "source": [
    "public void MoveZeroes(int[] nums) {\n",
    "     \n",
    "    // We'll have one pointer store the Most Recent Non-Zero Index,\n",
    "    // initialized to Zero to facilitate being used as a Swap-out\n",
    "    // for any Zero-Valued Indices discovered\n",
    "    int MostRecentNonZeroIndex = 0;\n",
    "\n",
    " \n",
    "    // Observe the Indices belonging to the First and Last Elements of the nums array.\n",
    "    int FirstIndex = 0; \n",
    "    int LastIndex  = nums.Length - 1;\n",
    "\n",
    "\n",
    "    // Iterating through each element of the nums array,\n",
    "    // from the First Index up through the Last Index:\n",
    "    for( int CurrentIndex = FirstIndex; CurrentIndex <= LastIndex; CurrentIndex++ )\n",
    "    {\n",
    "\n",
    "        // If the Value at the Current Index is Non-Zero,\n",
    "        if( nums[ CurrentIndex ] != 0 )\n",
    "        {\n",
    "\n",
    "            // Swap the Adresss at the Current Index with\n",
    "            // the Adresss at the Most Recent Non Zero-Index,\n",
    "            // taking care to ensure that both the Current Index and \n",
    "            // the Most Recent Non-Zero Index increment simultaneously. \n",
    "            Swap( \n",
    "                ref nums[ CurrentIndex ],  \n",
    "                ref nums[ MostRecentNonZeroIndex++ ]\n",
    "            );\n",
    "            \n",
    "        }\n",
    "\n",
    "    } \n",
    "\n",
    "}"
   ]
  },
  {
   "cell_type": "code",
   "execution_count": 7,
   "metadata": {
    "dotnet_interactive": {
     "language": "csharp"
    },
    "vscode": {
     "languageId": "dotnet-interactive.csharp"
    }
   },
   "outputs": [],
   "source": [
    "// test input\n",
    "int[] nums = {0,1,0,3,12}; "
   ]
  },
  {
   "cell_type": "code",
   "execution_count": 8,
   "metadata": {
    "dotnet_interactive": {
     "language": "csharp"
    },
    "vscode": {
     "languageId": "dotnet-interactive.csharp"
    }
   },
   "outputs": [],
   "source": [
    "MoveZeroes( nums );"
   ]
  },
  {
   "cell_type": "code",
   "execution_count": 9,
   "metadata": {
    "dotnet_interactive": {
     "language": "csharp"
    },
    "vscode": {
     "languageId": "dotnet-interactive.csharp"
    }
   },
   "outputs": [
    {
     "data": {
      "text/html": [
       "<table><thead><tr><th><i>index</i></th><th>value</th></tr></thead><tbody><tr><td>0</td><td><div class=\"dni-plaintext\">1</div></td></tr><tr><td>1</td><td><div class=\"dni-plaintext\">3</div></td></tr><tr><td>2</td><td><div class=\"dni-plaintext\">12</div></td></tr><tr><td>3</td><td><div class=\"dni-plaintext\">0</div></td></tr><tr><td>4</td><td><div class=\"dni-plaintext\">0</div></td></tr></tbody></table>"
      ]
     },
     "metadata": {},
     "output_type": "display_data"
    }
   ],
   "source": [
    "nums"
   ]
  },
  {
   "cell_type": "markdown",
   "metadata": {},
   "source": [
    "<br>"
   ]
  },
  {
   "cell_type": "markdown",
   "metadata": {},
   "source": [
    "#### Analysis"
   ]
  },
  {
   "cell_type": "markdown",
   "metadata": {},
   "source": [
    "##### **Time** "
   ]
  },
  {
   "cell_type": "markdown",
   "metadata": {},
   "source": [
    "Since we are `Iterating through each element of the nums array from the First Index up through the Last Index`, clearly, we must always traverse the full length of `nums`\n",
    "\n",
    "$$ \\Large{ \\bf{ \\implies O(n)}} $$"
   ]
  },
  {
   "cell_type": "markdown",
   "metadata": {},
   "source": [
    "---"
   ]
  },
  {
   "cell_type": "markdown",
   "metadata": {},
   "source": [
    "##### **Space** "
   ]
  },
  {
   "cell_type": "markdown",
   "metadata": {},
   "source": [
    "We are *not* allocating any additional space other than the given input.\n",
    "\n",
    "$$ \\Large{ \\bf{ \\implies O(1)}} $$"
   ]
  }
 ],
 "metadata": {
  "kernelspec": {
   "display_name": ".NET (C#)",
   "language": "C#",
   "name": ".net-csharp"
  },
  "language_info": {
   "file_extension": ".cs",
   "mimetype": "text/x-csharp",
   "name": "C#",
   "pygments_lexer": "csharp",
   "version": "9.0"
  },
  "orig_nbformat": 4
 },
 "nbformat": 4,
 "nbformat_minor": 2
}
