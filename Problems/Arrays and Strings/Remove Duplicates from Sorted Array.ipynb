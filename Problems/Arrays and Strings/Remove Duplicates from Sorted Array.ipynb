{
 "cells": [
  {
   "cell_type": "markdown",
   "metadata": {},
   "source": [
    "# Remove Duplicates from Sorted Array"
   ]
  },
  {
   "cell_type": "markdown",
   "metadata": {},
   "source": [
    "Given an integer array `nums` sorted in non-decreasing order, remove the duplicates **in-place** such that each unique element appears only once. The relative order of the elements should be kept the same.   \n",
    "   \n",
    "Since it is impossible to change the length of the array in some languages, you must instead have the result be placed in the first part of the array `nums`. More formally, if there are `k` elements after removing the duplicates, then the *first `k` elements* of `nums` should hold the final result. It does not matter what you leave beyond the *first `k` elements*.\n",
    "   \n",
    "Return `k` after placing the final result in the first `k` slots of `nums`.\n",
    "   \n",
    "Do not allocate extra space for another array. You must do this by modifying the input array **in-place** with $O(1)$ extra memory."
   ]
  },
  {
   "cell_type": "markdown",
   "metadata": {},
   "source": [
    "**Example 1**:    \n",
    "> ```\n",
    "> Input: nums = [1,1,2]\n",
    "> Output: 2, nums = [1,2,_]\n",
    "> ```\n",
    "\n",
    "Explanation:      \n",
    "Your function should return `k = 2`, with the first two elements of nums being `1` and `2` respectively.   \n",
    "\n",
    "It does not matter what you leave beyond the returned `k` (hence they are underscores).\n",
    "\n",
    "<br>\n",
    "\n",
    "**Example 2**:    \n",
    "> ```\n",
    "> Input: nums = [0,0,1,1,1,2,2,3,3,4]\n",
    "> Output: 5, nums = [0,1,2,3,4,_,_,_,_,_]\n",
    "> ```\n",
    "\n",
    "Explanation:      \n",
    "Your function should return `k = 5`, with the first five elements of nums being `0`, `1`, `2`, `3`, and `4` respectively.   \n",
    "\n",
    "It does not matter what you leave beyond the returned `k` (hence they are underscores).\n",
    "\n",
    "<br>"
   ]
  },
  {
   "cell_type": "markdown",
   "metadata": {},
   "source": [
    "**Constraints**:\n",
    "\n",
    "- `1 <= nums.length <= 3 * 104`\n",
    "- `-100 <= nums[i] <= 100`\n",
    "- `nums` is sorted in non-decreasing order.\n",
    "\n",
    "\n"
   ]
  },
  {
   "cell_type": "markdown",
   "metadata": {},
   "source": [
    "<br>"
   ]
  },
  {
   "cell_type": "markdown",
   "metadata": {},
   "source": [
    "### One Pass, Two Pointer"
   ]
  },
  {
   "cell_type": "markdown",
   "metadata": {},
   "source": [
    "##### Psuedo"
   ]
  },
  {
   "cell_type": "markdown",
   "metadata": {},
   "source": [
    "```\n",
    "Let  k  be an integer whose initial value is set to \n",
    "the Index Number belonging to the second element of the nums array.\n",
    "\n",
    "\n",
    "For each allocated slot in the nums array starting from   i,\n",
    "another integer whose initial value is also set to the Index Number \n",
    "belonging to the second element of the nums array, \n",
    "up until the end of the nums array:\n",
    "\n",
    "    As long as  nums[i]  is not eaqual to the element on it's left,\n",
    "    which is represented as  nums[i-1], \n",
    "    we copy nums[i] to nums[k], \n",
    "    and increment both indexes at the same time.\n",
    "\n",
    "    When nums[i] is equal to the element on it's left, \n",
    "    skip this element by incrementing i.\n",
    "\n",
    "\n",
    "After all that, i reaches the end of the array, \n",
    "and the new length is k,\n",
    "which is returned, as required.\n",
    "```"
   ]
  },
  {
   "cell_type": "markdown",
   "metadata": {},
   "source": [
    "<br>"
   ]
  },
  {
   "cell_type": "markdown",
   "metadata": {},
   "source": [
    "#### Implementation"
   ]
  },
  {
   "cell_type": "code",
   "execution_count": 9,
   "metadata": {
    "dotnet_interactive": {
     "language": "csharp"
    },
    "vscode": {
     "languageId": "dotnet-interactive.csharp"
    }
   },
   "outputs": [],
   "source": [
    "public int RemoveDuplicates( int[] nums )\n",
    "{\n",
    "\n",
    "    // Let  k  be an integer whose initial value is set to \n",
    "    // the Index Number belonging to the second element of the nums array.\n",
    "    int k = 1;\n",
    "\n",
    "\n",
    "    // For each allocated slot in the nums array starting from   i,\n",
    "    // another integer whose initial value is also set to the Index Number \n",
    "    // belonging to the second element of the nums array, \n",
    "    // up until the end of the nums array:\n",
    "    for (int i = k; i < nums.Length; i++)\n",
    "    {\n",
    "\n",
    "        // As long as  nums[i]  is not eaqual to the element on it's left,\n",
    "        // which is represented as  nums[i-1], \n",
    "        // we copy nums[i] to nums[k], \n",
    "        // and increment both indexes at the same time.   \n",
    "        if (nums[ i-1 ] != nums[ i ])\n",
    "            nums[ k++ ] = nums[ i ];\n",
    "\n",
    "        \n",
    "        // When nums[i] is equal to the element on it's left, \n",
    "        // skip this element by incrementing i.\n",
    "        \n",
    "    }\n",
    "\n",
    "\n",
    "    // After all that, i reaches the end of the array, \n",
    "    // and the new length is k,\n",
    "    // which is returned, as required.\n",
    "    return k;\n",
    "\n",
    "}"
   ]
  },
  {
   "cell_type": "code",
   "execution_count": 10,
   "metadata": {
    "dotnet_interactive": {
     "language": "csharp"
    },
    "vscode": {
     "languageId": "dotnet-interactive.csharp"
    }
   },
   "outputs": [],
   "source": [
    "public int[] nums = {0,0,1,1,1,2,2,3,3,4};"
   ]
  },
  {
   "cell_type": "code",
   "execution_count": 11,
   "metadata": {
    "dotnet_interactive": {
     "language": "csharp"
    },
    "vscode": {
     "languageId": "dotnet-interactive.csharp"
    }
   },
   "outputs": [
    {
     "data": {
      "text/html": [
       "<div class=\"dni-plaintext\">5</div>"
      ]
     },
     "metadata": {},
     "output_type": "display_data"
    }
   ],
   "source": [
    "RemoveDuplicates( nums )"
   ]
  },
  {
   "cell_type": "markdown",
   "metadata": {},
   "source": [
    "<br>"
   ]
  },
  {
   "cell_type": "markdown",
   "metadata": {},
   "source": [
    "#### Analysis"
   ]
  },
  {
   "cell_type": "markdown",
   "metadata": {},
   "source": [
    "##### **Time** "
   ]
  },
  {
   "cell_type": "markdown",
   "metadata": {},
   "source": [
    "Since `we copy nums[k] to nums[i]` if by checking `each allocated slot in the nums array starting from i` we find that `nums[i] is not equal to the element on it's left`, we must iterate through each element in the `nums` array.\n",
    "\n",
    "$$\\implies \\Large{\\bf{O(n)}}$$"
   ]
  },
  {
   "cell_type": "markdown",
   "metadata": {},
   "source": [
    "---"
   ]
  },
  {
   "cell_type": "markdown",
   "metadata": {},
   "source": [
    "##### **Space** "
   ]
  },
  {
   "cell_type": "markdown",
   "metadata": {},
   "source": [
    "We are *not* allocating any additional space other than the given input.\n",
    "\n",
    "$$\\implies \\Large{\\bf{O(1)}}$$"
   ]
  }
 ],
 "metadata": {
  "kernelspec": {
   "display_name": ".NET (C#)",
   "language": "C#",
   "name": ".net-csharp"
  },
  "language_info": {
   "file_extension": ".cs",
   "mimetype": "text/x-csharp",
   "name": "C#",
   "pygments_lexer": "csharp",
   "version": "9.0"
  },
  "orig_nbformat": 4
 },
 "nbformat": 4,
 "nbformat_minor": 2
}
