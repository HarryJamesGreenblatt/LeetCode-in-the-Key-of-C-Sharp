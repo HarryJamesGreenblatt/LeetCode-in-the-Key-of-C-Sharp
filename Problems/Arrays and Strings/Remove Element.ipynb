{
 "cells": [
  {
   "cell_type": "markdown",
   "metadata": {},
   "source": [
    "# Remove Element"
   ]
  },
  {
   "cell_type": "markdown",
   "metadata": {},
   "source": [
    "Given an *integer array* `nums` and an *integer* `val`, remove all occurrences of `val` in `nums` **in-place**.    \n",
    "   \n",
    "The relative order of the elements may be changed.\n",
    "\n",
    "Since it is impossible to change the length of the array in some languages, you must instead have the result be placed *in the first part* of the array `nums`.   \n",
    "    \n",
    "More formally, if there are `k` elements after removing the duplicates, then the *first `k` elements* of `nums` should hold the final result. It does not matter what you leave beyond the *first `k` elements*.\n",
    "\n",
    "Return `k` after placing the final result in the *first `k` slots* of `nums`.\n",
    "    \n",
    "*Do not* allocate extra space for another array.    \n",
    "    \n",
    "You must do this by modifying the input array **in-place** with $O(1)$ extra memory."
   ]
  },
  {
   "cell_type": "markdown",
   "metadata": {},
   "source": [
    "**Example 1**:    \n",
    "> ```\n",
    "> Input: nums = [3,2,2,3], val = 3\n",
    "> Output: 2, nums = [2,2,_,_]\n",
    "> ```\n",
    "\n",
    "Explanation:      \n",
    "Your function should return `k = 2`,   \n",
    "with the first two elements of nums being `2`.   \n",
    "\n",
    "It does not matter what you leave beyond the returned `k` (hence they are underscores).\n",
    "<br>\n",
    "<br>\n",
    "      \n",
    "      \n",
    "**Example 2**:   \n",
    "> ```\n",
    "> Input: nums = [0,1,2,2,3,0,4,2], val = 2\n",
    "> Output: 5, nums = [0,1,4,0,3,_,_,_]\n",
    "> ```\n",
    "\n",
    "Explanation:    \n",
    "Your function should return `k = 5`,    \n",
    "with the first five elements of nums containing `0, 0, 1, 3, and 4`.   \n",
    "\n",
    "Note that the five elements can be returned in any order.  \n",
    "\n",
    "It does not matter what you leave beyond the returned `k` (hence they are underscores).\n",
    "\n",
    "<br>"
   ]
  },
  {
   "cell_type": "markdown",
   "metadata": {},
   "source": [
    "**Constraints**:\n",
    "\n",
    "- `0 <= nums.length <= 100`\n",
    "- `0 <= nums[i] <= 50`\n",
    "- `0 <= val <= 100`"
   ]
  },
  {
   "cell_type": "markdown",
   "metadata": {},
   "source": [
    "<br>"
   ]
  },
  {
   "cell_type": "markdown",
   "metadata": {},
   "source": [
    "### One Pass, Two Pointers"
   ]
  },
  {
   "cell_type": "markdown",
   "metadata": {},
   "source": [
    "##### Psuedo"
   ]
  },
  {
   "cell_type": "markdown",
   "metadata": {},
   "source": [
    "```\n",
    "Let  i  be an integer whose initial value is set to the Index Number belonging to the first element of the nums array.\n",
    "\n",
    "\n",
    "For each allocated slot in the nums array starting from   j,   \n",
    "another integer whose initial value is also set to the Index Number belonging to the first element of the nums array,   \n",
    "up until the end of the nums array:\n",
    "    \n",
    "    When nums[j] equals to the given value, \n",
    "    skip this element by incrementing j.    \n",
    "   \n",
    "    As long as  nums[j]  is not eaqual to  val,  \n",
    "    we copy nums[j] to nums[i],   \n",
    "    and increment both indexes at the same time.   \n",
    "   \n",
    "   \n",
    "After all that, j reaches the end of the array, \n",
    "and the new length is i,\n",
    "which is returned, as required.\n",
    "```"
   ]
  },
  {
   "cell_type": "markdown",
   "metadata": {},
   "source": [
    "<br>"
   ]
  },
  {
   "cell_type": "markdown",
   "metadata": {},
   "source": [
    "#### Implementation"
   ]
  },
  {
   "cell_type": "code",
   "execution_count": 11,
   "metadata": {
    "dotnet_interactive": {
     "language": "csharp"
    },
    "vscode": {
     "languageId": "dotnet-interactive.csharp"
    }
   },
   "outputs": [],
   "source": [
    "public int RemoveElement( int[] nums, int val )\n",
    "{\n",
    "\n",
    "    // Let  k  be an integer whose initial value is set to \n",
    "    // the Index Number belonging to the first element of the nums array.\n",
    "    int k = 0;\n",
    "\n",
    "\n",
    "    // For each allocated slot in the nums array starting from   i,\n",
    "    // another integer whose initial value is also set to the Index Number \n",
    "    // belonging to the first element of the nums array, up until the end of the nums array:\n",
    "    for (int i = k; i < nums.Length; i++)\n",
    "    {\n",
    "\n",
    "        // As long as  nums[i]  is not eaqual to  val, \n",
    "        // we copy nums[i] to nums[k], \n",
    "        // and increment both indexes at the same time.   \n",
    "        if (nums[ i ] != val)\n",
    "            nums[ k++ ] = nums[ i ];\n",
    "\n",
    "        \n",
    "        // When nums[i] equals to the given value, \n",
    "        // skip this element by incrementing i.\n",
    "        \n",
    "    }\n",
    "\n",
    "\n",
    "    // After all that, i reaches the end of the array, \n",
    "    // and the new length is k,\n",
    "    // which is returned, as required.\n",
    "    return k;\n",
    "\n",
    "}"
   ]
  },
  {
   "cell_type": "code",
   "execution_count": 12,
   "metadata": {
    "dotnet_interactive": {
     "language": "csharp"
    },
    "vscode": {
     "languageId": "dotnet-interactive.csharp"
    }
   },
   "outputs": [],
   "source": [
    "// test input\n",
    "public int[] nums = {0,1,2,2,3,0,4,2};"
   ]
  },
  {
   "cell_type": "code",
   "execution_count": 13,
   "metadata": {
    "dotnet_interactive": {
     "language": "csharp"
    },
    "vscode": {
     "languageId": "dotnet-interactive.csharp"
    }
   },
   "outputs": [
    {
     "data": {
      "text/html": [
       "<div class=\"dni-plaintext\">5</div>"
      ]
     },
     "metadata": {},
     "output_type": "display_data"
    }
   ],
   "source": [
    "RemoveElement(nums, 2)"
   ]
  },
  {
   "cell_type": "markdown",
   "metadata": {},
   "source": [
    "<br>"
   ]
  },
  {
   "cell_type": "markdown",
   "metadata": {},
   "source": [
    "#### Analysis"
   ]
  },
  {
   "cell_type": "markdown",
   "metadata": {},
   "source": [
    "##### **Time** "
   ]
  },
  {
   "cell_type": "markdown",
   "metadata": {},
   "source": [
    "Since `we copy nums[k] to nums[i]` if by checking `each allocated slot in the nums array starting from k` we find that `nums[k] is not eaqual to val`, both $i$ and $k$ may traverse up to $2n$ steps combined.\n",
    "\n",
    "$$\\implies \\Large{\\bf{O(n)}}$$"
   ]
  },
  {
   "cell_type": "markdown",
   "metadata": {},
   "source": [
    "---"
   ]
  },
  {
   "cell_type": "markdown",
   "metadata": {},
   "source": [
    "##### **Space** "
   ]
  },
  {
   "cell_type": "markdown",
   "metadata": {},
   "source": [
    "We are *not* allocating any additional space other than the given input.\n",
    "\n",
    "$$\\implies \\Large{\\bf{O(1)}}$$"
   ]
  }
 ],
 "metadata": {
  "kernelspec": {
   "display_name": ".NET (C#)",
   "language": "C#",
   "name": ".net-csharp"
  },
  "language_info": {
   "file_extension": ".cs",
   "mimetype": "text/x-csharp",
   "name": "C#",
   "pygments_lexer": "csharp",
   "version": "9.0"
  },
  "orig_nbformat": 4
 },
 "nbformat": 4,
 "nbformat_minor": 2
}
