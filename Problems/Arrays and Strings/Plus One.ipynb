{
 "cells": [
  {
   "cell_type": "markdown",
   "metadata": {},
   "source": [
    "# Plus One"
   ]
  },
  {
   "cell_type": "markdown",
   "metadata": {},
   "source": [
    "You are given a large integer represented as an integer array `digits`, where each `digits[i]` is the *ith* digit of the integer. The digits are ordered from *most significant* to *least significant* in *left-to-right order*. The large integer does not contain any leading `0`'s.   \n",
    "   \n",
    "Increment the large integer by one and return the *resulting array of digits*."
   ]
  },
  {
   "cell_type": "markdown",
   "metadata": {},
   "source": [
    "**Example 1**:    \n",
    "> ```\n",
    "> Input: digits = [1,2,3]\n",
    "> Output: [1,2,4]\n",
    "> ```\n",
    "\n",
    "Explanation:      \n",
    "The array represents the integer `123`.   \n",
    "Incrementing by one gives `123 + 1 = 124`.   \n",
    "Thus, the result should be `[1,2,4]`.   \n",
    "\n",
    "<br>\n",
    "         \n",
    "**Example 2**:   \n",
    "> ```\n",
    "> Input: digits = [4,3,2,1]\n",
    "> Output: [4,3,2,2]\n",
    "> ```\n",
    "\n",
    "Explanation:      \n",
    "The array represents the integer `4321`.   \n",
    "Incrementing by one gives `4321 + 1 = 4322`.   \n",
    "Thus, the result should be `[4,3,2,2]`.   \n",
    "\n",
    "<br>\n",
    "\n",
    "**Example 3**:   \n",
    "> ```\n",
    "> Input: digits = [9]\n",
    "> Output: [1,0]\n",
    "> ```\n",
    "\n",
    "Explanation:      \n",
    "The array represents the integer `9`.   \n",
    "Incrementing by one gives `9 + 1 = 10`.   \n",
    "Thus, the result should be `[1,0]`.   \n",
    "\n",
    "<br>"
   ]
  },
  {
   "cell_type": "markdown",
   "metadata": {},
   "source": [
    "**Constraints**:\n",
    "\n",
    "- `1 <= digits.length <= 100`\n",
    "- `0 <= digits[i] <= 9`\n",
    "- `digits does not contain any leading 0's.`\n",
    "\n",
    "\n"
   ]
  },
  {
   "cell_type": "markdown",
   "metadata": {},
   "source": [
    "<br>"
   ]
  },
  {
   "cell_type": "markdown",
   "metadata": {},
   "source": [
    "### Approach Method Name"
   ]
  },
  {
   "cell_type": "markdown",
   "metadata": {},
   "source": [
    "##### Psuedo"
   ]
  },
  {
   "cell_type": "markdown",
   "metadata": {},
   "source": [
    "```\n",
    "Observe the Left Most and Right Most Indices of the digits array\n",
    "\n",
    "\n",
    "We should also observe the Capacity of the digits array as well\n",
    "\n",
    "\n",
    "Iterating For each element of the digits array,\n",
    "from the Right Most Index (LSB) and backing up through the Left Most Index (MSB):\n",
    "\n",
    "    If the Right Most Digit at the Current Index is a 9,\n",
    "         clobber it with a 0\n",
    "\n",
    "    Otherwise,\n",
    "    Increment the Right Most Digit at the Current Index by 1,\n",
    "    and return the resulting array which now satisfies the problem's requirements\n",
    "\n",
    "\n",
    "After all that,\n",
    "we may now reasonably assume that we have the case of all 9's,\n",
    "which requires us to allocate space for a new array which can \n",
    "accomodate the additional digit.\n",
    "As such, we can clobber the whole digits array with a new one\n",
    "whose Capacity accomodates space for the extra element, \n",
    "and whose elements are initiallized to 0\n",
    "\n",
    "\n",
    "We can then assign a 1 in the Left Most Index of this newly expanded digits array,\n",
    "which will complete the carryover operation\n",
    "\n",
    "\n",
    "The resulting digits array now satisfies the problem's requirements\n",
    "```"
   ]
  },
  {
   "cell_type": "markdown",
   "metadata": {},
   "source": [
    "<br>"
   ]
  },
  {
   "cell_type": "markdown",
   "metadata": {},
   "source": [
    "#### Implementation"
   ]
  },
  {
   "cell_type": "code",
   "execution_count": 1,
   "metadata": {
    "dotnet_interactive": {
     "language": "csharp"
    },
    "vscode": {
     "languageId": "dotnet-interactive.csharp"
    }
   },
   "outputs": [],
   "source": [
    "public int[] PlusOne(int[] digits)\n",
    "{\n",
    "\n",
    "    // Observe the Left Most and Right Most Indices of the digits array\n",
    "    int LeftMost = 0,\n",
    "        RightMost  = digits.Length - 1;\n",
    "        \n",
    "\n",
    "    // We should also observe the Capacity of the digits array as well\n",
    "    int Capacity = digits.Length;\n",
    "\n",
    "\n",
    "    // Iterating For each element of the digits array,\n",
    "    // from the Right Most Index (LSB) and backing up through the Left Most Index (MSB):\n",
    "    for(int CurrentIndex = RightMost; CurrentIndex >= LeftMost; CurrentIndex-- )\n",
    "    {\n",
    "\n",
    "        // If the Right Most Digit at the Current Index is a 9,\n",
    "        //      clobber it with a 0\n",
    "        if( digits[ CurrentIndex ] == 9)\n",
    "            digits[ CurrentIndex ] = 0;\n",
    "\n",
    "\n",
    "        // Otherwise,\n",
    "        // Increment the Right Most Digit at the Current Index by 1,\n",
    "        // and return the resulting array which now satisfies the problem's requirements\n",
    "        else\n",
    "        {\n",
    "            digits[ CurrentIndex ] += 1;\n",
    "            return digits;\n",
    "        }\n",
    "\n",
    "    }\n",
    "\n",
    "\n",
    "    // After all that,\n",
    "    // we may now reasonably assume that we have the case of all 9's,\n",
    "    // which requires us to allocate space for a new array which can \n",
    "    // accomodate the additional digit.\n",
    "    // As such, we can clobber the whole digits array with a new one\n",
    "    // whose Capacity accomodates space for the extra element, \n",
    "    // and whose elements are initiallized to 0\n",
    "    digits = new int[ Capacity + 1 ];\n",
    "    \n",
    "    \n",
    "    // We can then assign a 1 in the Left Most Index of this newly expanded digits array,\n",
    "    // which will complete the carryover operation\n",
    "    digits[ LeftMost ] = 1;\n",
    "    \n",
    "    \n",
    "    // The resulting digits array now satisfies the problem's requirements\n",
    "    return digits;\n",
    "\n",
    "}\n",
    "\n"
   ]
  },
  {
   "cell_type": "code",
   "execution_count": 2,
   "metadata": {
    "dotnet_interactive": {
     "language": "csharp"
    },
    "vscode": {
     "languageId": "dotnet-interactive.csharp"
    }
   },
   "outputs": [],
   "source": [
    "// test input\n",
    "int[] digits1 = {1,2,3},\n",
    "      digits2 = {4,3,2,1},\n",
    "      digits3 = {9};"
   ]
  },
  {
   "cell_type": "code",
   "execution_count": 3,
   "metadata": {
    "dotnet_interactive": {
     "language": "csharp"
    },
    "vscode": {
     "languageId": "dotnet-interactive.csharp"
    }
   },
   "outputs": [
    {
     "data": {
      "text/html": [
       "<table><thead><tr><th><i>index</i></th><th>value</th></tr></thead><tbody><tr><td>0</td><td><div class=\"dni-plaintext\">1</div></td></tr><tr><td>1</td><td><div class=\"dni-plaintext\">2</div></td></tr><tr><td>2</td><td><div class=\"dni-plaintext\">4</div></td></tr></tbody></table>"
      ]
     },
     "metadata": {},
     "output_type": "display_data"
    }
   ],
   "source": [
    "PlusOne( digits1 )"
   ]
  },
  {
   "cell_type": "code",
   "execution_count": 4,
   "metadata": {
    "dotnet_interactive": {
     "language": "csharp"
    },
    "vscode": {
     "languageId": "dotnet-interactive.csharp"
    }
   },
   "outputs": [
    {
     "data": {
      "text/html": [
       "<table><thead><tr><th><i>index</i></th><th>value</th></tr></thead><tbody><tr><td>0</td><td><div class=\"dni-plaintext\">4</div></td></tr><tr><td>1</td><td><div class=\"dni-plaintext\">3</div></td></tr><tr><td>2</td><td><div class=\"dni-plaintext\">2</div></td></tr><tr><td>3</td><td><div class=\"dni-plaintext\">2</div></td></tr></tbody></table>"
      ]
     },
     "metadata": {},
     "output_type": "display_data"
    }
   ],
   "source": [
    "PlusOne( digits2 )"
   ]
  },
  {
   "cell_type": "code",
   "execution_count": 5,
   "metadata": {
    "dotnet_interactive": {
     "language": "csharp"
    },
    "vscode": {
     "languageId": "dotnet-interactive.csharp"
    }
   },
   "outputs": [
    {
     "data": {
      "text/html": [
       "<table><thead><tr><th><i>index</i></th><th>value</th></tr></thead><tbody><tr><td>0</td><td><div class=\"dni-plaintext\">1</div></td></tr><tr><td>1</td><td><div class=\"dni-plaintext\">0</div></td></tr></tbody></table>"
      ]
     },
     "metadata": {},
     "output_type": "display_data"
    }
   ],
   "source": [
    "PlusOne( digits3 )"
   ]
  },
  {
   "cell_type": "markdown",
   "metadata": {},
   "source": [
    "<br>"
   ]
  },
  {
   "cell_type": "markdown",
   "metadata": {},
   "source": [
    "#### Analysis"
   ]
  },
  {
   "cell_type": "markdown",
   "metadata": {},
   "source": [
    "##### **Time** "
   ]
  },
  {
   "cell_type": "markdown",
   "metadata": {},
   "source": [
    "Since we are `Iterating For each element of the digits array, from the Right Most Index (LSB) and backing up through the Left Most Index (MSB)`, we must traverse the full length of the input `digits` array   \n",
    "\n",
    "$$\\Large{\\bf{\\implies O(n)}}$$"
   ]
  },
  {
   "cell_type": "markdown",
   "metadata": {},
   "source": [
    "---"
   ]
  },
  {
   "cell_type": "markdown",
   "metadata": {},
   "source": [
    "##### **Space** "
   ]
  },
  {
   "cell_type": "markdown",
   "metadata": {},
   "source": [
    "In the case of the `digits` array being all `9`s, it will `requires us to allocate space for a new array which can accomodate the additional digit` which will equate to the full length of the `digits` array, plus one.\n",
    "\n",
    "$$ \\implies O(n + 1) $$\n",
    "$$ \\Large{\\bf{\\implies O(n)}}$$"
   ]
  }
 ],
 "metadata": {
  "kernelspec": {
   "display_name": ".NET (C#)",
   "language": "C#",
   "name": ".net-csharp"
  },
  "language_info": {
   "file_extension": ".cs",
   "mimetype": "text/x-csharp",
   "name": "C#",
   "pygments_lexer": "csharp",
   "version": "9.0"
  },
  "orig_nbformat": 4
 },
 "nbformat": 4,
 "nbformat_minor": 2
}
