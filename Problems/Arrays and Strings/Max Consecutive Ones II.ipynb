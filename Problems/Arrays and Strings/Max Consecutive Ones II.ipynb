{
 "cells": [
  {
   "cell_type": "markdown",
   "metadata": {},
   "source": [
    "# Max Consecutive Ones II"
   ]
  },
  {
   "cell_type": "markdown",
   "metadata": {},
   "source": [
    "Given a binary array `nums`, return the *maximum number of consecutive `1`'s* in the array if you can *flip at most one `0`*.\n",
    "\n"
   ]
  },
  {
   "cell_type": "markdown",
   "metadata": {},
   "source": [
    "**Example 1**:\n",
    "> ```\n",
    "> Input: nums = [1,0,1,1,0]\n",
    "> Output: 4\n",
    "> ```\n",
    "\n",
    "Explanation:   \n",
    "If we flip the first zero, `nums` becomes `[1,1,1,1,0]`    \n",
    "and we have `4` consecutive ones. \n",
    "   \n",
    "If we flip the second zero, `nums` becomes `[1,0,1,1,1]`   \n",
    "and we have `3` consecutive ones. \n",
    "   \n",
    "The max number of consecutive ones is `4`.\n",
    "\n",
    "<br>\n",
    "\n",
    "**Example 2**:\n",
    "> ```\n",
    "> Input: nums = [1,0,1,1,0,1]\n",
    "> Output: 4\n",
    "> ```\n",
    "   \n",
    "Explanation:    \n",
    "If we flip the first zero, nums becomes `[1,1,1,1,0,1]`   \n",
    "and we have `4` consecutive ones.\n",
    "   \n",
    "If we flip the second zero, nums becomes `[1,0,1,1,1,1]`   \n",
    "and we have `4` consecutive ones.   \n",
    "\n",
    "The max number of consecutive ones is `4`.\n",
    "\n",
    "<br>"
   ]
  },
  {
   "cell_type": "markdown",
   "metadata": {},
   "source": [
    "**Constraints**:\n",
    "\n",
    "- `1 <= nums.length <= 105`\n",
    "- `nums[i] is either 0 or 1`."
   ]
  },
  {
   "cell_type": "markdown",
   "metadata": {},
   "source": [
    "<br>"
   ]
  },
  {
   "cell_type": "markdown",
   "metadata": {},
   "source": [
    "### One Pass, Two Pointer Sliding WIndow"
   ]
  },
  {
   "cell_type": "markdown",
   "metadata": {},
   "source": [
    "##### Psuedo"
   ]
  },
  {
   "cell_type": "markdown",
   "metadata": {},
   "source": [
    "```\n",
    "initialize a Counter to 0\n",
    "initialize a variable to store the Max at 0\n",
    "\n",
    "for each binary digit in nums:\n",
    "\n",
    "    if the binary digit is '1':\n",
    "        increment the Counter by one\n",
    "    \n",
    "    else  \n",
    "        maxOnes = max(Counter, Max)\n",
    "        reset the counter\n",
    "\n",
    "return max(Counter, Max)\n",
    "```"
   ]
  },
  {
   "cell_type": "markdown",
   "metadata": {},
   "source": [
    "<br>"
   ]
  },
  {
   "cell_type": "markdown",
   "metadata": {},
   "source": [
    "#### Implementation"
   ]
  },
  {
   "cell_type": "code",
   "execution_count": 8,
   "metadata": {
    "dotnet_interactive": {
     "language": "csharp"
    },
    "vscode": {
     "languageId": "dotnet-interactive.csharp"
    }
   },
   "outputs": [],
   "source": [
    "public int FindMaxConsecutiveOnes(int[] nums) \n",
    "{\n",
    "\n",
    "    // Declare variables to track the number of Consecutive Ones and \n",
    "    // Consecutive Zeros observed \n",
    "    int  ConsecutiveOnes = 0,\n",
    "                   Zeros = 0;\n",
    "\n",
    "\n",
    "    // Take note of the First and Last Indices of the array\n",
    "    int FirstIndex = 0,\n",
    "        LastIndex  = nums.Length - 1;\n",
    "    \n",
    "\n",
    "    // Set a Slow Pointer and a Fast Pointer at the First Index of the array\n",
    "    int SlowPointer = FirstIndex, \n",
    "        FastPointer = FirstIndex;\n",
    "        \n",
    "    \n",
    "    // Iterating While the Fast Pointer has not yet advanced past the Last Index:\n",
    "    while( FastPointer <= LastIndex )\n",
    "    {\n",
    "\n",
    "        // If the Value of the element under the Fast Pointer is a '0'\n",
    "        //      increment the count of Zeros observed\n",
    "        if( nums[ FastPointer ] == 0 )\n",
    "            Zeros++;\n",
    "\n",
    "        \n",
    "        // Iterating While  There's More Than One Zero \n",
    "        // presently neighboring the desired Cosecutive Ones:\n",
    "        while( Zeros > 1 )\n",
    "        {\n",
    "\n",
    "            // If he Value of the element under the Slow Pointer is a '0'\n",
    "            //      decrement the count of Zeros observed,\n",
    "            //      taking care to also simultaneously advance the Slow Pointer\n",
    "            if( nums[ SlowPointer ]  == 0 )\n",
    "                Zeros--;\n",
    "        \n",
    "            SlowPointer++;\n",
    "\n",
    "        }\n",
    "\n",
    "        // Note the Current Distance Between The Pointers,\n",
    "        // taking care to account for Zero Indexing in the array\n",
    "        int CurrentDistanceBetwwenPointers = (FastPointer - SlowPointer) + 1;\n",
    "\n",
    "\n",
    "        // Let ConsecutiveOnes be the Maximum observed between the count of Consecutive Ones\n",
    "        // and the Current Distance Between The Pointers\n",
    "        ConsecutiveOnes = Math.Max( ConsecutiveOnes, CurrentDistanceBetwwenPointers );\n",
    "        \n",
    "        \n",
    "        // Advance the Fast Pointer\n",
    "        FastPointer++;\n",
    "\n",
    "    }\n",
    "\n",
    "\n",
    "    // After all that,\n",
    "    // We have the Maximum Number Consecutive Ones resulting\n",
    "    // from flipping at most one zero,\n",
    "    // as required\n",
    "    return ConsecutiveOnes;\n",
    "\n",
    "}"
   ]
  },
  {
   "cell_type": "code",
   "execution_count": 9,
   "metadata": {
    "dotnet_interactive": {
     "language": "csharp"
    },
    "vscode": {
     "languageId": "dotnet-interactive.csharp"
    }
   },
   "outputs": [],
   "source": [
    "// Test Input\n",
    "public int[] nums1 = { 1,0,1,1,0 };"
   ]
  },
  {
   "cell_type": "code",
   "execution_count": 10,
   "metadata": {
    "dotnet_interactive": {
     "language": "csharp"
    },
    "vscode": {
     "languageId": "dotnet-interactive.csharp"
    }
   },
   "outputs": [],
   "source": [
    "// Test Input\n",
    "public int[] nums2 = { 1,0,1,1,0,1 };"
   ]
  },
  {
   "cell_type": "code",
   "execution_count": 11,
   "metadata": {
    "dotnet_interactive": {
     "language": "csharp"
    },
    "vscode": {
     "languageId": "dotnet-interactive.csharp"
    }
   },
   "outputs": [
    {
     "data": {
      "text/html": [
       "<div class=\"dni-plaintext\">4</div>"
      ]
     },
     "metadata": {},
     "output_type": "display_data"
    }
   ],
   "source": [
    "FindMaxConsecutiveOnes( nums1 )"
   ]
  },
  {
   "cell_type": "code",
   "execution_count": 12,
   "metadata": {
    "dotnet_interactive": {
     "language": "csharp"
    },
    "vscode": {
     "languageId": "dotnet-interactive.csharp"
    }
   },
   "outputs": [
    {
     "data": {
      "text/html": [
       "<div class=\"dni-plaintext\">4</div>"
      ]
     },
     "metadata": {},
     "output_type": "display_data"
    }
   ],
   "source": [
    "FindMaxConsecutiveOnes( nums2 )"
   ]
  },
  {
   "cell_type": "markdown",
   "metadata": {},
   "source": [
    "<br>"
   ]
  },
  {
   "cell_type": "markdown",
   "metadata": {},
   "source": [
    "#### Analysis"
   ]
  },
  {
   "cell_type": "markdown",
   "metadata": {},
   "source": [
    "##### Time"
   ]
  },
  {
   "cell_type": "markdown",
   "metadata": {},
   "source": [
    "Let $\\quad n \\quad$ represent the *length* of `nums`.  \n",
    "\n",
    "Since we are `Iterating While the Fast Pointer has not yet advanced to the Last Index`, performing a conditional check to determine whether any given bit is a `0 `or a `1`, we may potnentially need to iterate through the full length of the `nums` array.\n",
    "\n",
    "$$\\implies O(n)$$\n",
    "   \n",
    "$Subsequently,$   \n",
    "As we are also `Iterating While There's More Than One Zero presently neighboring the desired Cosecutive Ones`, performing additional checks to determine whether any given bit is a `0 `or a `1`, we might once again potentially need iterate through the full length of the `nums` array.\n",
    "   \n",
    "$$\\implies O(n) + O(n) = 2 \\times O(n)$$\n",
    "$$\\bf{\\Large{ \\implies O(n) }}$$"
   ]
  },
  {
   "cell_type": "markdown",
   "metadata": {},
   "source": [
    "---"
   ]
  },
  {
   "cell_type": "markdown",
   "metadata": {},
   "source": [
    "##### Space"
   ]
  },
  {
   "cell_type": "markdown",
   "metadata": {},
   "source": [
    "There are NO auxiliary data structures which are allocated in memory to support this solution.\n",
    "$$\\implies \\bf{\\Large{O(1)}}$$ "
   ]
  }
 ],
 "metadata": {
  "kernelspec": {
   "display_name": ".NET (C#)",
   "language": "C#",
   "name": ".net-csharp"
  },
  "language_info": {
   "file_extension": ".cs",
   "mimetype": "text/x-csharp",
   "name": "C#",
   "pygments_lexer": "csharp",
   "version": "9.0"
  },
  "orig_nbformat": 4,
  "vscode": {
   "interpreter": {
    "hash": "693e5b9c73a7f05cc764e2a39a82e339013c9ca9f4a1690eb595e8f06f5850eb"
   }
  }
 },
 "nbformat": 4,
 "nbformat_minor": 2
}
