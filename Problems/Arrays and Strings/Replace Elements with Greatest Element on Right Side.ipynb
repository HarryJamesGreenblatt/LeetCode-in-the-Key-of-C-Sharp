{
 "cells": [
  {
   "cell_type": "markdown",
   "metadata": {},
   "source": [
    "# Replace Elements with Greatest Element on Right Side"
   ]
  },
  {
   "cell_type": "markdown",
   "metadata": {},
   "source": [
    "Given an array `arr`, replace every element in that array with the *greatest element among the elements to its right*, and replace the last element with `-1`.\n",
    "   \n",
    "After doing so, return the array."
   ]
  },
  {
   "cell_type": "markdown",
   "metadata": {},
   "source": [
    "**Example 1**:    \n",
    "> ```\n",
    "> Input: arr = [17,18,5,4,6,1]\n",
    "> Output: [18,6,6,6,1,-1]\n",
    "> ```\n",
    "   \n",
    "Explanation:      \n",
    "- index 0 --> the greatest element to the right of index 0 is index 1 (`18`).\n",
    "- index 1 --> the greatest element to the right of index 1 is index 4 (`6`).\n",
    "- index 2 --> the greatest element to the right of index 2 is index 4 (`6`).\n",
    "- index 3 --> the greatest element to the right of index 3 is index 4 (`6`).\n",
    "- index 4 --> the greatest element to the right of index 4 is index 5 (`1`).\n",
    "- index 5 --> there are no elements to the right of index 5, so we put `-1`.\n",
    "\n",
    "<br>\n",
    "      \n",
    "      \n",
    "**Example 2**:   \n",
    "> ```\n",
    "> Input: arr = [400]\n",
    "> Output: [-1]\n",
    "> ```\n",
    "   \n",
    "Explanation:  \n",
    "There are no elements to the right of index 0.\n",
    "\n",
    "<br>"
   ]
  },
  {
   "cell_type": "markdown",
   "metadata": {},
   "source": [
    "**Constraints**:\n",
    "\n",
    "- `1 <= arr.length <= 10^4`\n",
    "- `1 <= arr[i] <= 10^5`"
   ]
  },
  {
   "cell_type": "markdown",
   "metadata": {},
   "source": [
    "<br>"
   ]
  },
  {
   "cell_type": "markdown",
   "metadata": {},
   "source": [
    "### One Pass, One Pointer"
   ]
  },
  {
   "cell_type": "markdown",
   "metadata": {},
   "source": [
    "##### Psuedo"
   ]
  },
  {
   "cell_type": "markdown",
   "metadata": {},
   "source": [
    "```\n",
    "Since the rightmost element is clobbered with a '-1', \n",
    "it accounts as the initial value representing the Highest From The Right.\n",
    "\n",
    "\n",
    "The idea is to store a \"backup copy\" of any given element's value,\n",
    "then compare that value to the Highest From the Right,\n",
    "and whichever is the Max wins\n",
    "\n",
    "\n",
    "To accomplish this, we will begin at the Last Index of the array\n",
    "\n",
    "\n",
    "Iterating backwards from the Last Index, through to the First Index of the array: \n",
    "\n",
    "    Store a \"Backup Copy\" of the Value at the Current Index\n",
    "\n",
    "    Clobber the Value at the Current Index with the Highest From The Right so far\n",
    "\n",
    "    If the Highest From The Right is LESS THAN the \"Backup Copy\",\n",
    "       Set the \"Backup Copy\" as the new Highest From The Right.\n",
    "\n",
    "\n",
    "After all that,\n",
    "the array's elements have been Replaced with the Greatest Elements On the Right Side,\n",
    "as required\n",
    "```"
   ]
  },
  {
   "cell_type": "markdown",
   "metadata": {},
   "source": [
    "<br>"
   ]
  },
  {
   "cell_type": "markdown",
   "metadata": {},
   "source": [
    "#### Implementation"
   ]
  },
  {
   "cell_type": "code",
   "execution_count": 7,
   "metadata": {
    "dotnet_interactive": {
     "language": "csharp"
    },
    "vscode": {
     "languageId": "dotnet-interactive.csharp"
    }
   },
   "outputs": [],
   "source": [
    "public int[] ReplaceElements(int[] arr) {\n",
    "\n",
    "    // Since the rightmost element is clobbered with a '-1', \n",
    "    // it accounts as the initial value representing the Highest From The Right.\n",
    "    int HighestFromTheRight = -1;\n",
    "\n",
    "\n",
    "    // The idea is to store a \"backup copy\" of any given element's value,\n",
    "    // then compare that value to the Highest From the Right,\n",
    "    // and whichever is the Max wins\n",
    "    int BackupCopy; \n",
    "\n",
    "\n",
    "    // To accomplish this, we will begin at the Last Index of the array\n",
    "    int LastIndex = arr.Length -1; \n",
    "\n",
    "\n",
    "    // Iterating backwards from the Last Index, through to the First Index of the array: \n",
    "    for(int CurrentIndex = LastIndex; CurrentIndex >= 0; CurrentIndex--)\n",
    "    {\n",
    "\n",
    "        // Store a \"Backup Copy\" of the Value at the Current Index\n",
    "        BackupCopy = arr[ CurrentIndex ];\n",
    "\n",
    "\n",
    "        // Clobber the Value at the Current Index with the Highest From The Right so far\n",
    "        arr[ CurrentIndex ] = HighestFromTheRight; \n",
    "\n",
    "\n",
    "        // If the Highest From The Right is LESS THAN the \"Backup Copy\",\n",
    "        //    Set the \"Backup Copy\" as the new Highest From The Right.\n",
    "        if( HighestFromTheRight < BackupCopy )\n",
    "           HighestFromTheRight = BackupCopy;\n",
    "\n",
    "    }\n",
    "\n",
    "\n",
    "    // After all that,\n",
    "    // the array's elements have been Replaced with the Greatest Elements On the Right Side,\n",
    "    // as required\n",
    "    return arr;\n",
    "    \n",
    "}"
   ]
  },
  {
   "cell_type": "code",
   "execution_count": 8,
   "metadata": {
    "dotnet_interactive": {
     "language": "csharp"
    },
    "vscode": {
     "languageId": "dotnet-interactive.csharp"
    }
   },
   "outputs": [],
   "source": [
    "public int[] arr = {17,18,5,4,6,1};"
   ]
  },
  {
   "cell_type": "code",
   "execution_count": 9,
   "metadata": {
    "dotnet_interactive": {
     "language": "csharp"
    },
    "vscode": {
     "languageId": "dotnet-interactive.csharp"
    }
   },
   "outputs": [
    {
     "data": {
      "text/html": [
       "<table><thead><tr><th><i>index</i></th><th>value</th></tr></thead><tbody><tr><td>0</td><td><div class=\"dni-plaintext\">18</div></td></tr><tr><td>1</td><td><div class=\"dni-plaintext\">6</div></td></tr><tr><td>2</td><td><div class=\"dni-plaintext\">6</div></td></tr><tr><td>3</td><td><div class=\"dni-plaintext\">6</div></td></tr><tr><td>4</td><td><div class=\"dni-plaintext\">1</div></td></tr><tr><td>5</td><td><div class=\"dni-plaintext\">-1</div></td></tr></tbody></table>"
      ]
     },
     "metadata": {},
     "output_type": "display_data"
    }
   ],
   "source": [
    "ReplaceElements( arr )"
   ]
  },
  {
   "cell_type": "markdown",
   "metadata": {},
   "source": [
    "<br>"
   ]
  },
  {
   "cell_type": "markdown",
   "metadata": {},
   "source": [
    "#### Analysis"
   ]
  },
  {
   "cell_type": "markdown",
   "metadata": {},
   "source": [
    "##### **Time** "
   ]
  },
  {
   "cell_type": "markdown",
   "metadata": {},
   "source": [
    "Since we are `Iterating backwards from the Last Index, through to the First Index of the array`, we must always traverse the full length of `arr`.\n",
    "$$\\bf{\\Large{\\implies O(n)}}$$"
   ]
  },
  {
   "cell_type": "markdown",
   "metadata": {},
   "source": [
    "---"
   ]
  },
  {
   "cell_type": "markdown",
   "metadata": {},
   "source": [
    "##### **Space** "
   ]
  },
  {
   "cell_type": "markdown",
   "metadata": {},
   "source": [
    "We are *not* allocating any additional space other than the given input.\n",
    "\n",
    "$$ \\Large{ \\bf{ \\implies O(1)}} $$"
   ]
  }
 ],
 "metadata": {
  "kernelspec": {
   "display_name": ".NET (C#)",
   "language": "C#",
   "name": ".net-csharp"
  },
  "language_info": {
   "file_extension": ".cs",
   "mimetype": "text/x-csharp",
   "name": "C#",
   "pygments_lexer": "csharp",
   "version": "9.0"
  },
  "orig_nbformat": 4
 },
 "nbformat": 4,
 "nbformat_minor": 2
}
