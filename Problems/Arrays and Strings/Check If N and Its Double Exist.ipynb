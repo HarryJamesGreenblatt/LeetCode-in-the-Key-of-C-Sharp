{
 "cells": [
  {
   "cell_type": "markdown",
   "metadata": {},
   "source": [
    "# Check If N and Its Double Exist"
   ]
  },
  {
   "cell_type": "markdown",
   "metadata": {},
   "source": [
    "Given an array `arr` of *integers*, check if there exist two indices `i` and `j` such that:\n",
    "   \n",
    "- `i != j`\n",
    "- `0 <= i, j < arr.length`\n",
    "- `arr[i] == 2 * arr[j]`"
   ]
  },
  {
   "cell_type": "markdown",
   "metadata": {},
   "source": [
    "**Example 1**:    \n",
    "> ```\n",
    "> Input: arr = [10,2,5,3]\n",
    "> Output: true\n",
    "> ```\n",
    "\n",
    "Explanation:      \n",
    "For `i = 0` and `j = 2`, `arr[i] == 10 == 2 * 5 == 2 * arr[j]`\n",
    "\n",
    "<br>\n",
    " \n",
    "**Example 2**:   \n",
    "> ```\n",
    "> Input: arr = [3,1,7,11]\n",
    "> Output: false\n",
    "> ```\n",
    "\n",
    "Explanation:      \n",
    "There is no `i` and `j` that satisfy the conditions.\n",
    "\n",
    "<br>"
   ]
  },
  {
   "cell_type": "markdown",
   "metadata": {},
   "source": [
    "**Constraints**:\n",
    "\n",
    "- `2 <= arr.length <= 500`\n",
    "- `-103 <= arr[i] <= 103`\n",
    "\n",
    "\n"
   ]
  },
  {
   "cell_type": "markdown",
   "metadata": {},
   "source": [
    "<br>"
   ]
  },
  {
   "cell_type": "markdown",
   "metadata": {},
   "source": [
    "### Approach Method Name"
   ]
  },
  {
   "cell_type": "markdown",
   "metadata": {},
   "source": [
    "##### Psuedo"
   ]
  },
  {
   "cell_type": "markdown",
   "metadata": {},
   "source": [
    "```\n",
    "Initialize an empty Dictionary to store comparison results under the alias 'j'\n",
    "\n",
    "\n",
    "Iterating though each element in the 'arr' array:\n",
    "\n",
    "     If the j Dictionary contains a Key equal to Double the value at the current index\n",
    "          indicate a  true  result \n",
    "\n",
    "     Add the current index value to the j Dictionary, passing arr[index] as it's key. \n",
    "\n",
    "\n",
    "After all that, if we haven't returned yet,\n",
    "we can now reaonably assume that N and it's Double does NOT exist.\n",
    "```"
   ]
  },
  {
   "cell_type": "markdown",
   "metadata": {},
   "source": [
    "<br>"
   ]
  },
  {
   "cell_type": "markdown",
   "metadata": {},
   "source": [
    "#### Implementation"
   ]
  },
  {
   "cell_type": "code",
   "execution_count": 18,
   "metadata": {
    "dotnet_interactive": {
     "language": "csharp"
    },
    "vscode": {
     "languageId": "dotnet-interactive.csharp"
    }
   },
   "outputs": [],
   "source": [
    "public bool CheckIfExist(int[] arr) {\n",
    "\n",
    "    // Initialize an empty Dictionary to store comparison results under the alias 'j'\n",
    "    Dictionary<int,int> j = new Dictionary<int,int>();\n",
    "\n",
    "\n",
    "    // Iterating though each element in the 'arr' array:\n",
    "    for( int i = 0; i < arr.Length; i++)\n",
    "    {\n",
    "        \n",
    "        // If the j Dictionary contains a Key equal to Double the value at the current index\n",
    "        //      indicate a  true  result \n",
    "        if ( j.ContainsKey( 2 * arr[ i ] ) )\n",
    "            return true; \n",
    "\n",
    "        // Add the current index value to the j Dictionary, passing arr[index] as it's key.  \n",
    "        j[ arr[i] ] = i;\n",
    "\n",
    "    }\n",
    "\n",
    "    \n",
    "    // After all that,\n",
    "    // we can now reaonably assume that N and it's Double does NOT exist. \n",
    "    return false;\n",
    "        \n",
    "}"
   ]
  },
  {
   "cell_type": "code",
   "execution_count": 19,
   "metadata": {
    "dotnet_interactive": {
     "language": "csharp"
    },
    "vscode": {
     "languageId": "dotnet-interactive.csharp"
    }
   },
   "outputs": [],
   "source": [
    "public int[] arr1 = {10,2,5,3},\n",
    "             arr2 = {3,1,7,11};"
   ]
  },
  {
   "cell_type": "code",
   "execution_count": 22,
   "metadata": {
    "dotnet_interactive": {
     "language": "csharp"
    },
    "vscode": {
     "languageId": "dotnet-interactive.csharp"
    }
   },
   "outputs": [
    {
     "data": {
      "text/html": [
       "<div class=\"dni-plaintext\">True</div>"
      ]
     },
     "metadata": {},
     "output_type": "display_data"
    }
   ],
   "source": [
    "CheckIfExist( arr1 )"
   ]
  },
  {
   "cell_type": "code",
   "execution_count": 23,
   "metadata": {
    "dotnet_interactive": {
     "language": "csharp"
    },
    "vscode": {
     "languageId": "dotnet-interactive.csharp"
    }
   },
   "outputs": [
    {
     "data": {
      "text/html": [
       "<div class=\"dni-plaintext\">False</div>"
      ]
     },
     "metadata": {},
     "output_type": "display_data"
    }
   ],
   "source": [
    "CheckIfExist( arr2 )"
   ]
  },
  {
   "cell_type": "markdown",
   "metadata": {},
   "source": [
    "<br>"
   ]
  },
  {
   "cell_type": "markdown",
   "metadata": {},
   "source": [
    "#### Analysis"
   ]
  },
  {
   "cell_type": "markdown",
   "metadata": {},
   "source": [
    "##### **Time** "
   ]
  },
  {
   "cell_type": "markdown",
   "metadata": {},
   "source": [
    "Since we are `Iterating though each element in the 'arr' array` to verify `If the j Dictionary contains a Key equal to Double the value at the current index`, we must always account for the full length of `arr`\n",
    "\n",
    "$$\\implies \\bf{\\Large{O(n)}}$$"
   ]
  },
  {
   "cell_type": "markdown",
   "metadata": {},
   "source": [
    "---"
   ]
  },
  {
   "cell_type": "markdown",
   "metadata": {},
   "source": [
    "##### **Space** "
   ]
  },
  {
   "cell_type": "markdown",
   "metadata": {},
   "source": [
    "We are allocating auxiliary space for the `j` Dictionary which is proportional to the full length of the given `arr` array.\n",
    "\n",
    "$$\\implies O(n)$$"
   ]
  }
 ],
 "metadata": {
  "kernelspec": {
   "display_name": ".NET (C#)",
   "language": "C#",
   "name": ".net-csharp"
  },
  "language_info": {
   "file_extension": ".cs",
   "mimetype": "text/x-csharp",
   "name": "C#",
   "pygments_lexer": "csharp",
   "version": "9.0"
  },
  "orig_nbformat": 4
 },
 "nbformat": 4,
 "nbformat_minor": 2
}
