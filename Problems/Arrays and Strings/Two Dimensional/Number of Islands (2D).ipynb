{
 "cells": [
  {
   "cell_type": "markdown",
   "metadata": {},
   "source": [
    "# Number of Islands"
   ]
  },
  {
   "cell_type": "markdown",
   "metadata": {},
   "source": [
    "Given an $m \\times n$ 2D binary grid `grid` which represents a map of '`1`'s (land) and '`0`'s (water), return the number of **island**s.   \n",
    "    \n",
    "An **island** is surrounded by water and is formed by connecting adjacent lands horizontally or vertically. You may assume all four edges of the grid are all surrounded by water."
   ]
  },
  {
   "cell_type": "markdown",
   "metadata": {},
   "source": [
    "**Example 1**:    \n",
    "> ```\n",
    "> Input: grid = [\n",
    ">   [\"1\",\"1\",\"1\",\"1\",\"0\"],\n",
    ">   [\"1\",\"1\",\"0\",\"1\",\"0\"],\n",
    ">   [\"1\",\"1\",\"0\",\"0\",\"0\"],\n",
    ">   [\"0\",\"0\",\"0\",\"0\",\"0\"]\n",
    "> ]\n",
    "> Output: 1\n",
    "> ```\n",
    "\n",
    "<br>\n",
    "         \n",
    "**Example 2**:   \n",
    "> ```\n",
    "> Input: grid = [\n",
    ">   [\"1\",\"1\",\"0\",\"0\",\"0\"],\n",
    ">   [\"1\",\"1\",\"0\",\"0\",\"0\"],\n",
    ">   [\"0\",\"0\",\"1\",\"0\",\"0\"],\n",
    ">   [\"0\",\"0\",\"0\",\"1\",\"1\"]\n",
    "> ]\n",
    "> Output: 3\n",
    "> ```\n",
    "\n",
    "<br>"
   ]
  },
  {
   "cell_type": "markdown",
   "metadata": {},
   "source": [
    "**Constraints**:\n",
    "\n",
    "- `m == grid.length`\n",
    "- `n == grid[i].length`\n",
    "- `1 <= m, n <= 300`\n",
    "- `grid[i][j] is '0' or '1'.`\n",
    "\n"
   ]
  },
  {
   "cell_type": "markdown",
   "metadata": {},
   "source": [
    "<br>"
   ]
  },
  {
   "cell_type": "markdown",
   "metadata": {},
   "source": [
    "### Depth First Search Traversal"
   ]
  },
  {
   "cell_type": "markdown",
   "metadata": {},
   "source": [
    "##### Psuedo"
   ]
  },
  {
   "cell_type": "markdown",
   "metadata": {},
   "source": [
    "```\n",
    "Define a subroutine which assesses if the input Grid, Row Index, and Column Index given\n",
    "all satisfy the constraints of qualifying as an Island, in accordance with the problem statement: \n",
    "\n",
    "        The Grid Cell passed as input is surely Not An Island if:\n",
    "\n",
    "            the Row Index exceeds the Top Bound\n",
    "            OR\n",
    "            the Row Index exceeds the Bottom Bound\n",
    "            OR\n",
    "            the Column Index exceeds the Left Bound\n",
    "            OR\n",
    "            the Column Index exceeds the Right Bound\n",
    "            OR\n",
    "            The Grid Cell we got is only a '0', not a '1'\n",
    "```\n",
    "---\n",
    "```\n",
    "Define a subroutine which recursively traverses the grid using Depth First Search, \n",
    "facilitating incrementation of the Island Count: \n",
    "\n",
    "        If the Grid Cell at the given Row and Column Index\n",
    "        does not qualify as a valid Island\n",
    "                return 0\n",
    "\n",
    "        Flag the Current Grid Cell as Visited\n",
    "\n",
    "        Recur in the Top Neighbor of the Current Grid Cell\n",
    "\n",
    "        Recur in the Bottom Neighbor of the Current Grid Cell\n",
    "\n",
    "        Recur in the Left Neighbor of the Current Grid Cell\n",
    "\n",
    "        Recur in the Right Neighbor of the Current Grid Cell\n",
    "\n",
    "        At this point,\n",
    "        we can say it's a valid Island\n",
    "                return 1\n",
    "```\n",
    "----\n",
    "```\n",
    "initialize an interally accessible, yet externally private\n",
    "integer variable to help Count the Number of Islands.\n",
    "\n",
    "First, asssert that the Jagged Array given as input\n",
    "is neither empty nor invalid. If it IS,\n",
    "    then there are NO islands.\n",
    "\n",
    "Iterating For each Row Element (0 - (n-1)) in the grid:\n",
    "\n",
    "        Iterating For each Column in each Row Element:\n",
    "\n",
    "                If the Cell we are looking in right now holds a '1':\n",
    "\n",
    "                        Count it as an Island, flag it as visited, and \n",
    "                        traverse recursively through each neighboring node also holding a '1' \n",
    "\n",
    "After all that,\n",
    "The Island Count reflects the Total Number of Islands\n",
    "which exist inside the input Grid,\n",
    "as required.\n",
    "```"
   ]
  },
  {
   "cell_type": "markdown",
   "metadata": {},
   "source": [
    "<br>"
   ]
  },
  {
   "cell_type": "markdown",
   "metadata": {},
   "source": [
    "#### Implementation"
   ]
  },
  {
   "cell_type": "code",
   "execution_count": null,
   "metadata": {
    "dotnet_interactive": {
     "language": "csharp"
    },
    "vscode": {
     "languageId": "dotnet-interactive.csharp"
    }
   },
   "outputs": [],
   "source": [
    "// initialize an interally accessible, yet externally private\n",
    "// integer variable to help Count the Number of Islands.\n",
    "private int IslandCount;\n",
    "\n",
    "\n",
    "public int NumIslands( char[][] grid )\n",
    "{\n",
    "\n",
    "    // First, asssert that the Jagged Array given as input\n",
    "    // is neither empty nor invalid. If it IS,\n",
    "    //      then there are NO islands.\n",
    "    if( grid == null || grid.Length == 0 )\n",
    "        return 0;\n",
    "\n",
    "    \n",
    "    // Iterating For each Row Element (0 - (n-1)) in the grid:\n",
    "    for( int row = 0; row < grid.Length; row++ )\n",
    "    {\n",
    "\n",
    "        // Iterating For each Column in each Row Element:\n",
    "        for( int col = 0; col < grid[row].Length; col++ )\n",
    "        {\n",
    "\n",
    "            // If the Cell we are looking in right now holds a '1':\n",
    "            if( grid[row][col] == '1' )\n",
    "            {\n",
    "\n",
    "                // Count it as an Island, flag it as visited, and \n",
    "                // traverse recursively through each neighboring node also holding a '1' \n",
    "                IslandCount += DepthFirstSearch(\n",
    "                    grid,\n",
    "                    row,\n",
    "                    col\n",
    "                );\n",
    "\n",
    "            }\n",
    "\n",
    "        }\n",
    "\n",
    "    }\n",
    "\n",
    "\n",
    "    // After all that,\n",
    "    // The Island Count reflects the Total Number of Islands\n",
    "    // which exist inside the input Grid,\n",
    "    // as required.\n",
    "    return IslandCount;\n",
    "\n",
    "}\n",
    "\n",
    "\n",
    "// A subroutine which assesses if the input Grid, row index, and column index given\n",
    "// all satisfy the constraints of qualifying as an Island, in accordance with the problem statement.  \n",
    "public bool ThisIsNotAnIsland( char[][] grid, int row, int col )\n",
    "{\n",
    "    // The Grid Cell passed as input is surely Not An Island if:\n",
    "    return (                          //  \n",
    "        row < 0                       // the Row Index exceeds the Top Bound\n",
    "        ||                            // OR\n",
    "        row > grid.Length - 1         // the Row Index exceeds the Bottom Bound\n",
    "        ||                            // OR\n",
    "        col < 0                       // the Column Index exceeds the Left Bound\n",
    "        ||                            // OR\n",
    "        col > grid[row].Length - 1    // the Column Index exceeds the Right Bound\n",
    "        ||                            // OR\n",
    "        grid[row][col] == '0'         // The Grid Cell we got is only a '0', not a '1'\n",
    "    );\n",
    "\n",
    "}\n",
    "\n",
    "\n",
    "// A subroutine which recursively traverses the grid using Depth First Search, \n",
    "// facilitating incrementation of the Island Count.  \n",
    "public int DepthFirstSearch( char[][] grid, int row , int col )\n",
    "{\n",
    "\n",
    "    // If the Grid Cell at the given Row and Column Index\n",
    "    // does not qualify as a valid Island\n",
    "    //      return 0\n",
    "    if( ThisIsNotAnIsland( grid, row, col ) )\n",
    "        return 0;\n",
    "\n",
    "    \n",
    "    // Flag the Current Grid Cell as Visited\n",
    "    grid[row][col] = '0';\n",
    "\n",
    "\n",
    "    // Recur in the Top Neighbor of the Current Grid Cell\n",
    "    DepthFirstSearch( grid, row + 1, col );\n",
    "\n",
    "    \n",
    "    // Recur in the Bottom Neighbor of the Current Grid Cell\n",
    "    DepthFirstSearch( grid, row - 1, col );\n",
    "    \n",
    "    \n",
    "    // Recur in the Left Neighbor of the Current Grid Cell\n",
    "    DepthFirstSearch( grid, row, col + 1 );\n",
    "    \n",
    "    \n",
    "    // Recur in the Right Neighbor of the Current Grid Cell\n",
    "    DepthFirstSearch( grid, row, col - 1 );\n",
    "\n",
    "\n",
    "    // At this point,\n",
    "    // we can say it's a valid Island\n",
    "    return 1;\n",
    "\n",
    "}"
   ]
  },
  {
   "cell_type": "code",
   "execution_count": null,
   "metadata": {
    "dotnet_interactive": {
     "language": "csharp"
    },
    "vscode": {
     "languageId": "dotnet-interactive.csharp"
    }
   },
   "outputs": [],
   "source": [
    "public char [][] grid = new char [][] {\n",
    "    new char [] {'1'},\n",
    "    new char [] {'1'}\n",
    "};"
   ]
  },
  {
   "cell_type": "code",
   "execution_count": null,
   "metadata": {
    "dotnet_interactive": {
     "language": "csharp"
    },
    "vscode": {
     "languageId": "dotnet-interactive.csharp"
    }
   },
   "outputs": [
    {
     "data": {
      "text/html": [
       "<div class=\"dni-plaintext\">1</div>"
      ]
     },
     "metadata": {},
     "output_type": "display_data"
    }
   ],
   "source": [
    "NumIslands( grid )"
   ]
  },
  {
   "cell_type": "markdown",
   "metadata": {},
   "source": [
    "<br>"
   ]
  },
  {
   "cell_type": "markdown",
   "metadata": {},
   "source": [
    "#### Analysis"
   ]
  },
  {
   "cell_type": "markdown",
   "metadata": {},
   "source": [
    "##### **Time** "
   ]
  },
  {
   "cell_type": "markdown",
   "metadata": {},
   "source": [
    "Let $\\quad n \\quad$ represent the number of *Rows* in the $\\quad Grid. \\quad$   \n",
    "\n",
    "Since we are `Iterating For each Row Element (0 - (n-1)) in the Grid`,\n",
    "we must always account for the *full length of $\\,n\\,$ in every case*.\n",
    "$$\\implies O(n)$$   \n",
    "<br>\n",
    "\n",
    "Let $\\quad m \\quad$ represent the number of *Columns* in the $\\quad Grid. \\quad$   \n",
    "\n",
    "Since we are also `Iterating For each Column in each Row Element`,\n",
    "we must additionally perform each iteration along the *full length of $\\,m\\,$ in every case*.\n",
    "$$\\implies O(n) \\times m$$   \n",
    "<br>\n",
    "  \n",
    "$$\\implies \\Large{\\bf{O(n \\times m)}}$$"
   ]
  },
  {
   "cell_type": "markdown",
   "metadata": {},
   "source": [
    "---"
   ]
  },
  {
   "cell_type": "markdown",
   "metadata": {},
   "source": [
    "##### **Space** "
   ]
  },
  {
   "cell_type": "markdown",
   "metadata": {},
   "source": [
    "We allocate NO auxiliary space other than the given input matrix and the List structure required as output.\n",
    "$$\\implies \\Large{\\bf{O(1)}}$$"
   ]
  }
 ],
 "metadata": {
  "kernelspec": {
   "display_name": ".NET (C#)",
   "language": "C#",
   "name": ".net-csharp"
  },
  "language_info": {
   "file_extension": ".cs",
   "mimetype": "text/x-csharp",
   "name": "C#",
   "pygments_lexer": "csharp",
   "version": "9.0"
  },
  "orig_nbformat": 4
 },
 "nbformat": 4,
 "nbformat_minor": 2
}
