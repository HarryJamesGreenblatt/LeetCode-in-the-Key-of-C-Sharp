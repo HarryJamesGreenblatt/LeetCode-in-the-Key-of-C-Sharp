{
 "cells": [
  {
   "cell_type": "markdown",
   "metadata": {},
   "source": [
    "# Sort Array By Parity"
   ]
  },
  {
   "cell_type": "markdown",
   "metadata": {},
   "source": [
    "Given an integer array `nums`, *move all the even integers at the beginning* of the array followed by all the odd integers.\n",
    "\n",
    "Return **any array** that satisfies this condition."
   ]
  },
  {
   "cell_type": "markdown",
   "metadata": {},
   "source": [
    "**Example 1**:    \n",
    "> ```\n",
    "> Input: nums = [3,1,2,4]\n",
    "> Output: [2,4,3,1]\n",
    "> ```\n",
    "    \n",
    "Explanation:    \n",
    "The outputs `[4,2,3,1]`, `[2,4,1,3]`, and `[4,2,1,3]` would also be accepted.\n",
    "\n",
    "<br>\n",
    "       \n",
    "**Example 2**:   \n",
    "> ```\n",
    "> Input: nums = [0]\n",
    "> Output: [0]\n",
    "> ```\n",
    "\n",
    "<br>"
   ]
  },
  {
   "cell_type": "markdown",
   "metadata": {},
   "source": [
    "**Constraints**:\n",
    "\n",
    "- `1 <= nums.length <= 5000`\n",
    "- `0 <= nums[i] <= 5000`\n",
    "\n"
   ]
  },
  {
   "cell_type": "markdown",
   "metadata": {},
   "source": [
    "<br>"
   ]
  },
  {
   "cell_type": "markdown",
   "metadata": {},
   "source": [
    "### One Pass, Two Pointers"
   ]
  },
  {
   "cell_type": "markdown",
   "metadata": {},
   "source": [
    "##### Psuedo"
   ]
  },
  {
   "cell_type": "markdown",
   "metadata": {},
   "source": [
    "###### Provide a Subroutine to `Swap` the *Addresses* of it's parameters, switching their values without overwriting them in place. <br><br> Time: $\\qquad O(1)$ <br> Space: $\\qquad O(1)$\n",
    "\n",
    "```\n",
    "define a function  Swap( ref T a,  ref T b):\n",
    "\n",
    "    Set up a Generic Type to assume a Copy Of A's Address\n",
    "\n",
    "    Clobber A's Address with B's Adresss\n",
    "\n",
    "    Clobber B's Address with the Copy Of A's Address\n",
    "```"
   ]
  },
  {
   "cell_type": "markdown",
   "metadata": {},
   "source": [
    "<br>"
   ]
  },
  {
   "cell_type": "markdown",
   "metadata": {},
   "source": [
    "###### Iteratate through the input array, calling `Swap` to literally *switch* elements discovered to be Zero-Valued. <br><br> Time: $\\qquad O(n)$ <br> Space: $\\qquad O(1)$\n",
    "\n",
    "```\n",
    "Observe the Indices belonging to the First and Last Elements of the nums array\n",
    "\n",
    "\n",
    "Let  i  be set to the First Index and  j  be set to the Last Index\n",
    "\n",
    "\n",
    "Iterating While it can still be observed that  i  is LESS THAN  j:\n",
    "\n",
    "     If the Value at Index  i  is EVEN, but the Value at Index  j  is ODD,\n",
    "          Swap the Adresss at the Index i  with the Adresss at Index  j\n",
    "\n",
    "     If the Value at  Index  i  is found to be  EVEN\n",
    "          increment i\n",
    "\n",
    "     If the Value at  Index  j  is found to be  ODD\n",
    "          decrement j\n",
    "     \n",
    "\n",
    "After all that,\n",
    "the nums array consists of even integers at the beginning of the array\n",
    "followed by all the odd integers,\n",
    "as required\n",
    "```"
   ]
  },
  {
   "cell_type": "markdown",
   "metadata": {},
   "source": [
    "<br>"
   ]
  },
  {
   "cell_type": "markdown",
   "metadata": {},
   "source": [
    "#### Implementation"
   ]
  },
  {
   "cell_type": "code",
   "execution_count": 9,
   "metadata": {
    "dotnet_interactive": {
     "language": "csharp"
    },
    "vscode": {
     "languageId": "dotnet-interactive.csharp"
    }
   },
   "outputs": [],
   "source": [
    "// Provide a Subroutine which Swaps the Addresses of it's parameters,\n",
    "// switching their values without overwriting them in place.  \n",
    "public static void Swap<T>(ref T a, ref T b)\n",
    "{\n",
    "\n",
    "    // Set up a Generic Type to assume a Copy Of A's Address\n",
    "    T CopyOfA = a;\n",
    "\n",
    "\n",
    "    // Clobber A's Address with B's Adresss\n",
    "    a = b;\n",
    "\n",
    "\n",
    "    // Clobber B's Address with the Copy Of A's Address\n",
    "    b = CopyOfA;\n",
    "    \n",
    "}"
   ]
  },
  {
   "cell_type": "code",
   "execution_count": 10,
   "metadata": {
    "dotnet_interactive": {
     "language": "csharp"
    },
    "vscode": {
     "languageId": "dotnet-interactive.csharp"
    }
   },
   "outputs": [],
   "source": [
    "// test input\n",
    "int a = 'a',\n",
    "    b = 'b';"
   ]
  },
  {
   "cell_type": "code",
   "execution_count": 11,
   "metadata": {
    "dotnet_interactive": {
     "language": "csharp"
    },
    "vscode": {
     "languageId": "dotnet-interactive.csharp"
    }
   },
   "outputs": [
    {
     "data": {
      "text/plain": [
       "Before the SWAP:  a=97,  b=98"
      ]
     },
     "metadata": {},
     "output_type": "display_data"
    }
   ],
   "source": [
    "$\"Before the SWAP:  a={a},  b={b}\"\n"
   ]
  },
  {
   "cell_type": "code",
   "execution_count": 12,
   "metadata": {
    "dotnet_interactive": {
     "language": "csharp"
    },
    "vscode": {
     "languageId": "dotnet-interactive.csharp"
    }
   },
   "outputs": [],
   "source": [
    "Swap( ref a, ref b );"
   ]
  },
  {
   "cell_type": "code",
   "execution_count": 13,
   "metadata": {
    "dotnet_interactive": {
     "language": "csharp"
    },
    "vscode": {
     "languageId": "dotnet-interactive.csharp"
    }
   },
   "outputs": [
    {
     "data": {
      "text/plain": [
       "After the SWAP:  a=98,  b=97"
      ]
     },
     "metadata": {},
     "output_type": "display_data"
    }
   ],
   "source": [
    "$\"After the SWAP:  a={a},  b={b}\""
   ]
  },
  {
   "cell_type": "markdown",
   "metadata": {},
   "source": [
    "<br>"
   ]
  },
  {
   "cell_type": "code",
   "execution_count": 14,
   "metadata": {
    "dotnet_interactive": {
     "language": "csharp"
    },
    "vscode": {
     "languageId": "dotnet-interactive.csharp"
    }
   },
   "outputs": [],
   "source": [
    "public int[] SortArrayByParity(int[] nums) {\n",
    "     \n",
    "    // Observe the Indices belonging to the First and Last Elements of the nums array.\n",
    "    int FirstIndex = 0, \n",
    "        LastIndex  = nums.Length - 1;\n",
    "\n",
    "\n",
    "    // Let  i  be set to the First Index and  j  be set to the Last Index\n",
    "    int i = FirstIndex,\n",
    "        j = LastIndex;\n",
    "\n",
    "\n",
    "    // Iterating While it can still be observed that  i  is LESS THAN  j:\n",
    "    while( i < j )\n",
    "    {\n",
    "\n",
    "        // If the Value at Index  i  is EVEN, \n",
    "        // but the Value at Index  j  is ODD,\n",
    "        if( nums[ i ] % 2  > nums[ j ] % 2 )\n",
    "        {\n",
    "\n",
    "            // Swap the Adresss at the Index i  with the Adresss at Index  j\n",
    "            Swap( \n",
    "                ref nums[ i ],  \n",
    "                ref nums[ j ]\n",
    "            );\n",
    "            \n",
    "        }\n",
    "\n",
    "\n",
    "        // If the Value at  Index  i  is found to be  EVEN\n",
    "        //      increment i\n",
    "        if ( nums[ i ] % 2 == 0 )\n",
    "            i++; \n",
    "\n",
    "\n",
    "        // If the Value at  Index  j  is found to be  ODD\n",
    "        //      decrement j\n",
    "        if ( nums[ j ] % 2 == 1 )\n",
    "            j--; \n",
    "        \n",
    "    }\n",
    "    \n",
    "\n",
    "    // After all that,\n",
    "    // the nums array consists of even integers at the beginning of the array\n",
    "    // followed by all the odd integers,\n",
    "    // as required\n",
    "    return nums;\n",
    "\n",
    "}"
   ]
  },
  {
   "cell_type": "code",
   "execution_count": 17,
   "metadata": {
    "dotnet_interactive": {
     "language": "csharp"
    },
    "vscode": {
     "languageId": "dotnet-interactive.csharp"
    }
   },
   "outputs": [],
   "source": [
    "// test input\n",
    "int[] nums = {3,1,2,4}; "
   ]
  },
  {
   "cell_type": "code",
   "execution_count": 18,
   "metadata": {
    "dotnet_interactive": {
     "language": "csharp"
    },
    "vscode": {
     "languageId": "dotnet-interactive.csharp"
    }
   },
   "outputs": [
    {
     "data": {
      "text/html": [
       "<table><thead><tr><th><i>index</i></th><th>value</th></tr></thead><tbody><tr><td>0</td><td><div class=\"dni-plaintext\">4</div></td></tr><tr><td>1</td><td><div class=\"dni-plaintext\">2</div></td></tr><tr><td>2</td><td><div class=\"dni-plaintext\">1</div></td></tr><tr><td>3</td><td><div class=\"dni-plaintext\">3</div></td></tr></tbody></table>"
      ]
     },
     "metadata": {},
     "output_type": "display_data"
    }
   ],
   "source": [
    "SortArrayByParity( nums )"
   ]
  },
  {
   "cell_type": "markdown",
   "metadata": {},
   "source": [
    "<br>"
   ]
  },
  {
   "cell_type": "markdown",
   "metadata": {},
   "source": [
    "#### Analysis"
   ]
  },
  {
   "cell_type": "markdown",
   "metadata": {},
   "source": [
    "##### **Time** "
   ]
  },
  {
   "cell_type": "markdown",
   "metadata": {},
   "source": [
    "Since we are `Iterating While it can still be observed that  i  is LESS THAN  j`, it is possible that either `i` or `j` could potentially go the full length of the `nums` array.\n",
    "\n",
    "$$ \\Large{ \\bf{ \\implies O(n)}} $$"
   ]
  },
  {
   "cell_type": "markdown",
   "metadata": {},
   "source": [
    "---"
   ]
  },
  {
   "cell_type": "markdown",
   "metadata": {},
   "source": [
    "##### **Space** "
   ]
  },
  {
   "cell_type": "markdown",
   "metadata": {},
   "source": [
    "We are *not* allocating any additional space other than the given input.\n",
    "\n",
    "$$ \\Large{ \\bf{ \\implies O(1)}} $$"
   ]
  }
 ],
 "metadata": {
  "kernelspec": {
   "display_name": ".NET (C#)",
   "language": "C#",
   "name": ".net-csharp"
  },
  "language_info": {
   "file_extension": ".cs",
   "mimetype": "text/x-csharp",
   "name": "C#",
   "pygments_lexer": "csharp",
   "version": "9.0"
  },
  "orig_nbformat": 4
 },
 "nbformat": 4,
 "nbformat_minor": 2
}
