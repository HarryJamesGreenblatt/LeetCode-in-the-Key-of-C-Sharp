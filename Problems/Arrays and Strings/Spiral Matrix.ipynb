{
 "cells": [
  {
   "cell_type": "markdown",
   "metadata": {},
   "source": [
    "# Spiral Matrix"
   ]
  },
  {
   "cell_type": "markdown",
   "metadata": {},
   "source": [
    "Given an $m \\times n$ matrix, return all elements of the matrix in *spiral order*."
   ]
  },
  {
   "cell_type": "markdown",
   "metadata": {},
   "source": [
    "**Example 1**:    \n",
    "![ufukkedup](https://assets.leetcode.com/uploads/2020/11/13/spiral1.jpg)\n",
    "> ```\n",
    "> Input: matrix = [[1,2,3],[4,5,6],[7,8,9]]\n",
    "> Output: [1,2,3,6,9,8,7,4,5]\n",
    "> ```\n",
    "<br>\n",
    "\n",
    "**Example 2**:   \n",
    "![ufukkedup](https://assets.leetcode.com/uploads/2020/11/13/spiral.jpg)\n",
    "> ```\n",
    "> Input: matrix = [[1,2,3,4],[5,6,7,8],[9,10,11,12]]\n",
    "> Output: [1,2,3,4,8,12,11,10,9,5,6,7]\n",
    "> ```\n"
   ]
  },
  {
   "cell_type": "markdown",
   "metadata": {},
   "source": [
    "**Constraints**:\n",
    "\n",
    "- `m == matrix.length`\n",
    "- `n == matrix[i].length`\n",
    "- `1 <= m, n <= 10`\n",
    "- `-100 <= matrix[i][j] <= 100`"
   ]
  },
  {
   "cell_type": "markdown",
   "metadata": {},
   "source": [
    "<br>"
   ]
  },
  {
   "cell_type": "markdown",
   "metadata": {},
   "source": [
    "### Traverse All Rows and Columns Using Four Pointers"
   ]
  },
  {
   "cell_type": "markdown",
   "metadata": {},
   "source": [
    "##### Psuedo"
   ]
  },
  {
   "cell_type": "markdown",
   "metadata": {},
   "source": [
    "```\n",
    "Start a List which will contain the flattened elements of the input matrix sorted in spiral order.\n",
    "\n",
    "\n",
    "Let m be the total number of rows present in the matrix.\n",
    "Let n be the total number of columns in the matrix.\n",
    "Set up a Pointer at the Top Row at row index 0.\n",
    "Set up a Pointer at the Bottom Row at row index (m - 1).\n",
    "Set up a Pointer at the Left Column at column index 0.\n",
    "Set up a Pointer at the Right Column at column index (n - 1).\n",
    "\n",
    "\n",
    "Iterating through the matrix While BOTH: \n",
    "    - the Top Row is still less than or equal to the Bottom Row\n",
    "    - the Left Column is still less than or equal to the Right Column\n",
    "\n",
    "    \n",
    "    Iterating forward through each element along the Top Row up until the Right Column:\n",
    "        Add each element to the List.\n",
    "    Once the traversal is complete, Move the Top Row down one position. \n",
    "\n",
    "    \n",
    "    Iterating down each element along the Right Column up until the Bottom Row:\n",
    "        Add each element to the List.\n",
    "    Once the traversal is complete, Move the Right Column back one position. \n",
    "\n",
    "    \n",
    "    Checking If the Top Row still remains less than or equal to the bottom row:\n",
    "\n",
    "        Iterating back through each element along the Bottom Row up until the Left Column:\n",
    "            Add each element to the List.\n",
    "        Once the traversal is complete, Move the Bottom Row up one position. \n",
    "\n",
    "\n",
    "    Checking If the Left Column still remains less than or equal to the Right Column:\n",
    "\n",
    "        Iterating up through each element along the Left Column up untl the Top Row:\n",
    "            Add each element to the List.\n",
    "        Once the traversal is complete, Move the Top Row down one position. \n",
    "\n",
    "\n",
    "The List now contains all the elements sorted in Spiral Order,\n",
    "as required.\n",
    "```"
   ]
  },
  {
   "cell_type": "markdown",
   "metadata": {},
   "source": [
    "<br>"
   ]
  },
  {
   "cell_type": "markdown",
   "metadata": {},
   "source": [
    "#### Implementation"
   ]
  },
  {
   "cell_type": "code",
   "execution_count": null,
   "metadata": {
    "dotnet_interactive": {
     "language": "csharp"
    },
    "vscode": {
     "languageId": "dotnet-interactive.csharp"
    }
   },
   "outputs": [],
   "source": [
    "public List<int> SpiralOrder(int[][] matrix) {\n",
    "\n",
    "    // Start a List which will contain the flattened elements of the input matrix sorted in spiral order.\n",
    "    List<int> ResultList = new List<int>();\n",
    "\n",
    "    \n",
    "    int m            =  matrix.Length,   // Let m be the total number of rows present in the matrix. \n",
    "        n            =  matrix[0].Length,// Let n be the total number of columns in the matrix.\n",
    "        TopRow       =  0,               // Set up a Pointer at the Top Row at row index 0.\n",
    "        BottomRow    =  m - 1,           // Set up a Pointer at the Bottom Row at row index (m - 1).\n",
    "        LeftColumn   =  0,               // Set up a Pointer at the Left Column at column index 0.\n",
    "        RightColumn  =  n - 1;           // Set up a Pointer at the Right Column at column index (n - 1).\n",
    "\n",
    "\n",
    "    // Iterating through the matrix While BOTH: \n",
    "    //      - the Top Row is still less than or equal to the Bottom Row\n",
    "    //      - the Left Column is still less than or equal to the Right Column\n",
    "    while( TopRow <= BottomRow && LeftColumn <= RightColumn )\n",
    "    {\n",
    "    \n",
    "        // Iterating forward through each element along the Top Row up until the Right Column:\n",
    "        for(int col = LeftColumn; col <= RightColumn; col++ ) //\n",
    "            ResultList.Add(                                   // Add each element to the List.\n",
    "                matrix[TopRow][col]                           // \n",
    "            );                                                // Once the traversal is complete, \n",
    "        TopRow++;                                             // Move the Top Row down one position. \n",
    "\n",
    "\n",
    "        // Iterating down each element along the Right Column up until the Bottom Row:\n",
    "        for( int row = TopRow; row <= BottomRow; row++ ) //\n",
    "            ResultList.Add(                              // Add each element to the List.   \n",
    "                matrix[row][RightColumn]                 // \n",
    "            );                                           // Once the traversal is complete,          \n",
    "        RightColumn--;                                   // Move the Right Column back one position.  \n",
    "    \n",
    "    \n",
    "        // Checking If the Top Row still remains less than or equal to the bottom row:\n",
    "        if( TopRow <= BottomRow)\n",
    "        {\n",
    "            // Iterating back through each element along the Bottom Row up until the Left Column:\n",
    "            for( int col = RightColumn; col >= LeftColumn; col-- ) //\n",
    "                ResultList.Add(                                    // Add each element to the List.\n",
    "                    matrix[BottomRow][col]                         //\n",
    "                );                                                 // Once the traversal is complete,          \n",
    "            BottomRow--;                                           // Move the Bottom Row up one position.  \n",
    "        }\n",
    "    \n",
    "\n",
    "        // Checking If the Left Column still remains less than or equal to the Right Column:\n",
    "        if( LeftColumn <= RightColumn )\n",
    "        {\n",
    "            // Iterating up through each element along the Left Column up untl the Top Row:\n",
    "            for( int row = BottomRow; row >= TopRow; row-- ) //\n",
    "                ResultList.Add(                              // Add each element to the List.\n",
    "                    matrix[row][LeftColumn]                  // \n",
    "                );                                           // Once the traversal is complete,          \n",
    "            LeftColumn++;                                    // Move the Bottom Row up one position. \n",
    "        }\n",
    "        \n",
    "    }\n",
    "\n",
    "\n",
    "    // The List now contains all the elements sorted in Spiral Order,\n",
    "    // as required.\n",
    "    return ResultList;\n",
    "    \n",
    "}"
   ]
  },
  {
   "cell_type": "code",
   "execution_count": null,
   "metadata": {
    "dotnet_interactive": {
     "language": "csharp"
    },
    "vscode": {
     "languageId": "dotnet-interactive.csharp"
    }
   },
   "outputs": [],
   "source": [
    "// test input\n",
    "int[][] matrix = new int[][]{\n",
    "    new int[]{1,2,3,4},\n",
    "    new int[]{5,6,7,8},\n",
    "    new int[]{9,10,11,12}\n",
    "};"
   ]
  },
  {
   "cell_type": "code",
   "execution_count": null,
   "metadata": {
    "dotnet_interactive": {
     "language": "csharp"
    },
    "vscode": {
     "languageId": "dotnet-interactive.csharp"
    }
   },
   "outputs": [
    {
     "data": {
      "text/html": [
       "<table><thead><tr><th><i>index</i></th><th>value</th></tr></thead><tbody><tr><td>0</td><td><div class=\"dni-plaintext\">1</div></td></tr><tr><td>1</td><td><div class=\"dni-plaintext\">2</div></td></tr><tr><td>2</td><td><div class=\"dni-plaintext\">3</div></td></tr><tr><td>3</td><td><div class=\"dni-plaintext\">4</div></td></tr><tr><td>4</td><td><div class=\"dni-plaintext\">8</div></td></tr><tr><td>5</td><td><div class=\"dni-plaintext\">12</div></td></tr><tr><td>6</td><td><div class=\"dni-plaintext\">11</div></td></tr><tr><td>7</td><td><div class=\"dni-plaintext\">10</div></td></tr><tr><td>8</td><td><div class=\"dni-plaintext\">9</div></td></tr><tr><td>9</td><td><div class=\"dni-plaintext\">7</div></td></tr><tr><td>10</td><td><div class=\"dni-plaintext\">5</div></td></tr><tr><td>11</td><td><div class=\"dni-plaintext\">6</div></td></tr></tbody></table>"
      ]
     },
     "metadata": {},
     "output_type": "display_data"
    }
   ],
   "source": [
    "SpiralOrder(matrix)"
   ]
  },
  {
   "cell_type": "markdown",
   "metadata": {},
   "source": [
    "<br>"
   ]
  },
  {
   "cell_type": "markdown",
   "metadata": {},
   "source": [
    "#### Analysis"
   ]
  },
  {
   "cell_type": "markdown",
   "metadata": {},
   "source": [
    "##### **Time**"
   ]
  },
  {
   "cell_type": "markdown",
   "metadata": {},
   "source": [
    "Let $\\quad n \\quad$ represent the number of *Rows* in the $\\quad matrix. \\quad$   \n",
    "\n",
    "Since we `Iterating through the matrix While the Top Row is still less than or equal to the Bottom Row`,\n",
    "we must always account for the *full length of $\\,n\\,$ in every case*.\n",
    "$$\\implies O(n)$$   \n",
    "<br>\n",
    "\n",
    "Let $\\quad m \\quad$ represent the number of *Columns* in the $\\quad matrix. \\quad$   \n",
    "\n",
    "Since we are also `Iterating through the matrix While the Left Column is still less than or equal to the Right Column`,\n",
    "we mustadditionally perform each iteration along the *full length of $\\,m\\,$ in every case*.\n",
    "$$\\implies O(n) \\times m$$   \n",
    "<br>\n",
    "  \n",
    "$$\\implies \\Large{\\bf{O(n \\times m)}}$$"
   ]
  },
  {
   "cell_type": "markdown",
   "metadata": {},
   "source": [
    "---"
   ]
  },
  {
   "cell_type": "markdown",
   "metadata": {},
   "source": [
    "##### **Space**"
   ]
  },
  {
   "cell_type": "markdown",
   "metadata": {},
   "source": [
    "We allocate NO auxiliary space other than the given input matrix and the List structure required as output.\n",
    "$$\\implies \\Large{\\bf{O(1)}}$$"
   ]
  }
 ],
 "metadata": {
  "kernelspec": {
   "display_name": ".NET (C#)",
   "language": "C#",
   "name": ".net-csharp"
  },
  "language_info": {
   "file_extension": ".cs",
   "mimetype": "text/x-csharp",
   "name": "C#",
   "pygments_lexer": "csharp",
   "version": "9.0"
  },
  "orig_nbformat": 4
 },
 "nbformat": 4,
 "nbformat_minor": 2
}
