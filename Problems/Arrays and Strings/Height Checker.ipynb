{
 "cells": [
  {
   "cell_type": "markdown",
   "metadata": {},
   "source": [
    "# Height Checker"
   ]
  },
  {
   "cell_type": "markdown",
   "metadata": {},
   "source": [
    "A school is trying to take an annual photo of all the students.    \n",
    "The students are asked to stand in a single file line in **non-decreasing order** by height.  \n",
    "    \n",
    "Let this ordering be represented by the integer array `expected` where `expected[i]` is the *expected height* of the `i`th student in line.\n",
    "   \n",
    "You are given an integer array `heights` representing the *current order that the students are standing in*.    \n",
    "\n",
    "Each `heights[i]` is the height of the `i`th student in line (0-indexed).\n",
    "    \n",
    "Return the *number of indices* where `heights[i] != expected[i]`."
   ]
  },
  {
   "cell_type": "markdown",
   "metadata": {},
   "source": [
    "**Example 1**:    \n",
    "> ```\n",
    "> Input: heights = [1,1,4,2,1,3]\n",
    "> Output: 3\n",
    "> ```\n",
    "\n",
    "Explanation:      \n",
    "heights:  `[1,1,4,2,1,3]`   \n",
    "expected: `[1,1,1,2,3,4]`   \n",
    "Indices `2`, `4`, and `5` do not match.\n",
    "\n",
    "<br>\n",
    "           \n",
    "**Example 2**:   \n",
    "> ```\n",
    "> Input: heights = [5,1,2,3,4]\n",
    "> Output: 5\n",
    "> ```\n",
    "\n",
    "Explanation:         \n",
    "heights:  `[5,1,2,3,4]`   \n",
    "expected: `[1,2,3,4,5]`   \n",
    "All indices do not match.\n",
    "\n",
    "<br>\n",
    "\n",
    "**Example 3**:   \n",
    "> ```\n",
    "> Input: heights = [1,2,3,4,5]\n",
    "> Output: 0\n",
    "> ```\n",
    " \n",
    "Explanation:         \n",
    "heights:  `[1,2,3,4,5]`   \n",
    "expected: `[1,2,3,4,5]`   \n",
    "All indices match.\n",
    " \n",
    "<br>"
   ]
  },
  {
   "cell_type": "markdown",
   "metadata": {},
   "source": [
    "**Constraints**:\n",
    "\n",
    "- `1 <= heights.length <= 100`\n",
    "- `1 <= heights[i] <= 100`\n",
    "\n",
    "\n"
   ]
  },
  {
   "cell_type": "markdown",
   "metadata": {},
   "source": [
    "<br>"
   ]
  },
  {
   "cell_type": "markdown",
   "metadata": {},
   "source": [
    "### Approach Method Name"
   ]
  },
  {
   "cell_type": "markdown",
   "metadata": {},
   "source": [
    "##### Psuedo"
   ]
  },
  {
   "cell_type": "markdown",
   "metadata": {},
   "source": [
    "```\n",
    "Due to Zero-Indexing,  \n",
    "we know the first Student in line is in the 0th slot.\n",
    "\n",
    "\n",
    "Allocate a new array of Expected heights\n",
    "which are Sorted in Non-Descreasing Order\n",
    "\n",
    "\n",
    "Return the Length of another new array which compares each element in the heights array to each in the Expected array, and then filters out any elements that are equal\n",
    "```"
   ]
  },
  {
   "cell_type": "markdown",
   "metadata": {},
   "source": [
    "<br>"
   ]
  },
  {
   "cell_type": "markdown",
   "metadata": {},
   "source": [
    "#### 2 Passes, 3 Lines, using 2 addditional Arrays"
   ]
  },
  {
   "cell_type": "code",
   "execution_count": 10,
   "metadata": {
    "dotnet_interactive": {
     "language": "csharp"
    },
    "vscode": {
     "languageId": "dotnet-interactive.csharp"
    }
   },
   "outputs": [],
   "source": [
    "public int HeightChecker(int[] heights) {\n",
    "\n",
    "    // Due to Zero-Indexing,  \n",
    "    // we know the first Student in line is in the 0th slot. \n",
    "    int Student = 0;\n",
    "\n",
    "\n",
    "    // Allocate a new array of Expected heights\n",
    "    // which are Sorted in Non-Descreasing Order\n",
    "    int[] Expected = heights.OrderBy( height => height ).ToArray();\n",
    "\n",
    "\n",
    "    // Return the Length of another new array \n",
    "    // which compares each element in the  heights  array \n",
    "    // to each in the  Expected  array, \n",
    "    // and then filters out any elements that are equal\n",
    "    return heights.Where( height => height != Expected[ Student++ ] ).ToArray().Length; \n",
    "\n",
    "}"
   ]
  },
  {
   "cell_type": "code",
   "execution_count": 1,
   "metadata": {
    "dotnet_interactive": {
     "language": "csharp"
    },
    "vscode": {
     "languageId": "dotnet-interactive.csharp"
    }
   },
   "outputs": [],
   "source": [
    "public int[] heights = { 1,1,4,2,1,3 };"
   ]
  },
  {
   "cell_type": "code",
   "execution_count": 11,
   "metadata": {
    "dotnet_interactive": {
     "language": "csharp"
    },
    "vscode": {
     "languageId": "dotnet-interactive.csharp"
    }
   },
   "outputs": [
    {
     "data": {
      "text/html": [
       "<div class=\"dni-plaintext\">3</div>"
      ]
     },
     "metadata": {},
     "output_type": "display_data"
    }
   ],
   "source": [
    "HeightChecker( heights )"
   ]
  },
  {
   "cell_type": "markdown",
   "metadata": {},
   "source": [
    "<br>"
   ]
  },
  {
   "cell_type": "markdown",
   "metadata": {},
   "source": [
    "#### Analysis"
   ]
  },
  {
   "cell_type": "markdown",
   "metadata": {},
   "source": [
    "##### **Time** "
   ]
  },
  {
   "cell_type": "markdown",
   "metadata": {},
   "source": [
    "Since we `Allocate a new array of Expected heights which are Sorted in Non-Descreasing Order`, we surely must traverse the full length of the `heights` array\n",
    "\n",
    "$$ \\implies O(n) $$   \n",
    "   \n",
    "$Additionally,$   \n",
    "   \n",
    "We `Return the Length of another new array which compares each element in the  heights  array  to each in the  expected  array, and then filters out any elements that are equal`.\n",
    "\n",
    "$$ \\implies O(n) + O(n) = 2 \\times O(n) $$\n",
    "$$ \\Large{ \\bf{ \\implies O(n)}}  $$"
   ]
  },
  {
   "cell_type": "markdown",
   "metadata": {},
   "source": [
    "---"
   ]
  },
  {
   "cell_type": "markdown",
   "metadata": {},
   "source": [
    "##### **Space** "
   ]
  },
  {
   "cell_type": "markdown",
   "metadata": {},
   "source": [
    "We are allocating space to accomodate for *2 additional arrays* whose lengths are both proportional to the `heights` array\n",
    "\n",
    "$$ \\implies O(n) + O(n) = 2 \\times O(n) $$\n",
    "$$ \\Large{ \\bf{ \\implies O(n)}} $$"
   ]
  }
 ],
 "metadata": {
  "kernelspec": {
   "display_name": ".NET (C#)",
   "language": "C#",
   "name": ".net-csharp"
  },
  "language_info": {
   "file_extension": ".cs",
   "mimetype": "text/x-csharp",
   "name": "C#",
   "pygments_lexer": "csharp",
   "version": "9.0"
  },
  "orig_nbformat": 4
 },
 "nbformat": 4,
 "nbformat_minor": 2
}
