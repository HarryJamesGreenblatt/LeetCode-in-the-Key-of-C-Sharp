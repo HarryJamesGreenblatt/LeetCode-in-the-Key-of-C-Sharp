{
 "cells": [
  {
   "cell_type": "markdown",
   "metadata": {},
   "source": [
    "# Find Pivot Index"
   ]
  },
  {
   "cell_type": "markdown",
   "metadata": {},
   "source": [
    "Given an array of integers `nums`, calculate the **pivot index** of this array.\n",
    "\n",
    "The **pivot index** is the index where the sum of all the numbers strictly to the left of the index is equal to the sum of all the numbers strictly to the index's right.\n",
    "   \n",
    "If the index is on the left edge of the array, then the *left sum* is `0` because there are *no elements to the left*. This also applies to the *right edge of the array*.\n",
    "\n",
    "Return the leftmost **pivot index**. If *no such index exists*, return `-1`."
   ]
  },
  {
   "cell_type": "markdown",
   "metadata": {},
   "source": [
    "**Example 1**:    \n",
    "> ```\n",
    "> Input: nums = [1,7,3,6,5,6]\n",
    "> Output: 3\n",
    "> ```\n",
    "\n",
    "Explanation:          \n",
    "The pivot index is `3`.   \n",
    "Left sum = `nums[`0`] + nums[1] + nums[2]` = `1 + 7 + 3` = `11`   \n",
    "Right sum = `nums[4] + nums[5] = 5 + 6` = `11`   \n",
    "\n",
    "<br>\n",
    "\n",
    "**Example 2**:        \n",
    "> ```\n",
    "> Input: nums = [1,2,3]\n",
    "> Output: -1\n",
    "> ```\n",
    "\n",
    "Explanation:        \n",
    "There is no index that satisfies the conditions in the problem statement.\n",
    "\n",
    "\n",
    "<br>\n",
    "\n",
    "**Example 3**:    \n",
    "> ```\n",
    "> Input: nums = [2,1,-1]\n",
    "> Output: 0\n",
    "> ```\n",
    "\n",
    "Explanation:    \n",
    "The pivot index is `0`.   \n",
    "Left sum = `0` (no elements to the left of index `0`)   \n",
    "Right sum =` nums[1] + nums[2]` = `1 + -1` = `0`   \n",
    "\n",
    "<br>"
   ]
  },
  {
   "cell_type": "markdown",
   "metadata": {},
   "source": [
    "**Constraints**:\n",
    "\n",
    "- `1 <= nums.length <= 104`\n",
    "- `-1000 <= nums[i] <= 1000`"
   ]
  },
  {
   "cell_type": "markdown",
   "metadata": {},
   "source": [
    "<br>"
   ]
  },
  {
   "cell_type": "markdown",
   "metadata": {},
   "source": [
    "### Two Passes, One Pointer"
   ]
  },
  {
   "cell_type": "markdown",
   "metadata": {},
   "source": [
    "##### Psuedo"
   ]
  },
  {
   "cell_type": "markdown",
   "metadata": {},
   "source": [
    "```\n",
    "For clarity, we observe the First and Last Indices of the nums array\n",
    "\n",
    "\n",
    "We then derive the aggregate Sum of each element in the nums array\n",
    "\n",
    "\n",
    "Now, let there be a Left and Right Sum, both initialized to 0 \n",
    "\n",
    "\n",
    "Iterating a Pivot Index For every element in the nums array, \n",
    "from is's First Index up through it's Last Index:\n",
    "\n",
    "    The Right Sum is the difference between the Sum and the Left Sum,\n",
    "    taking care to also account for the removal of the Value at the Pivot Index\n",
    "\n",
    "    If we can confirm at this point that the Left Sum is equivalent to the Right Sum,\n",
    "         then we can thereby presume the Current Index is in fact the valid Pivot Index\n",
    "\n",
    "    Otherwise, we Add the Value at the current Pivot Index to the Left Sum\n",
    "\n",
    "\n",
    "After all that,\n",
    "it reasonable to assume that their exists \n",
    "NO index that satisfies the conditions in the problem statement.\n",
    "```"
   ]
  },
  {
   "cell_type": "markdown",
   "metadata": {},
   "source": [
    "<br>"
   ]
  },
  {
   "cell_type": "markdown",
   "metadata": {},
   "source": [
    "#### Implementation"
   ]
  },
  {
   "cell_type": "code",
   "execution_count": 9,
   "metadata": {
    "dotnet_interactive": {
     "language": "csharp"
    },
    "vscode": {
     "languageId": "dotnet-interactive.csharp"
    }
   },
   "outputs": [],
   "source": [
    "public int PivotIndex(int[] nums) {\n",
    "\n",
    "    // For clarity, we observe the First and Last Indices of the nums array\n",
    "    int FirstIndex  =  0;\n",
    "    int LastIndex   =  nums.Length - 1;\n",
    "\n",
    "\n",
    "    // We then derive the aggregate Sum of each element in the nums array\n",
    "    int Sum  = nums.Aggregate( ( a, b ) => a + b );\n",
    "\n",
    "\n",
    "    // Now, let there be a Left and Right Sum, both initialized to 0 \n",
    "    int LeftSum  = 0;\n",
    "    int RightSum = 0;\n",
    "\n",
    "\n",
    "    // Iterating a Pivot Index For every element in the nums array, \n",
    "    // from is's First Index up through it's Last Index: \n",
    "    for( int PivotIndex = FirstIndex; PivotIndex <= LastIndex; PivotIndex++ )\n",
    "    {\n",
    "\n",
    "        // The Right Sum is the difference between the Sum and the Left Sum,\n",
    "        // taking care to also account for the removal of the Value at the Pivot Index\n",
    "        RightSum = Sum - LeftSum - nums[ PivotIndex ];\n",
    "\n",
    "\n",
    "        // If we can confirm at this point that the Left Sum is equivalent to the Right Sum,\n",
    "        //      then we can thereby presume the Current Index is in fact the valid Pivot Index\n",
    "        if( LeftSum == RightSum )\n",
    "            return PivotIndex;\n",
    "\n",
    "\n",
    "        // Otherwise, we Add the Value at the current Pivot Index to the Left Sum \n",
    "        LeftSum += nums[ PivotIndex ];\n",
    "\n",
    "    }\n",
    "\n",
    "\n",
    "    // After all that,\n",
    "    // it reasonable to assume that their exists \n",
    "    // NO index that satisfies the conditions in the problem statement.\n",
    "    return -1;\n",
    "    \n",
    "}"
   ]
  },
  {
   "cell_type": "code",
   "execution_count": 11,
   "metadata": {
    "dotnet_interactive": {
     "language": "csharp"
    },
    "vscode": {
     "languageId": "dotnet-interactive.csharp"
    }
   },
   "outputs": [],
   "source": [
    "// test input\n",
    "int[] nums1 = {1,7,3,6,5,6},\n",
    "      nums2 = {1,2,3},\n",
    "      nums3 = {2,1,-1};"
   ]
  },
  {
   "cell_type": "code",
   "execution_count": 12,
   "metadata": {
    "dotnet_interactive": {
     "language": "csharp"
    },
    "vscode": {
     "languageId": "dotnet-interactive.csharp"
    }
   },
   "outputs": [
    {
     "data": {
      "text/html": [
       "<div class=\"dni-plaintext\">3</div>"
      ]
     },
     "metadata": {},
     "output_type": "display_data"
    }
   ],
   "source": [
    "PivotIndex( nums1 )"
   ]
  },
  {
   "cell_type": "code",
   "execution_count": 13,
   "metadata": {
    "dotnet_interactive": {
     "language": "csharp"
    },
    "vscode": {
     "languageId": "dotnet-interactive.csharp"
    }
   },
   "outputs": [
    {
     "data": {
      "text/html": [
       "<div class=\"dni-plaintext\">-1</div>"
      ]
     },
     "metadata": {},
     "output_type": "display_data"
    }
   ],
   "source": [
    "PivotIndex( nums2 )"
   ]
  },
  {
   "cell_type": "code",
   "execution_count": 14,
   "metadata": {
    "dotnet_interactive": {
     "language": "csharp"
    },
    "vscode": {
     "languageId": "dotnet-interactive.csharp"
    }
   },
   "outputs": [
    {
     "data": {
      "text/html": [
       "<div class=\"dni-plaintext\">0</div>"
      ]
     },
     "metadata": {},
     "output_type": "display_data"
    }
   ],
   "source": [
    "PivotIndex( nums3 )"
   ]
  },
  {
   "cell_type": "markdown",
   "metadata": {},
   "source": [
    "<br>"
   ]
  },
  {
   "cell_type": "markdown",
   "metadata": {},
   "source": [
    "#### Analysis"
   ]
  },
  {
   "cell_type": "markdown",
   "metadata": {},
   "source": [
    "##### **Time** "
   ]
  },
  {
   "cell_type": "markdown",
   "metadata": {},
   "source": [
    "Since we `derive the aggregate Sum of each element in the nums array`, we always iterate through the full length of the `nums` array.\n",
    "\n",
    "$$\\implies O(n)$$  \n",
    "    \n",
    "$Subsequently,$   \n",
    "as we are also `Iterating a Pivot Index For every element in the nums array, from is's First Index up through it's Last Index`, we are making a second full pass along the length of the `nums` array.   \n",
    "   \n",
    "$$\\implies O(n) + O(n) = 2 \\times O(n)$$\n",
    "$$\\Large{\\bf{\\implies O(n)}}$$"
   ]
  },
  {
   "cell_type": "markdown",
   "metadata": {},
   "source": [
    "---"
   ]
  },
  {
   "cell_type": "markdown",
   "metadata": {},
   "source": [
    "##### **Space** "
   ]
  },
  {
   "cell_type": "markdown",
   "metadata": {},
   "source": [
    "We do NOT allocate any auxiliary space in addition to the input array.\n",
    "\n",
    "$$\\Large{\\bf{\\implies O(n)}}$$"
   ]
  }
 ],
 "metadata": {
  "kernelspec": {
   "display_name": ".NET (C#)",
   "language": "C#",
   "name": ".net-csharp"
  },
  "language_info": {
   "file_extension": ".cs",
   "mimetype": "text/x-csharp",
   "name": "C#",
   "pygments_lexer": "csharp",
   "version": "9.0"
  },
  "orig_nbformat": 4
 },
 "nbformat": 4,
 "nbformat_minor": 2
}
