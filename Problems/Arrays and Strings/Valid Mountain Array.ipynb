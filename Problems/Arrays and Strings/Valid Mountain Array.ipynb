{
 "cells": [
  {
   "cell_type": "markdown",
   "metadata": {},
   "source": [
    "# Valid Mountain Array"
   ]
  },
  {
   "cell_type": "markdown",
   "metadata": {},
   "source": [
    "Given an array of integers `arr`, return true if and only if it is a valid **mountain array**.\n",
    "\n",
    "Recall that `arr` is a **mountain array** if and only if:\n",
    "- `arr.length >= 3`\n",
    "- There exists some `i` with `0 < i < arr.length - 1` such that:\n",
    "  - `arr[0] < arr[1] < ... < arr[i - 1] < arr[i]`\n",
    "  - `arr[i] > arr[i + 1] > ... > arr[arr.length - 1]`"
   ]
  },
  {
   "cell_type": "markdown",
   "metadata": {},
   "source": [
    "![Picture Can Go Here](https://assets.leetcode.com/uploads/2019/10/20/hint_valid_mountain_array.png)"
   ]
  },
  {
   "cell_type": "markdown",
   "metadata": {},
   "source": [
    "**Example 1**: \n",
    "> ```\n",
    "> Input: arr = [2,1]\n",
    "> Output: false\n",
    "> ```\n",
    "\n",
    "<br>\n",
    "      \n",
    "**Example 2**:   \n",
    "> ```\n",
    "> Input: arr = [3,5,5]\n",
    "> Output: false\n",
    "> ```\n",
    "\n",
    "<br>\n",
    "\n",
    "**Example 3**:   \n",
    "> ```\n",
    "> Input: arr = [0,3,2,1]\n",
    "> Output: true\n",
    "> ```\n",
    "   \n",
    "<br>"
   ]
  },
  {
   "cell_type": "markdown",
   "metadata": {},
   "source": [
    "**Constraints**:\n",
    "\n",
    "- `1 <= arr.length <= 104`\n",
    "- `0 <= arr[i] <= 104`"
   ]
  },
  {
   "cell_type": "markdown",
   "metadata": {},
   "source": [
    "<br>"
   ]
  },
  {
   "cell_type": "markdown",
   "metadata": {},
   "source": [
    "### One Pass, Two Pointers"
   ]
  },
  {
   "cell_type": "markdown",
   "metadata": {},
   "source": [
    "##### Psuedo"
   ]
  },
  {
   "cell_type": "markdown",
   "metadata": {},
   "source": [
    "```\n",
    "Set up Two Pointers at the First and Last Elements of the Array\n",
    "\n",
    "\n",
    "While (Current Index + 1) is LESS THAN OR EQUAL TO the Last Index \n",
    "AND \n",
    "The Value at the Current Index is LESS THAN the Value at the next index on the right:\n",
    "\n",
    "    In order to locate the \"Peak of the Mointain\",\n",
    "    Increment the Pointer along the Array\n",
    "\n",
    "\n",
    "We are now at the \"Peak\", \n",
    "but If such a peak exists at the First OR Last Index,\n",
    "then the required constraint that  arr.length >= 3  cannot be true.\n",
    "\n",
    "\n",
    "While (Current Index + 1) is LESS THAN OR EQUAL TO the Last Index \n",
    "AND \n",
    "The Value at the Current Index is GREATER THAN the Value at the next index on the right:\n",
    "\n",
    "    Continue to increment the Pointer along the Array\n",
    "\n",
    "\n",
    "After all that,\n",
    "should the CurrentIndex have successfully reached the LastIndex,\n",
    "then the array is verified to be a Valid Mountain Array.\n",
    "```  "
   ]
  },
  {
   "cell_type": "markdown",
   "metadata": {},
   "source": [
    "<br>"
   ]
  },
  {
   "cell_type": "markdown",
   "metadata": {},
   "source": [
    "#### Implementation"
   ]
  },
  {
   "cell_type": "code",
   "execution_count": 28,
   "metadata": {
    "dotnet_interactive": {
     "language": "csharp"
    },
    "vscode": {
     "languageId": "dotnet-interactive.csharp"
    }
   },
   "outputs": [],
   "source": [
    "// Set up Two Pointers at the First and Last Elements of the Array\n",
    "int LastIndex    = arr.Length - 1;\n",
    "    CurrentIndex = 0;"
   ]
  },
  {
   "cell_type": "code",
   "execution_count": 29,
   "metadata": {
    "dotnet_interactive": {
     "language": "csharp"
    },
    "vscode": {
     "languageId": "dotnet-interactive.csharp"
    }
   },
   "outputs": [],
   "source": [
    "public bool ValidMountainArray(int[] arr) \n",
    "{\n",
    "\n",
    "    // Set up Two Pointers at the First and Last Elements of the Array\n",
    "    int LastIndex    = arr.Length - 1,\n",
    "        CurrentIndex = 0;\n",
    "\n",
    "\n",
    "    // While (Current Index + 1) is LESS THAN OR EQUAL TO the Last Index \n",
    "    // AND \n",
    "    // The Value at the Current Index is LESS THAN the Value at the next index on the right:\n",
    "    //     In order to locate the \"Peak of the Mointain\",\n",
    "    //     Increment the Pointer along the Array \n",
    "    while( CurrentIndex + 1 <= LastIndex && arr[ CurrentIndex ] < arr[ CurrentIndex + 1 ] )\n",
    "        CurrentIndex++;\n",
    "\n",
    "\n",
    "    // We are now at the \"Peak\", \n",
    "    // but If such a peak exists at the First OR Last Index,\n",
    "    // then the required constraint that  arr.length >= 3  cannot be true.\n",
    "    if( CurrentIndex == 0 || CurrentIndex == LastIndex )\n",
    "        return false;\n",
    "\n",
    "\n",
    "    // While (Current Index + 1) is LESS THAN OR EQUAL TO the Last Index \n",
    "    // AND \n",
    "    // The Value at the Current Index is GREATER THAN the Value at the next index on the right:\n",
    "    //     Continue to increment the Pointer along the Array\n",
    "    while( CurrentIndex + 1 <= LastIndex && arr[ CurrentIndex ] > arr[ CurrentIndex + 1 ] )\n",
    "        CurrentIndex++;\n",
    "\n",
    "\n",
    "    // After all that,\n",
    "    // should the CurrentIndex have successfully reached the LastIndex,\n",
    "    // then the array is verified to be a Valid Mountain Array.  \n",
    "    return CurrentIndex == LastIndex; \n",
    "\n",
    "}"
   ]
  },
  {
   "cell_type": "code",
   "execution_count": 30,
   "metadata": {
    "dotnet_interactive": {
     "language": "csharp"
    },
    "vscode": {
     "languageId": "dotnet-interactive.csharp"
    }
   },
   "outputs": [],
   "source": [
    "public int[] arr1 = {0,2,3,4,5,2,1,0},\n",
    "             arr2 = {0,2,3,3,5,2,1,0};"
   ]
  },
  {
   "cell_type": "code",
   "execution_count": 31,
   "metadata": {
    "dotnet_interactive": {
     "language": "csharp"
    },
    "vscode": {
     "languageId": "dotnet-interactive.csharp"
    }
   },
   "outputs": [
    {
     "data": {
      "text/html": [
       "<div class=\"dni-plaintext\">True</div>"
      ]
     },
     "metadata": {},
     "output_type": "display_data"
    }
   ],
   "source": [
    "ValidMountainArray( arr1 )"
   ]
  },
  {
   "cell_type": "code",
   "execution_count": 32,
   "metadata": {
    "dotnet_interactive": {
     "language": "csharp"
    },
    "vscode": {
     "languageId": "dotnet-interactive.csharp"
    }
   },
   "outputs": [
    {
     "data": {
      "text/html": [
       "<div class=\"dni-plaintext\">False</div>"
      ]
     },
     "metadata": {},
     "output_type": "display_data"
    }
   ],
   "source": [
    "ValidMountainArray( arr2 )"
   ]
  },
  {
   "cell_type": "markdown",
   "metadata": {},
   "source": [
    "<br>"
   ]
  },
  {
   "cell_type": "markdown",
   "metadata": {},
   "source": [
    "#### Analysis"
   ]
  },
  {
   "cell_type": "markdown",
   "metadata": {},
   "source": [
    "##### **Time** "
   ]
  },
  {
   "cell_type": "markdown",
   "metadata": {},
   "source": [
    "Since, `In order to locate the \"Peak of the Mointain\"`, we `Increment the Pointer along the Array`  `While (Current Index + 1) is LESS THAN OR EQUAL TO the Last Index AND The Value at the Current Index is LESS THAN the Value at the next index`, we must traverse up to the full length of `arr`.\n",
    "   \n",
    "$$\\implies O(n)$$\n",
    "\n",
    "$Subsequently,$    \n",
    "since we  `Continue to increment the Pointer along the Array`, `While (Current Index + 1) is LESS THAN OR EQUAL TO the Last Index AND The Value at the Current Index is GREATER THAN the Value at the next`, we again must traverse up to the full length of `arr`.\n",
    "    \n",
    "$$\\implies O(n) + O(n) = 2 \\times O(n)$$\n",
    "$$\\bf{\\Large{\\implies O(n)}}$$\n"
   ]
  },
  {
   "cell_type": "markdown",
   "metadata": {},
   "source": [
    "---"
   ]
  },
  {
   "cell_type": "markdown",
   "metadata": {},
   "source": [
    "##### **Space** "
   ]
  },
  {
   "cell_type": "markdown",
   "metadata": {},
   "source": [
    "We are *not* allocating any additional space other than the given input.\n",
    "\n",
    "$$\\implies \\Large{\\bf{O(1)}}$$"
   ]
  }
 ],
 "metadata": {
  "kernelspec": {
   "display_name": ".NET (C#)",
   "language": "C#",
   "name": ".net-csharp"
  },
  "language_info": {
   "file_extension": ".cs",
   "mimetype": "text/x-csharp",
   "name": "C#",
   "pygments_lexer": "csharp",
   "version": "9.0"
  },
  "orig_nbformat": 4
 },
 "nbformat": 4,
 "nbformat_minor": 2
}
