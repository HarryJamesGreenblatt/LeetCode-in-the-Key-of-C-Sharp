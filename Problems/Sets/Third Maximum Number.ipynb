{
 "cells": [
  {
   "cell_type": "markdown",
   "metadata": {},
   "source": [
    "# Third Maximum Number"
   ]
  },
  {
   "cell_type": "markdown",
   "metadata": {},
   "source": [
    "Given an integer array `nums`,    \n",
    "return the *third distinct maximum number* in this array.    \n",
    "   \n",
    "If the third maximum *does not exist*, return the *maximum number*.\n",
    "\n",
    " "
   ]
  },
  {
   "cell_type": "markdown",
   "metadata": {},
   "source": [
    "**Example 1**:    \n",
    "> ```\n",
    "> Input: nums = [3,2,1]\n",
    "> Output: 1\n",
    "> ```\n",
    "\n",
    "Explanation:      \n",
    "The first distinct maximum is `3`.   \n",
    "The second distinct maximum is `2`.   \n",
    "The third distinct maximum is `1`.\n",
    "\n",
    "<br>\n",
    "          \n",
    "**Example 2**:   \n",
    "> ```\n",
    "> Input: nums = [1,2]\n",
    "> Output: 2\n",
    "> ```   \n",
    "\n",
    "Explanation:   \n",
    "The first distinct maximum is `2`.\n",
    "The second distinct maximum is `1`.\n",
    "The third distinct maximum does not exist, so the maximum (`2`) is returned instead.\n",
    "\n",
    "<br>\n",
    "\n",
    "**Example 3**:   \n",
    "> ```\n",
    "> Input: nums = [2,2,3,1]\n",
    "> Output: 1\n",
    "> ```\n",
    " \n",
    "Explanation:   \n",
    "The first distinct maximum is `3`.   \n",
    "The second distinct maximum is 2 (both `2`'s are counted together since they have the same value).\n",
    "The third distinct maximum is `1`.\n",
    "\n",
    "<br>"
   ]
  },
  {
   "cell_type": "markdown",
   "metadata": {},
   "source": [
    "**Constraints**:\n",
    "\n",
    "- `1 <= nums.length <= 104`\n",
    "- `-231 <= nums[i] <= 231 - 1`\n",
    "\n",
    "\n"
   ]
  },
  {
   "cell_type": "markdown",
   "metadata": {},
   "source": [
    "<br>"
   ]
  },
  {
   "cell_type": "markdown",
   "metadata": {},
   "source": [
    "### Two Passes, Four Lines using a Sorted Set"
   ]
  },
  {
   "cell_type": "markdown",
   "metadata": {},
   "source": [
    "##### Psuedo"
   ]
  },
  {
   "cell_type": "markdown",
   "metadata": {},
   "source": [
    "###### Provide a Subroutine to `Swap` the *Addresses* of it's parameters, switching their values without overwriting them in place. <br><br> Time: $\\qquad O(1)$ <br> Space: $\\qquad O(1)$\n",
    "\n",
    "```\n",
    "define a Class  SortBetweenPairs:\n",
    "\n",
    "    Provide an auxiliary SortBetweenPairs Class, implmenenting a Custom Comparer Interface \n",
    "    to facilate a Prioritized ordering based on iterative, pair-wise Sorting.\n",
    "\n",
    "        Provide the SortBetweenPairs Class a Meethod \n",
    "        which Compares two parameters, a and b, such that   \n",
    "\n",
    "            if b is larger,  returns   1\n",
    "            if b is equal,   returns   0\n",
    "            if b is smaller, returns  -1\n",
    "```"
   ]
  },
  {
   "cell_type": "markdown",
   "metadata": {},
   "source": [
    "<br>"
   ]
  },
  {
   "cell_type": "markdown",
   "metadata": {},
   "source": [
    "###### Iteratate through the input array, building a parallel `SortedSet` based on its elements. <br><br> Time: $\\qquad O(n)$ <br> Space: $\\qquad O(n)$"
   ]
  },
  {
   "cell_type": "markdown",
   "metadata": {},
   "source": [
    "```\n",
    "Allocate a new Sorted Set which takes as a parameter of it's constructor\n",
    "an instance of the Custom SortBetweenPairs Comparer Interface\n",
    "\n",
    "\n",
    "For Each element in the nums array:\n",
    "     Add that element to the Sorted Set\n",
    "\n",
    "\n",
    "After all that,\n",
    "If the Sorted Set consists of LESS THAN 3 elements,\n",
    "     take the Highest Valued element, which is located at the Oth index\n",
    "Otherwise,\n",
    "     take the Third Highest Valued element, which is located at the 2nd index\n",
    "```"
   ]
  },
  {
   "cell_type": "markdown",
   "metadata": {},
   "source": [
    "<br>"
   ]
  },
  {
   "cell_type": "markdown",
   "metadata": {},
   "source": [
    "#### Implementation"
   ]
  },
  {
   "cell_type": "code",
   "execution_count": 1,
   "metadata": {
    "dotnet_interactive": {
     "language": "csharp"
    },
    "vscode": {
     "languageId": "dotnet-interactive.csharp"
    }
   },
   "outputs": [],
   "source": [
    "// Provide an auxiliary SortBetweenPairs Class, implmenenting a Custom Comparer Interface \n",
    "// to facilate a Prioritized ordering based on iterative, pair-wise Sorting.\n",
    "public class SortBetweenPairs : IComparer<int>\n",
    "{\n",
    "\n",
    "    // Provide the SortBetweenPairs Class a Meethod \n",
    "    // which Compares two parameters, a and b, such that   \n",
    "    public int Compare(int a, int b)\n",
    "    {\n",
    "\n",
    "        // if b is larger,  returns   1\n",
    "        // if b is equal,   returns   0\n",
    "        // if b is smaller, returns  -1  \n",
    "        return b.CompareTo(a);\n",
    "        \n",
    "    }\n",
    "    \n",
    "}"
   ]
  },
  {
   "cell_type": "code",
   "execution_count": 6,
   "metadata": {
    "dotnet_interactive": {
     "language": "csharp"
    },
    "vscode": {
     "languageId": "dotnet-interactive.csharp"
    }
   },
   "outputs": [],
   "source": [
    "SortBetweenPairs SBP = new SortBetweenPairs();  "
   ]
  },
  {
   "cell_type": "code",
   "execution_count": 9,
   "metadata": {
    "dotnet_interactive": {
     "language": "csharp"
    },
    "vscode": {
     "languageId": "dotnet-interactive.csharp"
    }
   },
   "outputs": [
    {
     "data": {
      "text/html": [
       "<div class=\"dni-plaintext\">1</div>"
      ]
     },
     "metadata": {},
     "output_type": "display_data"
    }
   ],
   "source": [
    "SBP.Compare( 'a' , 'b' )"
   ]
  },
  {
   "cell_type": "code",
   "execution_count": 10,
   "metadata": {
    "dotnet_interactive": {
     "language": "csharp"
    },
    "vscode": {
     "languageId": "dotnet-interactive.csharp"
    }
   },
   "outputs": [
    {
     "data": {
      "text/html": [
       "<div class=\"dni-plaintext\">0</div>"
      ]
     },
     "metadata": {},
     "output_type": "display_data"
    }
   ],
   "source": [
    "SBP.Compare( 'b' , 'b' )"
   ]
  },
  {
   "cell_type": "code",
   "execution_count": 11,
   "metadata": {
    "dotnet_interactive": {
     "language": "csharp"
    },
    "vscode": {
     "languageId": "dotnet-interactive.csharp"
    }
   },
   "outputs": [
    {
     "data": {
      "text/html": [
       "<div class=\"dni-plaintext\">-1</div>"
      ]
     },
     "metadata": {},
     "output_type": "display_data"
    }
   ],
   "source": [
    "SBP.Compare( 'c' , 'b' )"
   ]
  },
  {
   "cell_type": "markdown",
   "metadata": {
    "dotnet_interactive": {
     "language": "csharp"
    }
   },
   "source": [
    "<br>"
   ]
  },
  {
   "cell_type": "code",
   "execution_count": 2,
   "metadata": {
    "dotnet_interactive": {
     "language": "csharp"
    },
    "vscode": {
     "languageId": "dotnet-interactive.csharp"
    }
   },
   "outputs": [],
   "source": [
    "public int ThirdMax(int[] nums) \n",
    "{\n",
    "\n",
    "    // Allocate a new Sorted Set which takes as a parameter of it's constructor\n",
    "    // an instance of the Custom SortBetweenPairs Comparer Interface\n",
    "    var SS = new SortedSet<int>(  new SortBetweenPairs()  );\n",
    "\n",
    "\n",
    "    // For Each element in the nums array:\n",
    "    //      Add that element to the Sorted Set\n",
    "    foreach(var num in nums)\n",
    "        SS.Add(num);\n",
    "\n",
    "\n",
    "    // After all that,\n",
    "    // If the Sorted Set consists of LESS THAN 3 elements,\n",
    "    //      take the Highest Valued element, which is located at the Oth index\n",
    "    // Otherwise,\n",
    "    //      take the Third Highest Valued element, which is located at the 2nd index\n",
    "    return  ( SS.Count() < 3 ) ? SS.ElementAt( 0 ) : SS.ElementAt( 2 );\n",
    "\n",
    "}"
   ]
  },
  {
   "cell_type": "code",
   "execution_count": 3,
   "metadata": {
    "dotnet_interactive": {
     "language": "csharp"
    },
    "vscode": {
     "languageId": "dotnet-interactive.csharp"
    }
   },
   "outputs": [],
   "source": [
    "int[] nums = {2,2,3,1};"
   ]
  },
  {
   "cell_type": "code",
   "execution_count": 4,
   "metadata": {
    "dotnet_interactive": {
     "language": "csharp"
    },
    "vscode": {
     "languageId": "dotnet-interactive.csharp"
    }
   },
   "outputs": [
    {
     "data": {
      "text/html": [
       "<div class=\"dni-plaintext\">1</div>"
      ]
     },
     "metadata": {},
     "output_type": "display_data"
    }
   ],
   "source": [
    "ThirdMax( nums )"
   ]
  },
  {
   "cell_type": "markdown",
   "metadata": {},
   "source": [
    "<br>"
   ]
  },
  {
   "cell_type": "markdown",
   "metadata": {},
   "source": [
    "#### Analysis"
   ]
  },
  {
   "cell_type": "markdown",
   "metadata": {},
   "source": [
    "##### **Time** "
   ]
  },
  {
   "cell_type": "markdown",
   "metadata": {},
   "source": [
    "Since `For Each element in the nums array`, we `Add that element to the Sorted Set`, we must always traverse the full length of the `nums` array\n",
    "   \n",
    "$$ \\Large{\\bf{ \\implies O(n)}} $$"
   ]
  },
  {
   "cell_type": "markdown",
   "metadata": {},
   "source": [
    "---"
   ]
  },
  {
   "cell_type": "markdown",
   "metadata": {},
   "source": [
    "##### **Space** "
   ]
  },
  {
   "cell_type": "markdown",
   "metadata": {},
   "source": [
    "We are allocating space for the `SortedSet` which may be proportional to the full length of the `nums` array.\n",
    "   \n",
    "$$ \\Large{\\bf{ \\implies O(n)}} $$"
   ]
  }
 ],
 "metadata": {
  "kernelspec": {
   "display_name": ".NET (C#)",
   "language": "C#",
   "name": ".net-csharp"
  },
  "language_info": {
   "file_extension": ".cs",
   "mimetype": "text/x-csharp",
   "name": "C#",
   "pygments_lexer": "csharp",
   "version": "9.0"
  },
  "orig_nbformat": 4
 },
 "nbformat": 4,
 "nbformat_minor": 2
}
