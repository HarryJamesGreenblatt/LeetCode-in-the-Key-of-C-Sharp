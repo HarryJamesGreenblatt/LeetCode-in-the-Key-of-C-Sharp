{
 "cells": [
  {
   "cell_type": "markdown",
   "metadata": {},
   "source": [
    "# String to Integer (atoi)"
   ]
  },
  {
   "cell_type": "markdown",
   "metadata": {},
   "source": [
    "Implement the `myAtoi(string s)` function, which *converts a string to a 32-bit signed integer* (similar to C/C++'s atoi function).\n",
    "\n",
    "The algorithm for` myAtoi(string s)` is as follows:\n",
    "\n",
    "- Read in and ignore any *leading whitespace*.\n",
    "  \n",
    "- Check if the next character (if not already at the end of the string) is `-` or `+`. \n",
    "  - Read this character in if it is.<br>This determines if the final result is negative or positive respectively. Assume the result is positive if neither is present.   \n",
    "<br>  \n",
    "\n",
    "- Read in next the characters until the next non-digit character or the end of the input is reached. The rest of the string is ignored.\n",
    "  \n",
    "- Convert these digits into an **integer** (i.e. `\"123\"` -> `123`, `\"0032\"` -> `32`).<br> If no digits were read, then the integer is `0`.\n",
    " \n",
    "- Change the sign as necessary (from step 2).\n",
    "\n",
    "- If the integer is *out of the 32-bit signed integer range* `[-231, 231 - 1]`, then clamp the integer so that it remains in the range. \n",
    "  \n",
    "- Specifically, integers *less than `-231`* should be *clamped to `-231`*, and integers* greater than `231 - 1`* should be *clamped to `231 - 1`*.\n",
    "  \n",
    "- Return the **integer** as the final result."
   ]
  },
  {
   "cell_type": "markdown",
   "metadata": {},
   "source": [
    "**Note**:\n",
    "\n",
    "Only the *space character* `' '` is considered a whitespace character.  \n",
    "\n",
    "Do *not* ignore any characters other than the leading whitespace or the rest of the string after the digits."
   ]
  },
  {
   "cell_type": "markdown",
   "metadata": {},
   "source": [
    "**Example 1**:\n",
    "> ```\n",
    "> Input: s = \"42\"\n",
    "> Output: 42\n",
    "> ```\n",
    "   \n",
    "Explanation:  \n",
    "The underlined characters are what is read in,  \n",
    "the caret is the current reader position.  \n",
    "\n",
    "Step 1: `\"42\"` (no characters read because there is no leading whitespace)  \n",
    "\n",
    "Step 2: `\"42\"` (no characters read because there is neither a `'-'` nor `'+'`)  \n",
    "\n",
    "Step 3: `\"42\"` (`\"42\"` is read in)  \n",
    "    \n",
    "The parsed integer is `42`.  \n",
    "Since `42` is in the range `[-231, 231 - 1]`,  \n",
    "the final result is `42`.\n",
    "<br>\n",
    "<br>\n",
    "\n",
    "**Example 2**:\n",
    "> ```\n",
    "> Input: s = \"   -42\"\n",
    "> Output: -42\n",
    "> ```\n",
    "   \n",
    "Explanation:   \n",
    "Step 1: `\"   -42\"` (leading whitespace is read and ignored)\n",
    "   \n",
    "Step 2: `\"   -42\"` (`'-'` is read, so the result should be negative)\n",
    "    \n",
    "Step 3: `\"   -42\"` (`\"42\"` is read in)\n",
    "      \n",
    "The parsed integer is `-42`.\n",
    "Since -42 is in the range `[-231, 231 - 1]`, the final result is `-42`.\n",
    "<br>\n",
    "<br>\n",
    "\n",
    "**Example 3**:\n",
    "> ```\n",
    "> Input: s = \"4193 with words\"\n",
    "> Output: 4193\n",
    "> ```\n",
    "\n",
    "Explanation:   \n",
    "Step 1: `\"4193 with words\"` (no characters read because there is no leading whitespace)\n",
    "  \n",
    "Step 2: `\"4193 with words\"` (no characters read because there is neither a '-' nor '+')   \n",
    "  \n",
    "Step 3: `\"4193 with words\"` (`\"4193\"` is read in; reading stops because the next character is a non-digit)  \n",
    "\n",
    "The parsed integer is `4193`.\n",
    "Since `4193` is in the range `[-231, 231 - 1]`, the final result is `4193`."
   ]
  },
  {
   "cell_type": "markdown",
   "metadata": {},
   "source": [
    "**Constraints**:\n",
    "\n",
    "- `0 <= s.length <= 200`\n",
    "- `s` consists of English letters (lower-case and upper-case), digits (0-9), `' '`, `'+'`, `'-'`, and `'.'`."
   ]
  },
  {
   "cell_type": "markdown",
   "metadata": {},
   "source": [
    "<br>"
   ]
  },
  {
   "cell_type": "markdown",
   "metadata": {},
   "source": [
    "### Deterministic Finite Automaton (DFA)"
   ]
  },
  {
   "cell_type": "markdown",
   "metadata": {},
   "source": [
    "![ufukkedup](https://leetcode.com/problems/string-to-integer-atoi/Figures/8/Slide10.JPG)"
   ]
  },
  {
   "cell_type": "markdown",
   "metadata": {},
   "source": [
    "**State $\\Large{q_0}$**: represents the *initial state* at the beginning of the input string.\n",
    "\n",
    "- Discard any leading whitespace characters in the beginning as per the rules given<br> and remain in the same $q_0$ state for now.\n",
    "  \n",
    "- If a *sign* character occurs, transition to state $q_1$.\n",
    "\n",
    "- If a *digit* character occurs, transition to state $q_2$.\n",
    "  \n",
    "- Once a *non-digit character* is spotted,<br>stop building the output number and immediately transition to a *dead state* $q_d$.\n",
    "  \n",
    "<br>\n",
    "  \n",
    "**State $\\Large{q_1}$**: we arrive at this state after the first *sign character* has been found.\n",
    "\n",
    "- After one sign character, if now a *digit* occurs, then we transition to state $q_2$.\n",
    "\n",
    "- Once a *non-digit character* is spotted,<br>stop building the output number and immediately transition to a *dead state* $q_d$.\n",
    "  \n",
    "<br>\n",
    "  \n",
    "**State $\\Large{q_2}$**: we arrive at this state whenever the *previous character was a digit*.\n",
    "\n",
    "- Remain in the current state if the next character happened to be a *digit* character.\n",
    "\n",
    "- Once a *non-digit character* is spotted,<br>stop building the output number and immediately transition to a *dead state* $q_d$.\n",
    "  \n",
    "<br>\n",
    "  \n",
    "**State $\\Large{q_d}$**: a *dead state* meaning *one or more rules* defined in the beginning have been *violated*.   \n",
    "This state marks the end of the number-building process."
   ]
  },
  {
   "cell_type": "markdown",
   "metadata": {},
   "source": [
    "<br>"
   ]
  },
  {
   "cell_type": "markdown",
   "metadata": {},
   "source": [
    "##### Psuedo"
   ]
  },
  {
   "cell_type": "markdown",
   "metadata": {},
   "source": [
    "```\n",
    "Enumerate each of the possible State values.\n",
    "   \n",
    "   \n",
    "Initialize three variables:\n",
    "    - currentState (to represent current state) as q0\n",
    "    - result (to store result till now) as 0\n",
    "    - sign (to represent the sign of the final result) as 1 \n",
    "  \n",
    "  \n",
    "Iterating through each character of the input string:\n",
    "\n",
    "\n",
    "    If the current state is not qd: \n",
    "    (Transition that character through the Deterministic Finite Automaton).\n",
    "\n",
    "\n",
    "        If the current state is q0:   \n",
    "            Stay in the same state if whitespaces occur.   \n",
    "    \n",
    "            If a sign occurs,   \n",
    "                change the sign variable to -1 if it's a negative sign \n",
    "                and change the state to q1.   \n",
    "    \n",
    "            If a digit occurs,    \n",
    "                append the current digit to the resulting number (clamp result if needed)    \n",
    "                and change the state to q2.   \n",
    "\n",
    "            If anything else occurs,   \n",
    "                then stop building the number and transition to state qd.  \n",
    "\n",
    "\n",
    "        If the current state is q1:    \n",
    "            If a digit occurs,    \n",
    "                append the current digit to the resulting number (clamp result if needed) \n",
    "                and change the state to q2.     \n",
    "\n",
    "            If anything else occurs,   \n",
    "                stop building the result number and transition to state qd.    \n",
    "    \n",
    "    \n",
    "        If the current state is q2:    \n",
    "            If a digit occurs,   \n",
    "                append the current digit to the resulting number (clamp result if needed)\n",
    "                and stay in the current state.    \n",
    "\n",
    "\n",
    "        Anything else after a digit character will not be valid; \n",
    "            hence, stop building the number and transition to state qd.\n",
    "   \n",
    "   \n",
    "Return the final result with the respective sign, result * sign\n",
    "```"
   ]
  },
  {
   "cell_type": "markdown",
   "metadata": {},
   "source": [
    "<br>"
   ]
  },
  {
   "cell_type": "markdown",
   "metadata": {},
   "source": [
    "##### Implementation"
   ]
  },
  {
   "cell_type": "code",
   "execution_count": null,
   "metadata": {
    "dotnet_interactive": {
     "language": "csharp"
    },
    "vscode": {
     "languageId": "dotnet-interactive.csharp"
    }
   },
   "outputs": [],
   "source": [
    "// Enumerate each of the possible State values\n",
    "enum State \n",
    "{ \n",
    "    q0, \n",
    "    q1,\n",
    "    q2,\n",
    "    qd\n",
    "}"
   ]
  },
  {
   "cell_type": "code",
   "execution_count": null,
   "metadata": {
    "dotnet_interactive": {
     "language": "csharp"
    },
    "vscode": {
     "languageId": "dotnet-interactive.csharp"
    }
   },
   "outputs": [],
   "source": [
    "class StateMachine\n",
    "{\n",
    "\n",
    "    //Initialize three variables:\n",
    "    private State currentState; //  - currentState (to represent current state) as q0\n",
    "    private int   result,       //  - result (to store result till now) as 0\n",
    "                  sign;         //  - sign (to represent the sign of the final result) as 1 \n",
    "\n",
    "\n",
    "              \n",
    "    // Represents the initial state at the beginning of the input string.\n",
    "    public StateMachine()\n",
    "    {\n",
    "        currentState = State.q0; \n",
    "        result = 0;\n",
    "        sign = 1;\n",
    "    }\n",
    "\n",
    "\n",
    "\n",
    "    // Transition a character through the Deterministic Finite Automaton.\n",
    "    public void Transition(char ch)\n",
    "    {\n",
    "\n",
    "        // If the current state is q0:   \n",
    "        if(currentState == State.q0)\n",
    "        {\n",
    "\n",
    "            // Stay in the same state if whitespaces occur.   \n",
    "            if (ch == ' ')\n",
    "                return;\n",
    "\n",
    "\n",
    "            // If a sign occurs,   \n",
    "            //      change the sign variable to -1 if it's a negative sign \n",
    "            //      and change the state to q1.        \n",
    "            else if (ch == '-' || ch == '+')\n",
    "                ToStateQ1(ch);\n",
    "\n",
    "                \n",
    "            // If a digit occurs,    \n",
    "            //      append the current digit to the resulting number (clamp result if needed)    \n",
    "            //      and change the state to q2. \n",
    "            else if(char.IsDigit(ch))\n",
    "                ToStateQ2(ch - '0');\n",
    "\n",
    "                \n",
    "            // If anything else occurs,   \n",
    "            //      then stop building the number and transition to state qd.\n",
    "            else\n",
    "                ToStateQd();\n",
    "\n",
    "        }\n",
    "\n",
    "\n",
    "        // Otherwise, If the current state is q1   or   If the current state is q2   \n",
    "        else if (currentState == State.q1 || currentState == State.q2)\n",
    "        {\n",
    "  \n",
    "            // If a digit occurs,    \n",
    "            if(char.IsDigit(ch))     // append the current digit to the result (clamp if needed) \n",
    "                ToStateQ2(ch - '0'); // and change the state to q2.\n",
    "            \n",
    "\n",
    "            // If anything else occurs,   \n",
    "            else \n",
    "                ToStateQd();        // stop building the result number and transition to state qd.    \n",
    "                \n",
    "        }\n",
    "    }\n",
    "\n",
    "\n",
    "    \n",
    "    // check the current state\n",
    "    public State GetState()\n",
    "    {\n",
    "        return currentState;\n",
    "    }\n",
    "\n",
    "\n",
    "\n",
    "    // If a sign occurs,   \n",
    "    private void ToStateQ1(char ch)  \n",
    "    {                                \n",
    "        sign = (ch == '-') ? -1 : 1; // change the sign variable to -1 if it's a negative sign \n",
    "        currentState = State.q1;     // and change the state to q1. \n",
    "    }                                 \n",
    "\n",
    "\n",
    "\n",
    "    // If a digit occurs,    \n",
    "    private void ToStateQ2(int digit)\n",
    "    {\n",
    "        currentState = State.q2; // change the state to q2\n",
    "        appendDigit(digit);      // append the current digit to the result (clamp if needed).    \n",
    "    }\n",
    "\n",
    "\n",
    "    \n",
    "    // While in State q2, append the current digit to the result (clamp if needed)    \n",
    "    private void appendDigit( int digit )\n",
    "    {\n",
    "        if( ( result > int.MaxValue / 10 ) \n",
    "            ||\n",
    "            ( result == (int.MaxValue / 10) && digit > (int.MaxValue % 10) ) )\n",
    "        {\n",
    "            if(sign == 1)\n",
    "                result = int.MaxValue;         \n",
    "            else\n",
    "            {\n",
    "                result = int.MinValue;\n",
    "                sign = 1;\n",
    "            }\n",
    "            ToStateQd();         \n",
    "        }\n",
    "        else \n",
    "            result = result * 10 + digit;\n",
    "    }\n",
    "\n",
    "    \n",
    "\n",
    "    // Anything else after a digit character will not be valid; \n",
    "    private void ToStateQd()\n",
    "    {\n",
    "        currentState = State.qd;  // hence, stop building the number and transition to state qd.\n",
    "    }\n",
    "\n",
    "\n",
    "    \n",
    "    // Return the final result with the respective sign\n",
    "    public int GetInteger()\n",
    "    {\n",
    "        return sign * result;\n",
    "    }\n",
    "\n",
    "};"
   ]
  },
  {
   "cell_type": "code",
   "execution_count": null,
   "metadata": {
    "dotnet_interactive": {
     "language": "csharp"
    },
    "vscode": {
     "languageId": "dotnet-interactive.csharp"
    }
   },
   "outputs": [],
   "source": [
    "public int MyAtoi(String s) {\n",
    "\n",
    "    StateMachine Q = new StateMachine();\n",
    "    \n",
    "    // Iterating through each character of the input string,\n",
    "    //      If the current state is not qd:\n",
    "    //          Transition that character through the Deterministic Finite Automaton.\n",
    "    for ( int i = 0; i < s.Length && Q.GetState() != State.qd; ++i) {\n",
    "        Q.Transition(s[i]);\n",
    "    }\n",
    "    \n",
    "    // Return the final result with the respective sign\n",
    "    return Q.GetInteger();\n",
    "\n",
    "}"
   ]
  },
  {
   "cell_type": "markdown",
   "metadata": {},
   "source": [
    "<br>"
   ]
  },
  {
   "cell_type": "markdown",
   "metadata": {},
   "source": [
    "##### Analysis"
   ]
  },
  {
   "cell_type": "markdown",
   "metadata": {},
   "source": [
    "##### Time"
   ]
  },
  {
   "cell_type": "markdown",
   "metadata": {},
   "source": [
    "Since, while  `Iterating through each character of the input string:  If the current state is not qd:`  we then `(Transition that character through the Deterministic Finite Automaton)`, despite that each Transition operation occurs in $O(1)$ Time, we must always traverse the full length of the input string.\n",
    "$$\\implies \\bf{\\Large{O(n)}}$$\n"
   ]
  },
  {
   "cell_type": "markdown",
   "metadata": {},
   "source": [
    "##### Space"
   ]
  },
  {
   "cell_type": "markdown",
   "metadata": {},
   "source": [
    "We do not allocate any auxiliary space other than the input string.\n",
    "$$\\implies \\bf{\\Large{O(1)}}$$"
   ]
  }
 ],
 "metadata": {
  "kernelspec": {
   "display_name": ".NET (C#)",
   "language": "C#",
   "name": ".net-csharp"
  },
  "language_info": {
   "file_extension": ".cs",
   "mimetype": "text/x-csharp",
   "name": "C#",
   "pygments_lexer": "csharp",
   "version": "9.0"
  },
  "orig_nbformat": 4
 },
 "nbformat": 4,
 "nbformat_minor": 2
}
